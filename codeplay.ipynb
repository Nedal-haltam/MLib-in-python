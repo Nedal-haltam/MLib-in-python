{
 "cells": [
  {
   "cell_type": "markdown",
   "id": "df83205e-15d4-4f87-94ed-5532ed4a8c62",
   "metadata": {},
   "source": [
    "# <font color=\"darkblue\">*Student:* `Sanad Abdelrahman Alawi`</font>\n"
   ]
  },
  {
   "cell_type": "markdown",
   "id": "1c569756-3733-4fbc-9e39-2e4d93efdbfc",
   "metadata": {
    "execution": {
     "iopub.execute_input": "2024-10-14T11:21:12.405622Z",
     "iopub.status.busy": "2024-10-14T11:21:12.404627Z",
     "iopub.status.idle": "2024-10-14T11:21:12.412724Z",
     "shell.execute_reply": "2024-10-14T11:21:12.412724Z",
     "shell.execute_reply.started": "2024-10-14T11:21:12.405622Z"
    }
   },
   "source": [
    "### *<u>Project Documentation</u>*\n",
    "\n",
    "- **Instructor**           : `Engineer Motasem Samara`\n",
    "- **Dataset Source**       : [Loan Approval Prediction](https://www.kaggle.com/competitions/playground-series-s4e10/discussion/536984)\n",
    "- **Code Last Modify Date**: 10/14/2024 - Monday\n",
    "\n",
    "### *<u>Project Sections</u>*\n",
    "\n",
    "- **Section 1**: Loading the Data and Analyzing It...\n",
    "- **Section 2**: Removing Irrelevant Columns\n",
    "- **Section 3**: Providing the Necessary Plots and EDA (for each Feature)\n",
    "- **Section 4**: Splitting the Data into Training and Testing Sets\n",
    "- **Section 5**: Encoding Categorical Features\n",
    "- **Section 6**: Oversampling and Undersampling\n",
    "- **Section 7**: Feature Scaling\n",
    "- **Section 8**: Selecting the Best Encoding, Sampling, and Scaling Combination\n",
    "- **Section 9**: Model Selection\n",
    "- **Section 10**: Hyperparameter Tuning\n",
    "- **Section 11**: Model Evaluation\n",
    "- **Section 12**: PCA\n",
    "- **Section 13**: Dendogram and Agglomerative Clustering\n",
    "- **Section 14**: KMeans Clustering\n",
    "- **Section 15**: DBSCAN Clustering\n",
    "- **Section 16**: Feature Engineering and EDA\n",
    "- **Section 17**: Rebuilding the Model After Feature Engineering\n",
    "- **Section 18**: Deep Learning\n",
    "- **Section 19**: Deep Learning - Hyperparameter Tuning\n",
    "- **Section 20**: Submitting Results to Kaggle Competition\n",
    "- **Section 21**: Saving Our Model\n",
    "\n",
    "---\n"
   ]
  },
  {
   "cell_type": "markdown",
   "id": "54dd13ce-953b-4db7-9cbc-d0ae31aa1079",
   "metadata": {},
   "source": [
    "### `Section 1` - Loading the Data and Analyzing It..."
   ]
  },
  {
   "cell_type": "markdown",
   "id": "06088fc9-bfc3-469c-a117-5ac85164c119",
   "metadata": {},
   "source": [
    "- 1"
   ]
  },
  {
   "cell_type": "code",
   "execution_count": 2,
   "id": "7577e88c-5538-4d5e-822d-c95e50fb3257",
   "metadata": {
    "execution": {
     "iopub.execute_input": "2024-10-22T12:24:33.264904Z",
     "iopub.status.busy": "2024-10-22T12:24:33.264904Z",
     "iopub.status.idle": "2024-10-22T12:24:34.956295Z",
     "shell.execute_reply": "2024-10-22T12:24:34.955274Z",
     "shell.execute_reply.started": "2024-10-22T12:24:33.264904Z"
    }
   },
   "outputs": [],
   "source": [
    "import numpy as np\n",
    "import pandas as pd\n",
    "import matplotlib.pyplot as plt\n",
    "import seaborn as sns"
   ]
  },
  {
   "cell_type": "markdown",
   "id": "cb222c83-80b6-4dcb-8683-3d42bfd419c6",
   "metadata": {},
   "source": [
    "- 2"
   ]
  },
  {
   "cell_type": "code",
   "execution_count": 3,
   "id": "6f0c5884-33b7-4111-a49e-97381782307a",
   "metadata": {
    "execution": {
     "iopub.execute_input": "2024-10-22T12:24:35.024033Z",
     "iopub.status.busy": "2024-10-22T12:24:35.023032Z",
     "iopub.status.idle": "2024-10-22T12:24:35.162406Z",
     "shell.execute_reply": "2024-10-22T12:24:35.161399Z",
     "shell.execute_reply.started": "2024-10-22T12:24:35.024033Z"
    }
   },
   "outputs": [],
   "source": [
    "train             = pd.read_csv('./resources/train.csv')\n",
    "test              = pd.read_csv('./resources/test.csv')\n",
    "sample_submission = pd.read_csv('./resources/sample_submission.csv')"
   ]
  },
  {
   "cell_type": "markdown",
   "id": "9fcc37f3-fd27-4637-9687-22455590ccb3",
   "metadata": {},
   "source": [
    "- 3"
   ]
  },
  {
   "cell_type": "code",
   "execution_count": 79,
   "id": "2cbdf319-17e0-49c3-9bd0-42f243dac29e",
   "metadata": {
    "execution": {
     "iopub.execute_input": "2024-10-22T12:24:35.189169Z",
     "iopub.status.busy": "2024-10-22T12:24:35.188172Z",
     "iopub.status.idle": "2024-10-22T12:24:35.192849Z",
     "shell.execute_reply": "2024-10-22T12:24:35.192849Z",
     "shell.execute_reply.started": "2024-10-22T12:24:35.189169Z"
    }
   },
   "outputs": [
    {
     "name": "stdout",
     "output_type": "stream",
     "text": [
      "Train  dataset    shape: (58645, 13)            \n",
      "Test   dataset    shape: (39098, 12)             \n",
      "Sample submission shape: (39098, 2)\n"
     ]
    }
   ],
   "source": [
    "print(f\"Train  dataset    shape: {train.shape}            \")\n",
    "print(f\"Test   dataset    shape: {test.shape}             \")\n",
    "print(f\"Sample submission shape: {sample_submission.shape}\")"
   ]
  },
  {
   "cell_type": "markdown",
   "id": "f505ec70-ab01-4c8e-a195-3f7f1b4efecc",
   "metadata": {},
   "source": [
    "- 4"
   ]
  },
  {
   "cell_type": "code",
   "execution_count": 80,
   "id": "587f164e-3e1c-4642-9fa6-22a1b012333d",
   "metadata": {
    "execution": {
     "iopub.execute_input": "2024-10-22T12:24:35.225758Z",
     "iopub.status.busy": "2024-10-22T12:24:35.224772Z",
     "iopub.status.idle": "2024-10-22T12:24:35.249168Z",
     "shell.execute_reply": "2024-10-22T12:24:35.248154Z",
     "shell.execute_reply.started": "2024-10-22T12:24:35.225758Z"
    }
   },
   "outputs": [
    {
     "data": {
      "text/html": [
       "<div>\n",
       "<style scoped>\n",
       "    .dataframe tbody tr th:only-of-type {\n",
       "        vertical-align: middle;\n",
       "    }\n",
       "\n",
       "    .dataframe tbody tr th {\n",
       "        vertical-align: top;\n",
       "    }\n",
       "\n",
       "    .dataframe thead th {\n",
       "        text-align: right;\n",
       "    }\n",
       "</style>\n",
       "<table border=\"1\" class=\"dataframe\">\n",
       "  <thead>\n",
       "    <tr style=\"text-align: right;\">\n",
       "      <th></th>\n",
       "      <th>id</th>\n",
       "      <th>person_age</th>\n",
       "      <th>person_income</th>\n",
       "      <th>person_home_ownership</th>\n",
       "      <th>person_emp_length</th>\n",
       "      <th>loan_intent</th>\n",
       "      <th>loan_grade</th>\n",
       "      <th>loan_amnt</th>\n",
       "      <th>loan_int_rate</th>\n",
       "      <th>loan_percent_income</th>\n",
       "      <th>cb_person_default_on_file</th>\n",
       "      <th>cb_person_cred_hist_length</th>\n",
       "      <th>loan_status</th>\n",
       "    </tr>\n",
       "  </thead>\n",
       "  <tbody>\n",
       "    <tr>\n",
       "      <th>0</th>\n",
       "      <td>0</td>\n",
       "      <td>37</td>\n",
       "      <td>35000</td>\n",
       "      <td>RENT</td>\n",
       "      <td>0.0</td>\n",
       "      <td>EDUCATION</td>\n",
       "      <td>B</td>\n",
       "      <td>6000</td>\n",
       "      <td>11.49</td>\n",
       "      <td>0.17</td>\n",
       "      <td>N</td>\n",
       "      <td>14</td>\n",
       "      <td>0</td>\n",
       "    </tr>\n",
       "  </tbody>\n",
       "</table>\n",
       "</div>"
      ],
      "text/plain": [
       "   id  person_age  person_income person_home_ownership  person_emp_length  \\\n",
       "0   0          37          35000                  RENT                0.0   \n",
       "\n",
       "  loan_intent loan_grade  loan_amnt  loan_int_rate  loan_percent_income  \\\n",
       "0   EDUCATION          B       6000          11.49                 0.17   \n",
       "\n",
       "  cb_person_default_on_file  cb_person_cred_hist_length  loan_status  \n",
       "0                         N                          14            0  "
      ]
     },
     "execution_count": 80,
     "metadata": {},
     "output_type": "execute_result"
    }
   ],
   "source": [
    "train.head(1)"
   ]
  },
  {
   "cell_type": "code",
   "execution_count": 81,
   "id": "e88fb685-6d14-451e-b2b9-96db07b9f4fe",
   "metadata": {
    "execution": {
     "iopub.execute_input": "2024-10-22T12:24:35.250166Z",
     "iopub.status.busy": "2024-10-22T12:24:35.250166Z",
     "iopub.status.idle": "2024-10-22T12:24:35.261417Z",
     "shell.execute_reply": "2024-10-22T12:24:35.260401Z",
     "shell.execute_reply.started": "2024-10-22T12:24:35.250166Z"
    }
   },
   "outputs": [
    {
     "data": {
      "text/html": [
       "<div>\n",
       "<style scoped>\n",
       "    .dataframe tbody tr th:only-of-type {\n",
       "        vertical-align: middle;\n",
       "    }\n",
       "\n",
       "    .dataframe tbody tr th {\n",
       "        vertical-align: top;\n",
       "    }\n",
       "\n",
       "    .dataframe thead th {\n",
       "        text-align: right;\n",
       "    }\n",
       "</style>\n",
       "<table border=\"1\" class=\"dataframe\">\n",
       "  <thead>\n",
       "    <tr style=\"text-align: right;\">\n",
       "      <th></th>\n",
       "      <th>id</th>\n",
       "      <th>person_age</th>\n",
       "      <th>person_income</th>\n",
       "      <th>person_home_ownership</th>\n",
       "      <th>person_emp_length</th>\n",
       "      <th>loan_intent</th>\n",
       "      <th>loan_grade</th>\n",
       "      <th>loan_amnt</th>\n",
       "      <th>loan_int_rate</th>\n",
       "      <th>loan_percent_income</th>\n",
       "      <th>cb_person_default_on_file</th>\n",
       "      <th>cb_person_cred_hist_length</th>\n",
       "    </tr>\n",
       "  </thead>\n",
       "  <tbody>\n",
       "    <tr>\n",
       "      <th>0</th>\n",
       "      <td>58645</td>\n",
       "      <td>23</td>\n",
       "      <td>69000</td>\n",
       "      <td>RENT</td>\n",
       "      <td>3.0</td>\n",
       "      <td>HOMEIMPROVEMENT</td>\n",
       "      <td>F</td>\n",
       "      <td>25000</td>\n",
       "      <td>15.76</td>\n",
       "      <td>0.36</td>\n",
       "      <td>N</td>\n",
       "      <td>2</td>\n",
       "    </tr>\n",
       "  </tbody>\n",
       "</table>\n",
       "</div>"
      ],
      "text/plain": [
       "      id  person_age  person_income person_home_ownership  person_emp_length  \\\n",
       "0  58645          23          69000                  RENT                3.0   \n",
       "\n",
       "       loan_intent loan_grade  loan_amnt  loan_int_rate  loan_percent_income  \\\n",
       "0  HOMEIMPROVEMENT          F      25000          15.76                 0.36   \n",
       "\n",
       "  cb_person_default_on_file  cb_person_cred_hist_length  \n",
       "0                         N                           2  "
      ]
     },
     "execution_count": 81,
     "metadata": {},
     "output_type": "execute_result"
    }
   ],
   "source": [
    "test.head(1)"
   ]
  },
  {
   "cell_type": "code",
   "execution_count": 82,
   "id": "b9d86c34-da36-4c03-b41c-8beb9f3f231a",
   "metadata": {
    "execution": {
     "iopub.execute_input": "2024-10-22T12:24:35.262412Z",
     "iopub.status.busy": "2024-10-22T12:24:35.262412Z",
     "iopub.status.idle": "2024-10-22T12:24:35.274250Z",
     "shell.execute_reply": "2024-10-22T12:24:35.274250Z",
     "shell.execute_reply.started": "2024-10-22T12:24:35.262412Z"
    }
   },
   "outputs": [
    {
     "data": {
      "text/html": [
       "<div>\n",
       "<style scoped>\n",
       "    .dataframe tbody tr th:only-of-type {\n",
       "        vertical-align: middle;\n",
       "    }\n",
       "\n",
       "    .dataframe tbody tr th {\n",
       "        vertical-align: top;\n",
       "    }\n",
       "\n",
       "    .dataframe thead th {\n",
       "        text-align: right;\n",
       "    }\n",
       "</style>\n",
       "<table border=\"1\" class=\"dataframe\">\n",
       "  <thead>\n",
       "    <tr style=\"text-align: right;\">\n",
       "      <th></th>\n",
       "      <th>id</th>\n",
       "      <th>loan_status</th>\n",
       "    </tr>\n",
       "  </thead>\n",
       "  <tbody>\n",
       "    <tr>\n",
       "      <th>0</th>\n",
       "      <td>58645</td>\n",
       "      <td>0.5</td>\n",
       "    </tr>\n",
       "  </tbody>\n",
       "</table>\n",
       "</div>"
      ],
      "text/plain": [
       "      id  loan_status\n",
       "0  58645          0.5"
      ]
     },
     "execution_count": 82,
     "metadata": {},
     "output_type": "execute_result"
    }
   ],
   "source": [
    "sample_submission.head(1)"
   ]
  },
  {
   "cell_type": "markdown",
   "id": "f0f71d8e-500c-4efa-88d7-b174c414f620",
   "metadata": {},
   "source": [
    "- 5"
   ]
  },
  {
   "cell_type": "code",
   "execution_count": 83,
   "id": "3170e000-9364-408e-bfbf-be9daddc6b89",
   "metadata": {
    "execution": {
     "iopub.execute_input": "2024-10-22T12:24:35.294754Z",
     "iopub.status.busy": "2024-10-22T12:24:35.294754Z",
     "iopub.status.idle": "2024-10-22T12:24:35.306215Z",
     "shell.execute_reply": "2024-10-22T12:24:35.306215Z",
     "shell.execute_reply.started": "2024-10-22T12:24:35.294754Z"
    }
   },
   "outputs": [
    {
     "data": {
      "text/html": [
       "<div>\n",
       "<style scoped>\n",
       "    .dataframe tbody tr th:only-of-type {\n",
       "        vertical-align: middle;\n",
       "    }\n",
       "\n",
       "    .dataframe tbody tr th {\n",
       "        vertical-align: top;\n",
       "    }\n",
       "\n",
       "    .dataframe thead th {\n",
       "        text-align: right;\n",
       "    }\n",
       "</style>\n",
       "<table border=\"1\" class=\"dataframe\">\n",
       "  <thead>\n",
       "    <tr style=\"text-align: right;\">\n",
       "      <th></th>\n",
       "      <th>id</th>\n",
       "      <th>person_age</th>\n",
       "      <th>person_income</th>\n",
       "      <th>person_home_ownership</th>\n",
       "      <th>person_emp_length</th>\n",
       "      <th>loan_intent</th>\n",
       "      <th>loan_grade</th>\n",
       "      <th>loan_amnt</th>\n",
       "      <th>loan_int_rate</th>\n",
       "      <th>loan_percent_income</th>\n",
       "      <th>cb_person_default_on_file</th>\n",
       "      <th>cb_person_cred_hist_length</th>\n",
       "      <th>loan_status</th>\n",
       "    </tr>\n",
       "  </thead>\n",
       "  <tbody>\n",
       "    <tr>\n",
       "      <th>58642</th>\n",
       "      <td>58642</td>\n",
       "      <td>23</td>\n",
       "      <td>44000</td>\n",
       "      <td>RENT</td>\n",
       "      <td>7.0</td>\n",
       "      <td>EDUCATION</td>\n",
       "      <td>D</td>\n",
       "      <td>6800</td>\n",
       "      <td>16.00</td>\n",
       "      <td>0.15</td>\n",
       "      <td>N</td>\n",
       "      <td>2</td>\n",
       "      <td>1</td>\n",
       "    </tr>\n",
       "    <tr>\n",
       "      <th>58643</th>\n",
       "      <td>58643</td>\n",
       "      <td>22</td>\n",
       "      <td>30000</td>\n",
       "      <td>RENT</td>\n",
       "      <td>2.0</td>\n",
       "      <td>EDUCATION</td>\n",
       "      <td>A</td>\n",
       "      <td>5000</td>\n",
       "      <td>8.90</td>\n",
       "      <td>0.17</td>\n",
       "      <td>N</td>\n",
       "      <td>3</td>\n",
       "      <td>0</td>\n",
       "    </tr>\n",
       "    <tr>\n",
       "      <th>58644</th>\n",
       "      <td>58644</td>\n",
       "      <td>31</td>\n",
       "      <td>75000</td>\n",
       "      <td>MORTGAGE</td>\n",
       "      <td>2.0</td>\n",
       "      <td>VENTURE</td>\n",
       "      <td>B</td>\n",
       "      <td>15000</td>\n",
       "      <td>11.11</td>\n",
       "      <td>0.20</td>\n",
       "      <td>N</td>\n",
       "      <td>5</td>\n",
       "      <td>0</td>\n",
       "    </tr>\n",
       "  </tbody>\n",
       "</table>\n",
       "</div>"
      ],
      "text/plain": [
       "          id  person_age  person_income person_home_ownership  \\\n",
       "58642  58642          23          44000                  RENT   \n",
       "58643  58643          22          30000                  RENT   \n",
       "58644  58644          31          75000              MORTGAGE   \n",
       "\n",
       "       person_emp_length loan_intent loan_grade  loan_amnt  loan_int_rate  \\\n",
       "58642                7.0   EDUCATION          D       6800          16.00   \n",
       "58643                2.0   EDUCATION          A       5000           8.90   \n",
       "58644                2.0     VENTURE          B      15000          11.11   \n",
       "\n",
       "       loan_percent_income cb_person_default_on_file  \\\n",
       "58642                 0.15                         N   \n",
       "58643                 0.17                         N   \n",
       "58644                 0.20                         N   \n",
       "\n",
       "       cb_person_cred_hist_length  loan_status  \n",
       "58642                           2            1  \n",
       "58643                           3            0  \n",
       "58644                           5            0  "
      ]
     },
     "execution_count": 83,
     "metadata": {},
     "output_type": "execute_result"
    }
   ],
   "source": [
    "train.tail(3)"
   ]
  },
  {
   "cell_type": "markdown",
   "id": "be56d77b-454d-4b44-b679-98bcbf274b7d",
   "metadata": {},
   "source": [
    "- 6"
   ]
  },
  {
   "cell_type": "code",
   "execution_count": 84,
   "id": "fc1ee5fa-80f8-4375-a688-0103d075ee20",
   "metadata": {
    "execution": {
     "iopub.execute_input": "2024-10-22T12:24:35.323747Z",
     "iopub.status.busy": "2024-10-22T12:24:35.323747Z",
     "iopub.status.idle": "2024-10-22T12:24:35.341673Z",
     "shell.execute_reply": "2024-10-22T12:24:35.341673Z",
     "shell.execute_reply.started": "2024-10-22T12:24:35.323747Z"
    }
   },
   "outputs": [
    {
     "data": {
      "text/html": [
       "<div>\n",
       "<style scoped>\n",
       "    .dataframe tbody tr th:only-of-type {\n",
       "        vertical-align: middle;\n",
       "    }\n",
       "\n",
       "    .dataframe tbody tr th {\n",
       "        vertical-align: top;\n",
       "    }\n",
       "\n",
       "    .dataframe thead th {\n",
       "        text-align: right;\n",
       "    }\n",
       "</style>\n",
       "<table border=\"1\" class=\"dataframe\">\n",
       "  <thead>\n",
       "    <tr style=\"text-align: right;\">\n",
       "      <th></th>\n",
       "      <th>id</th>\n",
       "      <th>person_age</th>\n",
       "      <th>person_income</th>\n",
       "      <th>person_home_ownership</th>\n",
       "      <th>person_emp_length</th>\n",
       "      <th>loan_intent</th>\n",
       "      <th>loan_grade</th>\n",
       "      <th>loan_amnt</th>\n",
       "      <th>loan_int_rate</th>\n",
       "      <th>loan_percent_income</th>\n",
       "      <th>cb_person_default_on_file</th>\n",
       "      <th>cb_person_cred_hist_length</th>\n",
       "      <th>loan_status</th>\n",
       "    </tr>\n",
       "  </thead>\n",
       "  <tbody>\n",
       "    <tr>\n",
       "      <th>50177</th>\n",
       "      <td>50177</td>\n",
       "      <td>27</td>\n",
       "      <td>65000</td>\n",
       "      <td>MORTGAGE</td>\n",
       "      <td>11.0</td>\n",
       "      <td>DEBTCONSOLIDATION</td>\n",
       "      <td>B</td>\n",
       "      <td>7000</td>\n",
       "      <td>10.99</td>\n",
       "      <td>0.11</td>\n",
       "      <td>N</td>\n",
       "      <td>5</td>\n",
       "      <td>0</td>\n",
       "    </tr>\n",
       "    <tr>\n",
       "      <th>7705</th>\n",
       "      <td>7705</td>\n",
       "      <td>28</td>\n",
       "      <td>52000</td>\n",
       "      <td>RENT</td>\n",
       "      <td>3.0</td>\n",
       "      <td>PERSONAL</td>\n",
       "      <td>C</td>\n",
       "      <td>11000</td>\n",
       "      <td>12.61</td>\n",
       "      <td>0.22</td>\n",
       "      <td>N</td>\n",
       "      <td>10</td>\n",
       "      <td>0</td>\n",
       "    </tr>\n",
       "    <tr>\n",
       "      <th>49715</th>\n",
       "      <td>49715</td>\n",
       "      <td>25</td>\n",
       "      <td>60000</td>\n",
       "      <td>RENT</td>\n",
       "      <td>5.0</td>\n",
       "      <td>MEDICAL</td>\n",
       "      <td>B</td>\n",
       "      <td>8000</td>\n",
       "      <td>10.99</td>\n",
       "      <td>0.13</td>\n",
       "      <td>N</td>\n",
       "      <td>4</td>\n",
       "      <td>0</td>\n",
       "    </tr>\n",
       "  </tbody>\n",
       "</table>\n",
       "</div>"
      ],
      "text/plain": [
       "          id  person_age  person_income person_home_ownership  \\\n",
       "50177  50177          27          65000              MORTGAGE   \n",
       "7705    7705          28          52000                  RENT   \n",
       "49715  49715          25          60000                  RENT   \n",
       "\n",
       "       person_emp_length        loan_intent loan_grade  loan_amnt  \\\n",
       "50177               11.0  DEBTCONSOLIDATION          B       7000   \n",
       "7705                 3.0           PERSONAL          C      11000   \n",
       "49715                5.0            MEDICAL          B       8000   \n",
       "\n",
       "       loan_int_rate  loan_percent_income cb_person_default_on_file  \\\n",
       "50177          10.99                 0.11                         N   \n",
       "7705           12.61                 0.22                         N   \n",
       "49715          10.99                 0.13                         N   \n",
       "\n",
       "       cb_person_cred_hist_length  loan_status  \n",
       "50177                           5            0  \n",
       "7705                           10            0  \n",
       "49715                           4            0  "
      ]
     },
     "execution_count": 84,
     "metadata": {},
     "output_type": "execute_result"
    }
   ],
   "source": [
    "train.sample(3)"
   ]
  },
  {
   "cell_type": "markdown",
   "id": "4205fc08-32bd-4d34-a4c9-5ce4296e012d",
   "metadata": {},
   "source": [
    "- 7"
   ]
  },
  {
   "cell_type": "code",
   "execution_count": 85,
   "id": "70ef565f-a9ef-4e75-b287-00058228bd85",
   "metadata": {
    "execution": {
     "iopub.execute_input": "2024-10-22T12:24:35.360002Z",
     "iopub.status.busy": "2024-10-22T12:24:35.360002Z",
     "iopub.status.idle": "2024-10-22T12:24:35.370339Z",
     "shell.execute_reply": "2024-10-22T12:24:35.370339Z",
     "shell.execute_reply.started": "2024-10-22T12:24:35.360002Z"
    }
   },
   "outputs": [
    {
     "name": "stdout",
     "output_type": "stream",
     "text": [
      "0 id\n",
      "1 person_age\n",
      "2 person_income\n",
      "3 person_home_ownership\n",
      "4 person_emp_length\n",
      "5 loan_intent\n",
      "6 loan_grade\n",
      "7 loan_amnt\n",
      "8 loan_int_rate\n",
      "9 loan_percent_income\n",
      "10 cb_person_default_on_file\n",
      "11 cb_person_cred_hist_length\n",
      "12 loan_status\n"
     ]
    }
   ],
   "source": [
    "features = list(train.columns)\n",
    "\n",
    "for index, feature in enumerate(features):\n",
    "    print(index, feature)"
   ]
  },
  {
   "cell_type": "markdown",
   "id": "7f6838c3-2434-48f5-ac64-8d550a052c52",
   "metadata": {},
   "source": [
    "- 8"
   ]
  },
  {
   "cell_type": "code",
   "execution_count": 86,
   "id": "3de246d7-736b-44b0-b8d5-514e29be7d45",
   "metadata": {
    "execution": {
     "iopub.execute_input": "2024-10-22T12:24:35.387326Z",
     "iopub.status.busy": "2024-10-22T12:24:35.387326Z",
     "iopub.status.idle": "2024-10-22T12:24:35.417860Z",
     "shell.execute_reply": "2024-10-22T12:24:35.417860Z",
     "shell.execute_reply.started": "2024-10-22T12:24:35.387326Z"
    }
   },
   "outputs": [
    {
     "name": "stdout",
     "output_type": "stream",
     "text": [
      "<class 'pandas.core.frame.DataFrame'>\n",
      "RangeIndex: 58645 entries, 0 to 58644\n",
      "Data columns (total 13 columns):\n",
      " #   Column                      Non-Null Count  Dtype  \n",
      "---  ------                      --------------  -----  \n",
      " 0   id                          58645 non-null  int64  \n",
      " 1   person_age                  58645 non-null  int64  \n",
      " 2   person_income               58645 non-null  int64  \n",
      " 3   person_home_ownership       58645 non-null  object \n",
      " 4   person_emp_length           58645 non-null  float64\n",
      " 5   loan_intent                 58645 non-null  object \n",
      " 6   loan_grade                  58645 non-null  object \n",
      " 7   loan_amnt                   58645 non-null  int64  \n",
      " 8   loan_int_rate               58645 non-null  float64\n",
      " 9   loan_percent_income         58645 non-null  float64\n",
      " 10  cb_person_default_on_file   58645 non-null  object \n",
      " 11  cb_person_cred_hist_length  58645 non-null  int64  \n",
      " 12  loan_status                 58645 non-null  int64  \n",
      "dtypes: float64(3), int64(6), object(4)\n",
      "memory usage: 5.8+ MB\n"
     ]
    }
   ],
   "source": [
    "train.info()"
   ]
  },
  {
   "cell_type": "markdown",
   "id": "da02e62d-c615-4dd8-93b2-aca017979551",
   "metadata": {},
   "source": [
    "- 9"
   ]
  },
  {
   "cell_type": "code",
   "execution_count": 87,
   "id": "0968b519-49dd-44eb-a6ed-8ae431a240c6",
   "metadata": {
    "execution": {
     "iopub.execute_input": "2024-10-22T12:24:35.435966Z",
     "iopub.status.busy": "2024-10-22T12:24:35.434966Z",
     "iopub.status.idle": "2024-10-22T12:24:35.467984Z",
     "shell.execute_reply": "2024-10-22T12:24:35.466978Z",
     "shell.execute_reply.started": "2024-10-22T12:24:35.435966Z"
    }
   },
   "outputs": [
    {
     "data": {
      "text/plain": [
       "id                            58645\n",
       "person_age                       53\n",
       "person_income                  2641\n",
       "person_home_ownership             4\n",
       "person_emp_length                36\n",
       "loan_intent                       6\n",
       "loan_grade                        7\n",
       "loan_amnt                       545\n",
       "loan_int_rate                   362\n",
       "loan_percent_income              61\n",
       "cb_person_default_on_file         2\n",
       "cb_person_cred_hist_length       29\n",
       "loan_status                       2\n",
       "dtype: int64"
      ]
     },
     "execution_count": 87,
     "metadata": {},
     "output_type": "execute_result"
    }
   ],
   "source": [
    "train.nunique()"
   ]
  },
  {
   "cell_type": "markdown",
   "id": "58fec891-e655-4a3e-b8e9-884600da57ea",
   "metadata": {},
   "source": [
    "- 10"
   ]
  },
  {
   "cell_type": "code",
   "execution_count": 88,
   "id": "479332ca-5366-42e6-a0ee-a0001a6e89fd",
   "metadata": {
    "execution": {
     "iopub.execute_input": "2024-10-22T12:24:35.485906Z",
     "iopub.status.busy": "2024-10-22T12:24:35.485906Z",
     "iopub.status.idle": "2024-10-22T12:24:35.524363Z",
     "shell.execute_reply": "2024-10-22T12:24:35.523354Z",
     "shell.execute_reply.started": "2024-10-22T12:24:35.485906Z"
    }
   },
   "outputs": [
    {
     "data": {
      "text/html": [
       "<div>\n",
       "<style scoped>\n",
       "    .dataframe tbody tr th:only-of-type {\n",
       "        vertical-align: middle;\n",
       "    }\n",
       "\n",
       "    .dataframe tbody tr th {\n",
       "        vertical-align: top;\n",
       "    }\n",
       "\n",
       "    .dataframe thead th {\n",
       "        text-align: right;\n",
       "    }\n",
       "</style>\n",
       "<table border=\"1\" class=\"dataframe\">\n",
       "  <thead>\n",
       "    <tr style=\"text-align: right;\">\n",
       "      <th></th>\n",
       "      <th>count</th>\n",
       "      <th>mean</th>\n",
       "      <th>std</th>\n",
       "      <th>min</th>\n",
       "      <th>25%</th>\n",
       "      <th>50%</th>\n",
       "      <th>75%</th>\n",
       "      <th>max</th>\n",
       "    </tr>\n",
       "  </thead>\n",
       "  <tbody>\n",
       "    <tr>\n",
       "      <th>id</th>\n",
       "      <td>58645.0</td>\n",
       "      <td>29322.000000</td>\n",
       "      <td>16929.497605</td>\n",
       "      <td>0.00</td>\n",
       "      <td>14661.00</td>\n",
       "      <td>29322.00</td>\n",
       "      <td>43983.00</td>\n",
       "      <td>58644.00</td>\n",
       "    </tr>\n",
       "    <tr>\n",
       "      <th>person_age</th>\n",
       "      <td>58645.0</td>\n",
       "      <td>27.550857</td>\n",
       "      <td>6.033216</td>\n",
       "      <td>20.00</td>\n",
       "      <td>23.00</td>\n",
       "      <td>26.00</td>\n",
       "      <td>30.00</td>\n",
       "      <td>123.00</td>\n",
       "    </tr>\n",
       "    <tr>\n",
       "      <th>person_income</th>\n",
       "      <td>58645.0</td>\n",
       "      <td>64046.172871</td>\n",
       "      <td>37931.106978</td>\n",
       "      <td>4200.00</td>\n",
       "      <td>42000.00</td>\n",
       "      <td>58000.00</td>\n",
       "      <td>75600.00</td>\n",
       "      <td>1900000.00</td>\n",
       "    </tr>\n",
       "    <tr>\n",
       "      <th>person_emp_length</th>\n",
       "      <td>58645.0</td>\n",
       "      <td>4.701015</td>\n",
       "      <td>3.959784</td>\n",
       "      <td>0.00</td>\n",
       "      <td>2.00</td>\n",
       "      <td>4.00</td>\n",
       "      <td>7.00</td>\n",
       "      <td>123.00</td>\n",
       "    </tr>\n",
       "    <tr>\n",
       "      <th>loan_amnt</th>\n",
       "      <td>58645.0</td>\n",
       "      <td>9217.556518</td>\n",
       "      <td>5563.807384</td>\n",
       "      <td>500.00</td>\n",
       "      <td>5000.00</td>\n",
       "      <td>8000.00</td>\n",
       "      <td>12000.00</td>\n",
       "      <td>35000.00</td>\n",
       "    </tr>\n",
       "    <tr>\n",
       "      <th>loan_int_rate</th>\n",
       "      <td>58645.0</td>\n",
       "      <td>10.677874</td>\n",
       "      <td>3.034697</td>\n",
       "      <td>5.42</td>\n",
       "      <td>7.88</td>\n",
       "      <td>10.75</td>\n",
       "      <td>12.99</td>\n",
       "      <td>23.22</td>\n",
       "    </tr>\n",
       "    <tr>\n",
       "      <th>loan_percent_income</th>\n",
       "      <td>58645.0</td>\n",
       "      <td>0.159238</td>\n",
       "      <td>0.091692</td>\n",
       "      <td>0.00</td>\n",
       "      <td>0.09</td>\n",
       "      <td>0.14</td>\n",
       "      <td>0.21</td>\n",
       "      <td>0.83</td>\n",
       "    </tr>\n",
       "    <tr>\n",
       "      <th>cb_person_cred_hist_length</th>\n",
       "      <td>58645.0</td>\n",
       "      <td>5.813556</td>\n",
       "      <td>4.029196</td>\n",
       "      <td>2.00</td>\n",
       "      <td>3.00</td>\n",
       "      <td>4.00</td>\n",
       "      <td>8.00</td>\n",
       "      <td>30.00</td>\n",
       "    </tr>\n",
       "    <tr>\n",
       "      <th>loan_status</th>\n",
       "      <td>58645.0</td>\n",
       "      <td>0.142382</td>\n",
       "      <td>0.349445</td>\n",
       "      <td>0.00</td>\n",
       "      <td>0.00</td>\n",
       "      <td>0.00</td>\n",
       "      <td>0.00</td>\n",
       "      <td>1.00</td>\n",
       "    </tr>\n",
       "  </tbody>\n",
       "</table>\n",
       "</div>"
      ],
      "text/plain": [
       "                              count          mean           std      min  \\\n",
       "id                          58645.0  29322.000000  16929.497605     0.00   \n",
       "person_age                  58645.0     27.550857      6.033216    20.00   \n",
       "person_income               58645.0  64046.172871  37931.106978  4200.00   \n",
       "person_emp_length           58645.0      4.701015      3.959784     0.00   \n",
       "loan_amnt                   58645.0   9217.556518   5563.807384   500.00   \n",
       "loan_int_rate               58645.0     10.677874      3.034697     5.42   \n",
       "loan_percent_income         58645.0      0.159238      0.091692     0.00   \n",
       "cb_person_cred_hist_length  58645.0      5.813556      4.029196     2.00   \n",
       "loan_status                 58645.0      0.142382      0.349445     0.00   \n",
       "\n",
       "                                 25%       50%       75%         max  \n",
       "id                          14661.00  29322.00  43983.00    58644.00  \n",
       "person_age                     23.00     26.00     30.00      123.00  \n",
       "person_income               42000.00  58000.00  75600.00  1900000.00  \n",
       "person_emp_length               2.00      4.00      7.00      123.00  \n",
       "loan_amnt                    5000.00   8000.00  12000.00    35000.00  \n",
       "loan_int_rate                   7.88     10.75     12.99       23.22  \n",
       "loan_percent_income             0.09      0.14      0.21        0.83  \n",
       "cb_person_cred_hist_length      3.00      4.00      8.00       30.00  \n",
       "loan_status                     0.00      0.00      0.00        1.00  "
      ]
     },
     "execution_count": 88,
     "metadata": {},
     "output_type": "execute_result"
    }
   ],
   "source": [
    "train.describe(exclude='object').T"
   ]
  },
  {
   "cell_type": "markdown",
   "id": "238bd4ce-dd27-4cb3-9401-ec8579779538",
   "metadata": {},
   "source": [
    "- 11"
   ]
  },
  {
   "cell_type": "code",
   "execution_count": 89,
   "id": "6852002b-c08d-480f-a400-8050bc5af813",
   "metadata": {
    "execution": {
     "iopub.execute_input": "2024-10-22T12:24:35.542039Z",
     "iopub.status.busy": "2024-10-22T12:24:35.542039Z",
     "iopub.status.idle": "2024-10-22T12:24:35.621448Z",
     "shell.execute_reply": "2024-10-22T12:24:35.621448Z",
     "shell.execute_reply.started": "2024-10-22T12:24:35.542039Z"
    }
   },
   "outputs": [
    {
     "data": {
      "text/html": [
       "<style type=\"text/css\">\n",
       "#T_f0ab0_row1_col7, #T_f0ab0_row3_col7 {\n",
       "  background-color: coral;\n",
       "}\n",
       "</style>\n",
       "<table id=\"T_f0ab0\">\n",
       "  <thead>\n",
       "    <tr>\n",
       "      <th class=\"blank level0\" >&nbsp;</th>\n",
       "      <th id=\"T_f0ab0_level0_col0\" class=\"col_heading level0 col0\" >count</th>\n",
       "      <th id=\"T_f0ab0_level0_col1\" class=\"col_heading level0 col1\" >mean</th>\n",
       "      <th id=\"T_f0ab0_level0_col2\" class=\"col_heading level0 col2\" >std</th>\n",
       "      <th id=\"T_f0ab0_level0_col3\" class=\"col_heading level0 col3\" >min</th>\n",
       "      <th id=\"T_f0ab0_level0_col4\" class=\"col_heading level0 col4\" >25%</th>\n",
       "      <th id=\"T_f0ab0_level0_col5\" class=\"col_heading level0 col5\" >50%</th>\n",
       "      <th id=\"T_f0ab0_level0_col6\" class=\"col_heading level0 col6\" >75%</th>\n",
       "      <th id=\"T_f0ab0_level0_col7\" class=\"col_heading level0 col7\" >max</th>\n",
       "    </tr>\n",
       "  </thead>\n",
       "  <tbody>\n",
       "    <tr>\n",
       "      <th id=\"T_f0ab0_level0_row0\" class=\"row_heading level0 row0\" >id</th>\n",
       "      <td id=\"T_f0ab0_row0_col0\" class=\"data row0 col0\" >58645.0</td>\n",
       "      <td id=\"T_f0ab0_row0_col1\" class=\"data row0 col1\" >29322.000000</td>\n",
       "      <td id=\"T_f0ab0_row0_col2\" class=\"data row0 col2\" >16929.497605</td>\n",
       "      <td id=\"T_f0ab0_row0_col3\" class=\"data row0 col3\" >0.00</td>\n",
       "      <td id=\"T_f0ab0_row0_col4\" class=\"data row0 col4\" >14661.00</td>\n",
       "      <td id=\"T_f0ab0_row0_col5\" class=\"data row0 col5\" >29322.00</td>\n",
       "      <td id=\"T_f0ab0_row0_col6\" class=\"data row0 col6\" >43983.00</td>\n",
       "      <td id=\"T_f0ab0_row0_col7\" class=\"data row0 col7\" >58644.00</td>\n",
       "    </tr>\n",
       "    <tr>\n",
       "      <th id=\"T_f0ab0_level0_row1\" class=\"row_heading level0 row1\" >person_age</th>\n",
       "      <td id=\"T_f0ab0_row1_col0\" class=\"data row1 col0\" >58645.0</td>\n",
       "      <td id=\"T_f0ab0_row1_col1\" class=\"data row1 col1\" >27.550857</td>\n",
       "      <td id=\"T_f0ab0_row1_col2\" class=\"data row1 col2\" >6.033216</td>\n",
       "      <td id=\"T_f0ab0_row1_col3\" class=\"data row1 col3\" >20.00</td>\n",
       "      <td id=\"T_f0ab0_row1_col4\" class=\"data row1 col4\" >23.00</td>\n",
       "      <td id=\"T_f0ab0_row1_col5\" class=\"data row1 col5\" >26.00</td>\n",
       "      <td id=\"T_f0ab0_row1_col6\" class=\"data row1 col6\" >30.00</td>\n",
       "      <td id=\"T_f0ab0_row1_col7\" class=\"data row1 col7\" >123.00</td>\n",
       "    </tr>\n",
       "    <tr>\n",
       "      <th id=\"T_f0ab0_level0_row2\" class=\"row_heading level0 row2\" >person_income</th>\n",
       "      <td id=\"T_f0ab0_row2_col0\" class=\"data row2 col0\" >58645.0</td>\n",
       "      <td id=\"T_f0ab0_row2_col1\" class=\"data row2 col1\" >64046.172871</td>\n",
       "      <td id=\"T_f0ab0_row2_col2\" class=\"data row2 col2\" >37931.106978</td>\n",
       "      <td id=\"T_f0ab0_row2_col3\" class=\"data row2 col3\" >4200.00</td>\n",
       "      <td id=\"T_f0ab0_row2_col4\" class=\"data row2 col4\" >42000.00</td>\n",
       "      <td id=\"T_f0ab0_row2_col5\" class=\"data row2 col5\" >58000.00</td>\n",
       "      <td id=\"T_f0ab0_row2_col6\" class=\"data row2 col6\" >75600.00</td>\n",
       "      <td id=\"T_f0ab0_row2_col7\" class=\"data row2 col7\" >1900000.00</td>\n",
       "    </tr>\n",
       "    <tr>\n",
       "      <th id=\"T_f0ab0_level0_row3\" class=\"row_heading level0 row3\" >person_emp_length</th>\n",
       "      <td id=\"T_f0ab0_row3_col0\" class=\"data row3 col0\" >58645.0</td>\n",
       "      <td id=\"T_f0ab0_row3_col1\" class=\"data row3 col1\" >4.701015</td>\n",
       "      <td id=\"T_f0ab0_row3_col2\" class=\"data row3 col2\" >3.959784</td>\n",
       "      <td id=\"T_f0ab0_row3_col3\" class=\"data row3 col3\" >0.00</td>\n",
       "      <td id=\"T_f0ab0_row3_col4\" class=\"data row3 col4\" >2.00</td>\n",
       "      <td id=\"T_f0ab0_row3_col5\" class=\"data row3 col5\" >4.00</td>\n",
       "      <td id=\"T_f0ab0_row3_col6\" class=\"data row3 col6\" >7.00</td>\n",
       "      <td id=\"T_f0ab0_row3_col7\" class=\"data row3 col7\" >123.00</td>\n",
       "    </tr>\n",
       "    <tr>\n",
       "      <th id=\"T_f0ab0_level0_row4\" class=\"row_heading level0 row4\" >loan_amnt</th>\n",
       "      <td id=\"T_f0ab0_row4_col0\" class=\"data row4 col0\" >58645.0</td>\n",
       "      <td id=\"T_f0ab0_row4_col1\" class=\"data row4 col1\" >9217.556518</td>\n",
       "      <td id=\"T_f0ab0_row4_col2\" class=\"data row4 col2\" >5563.807384</td>\n",
       "      <td id=\"T_f0ab0_row4_col3\" class=\"data row4 col3\" >500.00</td>\n",
       "      <td id=\"T_f0ab0_row4_col4\" class=\"data row4 col4\" >5000.00</td>\n",
       "      <td id=\"T_f0ab0_row4_col5\" class=\"data row4 col5\" >8000.00</td>\n",
       "      <td id=\"T_f0ab0_row4_col6\" class=\"data row4 col6\" >12000.00</td>\n",
       "      <td id=\"T_f0ab0_row4_col7\" class=\"data row4 col7\" >35000.00</td>\n",
       "    </tr>\n",
       "    <tr>\n",
       "      <th id=\"T_f0ab0_level0_row5\" class=\"row_heading level0 row5\" >loan_int_rate</th>\n",
       "      <td id=\"T_f0ab0_row5_col0\" class=\"data row5 col0\" >58645.0</td>\n",
       "      <td id=\"T_f0ab0_row5_col1\" class=\"data row5 col1\" >10.677874</td>\n",
       "      <td id=\"T_f0ab0_row5_col2\" class=\"data row5 col2\" >3.034697</td>\n",
       "      <td id=\"T_f0ab0_row5_col3\" class=\"data row5 col3\" >5.42</td>\n",
       "      <td id=\"T_f0ab0_row5_col4\" class=\"data row5 col4\" >7.88</td>\n",
       "      <td id=\"T_f0ab0_row5_col5\" class=\"data row5 col5\" >10.75</td>\n",
       "      <td id=\"T_f0ab0_row5_col6\" class=\"data row5 col6\" >12.99</td>\n",
       "      <td id=\"T_f0ab0_row5_col7\" class=\"data row5 col7\" >23.22</td>\n",
       "    </tr>\n",
       "    <tr>\n",
       "      <th id=\"T_f0ab0_level0_row6\" class=\"row_heading level0 row6\" >loan_percent_income</th>\n",
       "      <td id=\"T_f0ab0_row6_col0\" class=\"data row6 col0\" >58645.0</td>\n",
       "      <td id=\"T_f0ab0_row6_col1\" class=\"data row6 col1\" >0.159238</td>\n",
       "      <td id=\"T_f0ab0_row6_col2\" class=\"data row6 col2\" >0.091692</td>\n",
       "      <td id=\"T_f0ab0_row6_col3\" class=\"data row6 col3\" >0.00</td>\n",
       "      <td id=\"T_f0ab0_row6_col4\" class=\"data row6 col4\" >0.09</td>\n",
       "      <td id=\"T_f0ab0_row6_col5\" class=\"data row6 col5\" >0.14</td>\n",
       "      <td id=\"T_f0ab0_row6_col6\" class=\"data row6 col6\" >0.21</td>\n",
       "      <td id=\"T_f0ab0_row6_col7\" class=\"data row6 col7\" >0.83</td>\n",
       "    </tr>\n",
       "    <tr>\n",
       "      <th id=\"T_f0ab0_level0_row7\" class=\"row_heading level0 row7\" >cb_person_cred_hist_length</th>\n",
       "      <td id=\"T_f0ab0_row7_col0\" class=\"data row7 col0\" >58645.0</td>\n",
       "      <td id=\"T_f0ab0_row7_col1\" class=\"data row7 col1\" >5.813556</td>\n",
       "      <td id=\"T_f0ab0_row7_col2\" class=\"data row7 col2\" >4.029196</td>\n",
       "      <td id=\"T_f0ab0_row7_col3\" class=\"data row7 col3\" >2.00</td>\n",
       "      <td id=\"T_f0ab0_row7_col4\" class=\"data row7 col4\" >3.00</td>\n",
       "      <td id=\"T_f0ab0_row7_col5\" class=\"data row7 col5\" >4.00</td>\n",
       "      <td id=\"T_f0ab0_row7_col6\" class=\"data row7 col6\" >8.00</td>\n",
       "      <td id=\"T_f0ab0_row7_col7\" class=\"data row7 col7\" >30.00</td>\n",
       "    </tr>\n",
       "    <tr>\n",
       "      <th id=\"T_f0ab0_level0_row8\" class=\"row_heading level0 row8\" >loan_status</th>\n",
       "      <td id=\"T_f0ab0_row8_col0\" class=\"data row8 col0\" >58645.0</td>\n",
       "      <td id=\"T_f0ab0_row8_col1\" class=\"data row8 col1\" >0.142382</td>\n",
       "      <td id=\"T_f0ab0_row8_col2\" class=\"data row8 col2\" >0.349445</td>\n",
       "      <td id=\"T_f0ab0_row8_col3\" class=\"data row8 col3\" >0.00</td>\n",
       "      <td id=\"T_f0ab0_row8_col4\" class=\"data row8 col4\" >0.00</td>\n",
       "      <td id=\"T_f0ab0_row8_col5\" class=\"data row8 col5\" >0.00</td>\n",
       "      <td id=\"T_f0ab0_row8_col6\" class=\"data row8 col6\" >0.00</td>\n",
       "      <td id=\"T_f0ab0_row8_col7\" class=\"data row8 col7\" >1.00</td>\n",
       "    </tr>\n",
       "  </tbody>\n",
       "</table>\n"
      ],
      "text/plain": [
       "<pandas.io.formats.style.Styler at 0x28648dc8050>"
      ]
     },
     "execution_count": 89,
     "metadata": {},
     "output_type": "execute_result"
    }
   ],
   "source": [
    "import warnings\n",
    "warnings.filterwarnings(\"ignore\", message=\"Styler.applymap has been deprecated\")\n",
    "\n",
    "max_emp_length = train['person_emp_length'].max()\n",
    "\n",
    "styled_df = train.describe(exclude='object').T.style.format({\n",
    "    'count': \"{:.1f}\",\n",
    "    'mean' : \"{:.6f}\",\n",
    "    'std'  : \"{:.6f}\",\n",
    "    'min'  : \"{:.2f}\",\n",
    "    '25%'  : \"{:.2f}\",\n",
    "    '50%'  : \"{:.2f}\",\n",
    "    '75%'  : \"{:.2f}\",\n",
    "    'max'  : \"{:.2f}\"\n",
    "}).applymap(\n",
    "    lambda x: 'background-color: coral' if x == max_emp_length else ''\n",
    ")\n",
    "\n",
    "styled_df"
   ]
  },
  {
   "cell_type": "markdown",
   "id": "45172611-3dcf-4621-8dc0-31e1821e5066",
   "metadata": {},
   "source": [
    "- 12"
   ]
  },
  {
   "cell_type": "code",
   "execution_count": 90,
   "id": "157137de-5d19-4550-9149-5e4e19972fc4",
   "metadata": {
    "execution": {
     "iopub.execute_input": "2024-10-22T12:24:35.637498Z",
     "iopub.status.busy": "2024-10-22T12:24:35.637498Z",
     "iopub.status.idle": "2024-10-22T12:24:35.667542Z",
     "shell.execute_reply": "2024-10-22T12:24:35.667542Z",
     "shell.execute_reply.started": "2024-10-22T12:24:35.637498Z"
    }
   },
   "outputs": [
    {
     "data": {
      "text/html": [
       "<div>\n",
       "<style scoped>\n",
       "    .dataframe tbody tr th:only-of-type {\n",
       "        vertical-align: middle;\n",
       "    }\n",
       "\n",
       "    .dataframe tbody tr th {\n",
       "        vertical-align: top;\n",
       "    }\n",
       "\n",
       "    .dataframe thead th {\n",
       "        text-align: right;\n",
       "    }\n",
       "</style>\n",
       "<table border=\"1\" class=\"dataframe\">\n",
       "  <thead>\n",
       "    <tr style=\"text-align: right;\">\n",
       "      <th></th>\n",
       "      <th>count</th>\n",
       "      <th>unique</th>\n",
       "      <th>top</th>\n",
       "      <th>freq</th>\n",
       "    </tr>\n",
       "  </thead>\n",
       "  <tbody>\n",
       "    <tr>\n",
       "      <th>person_home_ownership</th>\n",
       "      <td>58645</td>\n",
       "      <td>4</td>\n",
       "      <td>RENT</td>\n",
       "      <td>30594</td>\n",
       "    </tr>\n",
       "    <tr>\n",
       "      <th>loan_intent</th>\n",
       "      <td>58645</td>\n",
       "      <td>6</td>\n",
       "      <td>EDUCATION</td>\n",
       "      <td>12271</td>\n",
       "    </tr>\n",
       "    <tr>\n",
       "      <th>loan_grade</th>\n",
       "      <td>58645</td>\n",
       "      <td>7</td>\n",
       "      <td>A</td>\n",
       "      <td>20984</td>\n",
       "    </tr>\n",
       "    <tr>\n",
       "      <th>cb_person_default_on_file</th>\n",
       "      <td>58645</td>\n",
       "      <td>2</td>\n",
       "      <td>N</td>\n",
       "      <td>49943</td>\n",
       "    </tr>\n",
       "  </tbody>\n",
       "</table>\n",
       "</div>"
      ],
      "text/plain": [
       "                           count unique        top   freq\n",
       "person_home_ownership      58645      4       RENT  30594\n",
       "loan_intent                58645      6  EDUCATION  12271\n",
       "loan_grade                 58645      7          A  20984\n",
       "cb_person_default_on_file  58645      2          N  49943"
      ]
     },
     "execution_count": 90,
     "metadata": {},
     "output_type": "execute_result"
    }
   ],
   "source": [
    "train.describe(include='object').T"
   ]
  },
  {
   "cell_type": "markdown",
   "id": "8cddb78a-01b8-4225-bfa6-1d155acdfd40",
   "metadata": {},
   "source": [
    "- 13"
   ]
  },
  {
   "cell_type": "code",
   "execution_count": 91,
   "id": "cf0cf709-1c3e-4f62-8f9e-b5c75241158b",
   "metadata": {
    "execution": {
     "iopub.execute_input": "2024-10-22T12:24:35.682901Z",
     "iopub.status.busy": "2024-10-22T12:24:35.682901Z",
     "iopub.status.idle": "2024-10-22T12:24:35.696626Z",
     "shell.execute_reply": "2024-10-22T12:24:35.696626Z",
     "shell.execute_reply.started": "2024-10-22T12:24:35.682901Z"
    }
   },
   "outputs": [
    {
     "data": {
      "text/plain": [
       "id                            0\n",
       "person_age                    0\n",
       "person_income                 0\n",
       "person_home_ownership         0\n",
       "person_emp_length             0\n",
       "loan_intent                   0\n",
       "loan_grade                    0\n",
       "loan_amnt                     0\n",
       "loan_int_rate                 0\n",
       "loan_percent_income           0\n",
       "cb_person_default_on_file     0\n",
       "cb_person_cred_hist_length    0\n",
       "loan_status                   0\n",
       "dtype: int64"
      ]
     },
     "execution_count": 91,
     "metadata": {},
     "output_type": "execute_result"
    }
   ],
   "source": [
    "missing_values_count = train.isnull().sum()\n",
    "missing_values_count"
   ]
  },
  {
   "cell_type": "markdown",
   "id": "103bc449-d625-4eca-9e59-e0c09a0fbc36",
   "metadata": {},
   "source": [
    "- 14"
   ]
  },
  {
   "cell_type": "code",
   "execution_count": 92,
   "id": "d61a83c0-31ad-4328-9608-c77bb861ac17",
   "metadata": {
    "execution": {
     "iopub.execute_input": "2024-10-22T12:24:35.713565Z",
     "iopub.status.busy": "2024-10-22T12:24:35.713565Z",
     "iopub.status.idle": "2024-10-22T12:24:35.747509Z",
     "shell.execute_reply": "2024-10-22T12:24:35.747509Z",
     "shell.execute_reply.started": "2024-10-22T12:24:35.713565Z"
    }
   },
   "outputs": [
    {
     "data": {
      "text/html": [
       "<div>\n",
       "<style scoped>\n",
       "    .dataframe tbody tr th:only-of-type {\n",
       "        vertical-align: middle;\n",
       "    }\n",
       "\n",
       "    .dataframe tbody tr th {\n",
       "        vertical-align: top;\n",
       "    }\n",
       "\n",
       "    .dataframe thead th {\n",
       "        text-align: right;\n",
       "    }\n",
       "</style>\n",
       "<table border=\"1\" class=\"dataframe\">\n",
       "  <thead>\n",
       "    <tr style=\"text-align: right;\">\n",
       "      <th></th>\n",
       "      <th>id</th>\n",
       "      <th>person_age</th>\n",
       "      <th>person_income</th>\n",
       "      <th>person_home_ownership</th>\n",
       "      <th>person_emp_length</th>\n",
       "      <th>loan_intent</th>\n",
       "      <th>loan_grade</th>\n",
       "      <th>loan_amnt</th>\n",
       "      <th>loan_int_rate</th>\n",
       "      <th>loan_percent_income</th>\n",
       "      <th>cb_person_default_on_file</th>\n",
       "      <th>cb_person_cred_hist_length</th>\n",
       "      <th>loan_status</th>\n",
       "    </tr>\n",
       "  </thead>\n",
       "  <tbody>\n",
       "  </tbody>\n",
       "</table>\n",
       "</div>"
      ],
      "text/plain": [
       "Empty DataFrame\n",
       "Columns: [id, person_age, person_income, person_home_ownership, person_emp_length, loan_intent, loan_grade, loan_amnt, loan_int_rate, loan_percent_income, cb_person_default_on_file, cb_person_cred_hist_length, loan_status]\n",
       "Index: []"
      ]
     },
     "execution_count": 92,
     "metadata": {},
     "output_type": "execute_result"
    }
   ],
   "source": [
    "duplicated_rows = train.duplicated()\n",
    "train[duplicated_rows].head()"
   ]
  },
  {
   "cell_type": "markdown",
   "id": "eb95ef1f-f0b9-4e1e-8154-279c3ec5f9a7",
   "metadata": {},
   "source": [
    "- 15"
   ]
  },
  {
   "cell_type": "code",
   "execution_count": 93,
   "id": "46a28ca2-495d-4119-8fa0-adc2446fa2e3",
   "metadata": {
    "execution": {
     "iopub.execute_input": "2024-10-22T12:24:35.771382Z",
     "iopub.status.busy": "2024-10-22T12:24:35.770380Z",
     "iopub.status.idle": "2024-10-22T12:24:35.781822Z",
     "shell.execute_reply": "2024-10-22T12:24:35.781822Z",
     "shell.execute_reply.started": "2024-10-22T12:24:35.771382Z"
    }
   },
   "outputs": [
    {
     "data": {
      "text/plain": [
       "0"
      ]
     },
     "execution_count": 93,
     "metadata": {},
     "output_type": "execute_result"
    }
   ],
   "source": [
    "len(train[duplicated_rows])"
   ]
  },
  {
   "cell_type": "markdown",
   "id": "6ce5f2fd-7c40-4b8d-9b2f-28504ffd2266",
   "metadata": {},
   "source": [
    "- 16"
   ]
  },
  {
   "cell_type": "code",
   "execution_count": 94,
   "id": "8926fa24-97a6-429a-8b0d-200e1665003b",
   "metadata": {
    "execution": {
     "iopub.execute_input": "2024-10-22T12:24:35.798280Z",
     "iopub.status.busy": "2024-10-22T12:24:35.798280Z",
     "iopub.status.idle": "2024-10-22T12:24:35.827045Z",
     "shell.execute_reply": "2024-10-22T12:24:35.827045Z",
     "shell.execute_reply.started": "2024-10-22T12:24:35.798280Z"
    }
   },
   "outputs": [
    {
     "data": {
      "text/html": [
       "<div>\n",
       "<style scoped>\n",
       "    .dataframe tbody tr th:only-of-type {\n",
       "        vertical-align: middle;\n",
       "    }\n",
       "\n",
       "    .dataframe tbody tr th {\n",
       "        vertical-align: top;\n",
       "    }\n",
       "\n",
       "    .dataframe thead th {\n",
       "        text-align: right;\n",
       "    }\n",
       "</style>\n",
       "<table border=\"1\" class=\"dataframe\">\n",
       "  <thead>\n",
       "    <tr style=\"text-align: right;\">\n",
       "      <th></th>\n",
       "      <th>id</th>\n",
       "      <th>person_age</th>\n",
       "      <th>person_income</th>\n",
       "      <th>person_emp_length</th>\n",
       "      <th>loan_amnt</th>\n",
       "      <th>loan_int_rate</th>\n",
       "      <th>loan_percent_income</th>\n",
       "      <th>cb_person_cred_hist_length</th>\n",
       "      <th>loan_status</th>\n",
       "    </tr>\n",
       "  </thead>\n",
       "  <tbody>\n",
       "    <tr>\n",
       "      <th>id</th>\n",
       "      <td>1.000000</td>\n",
       "      <td>0.008608</td>\n",
       "      <td>-0.001896</td>\n",
       "      <td>0.005376</td>\n",
       "      <td>-0.000403</td>\n",
       "      <td>-0.003454</td>\n",
       "      <td>-0.002677</td>\n",
       "      <td>0.008139</td>\n",
       "      <td>-0.008138</td>\n",
       "    </tr>\n",
       "    <tr>\n",
       "      <th>person_age</th>\n",
       "      <td>0.008608</td>\n",
       "      <td>1.000000</td>\n",
       "      <td>0.102176</td>\n",
       "      <td>0.121276</td>\n",
       "      <td>0.050378</td>\n",
       "      <td>0.009653</td>\n",
       "      <td>-0.031975</td>\n",
       "      <td>0.874260</td>\n",
       "      <td>-0.001130</td>\n",
       "    </tr>\n",
       "    <tr>\n",
       "      <th>person_income</th>\n",
       "      <td>-0.001896</td>\n",
       "      <td>0.102176</td>\n",
       "      <td>1.000000</td>\n",
       "      <td>0.164042</td>\n",
       "      <td>0.310942</td>\n",
       "      <td>-0.057611</td>\n",
       "      <td>-0.280314</td>\n",
       "      <td>0.082727</td>\n",
       "      <td>-0.169956</td>\n",
       "    </tr>\n",
       "    <tr>\n",
       "      <th>person_emp_length</th>\n",
       "      <td>0.005376</td>\n",
       "      <td>0.121276</td>\n",
       "      <td>0.164042</td>\n",
       "      <td>1.000000</td>\n",
       "      <td>0.092046</td>\n",
       "      <td>-0.101910</td>\n",
       "      <td>-0.065824</td>\n",
       "      <td>0.102842</td>\n",
       "      <td>-0.100428</td>\n",
       "    </tr>\n",
       "    <tr>\n",
       "      <th>loan_amnt</th>\n",
       "      <td>-0.000403</td>\n",
       "      <td>0.050378</td>\n",
       "      <td>0.310942</td>\n",
       "      <td>0.092046</td>\n",
       "      <td>1.000000</td>\n",
       "      <td>0.113582</td>\n",
       "      <td>0.647266</td>\n",
       "      <td>0.045720</td>\n",
       "      <td>0.144982</td>\n",
       "    </tr>\n",
       "    <tr>\n",
       "      <th>loan_int_rate</th>\n",
       "      <td>-0.003454</td>\n",
       "      <td>0.009653</td>\n",
       "      <td>-0.057611</td>\n",
       "      <td>-0.101910</td>\n",
       "      <td>0.113582</td>\n",
       "      <td>1.000000</td>\n",
       "      <td>0.152201</td>\n",
       "      <td>0.007535</td>\n",
       "      <td>0.338948</td>\n",
       "    </tr>\n",
       "    <tr>\n",
       "      <th>loan_percent_income</th>\n",
       "      <td>-0.002677</td>\n",
       "      <td>-0.031975</td>\n",
       "      <td>-0.280314</td>\n",
       "      <td>-0.065824</td>\n",
       "      <td>0.647266</td>\n",
       "      <td>0.152201</td>\n",
       "      <td>1.000000</td>\n",
       "      <td>-0.023202</td>\n",
       "      <td>0.378280</td>\n",
       "    </tr>\n",
       "    <tr>\n",
       "      <th>cb_person_cred_hist_length</th>\n",
       "      <td>0.008139</td>\n",
       "      <td>0.874260</td>\n",
       "      <td>0.082727</td>\n",
       "      <td>0.102842</td>\n",
       "      <td>0.045720</td>\n",
       "      <td>0.007535</td>\n",
       "      <td>-0.023202</td>\n",
       "      <td>1.000000</td>\n",
       "      <td>-0.003030</td>\n",
       "    </tr>\n",
       "    <tr>\n",
       "      <th>loan_status</th>\n",
       "      <td>-0.008138</td>\n",
       "      <td>-0.001130</td>\n",
       "      <td>-0.169956</td>\n",
       "      <td>-0.100428</td>\n",
       "      <td>0.144982</td>\n",
       "      <td>0.338948</td>\n",
       "      <td>0.378280</td>\n",
       "      <td>-0.003030</td>\n",
       "      <td>1.000000</td>\n",
       "    </tr>\n",
       "  </tbody>\n",
       "</table>\n",
       "</div>"
      ],
      "text/plain": [
       "                                  id  person_age  person_income  \\\n",
       "id                          1.000000    0.008608      -0.001896   \n",
       "person_age                  0.008608    1.000000       0.102176   \n",
       "person_income              -0.001896    0.102176       1.000000   \n",
       "person_emp_length           0.005376    0.121276       0.164042   \n",
       "loan_amnt                  -0.000403    0.050378       0.310942   \n",
       "loan_int_rate              -0.003454    0.009653      -0.057611   \n",
       "loan_percent_income        -0.002677   -0.031975      -0.280314   \n",
       "cb_person_cred_hist_length  0.008139    0.874260       0.082727   \n",
       "loan_status                -0.008138   -0.001130      -0.169956   \n",
       "\n",
       "                            person_emp_length  loan_amnt  loan_int_rate  \\\n",
       "id                                   0.005376  -0.000403      -0.003454   \n",
       "person_age                           0.121276   0.050378       0.009653   \n",
       "person_income                        0.164042   0.310942      -0.057611   \n",
       "person_emp_length                    1.000000   0.092046      -0.101910   \n",
       "loan_amnt                            0.092046   1.000000       0.113582   \n",
       "loan_int_rate                       -0.101910   0.113582       1.000000   \n",
       "loan_percent_income                 -0.065824   0.647266       0.152201   \n",
       "cb_person_cred_hist_length           0.102842   0.045720       0.007535   \n",
       "loan_status                         -0.100428   0.144982       0.338948   \n",
       "\n",
       "                            loan_percent_income  cb_person_cred_hist_length  \\\n",
       "id                                    -0.002677                    0.008139   \n",
       "person_age                            -0.031975                    0.874260   \n",
       "person_income                         -0.280314                    0.082727   \n",
       "person_emp_length                     -0.065824                    0.102842   \n",
       "loan_amnt                              0.647266                    0.045720   \n",
       "loan_int_rate                          0.152201                    0.007535   \n",
       "loan_percent_income                    1.000000                   -0.023202   \n",
       "cb_person_cred_hist_length            -0.023202                    1.000000   \n",
       "loan_status                            0.378280                   -0.003030   \n",
       "\n",
       "                            loan_status  \n",
       "id                            -0.008138  \n",
       "person_age                    -0.001130  \n",
       "person_income                 -0.169956  \n",
       "person_emp_length             -0.100428  \n",
       "loan_amnt                      0.144982  \n",
       "loan_int_rate                  0.338948  \n",
       "loan_percent_income            0.378280  \n",
       "cb_person_cred_hist_length    -0.003030  \n",
       "loan_status                    1.000000  "
      ]
     },
     "execution_count": 94,
     "metadata": {},
     "output_type": "execute_result"
    }
   ],
   "source": [
    "train.corr(numeric_only=True)"
   ]
  },
  {
   "cell_type": "markdown",
   "id": "aba0358c-d878-41e6-8583-a5990ce40fd0",
   "metadata": {},
   "source": [
    "- 17"
   ]
  },
  {
   "cell_type": "code",
   "execution_count": 95,
   "id": "05ce4a40-cf8f-4dfb-bccc-363fdf63ec6c",
   "metadata": {
    "execution": {
     "iopub.execute_input": "2024-10-22T12:24:35.843228Z",
     "iopub.status.busy": "2024-10-22T12:24:35.843228Z",
     "iopub.status.idle": "2024-10-22T12:24:36.304067Z",
     "shell.execute_reply": "2024-10-22T12:24:36.303056Z",
     "shell.execute_reply.started": "2024-10-22T12:24:35.843228Z"
    }
   },
   "outputs": [
    {
     "data": {
      "image/png": "[encoded data removed]",
      "text/plain": [
       "<Figure size 2800x900 with 2 Axes>"
      ]
     },
     "metadata": {},
     "output_type": "display_data"
    }
   ],
   "source": [
    "plt.figure(figsize=(28, 9))\n",
    "sns.heatmap(train.corr(numeric_only=True), cmap='coolwarm', annot=True, fmt='.2f', linecolor='gray', linewidths=0.6, annot_kws={'size': 15}, \n",
    "            mask=np.triu(np.ones_like(train.corr(numeric_only=True), dtype=bool)));\n",
    "plt.xticks(fontsize=11)\n",
    "plt.yticks(fontsize=11);"
   ]
  },
  {
   "cell_type": "markdown",
   "id": "8e7a6cd0-7f0c-4186-8207-be99ac0cac5c",
   "metadata": {},
   "source": [
    "- 18"
   ]
  },
  {
   "cell_type": "code",
   "execution_count": 96,
   "id": "e1591135-c29c-46a3-972a-8112496cf908",
   "metadata": {
    "execution": {
     "iopub.execute_input": "2024-10-22T12:24:36.322924Z",
     "iopub.status.busy": "2024-10-22T12:24:36.322924Z",
     "iopub.status.idle": "2024-10-22T12:24:36.344254Z",
     "shell.execute_reply": "2024-10-22T12:24:36.344254Z",
     "shell.execute_reply.started": "2024-10-22T12:24:36.322924Z"
    }
   },
   "outputs": [
    {
     "data": {
      "text/plain": [
       "loan_status                   1.000000\n",
       "loan_percent_income           0.378280\n",
       "loan_int_rate                 0.338948\n",
       "loan_amnt                     0.144982\n",
       "person_age                   -0.001130\n",
       "cb_person_cred_hist_length   -0.003030\n",
       "id                           -0.008138\n",
       "person_emp_length            -0.100428\n",
       "person_income                -0.169956\n",
       "Name: loan_status, dtype: float64"
      ]
     },
     "execution_count": 96,
     "metadata": {},
     "output_type": "execute_result"
    }
   ],
   "source": [
    "correlation = train.corr(numeric_only=True)['loan_status'].sort_values(ascending=False)\n",
    "correlation"
   ]
  },
  {
   "cell_type": "markdown",
   "id": "8073eb9b-d664-4f93-a289-7920582c60c4",
   "metadata": {},
   "source": [
    "- 19"
   ]
  },
  {
   "cell_type": "code",
   "execution_count": 97,
   "id": "c3ff0ebc-6a85-4b40-9ba8-eed62ee048b2",
   "metadata": {
    "execution": {
     "iopub.execute_input": "2024-10-22T12:24:36.370193Z",
     "iopub.status.busy": "2024-10-22T12:24:36.369196Z",
     "iopub.status.idle": "2024-10-22T12:24:36.588214Z",
     "shell.execute_reply": "2024-10-22T12:24:36.587206Z",
     "shell.execute_reply.started": "2024-10-22T12:24:36.370193Z"
    }
   },
   "outputs": [
    {
     "data": {
      "image/png": "[encoded data removed]",
      "text/plain": [
       "<Figure size 1050x480 with 1 Axes>"
      ]
     },
     "metadata": {},
     "output_type": "display_data"
    }
   ],
   "source": [
    "plt.figure(figsize=(10.5, 4.8))\n",
    "sns.barplot(x=correlation.values, y=correlation.index, hue=correlation.index, palette='coolwarm')\n",
    "\n",
    "for index, value in enumerate(correlation.values):\n",
    "    if np.isfinite(value):\n",
    "        plt.text(value, index, f'{value: .2f}', va='center')\n",
    "plt.ylabel('');"
   ]
  },
  {
   "cell_type": "markdown",
   "id": "a3472282-2baa-4766-9f5b-2985551ad71a",
   "metadata": {},
   "source": [
    "- 20"
   ]
  },
  {
   "cell_type": "code",
   "execution_count": 98,
   "id": "7b09cef1-06e0-4396-8974-c38a5b53702b",
   "metadata": {
    "execution": {
     "iopub.execute_input": "2024-10-22T12:24:36.613468Z",
     "iopub.status.busy": "2024-10-22T12:24:36.613468Z",
     "iopub.status.idle": "2024-10-22T12:24:36.633476Z",
     "shell.execute_reply": "2024-10-22T12:24:36.632464Z",
     "shell.execute_reply.started": "2024-10-22T12:24:36.613468Z"
    }
   },
   "outputs": [
    {
     "name": "stdout",
     "output_type": "stream",
     "text": [
      "\t\tperson_home_ownership value counts: \n",
      "person_home_ownership\n",
      "RENT        30594\n",
      "MORTGAGE    24824\n",
      "OWN          3138\n",
      "OTHER          89\n",
      "Name: count, dtype: int64\n",
      "------------------------------------------------------------------------------------------------------------------------------------------------------\n",
      "\t\tloan_intent value counts: \n",
      "loan_intent\n",
      "EDUCATION            12271\n",
      "MEDICAL              10934\n",
      "PERSONAL             10016\n",
      "VENTURE              10011\n",
      "DEBTCONSOLIDATION     9133\n",
      "HOMEIMPROVEMENT       6280\n",
      "Name: count, dtype: int64\n",
      "------------------------------------------------------------------------------------------------------------------------------------------------------\n",
      "\t\tloan_grade value counts: \n",
      "loan_grade\n",
      "A    20984\n",
      "B    20400\n",
      "C    11036\n",
      "D     5034\n",
      "E     1009\n",
      "F      149\n",
      "G       33\n",
      "Name: count, dtype: int64\n",
      "------------------------------------------------------------------------------------------------------------------------------------------------------\n",
      "\t\tcb_person_default_on_file value counts: \n",
      "cb_person_default_on_file\n",
      "N    49943\n",
      "Y     8702\n",
      "Name: count, dtype: int64\n",
      "------------------------------------------------------------------------------------------------------------------------------------------------------\n"
     ]
    }
   ],
   "source": [
    "for col in train.select_dtypes(include='object').columns:\n",
    "    print(f'\\t\\t{col} value counts: ')\n",
    "    print(train[col].value_counts())\n",
    "    print('-' * 150)"
   ]
  },
  {
   "cell_type": "markdown",
   "id": "b23f0563-1aa0-4c87-af18-af6ed01ed9d6",
   "metadata": {},
   "source": [
    "- 21"
   ]
  },
  {
   "cell_type": "code",
   "execution_count": 99,
   "id": "7c5dbd82-5746-457e-af20-233be535f0fa",
   "metadata": {
    "execution": {
     "iopub.execute_input": "2024-10-22T12:24:36.653243Z",
     "iopub.status.busy": "2024-10-22T12:24:36.652242Z",
     "iopub.status.idle": "2024-10-22T12:24:38.129934Z",
     "shell.execute_reply": "2024-10-22T12:24:38.129934Z",
     "shell.execute_reply.started": "2024-10-22T12:24:36.653243Z"
    }
   },
   "outputs": [
    {
     "name": "stdout",
     "output_type": "stream",
     "text": [
      "\t\tBoxplot of id\n"
     ]
    },
    {
     "data": {
      "image/png": "[encoded data removed]",
      "text/plain": [
       "<Figure size 700x300 with 1 Axes>"
      ]
     },
     "metadata": {},
     "output_type": "display_data"
    },
    {
     "name": "stdout",
     "output_type": "stream",
     "text": [
      "******************************************************************************************************************************************************\n",
      "\t\tBoxplot of person_age\n"
     ]
    },
    {
     "data": {
      "image/png": "[encoded data removed]",
      "text/plain": [
       "<Figure size 700x300 with 1 Axes>"
      ]
     },
     "metadata": {},
     "output_type": "display_data"
    },
    {
     "name": "stdout",
     "output_type": "stream",
     "text": [
      "******************************************************************************************************************************************************\n",
      "\t\tBoxplot of person_income\n"
     ]
    },
    {
     "data": {
      "image/png": "[encoded data removed]",
      "text/plain": [
       "<Figure size 700x300 with 1 Axes>"
      ]
     },
     "metadata": {},
     "output_type": "display_data"
    },
    {
     "name": "stdout",
     "output_type": "stream",
     "text": [
      "******************************************************************************************************************************************************\n",
      "\t\tBoxplot of person_emp_length\n"
     ]
    },
    {
     "data": {
      "image/png": "[encoded data removed]",
      "text/plain": [
       "<Figure size 700x300 with 1 Axes>"
      ]
     },
     "metadata": {},
     "output_type": "display_data"
    },
    {
     "name": "stdout",
     "output_type": "stream",
     "text": [
      "******************************************************************************************************************************************************\n",
      "\t\tBoxplot of loan_amnt\n"
     ]
    },
    {
     "data": {
      "image/png": "[encoded data removed]",
      "text/plain": [
       "<Figure size 700x300 with 1 Axes>"
      ]
     },
     "metadata": {},
     "output_type": "display_data"
    },
    {
     "name": "stdout",
     "output_type": "stream",
     "text": [
      "******************************************************************************************************************************************************\n",
      "\t\tBoxplot of loan_int_rate\n"
     ]
    },
    {
     "data": {
      "image/png": "[encoded data removed]",
      "text/plain": [
       "<Figure size 700x300 with 1 Axes>"
      ]
     },
     "metadata": {},
     "output_type": "display_data"
    },
    {
     "name": "stdout",
     "output_type": "stream",
     "text": [
      "******************************************************************************************************************************************************\n",
      "\t\tBoxplot of loan_percent_income\n"
     ]
    },
    {
     "data": {
      "image/png": "[encoded data removed]",
      "text/plain": [
       "<Figure size 700x300 with 1 Axes>"
      ]
     },
     "metadata": {},
     "output_type": "display_data"
    },
    {
     "name": "stdout",
     "output_type": "stream",
     "text": [
      "******************************************************************************************************************************************************\n",
      "\t\tBoxplot of cb_person_cred_hist_length\n"
     ]
    },
    {
     "data": {
      "image/png": "[encoded data removed]",
      "text/plain": [
       "<Figure size 700x300 with 1 Axes>"
      ]
     },
     "metadata": {},
     "output_type": "display_data"
    },
    {
     "name": "stdout",
     "output_type": "stream",
     "text": [
      "******************************************************************************************************************************************************\n",
      "\t\tBoxplot of loan_status\n"
     ]
    },
    {
     "data": {
      "image/png": "[encoded data removed]",
      "text/plain": [
       "<Figure size 700x300 with 1 Axes>"
      ]
     },
     "metadata": {},
     "output_type": "display_data"
    },
    {
     "name": "stdout",
     "output_type": "stream",
     "text": [
      "******************************************************************************************************************************************************\n"
     ]
    }
   ],
   "source": [
    "sns.set_style('whitegrid')\n",
    "for col in train.select_dtypes(include='number').columns:\n",
    "    plt.figure(figsize=(7, 3))\n",
    "    print(f'\\t\\tBoxplot of {col}')\n",
    "    sns.boxplot(x=train[col], color='steelblue')\n",
    "    plt.show()\n",
    "    print('*' * 150)"
   ]
  },
  {
   "cell_type": "markdown",
   "id": "0cd568dc-e329-41ea-8e36-12e92f03bfb0",
   "metadata": {},
   "source": [
    "- 22"
   ]
  },
  {
   "cell_type": "code",
   "execution_count": 100,
   "id": "99cafe46-7e5a-4b5c-b7f7-3ea16d31019e",
   "metadata": {
    "execution": {
     "iopub.execute_input": "2024-10-22T12:24:38.146321Z",
     "iopub.status.busy": "2024-10-22T12:24:38.146321Z",
     "iopub.status.idle": "2024-10-22T12:24:39.574153Z",
     "shell.execute_reply": "2024-10-22T12:24:39.574153Z",
     "shell.execute_reply.started": "2024-10-22T12:24:38.146321Z"
    }
   },
   "outputs": [
    {
     "data": {
      "image/png": "[encoded data removed]",
      "text/plain": [
       "<Figure size 1600x600 with 1 Axes>"
      ]
     },
     "metadata": {},
     "output_type": "display_data"
    }
   ],
   "source": [
    "plt.figure(figsize=(16, 6))\n",
    "sns.boxplot(data=train.select_dtypes(include=np.number))\n",
    "plt.title('Boxplot of Numerical Features')\n",
    "plt.ticklabel_format(style='plain', axis='y')\n",
    "plt.xticks(rotation=30, fontsize=11);"
   ]
  },
  {
   "cell_type": "markdown",
   "id": "a9b40aca-0df9-4404-8cf5-cd639b8686ce",
   "metadata": {},
   "source": [
    "- 23"
   ]
  },
  {
   "cell_type": "code",
   "execution_count": 101,
   "id": "3b864911-b9e8-4413-98d3-87bd83e0f738",
   "metadata": {
    "execution": {
     "iopub.execute_input": "2024-10-22T12:24:39.591215Z",
     "iopub.status.busy": "2024-10-22T12:24:39.591215Z",
     "iopub.status.idle": "2024-10-22T12:24:41.211439Z",
     "shell.execute_reply": "2024-10-22T12:24:41.210428Z",
     "shell.execute_reply.started": "2024-10-22T12:24:39.591215Z"
    }
   },
   "outputs": [
    {
     "data": {
      "image/png": "[encoded data removed]",
      "text/plain": [
       "<Figure size 2000x1500 with 9 Axes>"
      ]
     },
     "metadata": {},
     "output_type": "display_data"
    }
   ],
   "source": [
    "train.hist(bins=20, figsize=(20, 15), color='steelblue')\n",
    "plt.suptitle('Distribution of Numerical Features', fontsize=30, color='navy', backgroundcolor='lightcyan', y=0.95);"
   ]
  },
  {
   "cell_type": "markdown",
   "id": "7a2b6a92-f0e5-47fb-a087-646aadd7b2ad",
   "metadata": {},
   "source": [
    "- 24"
   ]
  },
  {
   "cell_type": "code",
   "execution_count": 102,
   "id": "2b9ab8d8-7764-4fe9-b76b-4a908a8bf8d3",
   "metadata": {
    "execution": {
     "iopub.execute_input": "2024-10-22T12:24:41.227368Z",
     "iopub.status.busy": "2024-10-22T12:24:41.227368Z",
     "iopub.status.idle": "2024-10-22T12:24:43.807479Z",
     "shell.execute_reply": "2024-10-22T12:24:43.807479Z",
     "shell.execute_reply.started": "2024-10-22T12:24:41.227368Z"
    }
   },
   "outputs": [
    {
     "name": "stdout",
     "output_type": "stream",
     "text": [
      "Error in callback <function flush_figures at 0x0000028648F336A0> (for post_execute), with arguments args (),kwargs {}:\n"
     ]
    },
    {
     "ename": "KeyboardInterrupt",
     "evalue": "",
     "output_type": "error",
     "traceback": [
      "\u001b[31m---------------------------------------------------------------------------\u001b[39m",
      "\u001b[31mKeyboardInterrupt\u001b[39m                         Traceback (most recent call last)",
      "\u001b[36mFile \u001b[39m\u001b[32m~\\AppData\\Local\\Packages\\PythonSoftwareFoundation.Python.3.13_qbz5n2kfra8p0\\LocalCache\\local-packages\\Python313\\site-packages\\matplotlib_inline\\backend_inline.py:126\u001b[39m, in \u001b[36mflush_figures\u001b[39m\u001b[34m()\u001b[39m\n\u001b[32m    123\u001b[39m \u001b[38;5;28;01mif\u001b[39;00m InlineBackend.instance().close_figures:\n\u001b[32m    124\u001b[39m     \u001b[38;5;66;03m# ignore the tracking, just draw and close all figures\u001b[39;00m\n\u001b[32m    125\u001b[39m     \u001b[38;5;28;01mtry\u001b[39;00m:\n\u001b[32m--> \u001b[39m\u001b[32m126\u001b[39m         \u001b[38;5;28;01mreturn\u001b[39;00m \u001b[43mshow\u001b[49m\u001b[43m(\u001b[49m\u001b[38;5;28;43;01mTrue\u001b[39;49;00m\u001b[43m)\u001b[49m\n\u001b[32m    127\u001b[39m     \u001b[38;5;28;01mexcept\u001b[39;00m \u001b[38;5;167;01mException\u001b[39;00m \u001b[38;5;28;01mas\u001b[39;00m e:\n\u001b[32m    128\u001b[39m         \u001b[38;5;66;03m# safely show traceback if in IPython, else raise\u001b[39;00m\n\u001b[32m    129\u001b[39m         ip = get_ipython()\n",
      "\u001b[36mFile \u001b[39m\u001b[32m~\\AppData\\Local\\Packages\\PythonSoftwareFoundation.Python.3.13_qbz5n2kfra8p0\\LocalCache\\local-packages\\Python313\\site-packages\\matplotlib_inline\\backend_inline.py:90\u001b[39m, in \u001b[36mshow\u001b[39m\u001b[34m(close, block)\u001b[39m\n\u001b[32m     88\u001b[39m \u001b[38;5;28;01mtry\u001b[39;00m:\n\u001b[32m     89\u001b[39m     \u001b[38;5;28;01mfor\u001b[39;00m figure_manager \u001b[38;5;129;01min\u001b[39;00m Gcf.get_all_fig_managers():\n\u001b[32m---> \u001b[39m\u001b[32m90\u001b[39m         \u001b[43mdisplay\u001b[49m\u001b[43m(\u001b[49m\n\u001b[32m     91\u001b[39m \u001b[43m            \u001b[49m\u001b[43mfigure_manager\u001b[49m\u001b[43m.\u001b[49m\u001b[43mcanvas\u001b[49m\u001b[43m.\u001b[49m\u001b[43mfigure\u001b[49m\u001b[43m,\u001b[49m\n\u001b[32m     92\u001b[39m \u001b[43m            \u001b[49m\u001b[43mmetadata\u001b[49m\u001b[43m=\u001b[49m\u001b[43m_fetch_figure_metadata\u001b[49m\u001b[43m(\u001b[49m\u001b[43mfigure_manager\u001b[49m\u001b[43m.\u001b[49m\u001b[43mcanvas\u001b[49m\u001b[43m.\u001b[49m\u001b[43mfigure\u001b[49m\u001b[43m)\u001b[49m\n\u001b[32m     93\u001b[39m \u001b[43m        \u001b[49m\u001b[43m)\u001b[49m\n\u001b[32m     94\u001b[39m \u001b[38;5;28;01mfinally\u001b[39;00m:\n\u001b[32m     95\u001b[39m     show._to_draw = []\n",
      "\u001b[36mFile \u001b[39m\u001b[32m~\\AppData\\Local\\Packages\\PythonSoftwareFoundation.Python.3.13_qbz5n2kfra8p0\\LocalCache\\local-packages\\Python313\\site-packages\\IPython\\core\\display_functions.py:278\u001b[39m, in \u001b[36mdisplay\u001b[39m\u001b[34m(include, exclude, metadata, transient, display_id, raw, clear, *objs, **kwargs)\u001b[39m\n\u001b[32m    276\u001b[39m     publish_display_data(data=obj, metadata=metadata, **kwargs)\n\u001b[32m    277\u001b[39m \u001b[38;5;28;01melse\u001b[39;00m:\n\u001b[32m--> \u001b[39m\u001b[32m278\u001b[39m     format_dict, md_dict = \u001b[38;5;28;43mformat\u001b[39;49m\u001b[43m(\u001b[49m\u001b[43mobj\u001b[49m\u001b[43m,\u001b[49m\u001b[43m \u001b[49m\u001b[43minclude\u001b[49m\u001b[43m=\u001b[49m\u001b[43minclude\u001b[49m\u001b[43m,\u001b[49m\u001b[43m \u001b[49m\u001b[43mexclude\u001b[49m\u001b[43m=\u001b[49m\u001b[43mexclude\u001b[49m\u001b[43m)\u001b[49m\n\u001b[32m    279\u001b[39m     \u001b[38;5;28;01mif\u001b[39;00m \u001b[38;5;129;01mnot\u001b[39;00m format_dict:\n\u001b[32m    280\u001b[39m         \u001b[38;5;66;03m# nothing to display (e.g. _ipython_display_ took over)\u001b[39;00m\n\u001b[32m    281\u001b[39m         \u001b[38;5;28;01mcontinue\u001b[39;00m\n",
      "\u001b[36mFile \u001b[39m\u001b[32m~\\AppData\\Local\\Packages\\PythonSoftwareFoundation.Python.3.13_qbz5n2kfra8p0\\LocalCache\\local-packages\\Python313\\site-packages\\IPython\\core\\formatters.py:238\u001b[39m, in \u001b[36mDisplayFormatter.format\u001b[39m\u001b[34m(self, obj, include, exclude)\u001b[39m\n\u001b[32m    236\u001b[39m md = \u001b[38;5;28;01mNone\u001b[39;00m\n\u001b[32m    237\u001b[39m \u001b[38;5;28;01mtry\u001b[39;00m:\n\u001b[32m--> \u001b[39m\u001b[32m238\u001b[39m     data = \u001b[43mformatter\u001b[49m\u001b[43m(\u001b[49m\u001b[43mobj\u001b[49m\u001b[43m)\u001b[49m\n\u001b[32m    239\u001b[39m \u001b[38;5;28;01mexcept\u001b[39;00m:\n\u001b[32m    240\u001b[39m     \u001b[38;5;66;03m# FIXME: log the exception\u001b[39;00m\n\u001b[32m    241\u001b[39m     \u001b[38;5;28;01mraise\u001b[39;00m\n",
      "\u001b[36mFile \u001b[39m\u001b[32m~\\AppData\\Local\\Packages\\PythonSoftwareFoundation.Python.3.13_qbz5n2kfra8p0\\LocalCache\\local-packages\\Python313\\site-packages\\decorator.py:235\u001b[39m, in \u001b[36mdecorate.<locals>.fun\u001b[39m\u001b[34m(*args, **kw)\u001b[39m\n\u001b[32m    233\u001b[39m \u001b[38;5;28;01mif\u001b[39;00m \u001b[38;5;129;01mnot\u001b[39;00m kwsyntax:\n\u001b[32m    234\u001b[39m     args, kw = fix(args, kw, sig)\n\u001b[32m--> \u001b[39m\u001b[32m235\u001b[39m \u001b[38;5;28;01mreturn\u001b[39;00m \u001b[43mcaller\u001b[49m\u001b[43m(\u001b[49m\u001b[43mfunc\u001b[49m\u001b[43m,\u001b[49m\u001b[43m \u001b[49m\u001b[43m*\u001b[49m\u001b[43m(\u001b[49m\u001b[43mextras\u001b[49m\u001b[43m \u001b[49m\u001b[43m+\u001b[49m\u001b[43m \u001b[49m\u001b[43margs\u001b[49m\u001b[43m)\u001b[49m\u001b[43m,\u001b[49m\u001b[43m \u001b[49m\u001b[43m*\u001b[49m\u001b[43m*\u001b[49m\u001b[43mkw\u001b[49m\u001b[43m)\u001b[49m\n",
      "\u001b[36mFile \u001b[39m\u001b[32m~\\AppData\\Local\\Packages\\PythonSoftwareFoundation.Python.3.13_qbz5n2kfra8p0\\LocalCache\\local-packages\\Python313\\site-packages\\IPython\\core\\formatters.py:282\u001b[39m, in \u001b[36mcatch_format_error\u001b[39m\u001b[34m(method, self, *args, **kwargs)\u001b[39m\n\u001b[32m    280\u001b[39m \u001b[38;5;250m\u001b[39m\u001b[33;03m\"\"\"show traceback on failed format call\"\"\"\u001b[39;00m\n\u001b[32m    281\u001b[39m \u001b[38;5;28;01mtry\u001b[39;00m:\n\u001b[32m--> \u001b[39m\u001b[32m282\u001b[39m     r = \u001b[43mmethod\u001b[49m\u001b[43m(\u001b[49m\u001b[38;5;28;43mself\u001b[39;49m\u001b[43m,\u001b[49m\u001b[43m \u001b[49m\u001b[43m*\u001b[49m\u001b[43margs\u001b[49m\u001b[43m,\u001b[49m\u001b[43m \u001b[49m\u001b[43m*\u001b[49m\u001b[43m*\u001b[49m\u001b[43mkwargs\u001b[49m\u001b[43m)\u001b[49m\n\u001b[32m    283\u001b[39m \u001b[38;5;28;01mexcept\u001b[39;00m \u001b[38;5;167;01mNotImplementedError\u001b[39;00m:\n\u001b[32m    284\u001b[39m     \u001b[38;5;66;03m# don't warn on NotImplementedErrors\u001b[39;00m\n\u001b[32m    285\u001b[39m     \u001b[38;5;28;01mreturn\u001b[39;00m \u001b[38;5;28mself\u001b[39m._check_return(\u001b[38;5;28;01mNone\u001b[39;00m, args[\u001b[32m0\u001b[39m])\n",
      "\u001b[36mFile \u001b[39m\u001b[32m~\\AppData\\Local\\Packages\\PythonSoftwareFoundation.Python.3.13_qbz5n2kfra8p0\\LocalCache\\local-packages\\Python313\\site-packages\\IPython\\core\\formatters.py:402\u001b[39m, in \u001b[36mBaseFormatter.__call__\u001b[39m\u001b[34m(self, obj)\u001b[39m\n\u001b[32m    400\u001b[39m     \u001b[38;5;28;01mpass\u001b[39;00m\n\u001b[32m    401\u001b[39m \u001b[38;5;28;01melse\u001b[39;00m:\n\u001b[32m--> \u001b[39m\u001b[32m402\u001b[39m     \u001b[38;5;28;01mreturn\u001b[39;00m \u001b[43mprinter\u001b[49m\u001b[43m(\u001b[49m\u001b[43mobj\u001b[49m\u001b[43m)\u001b[49m\n\u001b[32m    403\u001b[39m \u001b[38;5;66;03m# Finally look for special method names\u001b[39;00m\n\u001b[32m    404\u001b[39m method = get_real_method(obj, \u001b[38;5;28mself\u001b[39m.print_method)\n",
      "\u001b[36mFile \u001b[39m\u001b[32m~\\AppData\\Local\\Packages\\PythonSoftwareFoundation.Python.3.13_qbz5n2kfra8p0\\LocalCache\\local-packages\\Python313\\site-packages\\IPython\\core\\pylabtools.py:170\u001b[39m, in \u001b[36mprint_figure\u001b[39m\u001b[34m(fig, fmt, bbox_inches, base64, **kwargs)\u001b[39m\n\u001b[32m    167\u001b[39m     \u001b[38;5;28;01mfrom\u001b[39;00m\u001b[38;5;250m \u001b[39m\u001b[34;01mmatplotlib\u001b[39;00m\u001b[34;01m.\u001b[39;00m\u001b[34;01mbackend_bases\u001b[39;00m\u001b[38;5;250m \u001b[39m\u001b[38;5;28;01mimport\u001b[39;00m FigureCanvasBase\n\u001b[32m    168\u001b[39m     FigureCanvasBase(fig)\n\u001b[32m--> \u001b[39m\u001b[32m170\u001b[39m \u001b[43mfig\u001b[49m\u001b[43m.\u001b[49m\u001b[43mcanvas\u001b[49m\u001b[43m.\u001b[49m\u001b[43mprint_figure\u001b[49m\u001b[43m(\u001b[49m\u001b[43mbytes_io\u001b[49m\u001b[43m,\u001b[49m\u001b[43m \u001b[49m\u001b[43m*\u001b[49m\u001b[43m*\u001b[49m\u001b[43mkw\u001b[49m\u001b[43m)\u001b[49m\n\u001b[32m    171\u001b[39m data = bytes_io.getvalue()\n\u001b[32m    172\u001b[39m \u001b[38;5;28;01mif\u001b[39;00m fmt == \u001b[33m'\u001b[39m\u001b[33msvg\u001b[39m\u001b[33m'\u001b[39m:\n",
      "\u001b[36mFile \u001b[39m\u001b[32m~\\AppData\\Local\\Packages\\PythonSoftwareFoundation.Python.3.13_qbz5n2kfra8p0\\LocalCache\\local-packages\\Python313\\site-packages\\matplotlib\\backend_bases.py:2158\u001b[39m, in \u001b[36mFigureCanvasBase.print_figure\u001b[39m\u001b[34m(self, filename, dpi, facecolor, edgecolor, orientation, format, bbox_inches, pad_inches, bbox_extra_artists, backend, **kwargs)\u001b[39m\n\u001b[32m   2156\u001b[39m \u001b[38;5;28;01mif\u001b[39;00m bbox_inches:\n\u001b[32m   2157\u001b[39m     \u001b[38;5;28;01mif\u001b[39;00m bbox_inches == \u001b[33m\"\u001b[39m\u001b[33mtight\u001b[39m\u001b[33m\"\u001b[39m:\n\u001b[32m-> \u001b[39m\u001b[32m2158\u001b[39m         bbox_inches = \u001b[38;5;28;43mself\u001b[39;49m\u001b[43m.\u001b[49m\u001b[43mfigure\u001b[49m\u001b[43m.\u001b[49m\u001b[43mget_tightbbox\u001b[49m\u001b[43m(\u001b[49m\n\u001b[32m   2159\u001b[39m \u001b[43m            \u001b[49m\u001b[43mrenderer\u001b[49m\u001b[43m,\u001b[49m\u001b[43m \u001b[49m\u001b[43mbbox_extra_artists\u001b[49m\u001b[43m=\u001b[49m\u001b[43mbbox_extra_artists\u001b[49m\u001b[43m)\u001b[49m\n\u001b[32m   2160\u001b[39m         \u001b[38;5;28;01mif\u001b[39;00m (\u001b[38;5;28misinstance\u001b[39m(layout_engine, ConstrainedLayoutEngine) \u001b[38;5;129;01mand\u001b[39;00m\n\u001b[32m   2161\u001b[39m                 pad_inches == \u001b[33m\"\u001b[39m\u001b[33mlayout\u001b[39m\u001b[33m\"\u001b[39m):\n\u001b[32m   2162\u001b[39m             h_pad = layout_engine.get()[\u001b[33m\"\u001b[39m\u001b[33mh_pad\u001b[39m\u001b[33m\"\u001b[39m]\n",
      "\u001b[36mFile \u001b[39m\u001b[32m~\\AppData\\Local\\Packages\\PythonSoftwareFoundation.Python.3.13_qbz5n2kfra8p0\\LocalCache\\local-packages\\Python313\\site-packages\\matplotlib\\figure.py:1848\u001b[39m, in \u001b[36mFigureBase.get_tightbbox\u001b[39m\u001b[34m(self, renderer, bbox_extra_artists)\u001b[39m\n\u001b[32m   1844\u001b[39m \u001b[38;5;28;01mif\u001b[39;00m ax.get_visible():\n\u001b[32m   1845\u001b[39m     \u001b[38;5;66;03m# some Axes don't take the bbox_extra_artists kwarg so we\u001b[39;00m\n\u001b[32m   1846\u001b[39m     \u001b[38;5;66;03m# need this conditional....\u001b[39;00m\n\u001b[32m   1847\u001b[39m     \u001b[38;5;28;01mtry\u001b[39;00m:\n\u001b[32m-> \u001b[39m\u001b[32m1848\u001b[39m         bbox = \u001b[43max\u001b[49m\u001b[43m.\u001b[49m\u001b[43mget_tightbbox\u001b[49m\u001b[43m(\u001b[49m\n\u001b[32m   1849\u001b[39m \u001b[43m            \u001b[49m\u001b[43mrenderer\u001b[49m\u001b[43m,\u001b[49m\u001b[43m \u001b[49m\u001b[43mbbox_extra_artists\u001b[49m\u001b[43m=\u001b[49m\u001b[43mbbox_extra_artists\u001b[49m\u001b[43m)\u001b[49m\n\u001b[32m   1850\u001b[39m     \u001b[38;5;28;01mexcept\u001b[39;00m \u001b[38;5;167;01mTypeError\u001b[39;00m:\n\u001b[32m   1851\u001b[39m         bbox = ax.get_tightbbox(renderer)\n",
      "\u001b[36mFile \u001b[39m\u001b[32m~\\AppData\\Local\\Packages\\PythonSoftwareFoundation.Python.3.13_qbz5n2kfra8p0\\LocalCache\\local-packages\\Python313\\site-packages\\matplotlib\\axes\\_base.py:4571\u001b[39m, in \u001b[36m_AxesBase.get_tightbbox\u001b[39m\u001b[34m(self, renderer, call_axes_locator, bbox_extra_artists, for_layout_only)\u001b[39m\n\u001b[32m   4568\u001b[39m     bbox_artists = \u001b[38;5;28mself\u001b[39m.get_default_bbox_extra_artists()\n\u001b[32m   4570\u001b[39m \u001b[38;5;28;01mfor\u001b[39;00m a \u001b[38;5;129;01min\u001b[39;00m bbox_artists:\n\u001b[32m-> \u001b[39m\u001b[32m4571\u001b[39m     bbox = \u001b[43ma\u001b[49m\u001b[43m.\u001b[49m\u001b[43mget_tightbbox\u001b[49m\u001b[43m(\u001b[49m\u001b[43mrenderer\u001b[49m\u001b[43m)\u001b[49m\n\u001b[32m   4572\u001b[39m     \u001b[38;5;28;01mif\u001b[39;00m (bbox \u001b[38;5;129;01mis\u001b[39;00m \u001b[38;5;129;01mnot\u001b[39;00m \u001b[38;5;28;01mNone\u001b[39;00m\n\u001b[32m   4573\u001b[39m             \u001b[38;5;129;01mand\u001b[39;00m \u001b[32m0\u001b[39m < bbox.width < np.inf\n\u001b[32m   4574\u001b[39m             \u001b[38;5;129;01mand\u001b[39;00m \u001b[32m0\u001b[39m < bbox.height < np.inf):\n\u001b[32m   4575\u001b[39m         bb.append(bbox)\n",
      "\u001b[36mFile \u001b[39m\u001b[32m~\\AppData\\Local\\Packages\\PythonSoftwareFoundation.Python.3.13_qbz5n2kfra8p0\\LocalCache\\local-packages\\Python313\\site-packages\\matplotlib\\legend.py:1059\u001b[39m, in \u001b[36mLegend.get_tightbbox\u001b[39m\u001b[34m(self, renderer)\u001b[39m\n\u001b[32m   1057\u001b[39m \u001b[38;5;28;01mdef\u001b[39;00m\u001b[38;5;250m \u001b[39m\u001b[34mget_tightbbox\u001b[39m(\u001b[38;5;28mself\u001b[39m, renderer=\u001b[38;5;28;01mNone\u001b[39;00m):\n\u001b[32m   1058\u001b[39m     \u001b[38;5;66;03m# docstring inherited\u001b[39;00m\n\u001b[32m-> \u001b[39m\u001b[32m1059\u001b[39m     \u001b[38;5;28;01mreturn\u001b[39;00m \u001b[38;5;28;43mself\u001b[39;49m\u001b[43m.\u001b[49m\u001b[43m_legend_box\u001b[49m\u001b[43m.\u001b[49m\u001b[43mget_window_extent\u001b[49m\u001b[43m(\u001b[49m\u001b[43mrenderer\u001b[49m\u001b[43m)\u001b[49m\n",
      "\u001b[36mFile \u001b[39m\u001b[32m~\\AppData\\Local\\Packages\\PythonSoftwareFoundation.Python.3.13_qbz5n2kfra8p0\\LocalCache\\local-packages\\Python313\\site-packages\\matplotlib\\offsetbox.py:367\u001b[39m, in \u001b[36mOffsetBox.get_window_extent\u001b[39m\u001b[34m(self, renderer)\u001b[39m\n\u001b[32m    365\u001b[39m \u001b[38;5;28;01mif\u001b[39;00m renderer \u001b[38;5;129;01mis\u001b[39;00m \u001b[38;5;28;01mNone\u001b[39;00m:\n\u001b[32m    366\u001b[39m     renderer = \u001b[38;5;28mself\u001b[39m.get_figure(root=\u001b[38;5;28;01mTrue\u001b[39;00m)._get_renderer()\n\u001b[32m--> \u001b[39m\u001b[32m367\u001b[39m bbox = \u001b[38;5;28;43mself\u001b[39;49m\u001b[43m.\u001b[49m\u001b[43mget_bbox\u001b[49m\u001b[43m(\u001b[49m\u001b[43mrenderer\u001b[49m\u001b[43m)\u001b[49m\n\u001b[32m    368\u001b[39m \u001b[38;5;28;01mtry\u001b[39;00m:  \u001b[38;5;66;03m# Some subclasses redefine get_offset to take no args.\u001b[39;00m\n\u001b[32m    369\u001b[39m     px, py = \u001b[38;5;28mself\u001b[39m.get_offset(bbox, renderer)\n",
      "\u001b[36mFile \u001b[39m\u001b[32m~\\AppData\\Local\\Packages\\PythonSoftwareFoundation.Python.3.13_qbz5n2kfra8p0\\LocalCache\\local-packages\\Python313\\site-packages\\matplotlib\\offsetbox.py:360\u001b[39m, in \u001b[36mOffsetBox.get_bbox\u001b[39m\u001b[34m(self, renderer)\u001b[39m\n\u001b[32m    358\u001b[39m \u001b[38;5;28;01mdef\u001b[39;00m\u001b[38;5;250m \u001b[39m\u001b[34mget_bbox\u001b[39m(\u001b[38;5;28mself\u001b[39m, renderer):\n\u001b[32m    359\u001b[39m \u001b[38;5;250m    \u001b[39m\u001b[33;03m\"\"\"Return the bbox of the offsetbox, ignoring parent offsets.\"\"\"\u001b[39;00m\n\u001b[32m--> \u001b[39m\u001b[32m360\u001b[39m     bbox, offsets = \u001b[38;5;28;43mself\u001b[39;49m\u001b[43m.\u001b[49m\u001b[43m_get_bbox_and_child_offsets\u001b[49m\u001b[43m(\u001b[49m\u001b[43mrenderer\u001b[49m\u001b[43m)\u001b[49m\n\u001b[32m    361\u001b[39m     \u001b[38;5;28;01mreturn\u001b[39;00m bbox\n",
      "\u001b[36mFile \u001b[39m\u001b[32m~\\AppData\\Local\\Packages\\PythonSoftwareFoundation.Python.3.13_qbz5n2kfra8p0\\LocalCache\\local-packages\\Python313\\site-packages\\matplotlib\\offsetbox.py:460\u001b[39m, in \u001b[36mVPacker._get_bbox_and_child_offsets\u001b[39m\u001b[34m(self, renderer)\u001b[39m\n\u001b[32m    457\u001b[39m         \u001b[38;5;28;01mif\u001b[39;00m \u001b[38;5;28misinstance\u001b[39m(c, PackerBase) \u001b[38;5;129;01mand\u001b[39;00m c.mode == \u001b[33m\"\u001b[39m\u001b[33mexpand\u001b[39m\u001b[33m\"\u001b[39m:\n\u001b[32m    458\u001b[39m             c.set_width(\u001b[38;5;28mself\u001b[39m.width)\n\u001b[32m--> \u001b[39m\u001b[32m460\u001b[39m bboxes = [\u001b[43mc\u001b[49m\u001b[43m.\u001b[49m\u001b[43mget_bbox\u001b[49m\u001b[43m(\u001b[49m\u001b[43mrenderer\u001b[49m\u001b[43m)\u001b[49m \u001b[38;5;28;01mfor\u001b[39;00m c \u001b[38;5;129;01min\u001b[39;00m \u001b[38;5;28mself\u001b[39m.get_visible_children()]\n\u001b[32m    461\u001b[39m (x0, x1), xoffsets = _get_aligned_offsets(\n\u001b[32m    462\u001b[39m     [bbox.intervalx \u001b[38;5;28;01mfor\u001b[39;00m bbox \u001b[38;5;129;01min\u001b[39;00m bboxes], \u001b[38;5;28mself\u001b[39m.width, \u001b[38;5;28mself\u001b[39m.align)\n\u001b[32m    463\u001b[39m height, yoffsets = _get_packed_offsets(\n\u001b[32m    464\u001b[39m     [bbox.height \u001b[38;5;28;01mfor\u001b[39;00m bbox \u001b[38;5;129;01min\u001b[39;00m bboxes], \u001b[38;5;28mself\u001b[39m.height, sep, \u001b[38;5;28mself\u001b[39m.mode)\n",
      "\u001b[36mFile \u001b[39m\u001b[32m~\\AppData\\Local\\Packages\\PythonSoftwareFoundation.Python.3.13_qbz5n2kfra8p0\\LocalCache\\local-packages\\Python313\\site-packages\\matplotlib\\offsetbox.py:360\u001b[39m, in \u001b[36mOffsetBox.get_bbox\u001b[39m\u001b[34m(self, renderer)\u001b[39m\n\u001b[32m    358\u001b[39m \u001b[38;5;28;01mdef\u001b[39;00m\u001b[38;5;250m \u001b[39m\u001b[34mget_bbox\u001b[39m(\u001b[38;5;28mself\u001b[39m, renderer):\n\u001b[32m    359\u001b[39m \u001b[38;5;250m    \u001b[39m\u001b[33;03m\"\"\"Return the bbox of the offsetbox, ignoring parent offsets.\"\"\"\u001b[39;00m\n\u001b[32m--> \u001b[39m\u001b[32m360\u001b[39m     bbox, offsets = \u001b[38;5;28;43mself\u001b[39;49m\u001b[43m.\u001b[49m\u001b[43m_get_bbox_and_child_offsets\u001b[49m\u001b[43m(\u001b[49m\u001b[43mrenderer\u001b[49m\u001b[43m)\u001b[49m\n\u001b[32m    361\u001b[39m     \u001b[38;5;28;01mreturn\u001b[39;00m bbox\n",
      "\u001b[36mFile \u001b[39m\u001b[32m~\\AppData\\Local\\Packages\\PythonSoftwareFoundation.Python.3.13_qbz5n2kfra8p0\\LocalCache\\local-packages\\Python313\\site-packages\\matplotlib\\offsetbox.py:493\u001b[39m, in \u001b[36mHPacker._get_bbox_and_child_offsets\u001b[39m\u001b[34m(self, renderer)\u001b[39m\n\u001b[32m    490\u001b[39m pad = \u001b[38;5;28mself\u001b[39m.pad * dpicor\n\u001b[32m    491\u001b[39m sep = \u001b[38;5;28mself\u001b[39m.sep * dpicor\n\u001b[32m--> \u001b[39m\u001b[32m493\u001b[39m bboxes = [\u001b[43mc\u001b[49m\u001b[43m.\u001b[49m\u001b[43mget_bbox\u001b[49m\u001b[43m(\u001b[49m\u001b[43mrenderer\u001b[49m\u001b[43m)\u001b[49m \u001b[38;5;28;01mfor\u001b[39;00m c \u001b[38;5;129;01min\u001b[39;00m \u001b[38;5;28mself\u001b[39m.get_visible_children()]\n\u001b[32m    494\u001b[39m \u001b[38;5;28;01mif\u001b[39;00m \u001b[38;5;129;01mnot\u001b[39;00m bboxes:\n\u001b[32m    495\u001b[39m     \u001b[38;5;28;01mreturn\u001b[39;00m Bbox.from_bounds(\u001b[32m0\u001b[39m, \u001b[32m0\u001b[39m, \u001b[32m0\u001b[39m, \u001b[32m0\u001b[39m).padded(pad), []\n",
      "\u001b[36mFile \u001b[39m\u001b[32m~\\AppData\\Local\\Packages\\PythonSoftwareFoundation.Python.3.13_qbz5n2kfra8p0\\LocalCache\\local-packages\\Python313\\site-packages\\matplotlib\\offsetbox.py:360\u001b[39m, in \u001b[36mOffsetBox.get_bbox\u001b[39m\u001b[34m(self, renderer)\u001b[39m\n\u001b[32m    358\u001b[39m \u001b[38;5;28;01mdef\u001b[39;00m\u001b[38;5;250m \u001b[39m\u001b[34mget_bbox\u001b[39m(\u001b[38;5;28mself\u001b[39m, renderer):\n\u001b[32m    359\u001b[39m \u001b[38;5;250m    \u001b[39m\u001b[33;03m\"\"\"Return the bbox of the offsetbox, ignoring parent offsets.\"\"\"\u001b[39;00m\n\u001b[32m--> \u001b[39m\u001b[32m360\u001b[39m     bbox, offsets = \u001b[38;5;28;43mself\u001b[39;49m\u001b[43m.\u001b[49m\u001b[43m_get_bbox_and_child_offsets\u001b[49m\u001b[43m(\u001b[49m\u001b[43mrenderer\u001b[49m\u001b[43m)\u001b[49m\n\u001b[32m    361\u001b[39m     \u001b[38;5;28;01mreturn\u001b[39;00m bbox\n",
      "\u001b[36mFile \u001b[39m\u001b[32m~\\AppData\\Local\\Packages\\PythonSoftwareFoundation.Python.3.13_qbz5n2kfra8p0\\LocalCache\\local-packages\\Python313\\site-packages\\matplotlib\\offsetbox.py:460\u001b[39m, in \u001b[36mVPacker._get_bbox_and_child_offsets\u001b[39m\u001b[34m(self, renderer)\u001b[39m\n\u001b[32m    457\u001b[39m         \u001b[38;5;28;01mif\u001b[39;00m \u001b[38;5;28misinstance\u001b[39m(c, PackerBase) \u001b[38;5;129;01mand\u001b[39;00m c.mode == \u001b[33m\"\u001b[39m\u001b[33mexpand\u001b[39m\u001b[33m\"\u001b[39m:\n\u001b[32m    458\u001b[39m             c.set_width(\u001b[38;5;28mself\u001b[39m.width)\n\u001b[32m--> \u001b[39m\u001b[32m460\u001b[39m bboxes = [\u001b[43mc\u001b[49m\u001b[43m.\u001b[49m\u001b[43mget_bbox\u001b[49m\u001b[43m(\u001b[49m\u001b[43mrenderer\u001b[49m\u001b[43m)\u001b[49m \u001b[38;5;28;01mfor\u001b[39;00m c \u001b[38;5;129;01min\u001b[39;00m \u001b[38;5;28mself\u001b[39m.get_visible_children()]\n\u001b[32m    461\u001b[39m (x0, x1), xoffsets = _get_aligned_offsets(\n\u001b[32m    462\u001b[39m     [bbox.intervalx \u001b[38;5;28;01mfor\u001b[39;00m bbox \u001b[38;5;129;01min\u001b[39;00m bboxes], \u001b[38;5;28mself\u001b[39m.width, \u001b[38;5;28mself\u001b[39m.align)\n\u001b[32m    463\u001b[39m height, yoffsets = _get_packed_offsets(\n\u001b[32m    464\u001b[39m     [bbox.height \u001b[38;5;28;01mfor\u001b[39;00m bbox \u001b[38;5;129;01min\u001b[39;00m bboxes], \u001b[38;5;28mself\u001b[39m.height, sep, \u001b[38;5;28mself\u001b[39m.mode)\n",
      "\u001b[36mFile \u001b[39m\u001b[32m~\\AppData\\Local\\Packages\\PythonSoftwareFoundation.Python.3.13_qbz5n2kfra8p0\\LocalCache\\local-packages\\Python313\\site-packages\\matplotlib\\offsetbox.py:360\u001b[39m, in \u001b[36mOffsetBox.get_bbox\u001b[39m\u001b[34m(self, renderer)\u001b[39m\n\u001b[32m    358\u001b[39m \u001b[38;5;28;01mdef\u001b[39;00m\u001b[38;5;250m \u001b[39m\u001b[34mget_bbox\u001b[39m(\u001b[38;5;28mself\u001b[39m, renderer):\n\u001b[32m    359\u001b[39m \u001b[38;5;250m    \u001b[39m\u001b[33;03m\"\"\"Return the bbox of the offsetbox, ignoring parent offsets.\"\"\"\u001b[39;00m\n\u001b[32m--> \u001b[39m\u001b[32m360\u001b[39m     bbox, offsets = \u001b[38;5;28;43mself\u001b[39;49m\u001b[43m.\u001b[49m\u001b[43m_get_bbox_and_child_offsets\u001b[49m\u001b[43m(\u001b[49m\u001b[43mrenderer\u001b[49m\u001b[43m)\u001b[49m\n\u001b[32m    361\u001b[39m     \u001b[38;5;28;01mreturn\u001b[39;00m bbox\n",
      "\u001b[36mFile \u001b[39m\u001b[32m~\\AppData\\Local\\Packages\\PythonSoftwareFoundation.Python.3.13_qbz5n2kfra8p0\\LocalCache\\local-packages\\Python313\\site-packages\\matplotlib\\offsetbox.py:493\u001b[39m, in \u001b[36mHPacker._get_bbox_and_child_offsets\u001b[39m\u001b[34m(self, renderer)\u001b[39m\n\u001b[32m    490\u001b[39m pad = \u001b[38;5;28mself\u001b[39m.pad * dpicor\n\u001b[32m    491\u001b[39m sep = \u001b[38;5;28mself\u001b[39m.sep * dpicor\n\u001b[32m--> \u001b[39m\u001b[32m493\u001b[39m bboxes = [\u001b[43mc\u001b[49m\u001b[43m.\u001b[49m\u001b[43mget_bbox\u001b[49m\u001b[43m(\u001b[49m\u001b[43mrenderer\u001b[49m\u001b[43m)\u001b[49m \u001b[38;5;28;01mfor\u001b[39;00m c \u001b[38;5;129;01min\u001b[39;00m \u001b[38;5;28mself\u001b[39m.get_visible_children()]\n\u001b[32m    494\u001b[39m \u001b[38;5;28;01mif\u001b[39;00m \u001b[38;5;129;01mnot\u001b[39;00m bboxes:\n\u001b[32m    495\u001b[39m     \u001b[38;5;28;01mreturn\u001b[39;00m Bbox.from_bounds(\u001b[32m0\u001b[39m, \u001b[32m0\u001b[39m, \u001b[32m0\u001b[39m, \u001b[32m0\u001b[39m).padded(pad), []\n",
      "\u001b[36mFile \u001b[39m\u001b[32m~\\AppData\\Local\\Packages\\PythonSoftwareFoundation.Python.3.13_qbz5n2kfra8p0\\LocalCache\\local-packages\\Python313\\site-packages\\matplotlib\\offsetbox.py:797\u001b[39m, in \u001b[36mTextArea.get_bbox\u001b[39m\u001b[34m(self, renderer)\u001b[39m\n\u001b[32m    796\u001b[39m \u001b[38;5;28;01mdef\u001b[39;00m\u001b[38;5;250m \u001b[39m\u001b[34mget_bbox\u001b[39m(\u001b[38;5;28mself\u001b[39m, renderer):\n\u001b[32m--> \u001b[39m\u001b[32m797\u001b[39m     _, h_, d_ = \u001b[43mrenderer\u001b[49m\u001b[43m.\u001b[49m\u001b[43mget_text_width_height_descent\u001b[49m\u001b[43m(\u001b[49m\n\u001b[32m    798\u001b[39m \u001b[43m        \u001b[49m\u001b[33;43m\"\u001b[39;49m\u001b[33;43mlp\u001b[39;49m\u001b[33;43m\"\u001b[39;49m\u001b[43m,\u001b[49m\u001b[43m \u001b[49m\u001b[38;5;28;43mself\u001b[39;49m\u001b[43m.\u001b[49m\u001b[43m_text\u001b[49m\u001b[43m.\u001b[49m\u001b[43m_fontproperties\u001b[49m\u001b[43m,\u001b[49m\n\u001b[32m    799\u001b[39m \u001b[43m        \u001b[49m\u001b[43mismath\u001b[49m\u001b[43m=\u001b[49m\u001b[33;43m\"\u001b[39;49m\u001b[33;43mTeX\u001b[39;49m\u001b[33;43m\"\u001b[39;49m\u001b[43m \u001b[49m\u001b[38;5;28;43;01mif\u001b[39;49;00m\u001b[43m \u001b[49m\u001b[38;5;28;43mself\u001b[39;49m\u001b[43m.\u001b[49m\u001b[43m_text\u001b[49m\u001b[43m.\u001b[49m\u001b[43mget_usetex\u001b[49m\u001b[43m(\u001b[49m\u001b[43m)\u001b[49m\u001b[43m \u001b[49m\u001b[38;5;28;43;01melse\u001b[39;49;00m\u001b[43m \u001b[49m\u001b[38;5;28;43;01mFalse\u001b[39;49;00m\u001b[43m)\u001b[49m\n\u001b[32m    801\u001b[39m     bbox, info, yd = \u001b[38;5;28mself\u001b[39m._text._get_layout(renderer)\n\u001b[32m    802\u001b[39m     w, h = bbox.size\n",
      "\u001b[36mFile \u001b[39m\u001b[32m~\\AppData\\Local\\Packages\\PythonSoftwareFoundation.Python.3.13_qbz5n2kfra8p0\\LocalCache\\local-packages\\Python313\\site-packages\\matplotlib\\backends\\backend_agg.py:219\u001b[39m, in \u001b[36mRendererAgg.get_text_width_height_descent\u001b[39m\u001b[34m(self, s, prop, ismath)\u001b[39m\n\u001b[32m    216\u001b[39m     \u001b[38;5;28;01mreturn\u001b[39;00m width, height, descent\n\u001b[32m    218\u001b[39m font = \u001b[38;5;28mself\u001b[39m._prepare_font(prop)\n\u001b[32m--> \u001b[39m\u001b[32m219\u001b[39m \u001b[43mfont\u001b[49m\u001b[43m.\u001b[49m\u001b[43mset_text\u001b[49m\u001b[43m(\u001b[49m\u001b[43ms\u001b[49m\u001b[43m,\u001b[49m\u001b[43m \u001b[49m\u001b[32;43m0.0\u001b[39;49m\u001b[43m,\u001b[49m\u001b[43m \u001b[49m\u001b[43mflags\u001b[49m\u001b[43m=\u001b[49m\u001b[43mget_hinting_flag\u001b[49m\u001b[43m(\u001b[49m\u001b[43m)\u001b[49m\u001b[43m)\u001b[49m\n\u001b[32m    220\u001b[39m w, h = font.get_width_height()  \u001b[38;5;66;03m# width and height of unrotated string\u001b[39;00m\n\u001b[32m    221\u001b[39m d = font.get_descent()\n",
      "\u001b[31mKeyboardInterrupt\u001b[39m: "
     ]
    }
   ],
   "source": [
    "fig, axes = plt.subplots(3, 3, figsize=(20, 15))\n",
    "fig.tight_layout(pad=4)\n",
    "\n",
    "plt.suptitle('Distribution of Numerical Features by Loan Status', fontsize=30, color='navy', backgroundcolor='lightcyan', y=1.03)\n",
    "numerical_columns = train.select_dtypes(include=['float64', 'int64']).columns\n",
    "for i, column in enumerate(numerical_columns):\n",
    "    ax = axes[i // 3, i % 3]\n",
    "    sns.histplot(train, x=column, hue='loan_status', ax=ax, bins=20, edgecolor='black')\n",
    "    ax.set_title(column)\n",
    "    ax.set_xlabel('')\n",
    "    ax.set_ylabel('')\n",
    "\n",
    "for j in range(i + 1, 9):\n",
    "    axes[j // 3, j % 3].set_visible(False)"
   ]
  },
  {
   "cell_type": "markdown",
   "id": "4d70735e-ae8f-4625-81ed-76e1578ed752",
   "metadata": {},
   "source": [
    "- 25"
   ]
  },
  {
   "cell_type": "code",
   "execution_count": null,
   "id": "afac4fc2-8489-4c8a-a9a9-6f434e6ada08",
   "metadata": {
    "execution": {
     "iopub.execute_input": "2024-10-22T12:24:43.823911Z",
     "iopub.status.busy": "2024-10-22T12:24:43.823911Z",
     "iopub.status.idle": "2024-10-22T12:24:47.371237Z",
     "shell.execute_reply": "2024-10-22T12:24:47.371131Z",
     "shell.execute_reply.started": "2024-10-22T12:24:43.823911Z"
    }
   },
   "outputs": [],
   "source": [
    "plt.figure(figsize=(11, 6))\n",
    "sns.set_style('darkgrid')\n",
    "\n",
    "sns.scatterplot(train, x='person_age', y='cb_person_cred_hist_length');\n",
    "sns.regplot(train, x='person_age', y='cb_person_cred_hist_length', scatter=False,\n",
    "            color='red', line_kws={'linestyle': '--', 'linewidth': 1}, label='Regression Line')\n",
    "\n",
    "plt.title('Relationship between Person Age and Credit History Length', color='Chocolate', fontsize=15,\n",
    "          backgroundcolor='wheat', pad=12)\n",
    "plt.xlabel('Person Age', color='Chocolate', fontsize=13)\n",
    "plt.ylabel('Credit History Length', color='Chocolate', fontsize=13)\n",
    "plt.legend();"
   ]
  },
  {
   "cell_type": "markdown",
   "id": "ebf22c90-c9f8-44d2-bd29-d5e89f33f9dd",
   "metadata": {},
   "source": [
    "- 26"
   ]
  },
  {
   "cell_type": "code",
   "execution_count": null,
   "id": "01b2966e-726b-44b8-a9d1-db822c9daf19",
   "metadata": {
    "execution": {
     "iopub.execute_input": "2024-10-22T12:24:47.388208Z",
     "iopub.status.busy": "2024-10-22T12:24:47.387207Z",
     "iopub.status.idle": "2024-10-22T12:24:47.406952Z",
     "shell.execute_reply": "2024-10-22T12:24:47.406952Z",
     "shell.execute_reply.started": "2024-10-22T12:24:47.388208Z"
    }
   },
   "outputs": [],
   "source": [
    "calculation = (train['loan_amnt'] / train['person_income']).round(2)\n",
    "\n",
    "pd.DataFrame({\n",
    "    'person_income'      : train['person_income'],\n",
    "    'loan_amnt'          : train['loan_amnt'],\n",
    "    'loan_percent_income': train['loan_percent_income'],\n",
    "    'calculation'        : calculation\n",
    "}).head(4)"
   ]
  },
  {
   "cell_type": "markdown",
   "id": "4673c5df-b15d-4bd5-9069-d851a95c78a6",
   "metadata": {},
   "source": [
    "### `Section 2` - Removing Irrelevant Columns"
   ]
  },
  {
   "cell_type": "markdown",
   "id": "bb6d74d1-fe88-4761-a989-aa9e891868ee",
   "metadata": {},
   "source": [
    "- 1"
   ]
  },
  {
   "cell_type": "code",
   "execution_count": null,
   "id": "ddf8b255-1aa8-41ee-b927-c8061f4ff788",
   "metadata": {
    "execution": {
     "iopub.execute_input": "2024-10-22T12:24:47.441840Z",
     "iopub.status.busy": "2024-10-22T12:24:47.440841Z",
     "iopub.status.idle": "2024-10-22T12:24:47.451522Z",
     "shell.execute_reply": "2024-10-22T12:24:47.451522Z",
     "shell.execute_reply.started": "2024-10-22T12:24:47.441840Z"
    }
   },
   "outputs": [],
   "source": [
    "train.head(1)"
   ]
  },
  {
   "cell_type": "markdown",
   "id": "f2587b5e-96b0-461b-ace5-dc3eae0c2f15",
   "metadata": {},
   "source": [
    "- 2"
   ]
  },
  {
   "cell_type": "code",
   "execution_count": null,
   "id": "a501d595-ebbd-4100-983e-9f9cc8abd62b",
   "metadata": {
    "execution": {
     "iopub.execute_input": "2024-10-22T12:24:47.467870Z",
     "iopub.status.busy": "2024-10-22T12:24:47.467870Z",
     "iopub.status.idle": "2024-10-22T12:24:47.476788Z",
     "shell.execute_reply": "2024-10-22T12:24:47.476788Z",
     "shell.execute_reply.started": "2024-10-22T12:24:47.467870Z"
    }
   },
   "outputs": [],
   "source": [
    "train = train.drop(columns=['id'])"
   ]
  },
  {
   "cell_type": "markdown",
   "id": "57d1cb28-472a-485d-a4bb-5c0f319d67a2",
   "metadata": {},
   "source": [
    "### `Section 3` - Providing the Necessary Plots and EDA (for each Feature)"
   ]
  },
  {
   "cell_type": "markdown",
   "id": "26bd3a6e-7bde-4972-956c-67bbf1f50cb2",
   "metadata": {},
   "source": [
    "- **Feature 0 - person_age**"
   ]
  },
  {
   "cell_type": "code",
   "execution_count": null,
   "id": "66f2b3cc-6475-4631-9bdb-c0749241e029",
   "metadata": {
    "execution": {
     "iopub.execute_input": "2024-10-22T12:24:47.513912Z",
     "iopub.status.busy": "2024-10-22T12:24:47.512913Z",
     "iopub.status.idle": "2024-10-22T12:24:47.521509Z",
     "shell.execute_reply": "2024-10-22T12:24:47.521243Z",
     "shell.execute_reply.started": "2024-10-22T12:24:47.513912Z"
    }
   },
   "outputs": [],
   "source": [
    "                    # parameters of the function\n",
    "def boxplot_with_stats(data, column, annotation_start = 5, annotation_spacing = 0.5):\n",
    "                    # Parameters Explanation:-\n",
    "                    # data               -> the dataset that we are working on\n",
    "                    # column             -> the specific column that we want to make the boxplot for\n",
    "                    # annotation_start   -> the starting position for annotating on the boxplot\n",
    "                    # annotation_spacing -> the vertical spacing between annotations\n",
    "    \n",
    "    sns.set_style('whitegrid')  # Setting the style of the drawing, to: `white grid`\n",
    "\n",
    "                     # (Width, Height)\n",
    "    plt.figure(figsize=(8, 6))  # Setting the Figure Size\n",
    "\n",
    "    # Creating a boxplot\n",
    "    plt.boxplot(data[column], patch_artist=True)\n",
    "                            # Setting patch_artist to -> True, to fill the box with colors\n",
    "    \n",
    "    # Setting a title\n",
    "    plt.title(f'{column}', fontsize=18, color='navy', backgroundcolor='lightcyan', pad=12)\n",
    "    \n",
    "    # Removing x-axis ticks\n",
    "    plt.xticks([])\n",
    "\n",
    "    # Calculating statistics\n",
    "    mean_value    = data[column].mean()\n",
    "    median_value  = data[column].median()\n",
    "    mode_value    = data[column].mode()[0]\n",
    "    maximum_value = data[column].max()\n",
    "    minimum_value = data[column].min()\n",
    "    range_value   = maximum_value - minimum_value\n",
    "    Q1            = data[column].quantile(0.25)\n",
    "    Q3            = data[column].quantile(0.75)\n",
    "    IQR           = Q3 - Q1 \n",
    "    std_dev       = data[column].std()\n",
    "    variance      = data[column].var()\n",
    "\n",
    "    # Adding mean, median, and mode lines\n",
    "    plt.axhline(mean_value,   color='red',    linestyle='--', label=f'Mean   : {mean_value: .2f}')\n",
    "    plt.axhline(median_value, color='green',  linestyle='-',  label=f'Median: {median_value: .2f}')\n",
    "    plt.axhline(mode_value,   color='orange', linestyle=':',  label=f'Mode   : {mode_value: .2f}') \n",
    "\n",
    "    # Adding text for the different statistics\n",
    "    plt.text(1.60, annotation_start                         , f'      Range : {range_value: .2f}', fontsize=14)\n",
    "    plt.text(1.60, annotation_start - annotation_spacing    , f'      IQR     : {IQR: .2f}'      , fontsize=14)    \n",
    "    plt.text(1.60, annotation_start - 2 * annotation_spacing, f'     Std Dev: {std_dev: .2f}'    , fontsize=14)    \n",
    "    plt.text(1.60, annotation_start - 3 * annotation_spacing, f'    Variance: {variance: .2f}'   , fontsize=14)    \n",
    "    \n",
    "    # Adding a legend, to the drawing\n",
    "    plt.legend(loc=(1.05, 0.5), fontsize=14, title='Summary Statistics')\n",
    "             # loc -> to specify the location of the legend\n",
    "\n",
    "    # Diplaying the current drawing, and showing it (to the screen)\n",
    "    plt.ticklabel_format(style='plain', axis='y')"
   ]
  },
  {
   "cell_type": "code",
   "execution_count": null,
   "id": "d9feaca5-cc52-40d7-8c82-2441e94ccbed",
   "metadata": {
    "execution": {
     "iopub.execute_input": "2024-10-22T12:24:47.522510Z",
     "iopub.status.busy": "2024-10-22T12:24:47.522510Z",
     "iopub.status.idle": "2024-10-22T12:24:47.687171Z",
     "shell.execute_reply": "2024-10-22T12:24:47.687171Z",
     "shell.execute_reply.started": "2024-10-22T12:24:47.522510Z"
    }
   },
   "outputs": [],
   "source": [
    "boxplot_with_stats(train, 'person_age', annotation_start=66, annotation_spacing=7)\n",
    "outlier_age = train[train['person_age'] > 120]\n",
    "\n",
    "for outlier in outlier_age['person_age']:\n",
    "    plt.text(1.01, outlier, '-' * 60 + \" This person's age is above normal\", horizontalalignment='left', color='blue', fontsize=12)"
   ]
  },
  {
   "cell_type": "code",
   "execution_count": null,
   "id": "63c33324-5fdf-4901-be2f-2e3114ba77cd",
   "metadata": {
    "execution": {
     "iopub.execute_input": "2024-10-22T12:24:47.688199Z",
     "iopub.status.busy": "2024-10-22T12:24:47.688199Z",
     "iopub.status.idle": "2024-10-22T12:24:47.692505Z",
     "shell.execute_reply": "2024-10-22T12:24:47.692505Z",
     "shell.execute_reply.started": "2024-10-22T12:24:47.688199Z"
    }
   },
   "outputs": [],
   "source": [
    "train['person_age'].min()"
   ]
  },
  {
   "cell_type": "code",
   "execution_count": null,
   "id": "b661cb10-0f24-457c-bf2f-746ad5eef33c",
   "metadata": {
    "execution": {
     "iopub.execute_input": "2024-10-22T12:24:47.693515Z",
     "iopub.status.busy": "2024-10-22T12:24:47.693515Z",
     "iopub.status.idle": "2024-10-22T12:24:47.702126Z",
     "shell.execute_reply": "2024-10-22T12:24:47.702126Z",
     "shell.execute_reply.started": "2024-10-22T12:24:47.693515Z"
    }
   },
   "outputs": [],
   "source": [
    "train['person_age'].max()"
   ]
  },
  {
   "cell_type": "code",
   "execution_count": null,
   "id": "0678f964-8b70-49f0-acb7-6998b2b33c94",
   "metadata": {
    "execution": {
     "iopub.execute_input": "2024-10-22T12:24:47.703138Z",
     "iopub.status.busy": "2024-10-22T12:24:47.703138Z",
     "iopub.status.idle": "2024-10-22T12:24:47.713529Z",
     "shell.execute_reply": "2024-10-22T12:24:47.713529Z",
     "shell.execute_reply.started": "2024-10-22T12:24:47.703138Z"
    }
   },
   "outputs": [],
   "source": [
    "train[train['person_age'] == 123]"
   ]
  },
  {
   "cell_type": "code",
   "execution_count": null,
   "id": "ba7cda2d-e649-41d5-a641-8cf00950be7b",
   "metadata": {
    "execution": {
     "iopub.execute_input": "2024-10-22T12:24:47.714536Z",
     "iopub.status.busy": "2024-10-22T12:24:47.714536Z",
     "iopub.status.idle": "2024-10-22T12:24:47.980384Z",
     "shell.execute_reply": "2024-10-22T12:24:47.979376Z",
     "shell.execute_reply.started": "2024-10-22T12:24:47.714536Z"
    }
   },
   "outputs": [],
   "source": [
    "sns.set_style('whitegrid')\n",
    "plt.figure(figsize=(10, 6))\n",
    "plt.title('Comparison of Person Age Between Approved and Rejected Loans', fontsize=16, color='navy', \n",
    "          backgroundcolor='lightcyan', pad=20)\n",
    "\n",
    "sns.boxplot(train, x='loan_status', y='person_age', hue='loan_status', palette=['green', 'tomato'])\n",
    "plt.ylabel('Person Age', fontsize=13, color='navy')\n",
    "plt.xlabel('Loan Status', fontsize=13, color='navy')\n",
    "plt.xticks(ticks=[0, 1], labels=['Approved', 'Rejected'], fontsize=12);"
   ]
  },
  {
   "cell_type": "markdown",
   "id": "a6ed883d-94ab-4c1c-a76f-5c46a4548bb5",
   "metadata": {},
   "source": [
    "- **Feature 1 - person_income**"
   ]
  },
  {
   "cell_type": "code",
   "execution_count": null,
   "id": "e89b9113-5f3d-4580-82c6-187c4170326f",
   "metadata": {
    "execution": {
     "iopub.execute_input": "2024-10-22T12:24:47.998552Z",
     "iopub.status.busy": "2024-10-22T12:24:47.998552Z",
     "iopub.status.idle": "2024-10-22T12:24:48.201188Z",
     "shell.execute_reply": "2024-10-22T12:24:48.201188Z",
     "shell.execute_reply.started": "2024-10-22T12:24:47.998552Z"
    }
   },
   "outputs": [
    {
     "data": {
      "image/png": "[encoded data removed]",
      "text/plain": [
       "<Figure size 800x600 with 1 Axes>"
      ]
     },
     "metadata": {},
     "output_type": "display_data"
    }
   ],
   "source": [
    "boxplot_with_stats(train, 'person_income', annotation_start=850_000, annotation_spacing=110_000)\n",
    "min_salary = train['person_income'].min()\n",
    "\n",
    "plt.text(1, min_salary, ' ' * 15 + '-' * 50 + f' Minimum salary is {min_salary:,.0f}', horizontalalignment='left', color='blue', fontsize=12);"
   ]
  },
  {
   "cell_type": "markdown",
   "id": "cfa0fc1f-91f4-412c-a63c-1ebbc84de3e0",
   "metadata": {},
   "source": [
    "- **Feature 2 - person_home_ownership**"
   ]
  },
  {
   "cell_type": "code",
   "execution_count": null,
   "id": "73677661-874e-4076-86c0-0738b7169dca",
   "metadata": {
    "execution": {
     "iopub.execute_input": "2024-10-22T12:24:48.225279Z",
     "iopub.status.busy": "2024-10-22T12:24:48.225279Z",
     "iopub.status.idle": "2024-10-22T12:24:48.230437Z",
     "shell.execute_reply": "2024-10-22T12:24:48.230437Z",
     "shell.execute_reply.started": "2024-10-22T12:24:48.225279Z"
    }
   },
   "outputs": [],
   "source": [
    "def annotate_bars_vertically(ax):\n",
    "    for p in ax.patches:\n",
    "        if p.get_height() > 0:\n",
    "            ax.annotate(f'{int(p.get_height())}',  \n",
    "                        (p.get_x() + p.get_width() / 2., p.get_height()),  \n",
    "                        ha='center', \n",
    "                        va='center',  \n",
    "                        fontsize=10,  \n",
    "                        color='black',  \n",
    "                        xytext=(0, 5),\n",
    "                        textcoords='offset points')"
   ]
  },
  {
   "cell_type": "code",
   "execution_count": null,
   "id": "eb482bc7-f6e8-4e38-a108-5881c6636358",
   "metadata": {
    "execution": {
     "iopub.execute_input": "2024-10-22T12:24:48.232444Z",
     "iopub.status.busy": "2024-10-22T12:24:48.231443Z",
     "iopub.status.idle": "2024-10-22T12:24:48.477507Z",
     "shell.execute_reply": "2024-10-22T12:24:48.477507Z",
     "shell.execute_reply.started": "2024-10-22T12:24:48.232444Z"
    }
   },
   "outputs": [],
   "source": [
    "sns.set_style('ticks')\n",
    "plt.figure(figsize=(8, 5))\n",
    "home_ownership_order = train['person_home_ownership'].value_counts().index\n",
    "ax = sns.countplot(x='person_home_ownership', data=train, hue='person_home_ownership', order=home_ownership_order)\n",
    "annotate_bars_vertically(ax)\n",
    "sns.despine();"
   ]
  },
  {
   "cell_type": "code",
   "execution_count": null,
   "id": "56fd192d-22b0-4408-86d8-bc8f78766b14",
   "metadata": {
    "execution": {
     "iopub.execute_input": "2024-10-22T12:24:48.478516Z",
     "iopub.status.busy": "2024-10-22T12:24:48.478516Z",
     "iopub.status.idle": "2024-10-22T12:24:48.741716Z",
     "shell.execute_reply": "2024-10-22T12:24:48.741716Z",
     "shell.execute_reply.started": "2024-10-22T12:24:48.478516Z"
    }
   },
   "outputs": [],
   "source": [
    "grouped_data = train.groupby(['person_home_ownership', 'loan_status']).size().unstack(fill_value=0)\n",
    "grouped_data = grouped_data.reindex(['RENT', 'MORTGAGE', 'OWN', 'OTHER'])\n",
    "\n",
    "sns.set_style('whitegrid')\n",
    "ax = grouped_data.plot(kind='bar', figsize=(10, 5.5), width=0.8, color=['green', 'tomato'])\n",
    "annotate_bars_vertically(ax)\n",
    "\n",
    "plt.title('Loan Status by Home Ownership', color='navy', fontsize=13)\n",
    "plt.xlabel('Home Ownership', color='navy', fontsize=13)\n",
    "plt.ylabel('Frequency', color='navy', fontsize=13)\n",
    "\n",
    "plt.legend(loc=(1.01, 0.5), title='Loan Status', fontsize=13, title_fontsize=13)\n",
    "plt.xticks(rotation=0);"
   ]
  },
  {
   "cell_type": "markdown",
   "id": "24baafaf-e8bb-4c44-8216-007959d5365b",
   "metadata": {},
   "source": [
    "- **Feature 3 - person_emp_length**"
   ]
  },
  {
   "cell_type": "code",
   "execution_count": null,
   "id": "306549b4-11f4-4544-9136-ba8035da20b0",
   "metadata": {
    "execution": {
     "iopub.execute_input": "2024-10-22T12:24:49.498192Z",
     "iopub.status.busy": "2024-10-22T12:24:49.498192Z",
     "iopub.status.idle": "2024-10-22T12:24:49.679096Z",
     "shell.execute_reply": "2024-10-22T12:24:49.679096Z",
     "shell.execute_reply.started": "2024-10-22T12:24:49.498192Z"
    }
   },
   "outputs": [],
   "source": [
    "boxplot_with_stats(train, 'person_emp_length', annotation_start=55.5, annotation_spacing=8);"
   ]
  },
  {
   "cell_type": "code",
   "execution_count": null,
   "id": "9d3d7d05-07c0-4df8-b7f1-bb13d23a255a",
   "metadata": {
    "execution": {
     "iopub.execute_input": "2024-10-22T12:24:49.680103Z",
     "iopub.status.busy": "2024-10-22T12:24:49.680103Z",
     "iopub.status.idle": "2024-10-22T12:24:49.685531Z",
     "shell.execute_reply": "2024-10-22T12:24:49.685531Z",
     "shell.execute_reply.started": "2024-10-22T12:24:49.680103Z"
    }
   },
   "outputs": [],
   "source": [
    "train['person_emp_length'].max()"
   ]
  },
  {
   "cell_type": "code",
   "execution_count": null,
   "id": "ca4527a4-1199-4be1-9cdb-06421ae33ac5",
   "metadata": {
    "execution": {
     "iopub.execute_input": "2024-10-22T12:24:49.686529Z",
     "iopub.status.busy": "2024-10-22T12:24:49.686529Z",
     "iopub.status.idle": "2024-10-22T12:24:49.699011Z",
     "shell.execute_reply": "2024-10-22T12:24:49.699011Z",
     "shell.execute_reply.started": "2024-10-22T12:24:49.686529Z"
    }
   },
   "outputs": [],
   "source": [
    "invalid_rows = train[train['person_emp_length'] > train['person_age']]\n",
    "invalid_rows"
   ]
  },
  {
   "cell_type": "code",
   "execution_count": null,
   "id": "d38f88e6-45cf-45da-94bf-2bd8aa4d8508",
   "metadata": {
    "execution": {
     "iopub.execute_input": "2024-10-22T12:24:49.700025Z",
     "iopub.status.busy": "2024-10-22T12:24:49.700025Z",
     "iopub.status.idle": "2024-10-22T12:24:49.709018Z",
     "shell.execute_reply": "2024-10-22T12:24:49.708011Z",
     "shell.execute_reply.started": "2024-10-22T12:24:49.700025Z"
    }
   },
   "outputs": [],
   "source": [
    "train = train.drop(invalid_rows.index)"
   ]
  },
  {
   "cell_type": "markdown",
   "id": "72daa66c-3979-4002-80ab-263e01f5e218",
   "metadata": {},
   "source": [
    "- **Feature 4 - loan_intent**"
   ]
  },
  {
   "cell_type": "code",
   "execution_count": null,
   "id": "dcd11856-a581-4faf-a1ab-ce067b1154ed",
   "metadata": {
    "execution": {
     "iopub.execute_input": "2024-10-22T12:24:49.765822Z",
     "iopub.status.busy": "2024-10-22T12:24:49.764822Z",
     "iopub.status.idle": "2024-10-22T12:24:50.048086Z",
     "shell.execute_reply": "2024-10-22T12:24:50.047076Z",
     "shell.execute_reply.started": "2024-10-22T12:24:49.765822Z"
    }
   },
   "outputs": [],
   "source": [
    "sns.set_style('ticks')\n",
    "plt.figure(figsize=(12.5, 5))\n",
    "loan_intent_order = train['loan_intent'].value_counts().index\n",
    "ax = sns.countplot(x='loan_intent', data=train, hue='loan_intent', order=loan_intent_order)\n",
    "annotate_bars_vertically(ax)\n",
    "sns.despine();"
   ]
  },
  {
   "cell_type": "code",
   "execution_count": null,
   "id": "f0cc4d46-e274-4efc-b09f-71135df1f8e3",
   "metadata": {
    "execution": {
     "iopub.execute_input": "2024-10-22T12:24:50.049088Z",
     "iopub.status.busy": "2024-10-22T12:24:50.049088Z",
     "iopub.status.idle": "2024-10-22T12:24:50.294671Z",
     "shell.execute_reply": "2024-10-22T12:24:50.294671Z",
     "shell.execute_reply.started": "2024-10-22T12:24:50.049088Z"
    }
   },
   "outputs": [],
   "source": [
    "grouped_data      = train.groupby(['loan_intent', 'loan_status']).size().unstack(fill_value=0)\n",
    "loan_intent_order = train['loan_intent'].value_counts().index\n",
    "grouped_data      = grouped_data.reindex(loan_intent_order)\n",
    "\n",
    "sns.set_style('whitegrid')\n",
    "ax = grouped_data.plot(kind='bar', figsize=(12.5, 5), width=0.8, color=['green', 'tomato'])\n",
    "annotate_bars_vertically(ax)\n",
    "\n",
    "plt.title('Loan Status by Loan Intent', color='navy', fontsize=13)\n",
    "plt.xlabel('Loan Intent', color='navy', fontsize=13)\n",
    "plt.ylabel('Frequency', color='navy', fontsize=13)\n",
    "\n",
    "plt.legend(loc=(1.01, 0.5), title='Loan Status', fontsize=13, title_fontsize=13)\n",
    "plt.xticks(rotation=0);"
   ]
  },
  {
   "cell_type": "markdown",
   "id": "3bc1bb59-9cc9-401b-ac73-69a1da910f41",
   "metadata": {},
   "source": [
    "- **Feature 5 - loan_grade**"
   ]
  },
  {
   "cell_type": "code",
   "execution_count": null,
   "id": "1baccb20-e741-46e7-8bcf-76aa8092ee9c",
   "metadata": {
    "execution": {
     "iopub.execute_input": "2024-10-22T12:24:50.349019Z",
     "iopub.status.busy": "2024-10-22T12:24:50.348013Z",
     "iopub.status.idle": "2024-10-22T12:24:50.620242Z",
     "shell.execute_reply": "2024-10-22T12:24:50.620242Z",
     "shell.execute_reply.started": "2024-10-22T12:24:50.349019Z"
    }
   },
   "outputs": [],
   "source": [
    "sns.set_style('ticks')\n",
    "plt.figure(figsize=(12.5, 5))\n",
    "loan_grade_order = train['loan_grade'].value_counts().index\n",
    "ax = sns.countplot(x='loan_grade', data=train, hue='loan_grade', order=loan_grade_order)\n",
    "annotate_bars_vertically(ax)\n",
    "sns.despine();"
   ]
  },
  {
   "cell_type": "code",
   "execution_count": null,
   "id": "f58aeea6-64bd-4825-a326-49ffdf4e15c9",
   "metadata": {
    "execution": {
     "iopub.execute_input": "2024-10-22T12:24:50.622329Z",
     "iopub.status.busy": "2024-10-22T12:24:50.621252Z",
     "iopub.status.idle": "2024-10-22T12:24:50.922445Z",
     "shell.execute_reply": "2024-10-22T12:24:50.921439Z",
     "shell.execute_reply.started": "2024-10-22T12:24:50.622329Z"
    }
   },
   "outputs": [],
   "source": [
    "grouped_data      = train.groupby(['loan_grade', 'loan_status']).size().unstack(fill_value=0)\n",
    "loan_grade_order  = train['loan_grade'].value_counts().index\n",
    "grouped_data      = grouped_data.reindex(loan_grade_order)\n",
    "\n",
    "sns.set_style('whitegrid')\n",
    "ax = grouped_data.plot(kind='bar', figsize=(12.5, 5), width=0.8, color=['green', 'tomato'])\n",
    "annotate_bars_vertically(ax)\n",
    "\n",
    "plt.title('Loan Status by Loan Grade', color='navy', fontsize=13)\n",
    "plt.xlabel('Loan Grade', color='navy', fontsize=13)\n",
    "plt.ylabel('Frequency', color='navy', fontsize=13)\n",
    "\n",
    "plt.legend(loc=(1.01, 0.5), title='Loan Status', fontsize=13, title_fontsize=13)\n",
    "plt.xticks(rotation=0);"
   ]
  },
  {
   "cell_type": "markdown",
   "id": "780228ac-5c71-4c35-a052-22121d88a6d0",
   "metadata": {},
   "source": [
    "- **Feature 6 - loan_amnt**"
   ]
  },
  {
   "cell_type": "code",
   "execution_count": null,
   "id": "7ab67189-d994-425e-8c01-1576b47922c2",
   "metadata": {
    "execution": {
     "iopub.execute_input": "2024-10-22T12:24:50.983371Z",
     "iopub.status.busy": "2024-10-22T12:24:50.982372Z",
     "iopub.status.idle": "2024-10-22T12:24:51.148386Z",
     "shell.execute_reply": "2024-10-22T12:24:51.147363Z",
     "shell.execute_reply.started": "2024-10-22T12:24:50.983371Z"
    }
   },
   "outputs": [],
   "source": [
    "boxplot_with_stats(train, 'loan_amnt', annotation_start=16_000, annotation_spacing=2_000);"
   ]
  },
  {
   "cell_type": "code",
   "execution_count": null,
   "id": "5da8a2a5-d9d4-46e1-b1f5-21e6f864d3e6",
   "metadata": {
    "execution": {
     "iopub.execute_input": "2024-10-22T12:24:51.149371Z",
     "iopub.status.busy": "2024-10-22T12:24:51.149371Z",
     "iopub.status.idle": "2024-10-22T12:24:51.413833Z",
     "shell.execute_reply": "2024-10-22T12:24:51.413833Z",
     "shell.execute_reply.started": "2024-10-22T12:24:51.149371Z"
    }
   },
   "outputs": [],
   "source": [
    "sns.set_style('whitegrid')\n",
    "plt.figure(figsize=(9, 6))\n",
    "plt.title('Comparison of Loan Amount Between Approved and Rejected Loans', fontsize=16, color='navy', \n",
    "          backgroundcolor='lightcyan', pad=20)\n",
    "\n",
    "sns.boxplot(train, x='loan_status', y='loan_amnt', hue='loan_status', palette=['green', 'tomato'])\n",
    "plt.ylabel('Loan Amount', fontsize=13, color='navy')\n",
    "plt.xlabel('Loan Status', fontsize=13, color='navy')\n",
    "plt.xticks(ticks=[0, 1], labels=['Approved', 'Rejected'], fontsize=12);"
   ]
  },
  {
   "cell_type": "markdown",
   "id": "0a08823d-e86a-4e5e-8988-4771d98979e3",
   "metadata": {},
   "source": [
    "- **Feature 7 - loan_int_rate**"
   ]
  },
  {
   "cell_type": "code",
   "execution_count": null,
   "id": "52ced3cb-5135-4a30-a8b6-5acbbb22f4fd",
   "metadata": {
    "execution": {
     "iopub.execute_input": "2024-10-22T12:24:51.465871Z",
     "iopub.status.busy": "2024-10-22T12:24:51.464872Z",
     "iopub.status.idle": "2024-10-22T12:24:51.646849Z",
     "shell.execute_reply": "2024-10-22T12:24:51.645728Z",
     "shell.execute_reply.started": "2024-10-22T12:24:51.465871Z"
    }
   },
   "outputs": [],
   "source": [
    "boxplot_with_stats(train, 'loan_int_rate', annotation_start=13.5, annotation_spacing=1);"
   ]
  },
  {
   "cell_type": "code",
   "execution_count": null,
   "id": "ba325cfa-e6f1-448c-968e-fe9de6c7ce7c",
   "metadata": {
    "execution": {
     "iopub.execute_input": "2024-10-22T12:24:51.647849Z",
     "iopub.status.busy": "2024-10-22T12:24:51.647849Z",
     "iopub.status.idle": "2024-10-22T12:24:51.925421Z",
     "shell.execute_reply": "2024-10-22T12:24:51.925421Z",
     "shell.execute_reply.started": "2024-10-22T12:24:51.647849Z"
    }
   },
   "outputs": [],
   "source": [
    "sns.set_style('whitegrid')\n",
    "plt.figure(figsize=(9, 6))\n",
    "plt.title('Comparison of Loan Interest Rate Between Approved and Rejected Loans', fontsize=16, color='navy', \n",
    "          backgroundcolor='lightcyan', pad=20)\n",
    "\n",
    "sns.boxplot(train, x='loan_status', y='loan_int_rate', hue='loan_status', palette=['green', 'tomato'])\n",
    "plt.ylabel('Loan Interest Rate', fontsize=13, color='navy')\n",
    "plt.xlabel('Loan Status', fontsize=13, color='navy')\n",
    "plt.xticks(ticks=[0, 1], labels=['Approved', 'Rejected'], fontsize=12);"
   ]
  },
  {
   "cell_type": "markdown",
   "id": "d6c46702-a461-4551-9249-048a879b0640",
   "metadata": {},
   "source": [
    "- **Feature 8 - loan_percent_income**"
   ]
  },
  {
   "cell_type": "code",
   "execution_count": null,
   "id": "2fe9bf7d-05af-4296-a7b9-36f03a8564c0",
   "metadata": {
    "execution": {
     "iopub.execute_input": "2024-10-22T12:24:51.979053Z",
     "iopub.status.busy": "2024-10-22T12:24:51.979053Z",
     "iopub.status.idle": "2024-10-22T12:24:52.123327Z",
     "shell.execute_reply": "2024-10-22T12:24:52.123327Z",
     "shell.execute_reply.started": "2024-10-22T12:24:51.979053Z"
    }
   },
   "outputs": [],
   "source": [
    "boxplot_with_stats(train, 'loan_percent_income', annotation_start=0.37, annotation_spacing=0.05);"
   ]
  },
  {
   "cell_type": "code",
   "execution_count": null,
   "id": "07711431-754f-459a-ba5a-fe53fbeb4096",
   "metadata": {
    "execution": {
     "iopub.execute_input": "2024-10-22T12:24:52.124333Z",
     "iopub.status.busy": "2024-10-22T12:24:52.124333Z",
     "iopub.status.idle": "2024-10-22T12:24:52.367391Z",
     "shell.execute_reply": "2024-10-22T12:24:52.367391Z",
     "shell.execute_reply.started": "2024-10-22T12:24:52.124333Z"
    }
   },
   "outputs": [],
   "source": [
    "sns.set_style('whitegrid')\n",
    "plt.figure(figsize=(9, 6))\n",
    "plt.title('Comparison of Loan Percent Income Between Approved and Rejected Loans', fontsize=16, color='navy', \n",
    "          backgroundcolor='lightcyan', pad=20)\n",
    "\n",
    "sns.boxplot(train, x='loan_status', y='loan_percent_income', hue='loan_status', palette=['green', 'tomato'])\n",
    "plt.ylabel('Loan Percent Income', fontsize=13, color='navy')\n",
    "plt.xlabel('Loan Status', fontsize=13, color='navy')\n",
    "plt.xticks(ticks=[0, 1], labels=['Approved', 'Rejected'], fontsize=12);"
   ]
  },
  {
   "cell_type": "markdown",
   "id": "05d8675f-7457-4da9-9227-43a9dcc06a52",
   "metadata": {},
   "source": [
    "- **Feature 9 - cb_person_default_on_file**"
   ]
  },
  {
   "cell_type": "code",
   "execution_count": null,
   "id": "10d545ba-3fd7-480f-bff9-550c1e063e36",
   "metadata": {
    "execution": {
     "iopub.execute_input": "2024-10-22T12:24:52.421691Z",
     "iopub.status.busy": "2024-10-22T12:24:52.421691Z",
     "iopub.status.idle": "2024-10-22T12:24:52.505881Z",
     "shell.execute_reply": "2024-10-22T12:24:52.505881Z",
     "shell.execute_reply.started": "2024-10-22T12:24:52.421691Z"
    }
   },
   "outputs": [],
   "source": [
    "train['cb_person_default_on_file'].value_counts().plot(kind='pie',\n",
    "                                                       autopct='%1.1f%%',\n",
    "                                                       startangle=30,\n",
    "                                                       shadow=True,\n",
    "                                                       explode=(0.1, 0.25),\n",
    "                                                       wedgeprops={'edgecolor': 'gray'},\n",
    "                                                       colors=['lightgreen', 'salmon'])\n",
    "plt.axis('equal')\n",
    "plt.ylabel('');"
   ]
  },
  {
   "cell_type": "code",
   "execution_count": null,
   "id": "744ae7a7-bd4f-41ea-ab3c-bafea03f5ab2",
   "metadata": {
    "execution": {
     "iopub.execute_input": "2024-10-22T12:24:52.507888Z",
     "iopub.status.busy": "2024-10-22T12:24:52.506889Z",
     "iopub.status.idle": "2024-10-22T12:24:52.681607Z",
     "shell.execute_reply": "2024-10-22T12:24:52.681607Z",
     "shell.execute_reply.started": "2024-10-22T12:24:52.507888Z"
    }
   },
   "outputs": [],
   "source": [
    "person_default_yes = train[train['cb_person_default_on_file'] == 'Y']['loan_status'].value_counts().sort_index()\n",
    "person_default_no  = train[train['cb_person_default_on_file'] == 'N']['loan_status'].value_counts().sort_index()\n",
    "\n",
    "fig, axes = plt.subplots(1, 2, figsize=(10, 5.5)) \n",
    "\n",
    "wedge, _, _ = axes[0].pie(person_default_yes, labels=['Approved', 'Rejected'], autopct='%1.1f%%', startangle=55,\n",
    "                          colors=['lightgreen', 'salmon'], explode=(0.1, 0.15), shadow=True, \n",
    "                          wedgeprops={'linewidth': 3}, textprops={'fontsize': 12})\n",
    "axes[0].set_title('People with Default History', fontsize=16, color='navy', backgroundcolor='lightgray', y=0.96)\n",
    "\n",
    "for wedge, color in zip(wedge, ['lightgreen', 'red']):\n",
    "    wedge.set_edgecolor(color)\n",
    "\n",
    "wedge, _, _ = axes[1].pie(person_default_no, labels=['Approved', 'Rejected'], autopct='%1.1f%%', startangle=25,\n",
    "                          colors=['lightgreen', 'salmon'], explode=(0.1, 0.25), shadow=True, \n",
    "                          wedgeprops={'linewidth': 3}, textprops={'fontsize': 12})\n",
    "axes[1].set_title('People without Default History', fontsize=16, color='navy', backgroundcolor='lightgray', y=0.96)\n",
    "\n",
    "for wedge, color in zip(wedge, ['lightgreen', 'red']):\n",
    "    wedge.set_edgecolor(color)\n",
    "\n",
    "plt.suptitle('Ratio of Loan Status by Default History', fontsize=16, color='navy', backgroundcolor='lightcyan', y=0.92)\n",
    "plt.tight_layout();"
   ]
  },
  {
   "cell_type": "markdown",
   "id": "d6cf2800-be31-4778-a6a4-1c0dd0d28d42",
   "metadata": {},
   "source": [
    "- **Feature 10 - cb_person_cred_hist_length**"
   ]
  },
  {
   "cell_type": "code",
   "execution_count": null,
   "id": "ce65e028-74ae-45a5-8ed3-16b2dd34a3b9",
   "metadata": {
    "execution": {
     "iopub.execute_input": "2024-10-22T12:24:52.736287Z",
     "iopub.status.busy": "2024-10-22T12:24:52.735287Z",
     "iopub.status.idle": "2024-10-22T12:24:52.894874Z",
     "shell.execute_reply": "2024-10-22T12:24:52.893864Z",
     "shell.execute_reply.started": "2024-10-22T12:24:52.736287Z"
    }
   },
   "outputs": [],
   "source": [
    "boxplot_with_stats(train, 'cb_person_cred_hist_length', annotation_start=14.6, annotation_spacing=1.5);"
   ]
  },
  {
   "cell_type": "markdown",
   "id": "45e3007d-52b2-43f9-9e5a-e6228d672ab8",
   "metadata": {},
   "source": [
    "- **Feature 11 - loan_status**"
   ]
  },
  {
   "cell_type": "code",
   "execution_count": null,
   "id": "c174ba08-580b-43bc-91f3-daa111f3f956",
   "metadata": {
    "execution": {
     "iopub.execute_input": "2024-10-22T12:24:52.943694Z",
     "iopub.status.busy": "2024-10-22T12:24:52.943694Z",
     "iopub.status.idle": "2024-10-22T12:24:53.027904Z",
     "shell.execute_reply": "2024-10-22T12:24:53.027904Z",
     "shell.execute_reply.started": "2024-10-22T12:24:52.943694Z"
    }
   },
   "outputs": [],
   "source": [
    "train['loan_status'].value_counts().plot(kind='pie',\n",
    "                                         autopct='%1.1f%%',\n",
    "                                         startangle=30,\n",
    "                                         shadow=True,\n",
    "                                         explode=(0.1, 0.25),\n",
    "                                         wedgeprops={'edgecolor': 'gray'},\n",
    "                                         colors=['lightgreen', 'salmon'])\n",
    "plt.axis('equal')\n",
    "plt.ylabel('');"
   ]
  },
  {
   "cell_type": "code",
   "execution_count": null,
   "id": "348bad14-a2b9-449f-ba28-e1b0dd3e04ec",
   "metadata": {
    "execution": {
     "iopub.execute_input": "2024-10-22T12:24:53.028911Z",
     "iopub.status.busy": "2024-10-22T12:24:53.028911Z",
     "iopub.status.idle": "2024-10-22T12:24:53.200746Z",
     "shell.execute_reply": "2024-10-22T12:24:53.199733Z",
     "shell.execute_reply.started": "2024-10-22T12:24:53.028911Z"
    }
   },
   "outputs": [],
   "source": [
    "sns.set_style('ticks')\n",
    "ax = sns.countplot(train, x='loan_status', hue='loan_status', legend=False, palette=['lightgreen', 'salmon'])\n",
    "annotate_bars_vertically(ax)\n",
    "sns.despine();"
   ]
  },
  {
   "cell_type": "markdown",
   "id": "e517ca77-6c0f-4bc4-b126-733914296f78",
   "metadata": {},
   "source": [
    "### `Section 4` - Splitting the Data into Training and Testing Sets"
   ]
  },
  {
   "cell_type": "markdown",
   "id": "a09b6495-7015-4ad2-85a4-737bf672c12d",
   "metadata": {},
   "source": [
    "- 1"
   ]
  },
  {
   "cell_type": "code",
   "execution_count": null,
   "id": "d254ca64-7746-4303-9b44-dc125d67eea8",
   "metadata": {
    "execution": {
     "iopub.execute_input": "2024-10-22T12:24:53.427405Z",
     "iopub.status.busy": "2024-10-22T12:24:53.426408Z",
     "iopub.status.idle": "2024-10-22T12:24:53.434042Z",
     "shell.execute_reply": "2024-10-22T12:24:53.433502Z",
     "shell.execute_reply.started": "2024-10-22T12:24:53.427405Z"
    }
   },
   "outputs": [],
   "source": [
    "X = train.drop('loan_status', axis=1)\n",
    "y = train['loan_status']"
   ]
  },
  {
   "cell_type": "markdown",
   "id": "aa93ea50-f6be-44eb-9a11-32d0f119d984",
   "metadata": {},
   "source": [
    "- 2"
   ]
  },
  {
   "cell_type": "code",
   "execution_count": null,
   "id": "14a85739-928a-4d2a-b449-de98d3d67205",
   "metadata": {
    "execution": {
     "iopub.execute_input": "2024-10-22T12:24:53.487334Z",
     "iopub.status.busy": "2024-10-22T12:24:53.487334Z",
     "iopub.status.idle": "2024-10-22T12:24:53.732992Z",
     "shell.execute_reply": "2024-10-22T12:24:53.732992Z",
     "shell.execute_reply.started": "2024-10-22T12:24:53.487334Z"
    }
   },
   "outputs": [],
   "source": [
    "from sklearn.model_selection import train_test_split\n",
    "\n",
    "X_train, X_test, y_train, y_test = train_test_split(X, y, test_size=0.25, random_state=42)"
   ]
  },
  {
   "cell_type": "markdown",
   "id": "68a11559-06bb-4793-a943-9c8934af5aa9",
   "metadata": {},
   "source": [
    "- 3"
   ]
  },
  {
   "cell_type": "code",
   "execution_count": null,
   "id": "9244c14f-1915-418a-b4e0-1183fb13b74b",
   "metadata": {
    "execution": {
     "iopub.execute_input": "2024-10-22T12:24:53.806663Z",
     "iopub.status.busy": "2024-10-22T12:24:53.806663Z",
     "iopub.status.idle": "2024-10-22T12:24:53.812092Z",
     "shell.execute_reply": "2024-10-22T12:24:53.812092Z",
     "shell.execute_reply.started": "2024-10-22T12:24:53.806663Z"
    }
   },
   "outputs": [],
   "source": [
    "X_train.shape, X_test.shape, y_train.shape, y_test.shape"
   ]
  },
  {
   "cell_type": "markdown",
   "id": "952602c4-70ab-4ce6-b23f-6105241e1e0b",
   "metadata": {},
   "source": [
    "### `Section 5` - Encoding Categorical Features"
   ]
  },
  {
   "cell_type": "markdown",
   "id": "e72b3814-e1ef-43c7-baa0-0f35c5a7a421",
   "metadata": {},
   "source": [
    "- 1 - Label Encoding"
   ]
  },
  {
   "cell_type": "code",
   "execution_count": null,
   "id": "af4bb4ee-d09d-4b0b-8666-2ea07145788f",
   "metadata": {
    "execution": {
     "iopub.execute_input": "2024-10-22T12:24:53.918476Z",
     "iopub.status.busy": "2024-10-22T12:24:53.917472Z",
     "iopub.status.idle": "2024-10-22T12:24:53.963884Z",
     "shell.execute_reply": "2024-10-22T12:24:53.963884Z",
     "shell.execute_reply.started": "2024-10-22T12:24:53.918476Z"
    }
   },
   "outputs": [],
   "source": [
    "from sklearn.preprocessing import LabelEncoder\n",
    "\n",
    "X_train_label_encoded = X_train.copy()\n",
    "X_test_label_encoded  = X_test.copy()\n",
    "\n",
    "categorical_cols = X_train.select_dtypes(include='object').columns\n",
    "label_encoder    = LabelEncoder()\n",
    "\n",
    "for col in categorical_cols:\n",
    "    label_encoder.fit(X_train[col])\n",
    "    X_train_label_encoded[col] = label_encoder.transform(X_train[col])\n",
    "    X_test_label_encoded[col]  = label_encoder.transform(X_test[col])\n",
    "\n",
    "X_train_label_encoded.head(3)"
   ]
  },
  {
   "cell_type": "markdown",
   "id": "9cc58738-4ed5-48e1-a160-106628a62810",
   "metadata": {},
   "source": [
    "- 2 - One Hot Encoding"
   ]
  },
  {
   "cell_type": "code",
   "execution_count": null,
   "id": "7da59393-9946-4380-bfa2-c5f775c1f7e3",
   "metadata": {
    "execution": {
     "iopub.execute_input": "2024-10-22T12:24:54.022262Z",
     "iopub.status.busy": "2024-10-22T12:24:54.022262Z",
     "iopub.status.idle": "2024-10-22T12:24:54.063536Z",
     "shell.execute_reply": "2024-10-22T12:24:54.063536Z",
     "shell.execute_reply.started": "2024-10-22T12:24:54.022262Z"
    }
   },
   "outputs": [],
   "source": [
    "X_train_one_hot_encoded = X_train.copy()\n",
    "X_test_one_hot_encoded  = X_test.copy()\n",
    "\n",
    "categorical_cols = X_train.select_dtypes(include='object').columns\n",
    "\n",
    "X_train_one_hot_encoded = pd.get_dummies(X_train_one_hot_encoded, columns=categorical_cols, drop_first=True)\n",
    "X_test_one_hot_encoded  = pd.get_dummies(X_test_one_hot_encoded,  columns=categorical_cols, drop_first=True)\n",
    "X_test_one_hot_encoded  = X_test_one_hot_encoded.reindex(columns=X_train_one_hot_encoded.columns, fill_value=0)\n",
    "\n",
    "X_train_one_hot_encoded.head(3)"
   ]
  },
  {
   "cell_type": "markdown",
   "id": "33abbe6c-2d30-4b7a-b202-bafa7f7ea651",
   "metadata": {},
   "source": [
    "- 3 - Target Encoding"
   ]
  },
  {
   "cell_type": "code",
   "execution_count": null,
   "id": "a4802e84-3249-4e10-b25d-985c66f78c59",
   "metadata": {
    "execution": {
     "iopub.execute_input": "2024-10-22T12:24:54.126279Z",
     "iopub.status.busy": "2024-10-22T12:24:54.126279Z",
     "iopub.status.idle": "2024-10-22T12:24:54.165545Z",
     "shell.execute_reply": "2024-10-22T12:24:54.165545Z",
     "shell.execute_reply.started": "2024-10-22T12:24:54.126279Z"
    }
   },
   "outputs": [],
   "source": [
    "train_data_with_target                = X_train.copy()\n",
    "train_data_with_target['loan_status'] = y_train\n",
    "\n",
    "X_train_target_encoded = X_train.copy()\n",
    "X_test_target_encoded  = X_test.copy()\n",
    "\n",
    "categorical_cols = X_train.select_dtypes(include='object').columns\n",
    "\n",
    "for col in categorical_cols:\n",
    "    means = train_data_with_target.groupby(col)['loan_status'].mean()\n",
    "    \n",
    "    X_train_target_encoded[col] = X_train[col].map(means)\n",
    "    X_test_target_encoded[col]  = X_test[col].map(means)\n",
    "\n",
    "X_train_target_encoded.head(3)"
   ]
  },
  {
   "cell_type": "markdown",
   "id": "85831238-1b1f-449f-8d45-51609a419662",
   "metadata": {},
   "source": [
    "- 4 - Leave One Out Encoding"
   ]
  },
  {
   "cell_type": "code",
   "execution_count": null,
   "id": "445f7543-1904-4813-b347-a4113acaf4d4",
   "metadata": {
    "execution": {
     "iopub.execute_input": "2024-10-22T12:24:54.229606Z",
     "iopub.status.busy": "2024-10-22T12:24:54.229606Z",
     "iopub.status.idle": "2024-10-22T12:24:54.485120Z",
     "shell.execute_reply": "2024-10-22T12:24:54.485120Z",
     "shell.execute_reply.started": "2024-10-22T12:24:54.229606Z"
    }
   },
   "outputs": [],
   "source": [
    "import category_encoders as ce\n",
    "\n",
    "X_train_loo_encoded = X_train.copy()\n",
    "X_test_loo_encoded  = X_test.copy()\n",
    "\n",
    "loo_encoder = ce.LeaveOneOutEncoder(cols=categorical_cols, random_state=42)\n",
    "\n",
    "X_train_loo_encoded = loo_encoder.fit_transform(X_train, y_train)\n",
    "X_test_loo_encoded  = loo_encoder.transform(X_test)\n",
    "\n",
    "X_train_loo_encoded.head(3)"
   ]
  },
  {
   "cell_type": "markdown",
   "id": "e5236132-a3ee-4e56-83cf-2f6f59a07ff7",
   "metadata": {},
   "source": [
    "- 5 - Ordinal Encoding"
   ]
  },
  {
   "cell_type": "code",
   "execution_count": null,
   "id": "108f6907-50ca-40bc-93e5-4c6abe163187",
   "metadata": {
    "execution": {
     "iopub.execute_input": "2024-10-22T12:24:54.560405Z",
     "iopub.status.busy": "2024-10-22T12:24:54.560405Z",
     "iopub.status.idle": "2024-10-22T12:24:54.589682Z",
     "shell.execute_reply": "2024-10-22T12:24:54.589682Z",
     "shell.execute_reply.started": "2024-10-22T12:24:54.560405Z"
    }
   },
   "outputs": [],
   "source": [
    "X_train_ordinal_encoded = X_train.copy()\n",
    "X_test_ordinal_encoded  = X_test.copy()\n",
    "\n",
    "X_train_ordinal_encoded['cb_person_default_on_file'] = X_train_ordinal_encoded['cb_person_default_on_file'].map({'N': 0, \n",
    "                                                                                                                 'Y': 1})\n",
    "X_test_ordinal_encoded['cb_person_default_on_file']  = X_test_ordinal_encoded['cb_person_default_on_file'].map({'N': 0, \n",
    "                                                                                                                'Y': 1})\n",
    "\n",
    "X_train_ordinal_encoded['loan_grade'] = X_train_ordinal_encoded['loan_grade'].map({'A': 0, \n",
    "                                                                                   'B': 1, \n",
    "                                                                                   'C': 2, \n",
    "                                                                                   'D': 3, \n",
    "                                                                                   'E': 4, \n",
    "                                                                                   'F': 5, \n",
    "                                                                                   'G': 6})\n",
    "X_test_ordinal_encoded['loan_grade']  = X_test_ordinal_encoded['loan_grade'].map({'A': 0, \n",
    "                                                                                  'B': 1, \n",
    "                                                                                  'C': 2, \n",
    "                                                                                  'D': 3, \n",
    "                                                                                  'E': 4, \n",
    "                                                                                  'F': 5, \n",
    "                                                                                  'G': 6})\n",
    "\n",
    "X_train_ordinal_encoded['loan_intent'] = X_train_ordinal_encoded['loan_intent'].map({'VENTURE'          : 0, \n",
    "                                                                                     'EDUCATION'        : 1, \n",
    "                                                                                     'PERSONAL'         : 2, \n",
    "                                                                                     'HOMEIMPROVEMENT'  : 3, \n",
    "                                                                                     'MEDICAL'          : 4, \n",
    "                                                                                     'DEBTCONSOLIDATION': 5})\n",
    "X_test_ordinal_encoded['loan_intent']  = X_test_ordinal_encoded['loan_intent'].map({'VENTURE'          : 0, \n",
    "                                                                                    'EDUCATION'        : 1, \n",
    "                                                                                    'PERSONAL'         : 2, \n",
    "                                                                                    'HOMEIMPROVEMENT'  : 3, \n",
    "                                                                                    'MEDICAL'          : 4, \n",
    "                                                                                    'DEBTCONSOLIDATION': 5})\n",
    "\n",
    "X_train_ordinal_encoded['person_home_ownership'] = X_train_ordinal_encoded['person_home_ownership'].map({'OWN': 0, \n",
    "                                                                                                         'MORTGAGE': 1, \n",
    "                                                                                                         'OTHER': 2, \n",
    "                                                                                                         'RENT': 3})\n",
    "X_test_ordinal_encoded['person_home_ownership']  = X_test_ordinal_encoded['person_home_ownership'].map({'OWN': 0, \n",
    "                                                                                                        'MORTGAGE': 1, \n",
    "                                                                                                        'OTHER': 2, \n",
    "                                                                                                        'RENT': 3})\n",
    "\n",
    "X_train_ordinal_encoded.head(3)"
   ]
  },
  {
   "cell_type": "markdown",
   "id": "1e3beba3-f7ff-4e0f-9e48-be97bcb30a1c",
   "metadata": {},
   "source": [
    "- 6 - Mixed Encoding"
   ]
  },
  {
   "cell_type": "code",
   "execution_count": null,
   "id": "95827ef0-9f19-42ab-863f-e1ab7d5dc07c",
   "metadata": {
    "execution": {
     "iopub.execute_input": "2024-10-22T12:24:54.658030Z",
     "iopub.status.busy": "2024-10-22T12:24:54.657034Z",
     "iopub.status.idle": "2024-10-22T12:24:54.696224Z",
     "shell.execute_reply": "2024-10-22T12:24:54.696224Z",
     "shell.execute_reply.started": "2024-10-22T12:24:54.658030Z"
    }
   },
   "outputs": [],
   "source": [
    "X_train_mixed_encoded = X_train.copy()\n",
    "X_test_mixed_encoded  = X_test.copy()\n",
    "\n",
    "X_train_mixed_encoded['cb_person_default_on_file'] = X_train_mixed_encoded['cb_person_default_on_file'].map({'N': 0, 'Y': 1})\n",
    "X_test_mixed_encoded['cb_person_default_on_file']  = X_test_mixed_encoded['cb_person_default_on_file'].map({'N': 0, 'Y': 1})\n",
    "\n",
    "X_train_mixed_encoded['loan_grade'] = X_train_mixed_encoded['loan_grade'].map({'A': 0, 'B': 1, 'C': 2, 'D': 3, 'E': 4, 'F': 5, 'G': 6})\n",
    "X_test_mixed_encoded['loan_grade']  = X_test_mixed_encoded['loan_grade'].map({'A': 0, 'B': 1, 'C': 2, 'D': 3, 'E': 4, 'F': 5, 'G': 6})\n",
    "\n",
    "train_data_with_target                = X_train.copy()\n",
    "train_data_with_target['loan_status'] = y_train\n",
    "\n",
    "remaining_categorical_cols = X_train.select_dtypes(include='object').columns\n",
    "remaining_categorical_cols = remaining_categorical_cols.difference(['cb_person_default_on_file', 'loan_grade'])\n",
    "\n",
    "for col in remaining_categorical_cols:\n",
    "    means                      = train_data_with_target.groupby(col)['loan_status'].mean()\n",
    "    X_train_mixed_encoded[col] = X_train_mixed_encoded[col].map(means)\n",
    "    X_test_mixed_encoded[col]  = X_test_mixed_encoded[col].map(means)\n",
    "\n",
    "X_train_mixed_encoded.head(3)"
   ]
  },
  {
   "cell_type": "markdown",
   "id": "c5ab63ee-b180-47d9-b7ac-cd7bad04aa63",
   "metadata": {},
   "source": [
    "### `Section 6` - Oversampling and Undersampling"
   ]
  },
  {
   "cell_type": "markdown",
   "id": "3553e975-e9e5-41b7-95b7-ca45c38a4546",
   "metadata": {},
   "source": [
    "- 1"
   ]
  },
  {
   "cell_type": "code",
   "execution_count": null,
   "id": "e1e21426-9919-4a2b-8d9f-51180b6fae61",
   "metadata": {
    "execution": {
     "iopub.execute_input": "2024-10-22T12:24:54.822421Z",
     "iopub.status.busy": "2024-10-22T12:24:54.822421Z",
     "iopub.status.idle": "2024-10-22T12:24:54.828330Z",
     "shell.execute_reply": "2024-10-22T12:24:54.828330Z",
     "shell.execute_reply.started": "2024-10-22T12:24:54.822421Z"
    }
   },
   "outputs": [],
   "source": [
    "y_train.value_counts()"
   ]
  },
  {
   "cell_type": "markdown",
   "id": "26f86428-7538-4dfc-853a-e63a7ecd67fe",
   "metadata": {},
   "source": [
    "- 2 - No Sampling"
   ]
  },
  {
   "cell_type": "code",
   "execution_count": null,
   "id": "bec006a4-8948-4d0f-b0ce-21a5083365bb",
   "metadata": {
    "execution": {
     "iopub.execute_input": "2024-10-22T12:24:54.890593Z",
     "iopub.status.busy": "2024-10-22T12:24:54.890593Z",
     "iopub.status.idle": "2024-10-22T12:24:54.896270Z",
     "shell.execute_reply": "2024-10-22T12:24:54.895228Z",
     "shell.execute_reply.started": "2024-10-22T12:24:54.890593Z"
    }
   },
   "outputs": [],
   "source": [
    "X_train_label_encoded_without_sampling = X_train_label_encoded\n",
    "y_train_label_encoded_without_sampling = y_train\n",
    "\n",
    "X_train_one_hot_encoded_without_sampling = X_train_one_hot_encoded\n",
    "y_train_one_hot_encoded_without_sampling = y_train\n",
    "\n",
    "X_train_target_encoded_without_sampling = X_train_target_encoded\n",
    "y_train_target_encoded_without_sampling = y_train\n",
    "\n",
    "X_train_loo_encoded_without_sampling = X_train_loo_encoded\n",
    "y_train_loo_encoded_without_sampling = y_train\n",
    "\n",
    "X_train_ordinal_encoded_without_sampling = X_train_ordinal_encoded\n",
    "y_train_ordinal_encoded_without_sampling = y_train\n",
    "\n",
    "X_train_mixed_encoded_without_sampling = X_train_mixed_encoded\n",
    "y_train_mixed_encoded_without_sampling = y_train"
   ]
  },
  {
   "cell_type": "markdown",
   "id": "95b53d25-18c6-4021-b7ff-b8791b90bb63",
   "metadata": {},
   "source": [
    "- 3 - Random Oversampling"
   ]
  },
  {
   "cell_type": "code",
   "execution_count": null,
   "id": "bd154a90-59b2-4724-adba-169bfb2f6656",
   "metadata": {
    "execution": {
     "iopub.execute_input": "2024-10-22T12:24:54.962741Z",
     "iopub.status.busy": "2024-10-22T12:24:54.961744Z",
     "iopub.status.idle": "2024-10-22T12:24:55.500970Z",
     "shell.execute_reply": "2024-10-22T12:24:55.499961Z",
     "shell.execute_reply.started": "2024-10-22T12:24:54.962741Z"
    }
   },
   "outputs": [],
   "source": [
    "from imblearn.over_sampling import RandomOverSampler\n",
    "\n",
    "random_oversampler = RandomOverSampler(random_state=42)\n",
    "X_train_label_encoded_random_oversampled, y_train_label_encoded_random_oversampled = random_oversampler.fit_resample(\n",
    "    X_train_label_encoded_without_sampling, y_train_label_encoded_without_sampling)\n",
    "\n",
    "X_train_one_hot_encoded_random_oversampled, y_train_one_hot_encoded_random_oversampled = random_oversampler.fit_resample(\n",
    "    X_train_one_hot_encoded_without_sampling, y_train_one_hot_encoded_without_sampling)\n",
    "\n",
    "X_train_target_encoded_random_oversampled, y_train_target_encoded_random_oversampled = random_oversampler.fit_resample(\n",
    "    X_train_target_encoded_without_sampling, y_train_target_encoded_without_sampling)\n",
    "\n",
    "X_train_loo_encoded_random_oversampled, y_train_loo_encoded_random_oversampled = random_oversampler.fit_resample(\n",
    "    X_train_loo_encoded_without_sampling, y_train_loo_encoded_without_sampling)\n",
    "\n",
    "X_train_ordinal_encoded_random_oversampled, y_train_ordinal_encoded_random_oversampled = random_oversampler.fit_resample(\n",
    "    X_train_ordinal_encoded_without_sampling, y_train_ordinal_encoded_without_sampling)\n",
    "\n",
    "X_train_mixed_encoded_random_oversampled, y_train_mixed_encoded_random_oversampled = random_oversampler.fit_resample(\n",
    "    X_train_mixed_encoded_without_sampling, y_train_mixed_encoded_without_sampling)\n",
    "\n",
    "y_train_label_encoded_random_oversampled.value_counts()"
   ]
  },
  {
   "cell_type": "markdown",
   "id": "c2ce3a95-77e2-481b-a36a-801ab83fbfae",
   "metadata": {},
   "source": [
    "- 4 - SMOTE Oversampling"
   ]
  },
  {
   "cell_type": "code",
   "execution_count": null,
   "id": "478533ae-7580-4ef5-bbe4-ecf8f05c3e51",
   "metadata": {
    "execution": {
     "iopub.execute_input": "2024-10-22T12:24:55.591617Z",
     "iopub.status.busy": "2024-10-22T12:24:55.591617Z",
     "iopub.status.idle": "2024-10-22T12:24:56.169279Z",
     "shell.execute_reply": "2024-10-22T12:24:56.168281Z",
     "shell.execute_reply.started": "2024-10-22T12:24:55.591617Z"
    }
   },
   "outputs": [],
   "source": [
    "from imblearn.over_sampling import SMOTE\n",
    "\n",
    "smote_oversampler = SMOTE(random_state=42)\n",
    "X_train_label_encoded_smote_oversampled, y_train_label_encoded_smote_oversampled = smote_oversampler.fit_resample(\n",
    "    X_train_label_encoded_without_sampling, y_train_label_encoded_without_sampling)\n",
    "\n",
    "X_train_one_hot_encoded_smote_oversampled, y_train_one_hot_encoded_smote_oversampled = smote_oversampler.fit_resample(\n",
    "    X_train_one_hot_encoded_without_sampling, y_train_one_hot_encoded_without_sampling)\n",
    "\n",
    "X_train_target_encoded_smote_oversampled, y_train_target_encoded_smote_oversampled = smote_oversampler.fit_resample(\n",
    "    X_train_target_encoded_without_sampling, y_train_target_encoded_without_sampling)\n",
    "\n",
    "X_train_loo_encoded_smote_oversampled, y_train_loo_encoded_smote_oversampled = smote_oversampler.fit_resample(\n",
    "    X_train_loo_encoded_without_sampling, y_train_loo_encoded_without_sampling)\n",
    "\n",
    "X_train_ordinal_encoded_smote_oversampled, y_train_ordinal_encoded_smote_oversampled = smote_oversampler.fit_resample(\n",
    "    X_train_ordinal_encoded_without_sampling, y_train_ordinal_encoded_without_sampling)\n",
    "\n",
    "X_train_mixed_encoded_smote_oversampled, y_train_mixed_encoded_smote_oversampled = smote_oversampler.fit_resample(\n",
    "    X_train_mixed_encoded_without_sampling, y_train_mixed_encoded_without_sampling)\n",
    "\n",
    "y_train_label_encoded_smote_oversampled.value_counts()"
   ]
  },
  {
   "cell_type": "markdown",
   "id": "b0d8edaf-e9a5-4c5e-bc32-aa2c999e52a9",
   "metadata": {},
   "source": [
    "- 5 - Random Undersampling"
   ]
  },
  {
   "cell_type": "code",
   "execution_count": null,
   "id": "4849171e-d8fd-47ec-ba4e-418018fe8b73",
   "metadata": {
    "execution": {
     "iopub.execute_input": "2024-10-22T12:24:56.241418Z",
     "iopub.status.busy": "2024-10-22T12:24:56.240452Z",
     "iopub.status.idle": "2024-10-22T12:24:56.298445Z",
     "shell.execute_reply": "2024-10-22T12:24:56.297391Z",
     "shell.execute_reply.started": "2024-10-22T12:24:56.241418Z"
    }
   },
   "outputs": [],
   "source": [
    "from imblearn.under_sampling import RandomUnderSampler\n",
    "\n",
    "random_undersampler = RandomUnderSampler(random_state=42)\n",
    "X_train_label_encoded_random_undersampled, y_train_label_encoded_random_undersampled = random_undersampler.fit_resample(\n",
    "    X_train_label_encoded_without_sampling, y_train_label_encoded_without_sampling)\n",
    "\n",
    "X_train_one_hot_encoded_random_undersampled, y_train_one_hot_encoded_random_undersampled = random_undersampler.fit_resample(\n",
    "    X_train_one_hot_encoded_without_sampling, y_train_one_hot_encoded_without_sampling)\n",
    "\n",
    "X_train_target_encoded_random_undersampled, y_train_target_encoded_random_undersampled = random_undersampler.fit_resample(\n",
    "    X_train_target_encoded_without_sampling, y_train_target_encoded_without_sampling)\n",
    "\n",
    "X_train_loo_encoded_random_undersampled, y_train_loo_encoded_random_undersampled = random_undersampler.fit_resample(\n",
    "    X_train_loo_encoded_without_sampling, y_train_loo_encoded_without_sampling)\n",
    "\n",
    "X_train_ordinal_encoded_random_undersampled, y_train_ordinal_encoded_random_undersampled = random_undersampler.fit_resample(\n",
    "    X_train_ordinal_encoded_without_sampling, y_train_ordinal_encoded_without_sampling)\n",
    "\n",
    "X_train_mixed_encoded_random_undersampled, y_train_mixed_encoded_random_undersampled = random_undersampler.fit_resample(\n",
    "    X_train_mixed_encoded_without_sampling, y_train_mixed_encoded_without_sampling)\n",
    "\n",
    "y_train_label_encoded_random_undersampled.value_counts()"
   ]
  },
  {
   "cell_type": "markdown",
   "id": "0ee7abcb-7b9c-4967-86fc-5ebdfd1ae255",
   "metadata": {},
   "source": [
    "- 6 - Tomek Links Undersampling"
   ]
  },
  {
   "cell_type": "code",
   "execution_count": null,
   "id": "ee282024-c7c4-4433-977a-dffc28464ac9",
   "metadata": {
    "execution": {
     "iopub.execute_input": "2024-10-22T12:24:56.372702Z",
     "iopub.status.busy": "2024-10-22T12:24:56.372702Z",
     "iopub.status.idle": "2024-10-22T12:25:00.977166Z",
     "shell.execute_reply": "2024-10-22T12:25:00.976160Z",
     "shell.execute_reply.started": "2024-10-22T12:24:56.372702Z"
    }
   },
   "outputs": [],
   "source": [
    "from imblearn.under_sampling import TomekLinks\n",
    "\n",
    "tomeklinks_undersampler = TomekLinks(sampling_strategy='majority')\n",
    "X_train_label_encoded_tomeklinks_undersampled, y_train_label_encoded_tomeklinks_undersampled = tomeklinks_undersampler.fit_resample(\n",
    "    X_train_label_encoded_without_sampling, y_train_label_encoded_without_sampling)\n",
    "\n",
    "X_train_one_hot_encoded_tomeklinks_undersampled, y_train_one_hot_encoded_tomeklinks_undersampled = tomeklinks_undersampler.fit_resample(\n",
    "    X_train_one_hot_encoded_without_sampling, y_train_one_hot_encoded_without_sampling)\n",
    "\n",
    "X_train_target_encoded_tomeklinks_undersampled, y_train_target_encoded_tomeklinks_undersampled = tomeklinks_undersampler.fit_resample(\n",
    "    X_train_target_encoded_without_sampling, y_train_target_encoded_without_sampling)\n",
    "\n",
    "X_train_loo_encoded_tomeklinks_undersampled, y_train_loo_encoded_tomeklinks_undersampled = tomeklinks_undersampler.fit_resample(\n",
    "    X_train_loo_encoded_without_sampling, y_train_loo_encoded_without_sampling)\n",
    "\n",
    "X_train_ordinal_encoded_tomeklinks_undersampled, y_train_ordinal_encoded_tomeklinks_undersampled = tomeklinks_undersampler.fit_resample(\n",
    "    X_train_ordinal_encoded_without_sampling, y_train_ordinal_encoded_without_sampling)\n",
    "\n",
    "X_train_mixed_encoded_tomeklinks_undersampled, y_train_mixed_encoded_tomeklinks_undersampled = tomeklinks_undersampler.fit_resample(\n",
    "    X_train_mixed_encoded_without_sampling, y_train_mixed_encoded_without_sampling)\n",
    "\n",
    "y_train_label_encoded_tomeklinks_undersampled.value_counts()"
   ]
  },
  {
   "cell_type": "markdown",
   "id": "b67b4ef6-50da-41c8-9ae6-dca8ed5d1cbb",
   "metadata": {},
   "source": [
    "### `Section 7` - Feature Scaling"
   ]
  },
  {
   "cell_type": "markdown",
   "id": "f25324eb-b899-4188-98a2-df051de4a64f",
   "metadata": {},
   "source": [
    "- 1 - No Scaling"
   ]
  },
  {
   "cell_type": "code",
   "execution_count": null,
   "id": "903dff05-8669-41db-bef1-53d70e09cba8",
   "metadata": {
    "execution": {
     "iopub.execute_input": "2024-10-22T12:25:01.227869Z",
     "iopub.status.busy": "2024-10-22T12:25:01.227869Z",
     "iopub.status.idle": "2024-10-22T12:25:01.235152Z",
     "shell.execute_reply": "2024-10-22T12:25:01.235152Z",
     "shell.execute_reply.started": "2024-10-22T12:25:01.227869Z"
    }
   },
   "outputs": [],
   "source": [
    "# 1. Without Sampling\n",
    "X_train_label_encoded_no_Scaling = X_train_label_encoded_without_sampling\n",
    "X_test_label_encoded_no_Scaling  = X_test_label_encoded\n",
    "\n",
    "X_train_one_hot_encoded_no_Scaling = X_train_one_hot_encoded_without_sampling\n",
    "X_test_one_hot_encoded_no_Scaling  = X_test_one_hot_encoded\n",
    "\n",
    "X_train_target_encoded_no_Scaling = X_train_target_encoded_without_sampling\n",
    "X_test_target_encoded_no_Scaling  = X_test_target_encoded\n",
    "\n",
    "X_train_loo_encoded_no_Scaling = X_train_loo_encoded_without_sampling\n",
    "X_test_loo_encoded_no_Scaling  = X_test_loo_encoded\n",
    "\n",
    "X_train_ordinal_encoded_no_Scaling = X_train_ordinal_encoded_without_sampling\n",
    "X_test_ordinal_encoded_no_Scaling  = X_test_ordinal_encoded\n",
    "\n",
    "X_train_mixed_encoded_no_Scaling = X_train_mixed_encoded_without_sampling\n",
    "X_test_mixed_encoded_no_Scaling  = X_test_mixed_encoded\n",
    "\n",
    "# 2. Random Oversampled\n",
    "X_train_label_encoded_random_oversampled_no_Scaling = X_train_label_encoded_random_oversampled\n",
    "X_test_label_encoded_random_oversampled_no_Scaling  = X_test_label_encoded\n",
    "\n",
    "X_train_one_hot_encoded_random_oversampled_no_Scaling = X_train_one_hot_encoded_random_oversampled\n",
    "X_test_one_hot_encoded_random_oversampled_no_Scaling  = X_test_one_hot_encoded\n",
    "\n",
    "X_train_target_encoded_random_oversampled_no_Scaling = X_train_target_encoded_random_oversampled\n",
    "X_test_target_encoded_random_oversampled_no_Scaling  = X_test_target_encoded\n",
    "\n",
    "X_train_loo_encoded_random_oversampled_no_Scaling = X_train_loo_encoded_random_oversampled\n",
    "X_test_loo_encoded_random_oversampled_no_Scaling  = X_test_loo_encoded\n",
    "\n",
    "X_train_ordinal_encoded_random_oversampled_no_Scaling = X_train_ordinal_encoded_random_oversampled\n",
    "X_test_ordinal_encoded_random_oversampled_no_Scaling  = X_test_ordinal_encoded\n",
    "\n",
    "X_train_mixed_encoded_random_oversampled_no_Scaling = X_train_mixed_encoded_random_oversampled\n",
    "X_test_mixed_encoded_random_oversampled_no_Scaling  = X_test_mixed_encoded\n",
    "\n",
    "# 3. SMOTE Oversampled\n",
    "X_train_label_encoded_smote_oversampled_no_Scaling = X_train_label_encoded_smote_oversampled\n",
    "X_test_label_encoded_smote_oversampled_no_Scaling  = X_test_label_encoded\n",
    "\n",
    "X_train_one_hot_encoded_smote_oversampled_no_Scaling = X_train_one_hot_encoded_smote_oversampled\n",
    "X_test_one_hot_encoded_smote_oversampled_no_Scaling  = X_test_one_hot_encoded\n",
    "\n",
    "X_train_target_encoded_smote_oversampled_no_Scaling = X_train_target_encoded_smote_oversampled\n",
    "X_test_target_encoded_smote_oversampled_no_Scaling  = X_test_target_encoded\n",
    "\n",
    "X_train_loo_encoded_smote_oversampled_no_Scaling = X_train_loo_encoded_smote_oversampled\n",
    "X_test_loo_encoded_smote_oversampled_no_Scaling  = X_test_loo_encoded\n",
    "\n",
    "X_train_ordinal_encoded_smote_oversampled_no_Scaling = X_train_ordinal_encoded_smote_oversampled\n",
    "X_test_ordinal_encoded_smote_oversampled_no_Scaling  = X_test_ordinal_encoded\n",
    "\n",
    "X_train_mixed_encoded_smote_oversampled_no_Scaling = X_train_mixed_encoded_smote_oversampled\n",
    "X_test_mixed_encoded_smote_oversampled_no_Scaling  = X_test_mixed_encoded\n",
    "\n",
    "# 4. Random Undersampled\n",
    "X_train_label_encoded_random_undersampled_no_Scaling = X_train_label_encoded_random_undersampled\n",
    "X_test_label_encoded_random_undersampled_no_Scaling  = X_test_label_encoded\n",
    "\n",
    "X_train_one_hot_encoded_random_undersampled_no_Scaling = X_train_one_hot_encoded_random_undersampled\n",
    "X_test_one_hot_encoded_random_undersampled_no_Scaling  = X_test_one_hot_encoded\n",
    "\n",
    "X_train_target_encoded_random_undersampled_no_Scaling = X_train_target_encoded_random_undersampled\n",
    "X_test_target_encoded_random_undersampled_no_Scaling  = X_test_target_encoded\n",
    "\n",
    "X_train_loo_encoded_random_undersampled_no_Scaling = X_train_loo_encoded_random_undersampled\n",
    "X_test_loo_encoded_random_undersampled_no_Scaling  = X_test_loo_encoded\n",
    "\n",
    "X_train_ordinal_encoded_random_undersampled_no_Scaling = X_train_ordinal_encoded_random_undersampled\n",
    "X_test_ordinal_encoded_random_undersampled_no_Scaling  = X_test_ordinal_encoded\n",
    "\n",
    "X_train_mixed_encoded_random_undersampled_no_Scaling = X_train_mixed_encoded_random_undersampled\n",
    "X_test_mixed_encoded_random_undersampled_no_Scaling  = X_test_mixed_encoded\n",
    "\n",
    "# 5. TomekLinks Undersampled\n",
    "X_train_label_encoded_tomeklinks_undersampled_no_Scaling = X_train_label_encoded_tomeklinks_undersampled\n",
    "X_test_label_encoded_tomeklinks_undersampled_no_Scaling  = X_test_label_encoded\n",
    "\n",
    "X_train_one_hot_encoded_tomeklinks_undersampled_no_Scaling = X_train_one_hot_encoded_tomeklinks_undersampled\n",
    "X_test_one_hot_encoded_tomeklinks_undersampled_no_Scaling  = X_test_one_hot_encoded\n",
    "\n",
    "X_train_target_encoded_tomeklinks_undersampled_no_Scaling = X_train_target_encoded_tomeklinks_undersampled\n",
    "X_test_target_encoded_tomeklinks_undersampled_no_Scaling  = X_test_target_encoded\n",
    "\n",
    "X_train_loo_encoded_tomeklinks_undersampled_no_Scaling = X_train_loo_encoded_tomeklinks_undersampled\n",
    "X_test_loo_encoded_tomeklinks_undersampled_no_Scaling  = X_test_loo_encoded\n",
    "\n",
    "X_train_ordinal_encoded_tomeklinks_undersampled_no_Scaling = X_train_ordinal_encoded_tomeklinks_undersampled\n",
    "X_test_ordinal_encoded_tomeklinks_undersampled_no_Scaling  = X_test_ordinal_encoded\n",
    "\n",
    "X_train_mixed_encoded_tomeklinks_undersampled_no_Scaling = X_train_mixed_encoded_tomeklinks_undersampled\n",
    "X_test_mixed_encoded_tomeklinks_undersampled_no_Scaling  = X_test_mixed_encoded"
   ]
  },
  {
   "cell_type": "markdown",
   "id": "0dbf1641-f36a-4b59-9469-60548b8c176b",
   "metadata": {},
   "source": [
    "- 2 - MinMax Scaling"
   ]
  },
  {
   "cell_type": "code",
   "execution_count": null,
   "id": "b2ed7c9a-04e0-497b-ab08-a9ac5eb2dd51",
   "metadata": {
    "execution": {
     "iopub.execute_input": "2024-10-22T12:25:01.339819Z",
     "iopub.status.busy": "2024-10-22T12:25:01.339819Z",
     "iopub.status.idle": "2024-10-22T12:25:01.804012Z",
     "shell.execute_reply": "2024-10-22T12:25:01.802959Z",
     "shell.execute_reply.started": "2024-10-22T12:25:01.339819Z"
    }
   },
   "outputs": [],
   "source": [
    "from sklearn.preprocessing import MinMaxScaler\n",
    "\n",
    "numeric_columns = [\n",
    "    'person_age',\n",
    "    'person_income',\n",
    "    'person_emp_length',\n",
    "    'loan_amnt',\n",
    "    'loan_int_rate',\n",
    "    'loan_percent_income',\n",
    "    'cb_person_cred_hist_length'\n",
    "]\n",
    "\n",
    "# 1. Without Sampling\n",
    "scaler_without_sampling                       = MinMaxScaler()\n",
    "X_train_label_encoded_MinMax                  = X_train_label_encoded_without_sampling.copy()\n",
    "X_test_label_encoded_MinMax                   = X_test_label_encoded.copy()\n",
    "X_train_label_encoded_MinMax[numeric_columns] = scaler_without_sampling.fit_transform(X_train_label_encoded_without_sampling[numeric_columns])\n",
    "X_test_label_encoded_MinMax[numeric_columns]  = scaler_without_sampling.transform(X_test_label_encoded[numeric_columns])\n",
    "\n",
    "X_train_one_hot_encoded_MinMax                  = X_train_one_hot_encoded_without_sampling.copy()\n",
    "X_test_one_hot_encoded_MinMax                   = X_test_one_hot_encoded.copy()\n",
    "X_train_one_hot_encoded_MinMax[numeric_columns] = scaler_without_sampling.fit_transform(X_train_one_hot_encoded_without_sampling[numeric_columns])\n",
    "X_test_one_hot_encoded_MinMax[numeric_columns]  = scaler_without_sampling.transform(X_test_one_hot_encoded[numeric_columns])\n",
    "\n",
    "X_train_target_encoded_MinMax                  = X_train_target_encoded_without_sampling.copy()\n",
    "X_test_target_encoded_MinMax                   = X_test_target_encoded.copy()\n",
    "X_train_target_encoded_MinMax[numeric_columns] = scaler_without_sampling.fit_transform(X_train_target_encoded_without_sampling[numeric_columns])\n",
    "X_test_target_encoded_MinMax[numeric_columns]  = scaler_without_sampling.transform(X_test_target_encoded[numeric_columns])\n",
    "\n",
    "X_train_loo_encoded_MinMax                  = X_train_loo_encoded_without_sampling.copy()\n",
    "X_test_loo_encoded_MinMax                   = X_test_loo_encoded.copy()\n",
    "X_train_loo_encoded_MinMax[numeric_columns] = scaler_without_sampling.fit_transform(X_train_loo_encoded_without_sampling[numeric_columns])\n",
    "X_test_loo_encoded_MinMax[numeric_columns]  = scaler_without_sampling.transform(X_test_loo_encoded[numeric_columns])\n",
    "\n",
    "X_train_ordinal_encoded_MinMax                  = X_train_ordinal_encoded_without_sampling.copy()\n",
    "X_test_ordinal_encoded_MinMax                   = X_test_ordinal_encoded.copy()\n",
    "X_train_ordinal_encoded_MinMax[numeric_columns] = scaler_without_sampling.fit_transform(X_train_ordinal_encoded_without_sampling[numeric_columns])\n",
    "X_test_ordinal_encoded_MinMax[numeric_columns]  = scaler_without_sampling.transform(X_test_ordinal_encoded[numeric_columns])\n",
    "\n",
    "X_train_mixed_encoded_MinMax                  = X_train_mixed_encoded_without_sampling.copy()\n",
    "X_test_mixed_encoded_MinMax                   = X_test_mixed_encoded.copy()\n",
    "X_train_mixed_encoded_MinMax[numeric_columns] = scaler_without_sampling.fit_transform(X_train_mixed_encoded_without_sampling[numeric_columns])\n",
    "X_test_mixed_encoded_MinMax[numeric_columns]  = scaler_without_sampling.transform(X_test_mixed_encoded[numeric_columns])\n",
    "\n",
    "# 2. Random Oversampled\n",
    "scaler_random_oversampled                                        = MinMaxScaler()\n",
    "X_train_label_encoded_random_oversampled_MinMax                  = X_train_label_encoded_random_oversampled.copy()\n",
    "X_test_label_encoded_random_oversampled_MinMax                   = X_test_label_encoded.copy()\n",
    "X_train_label_encoded_random_oversampled_MinMax[numeric_columns] = scaler_random_oversampled.fit_transform(X_train_label_encoded_random_oversampled[numeric_columns])\n",
    "X_test_label_encoded_random_oversampled_MinMax[numeric_columns]  = scaler_random_oversampled.transform(X_test_label_encoded[numeric_columns])\n",
    "\n",
    "X_train_one_hot_encoded_random_oversampled_MinMax                  = X_train_one_hot_encoded_random_oversampled.copy()\n",
    "X_test_one_hot_encoded_random_oversampled_MinMax                   = X_test_one_hot_encoded.copy()\n",
    "X_train_one_hot_encoded_random_oversampled_MinMax[numeric_columns] = scaler_random_oversampled.fit_transform(X_train_one_hot_encoded_random_oversampled[numeric_columns])\n",
    "X_test_one_hot_encoded_random_oversampled_MinMax[numeric_columns]  = scaler_random_oversampled.transform(X_test_one_hot_encoded[numeric_columns])\n",
    "\n",
    "X_train_target_encoded_random_oversampled_MinMax                  = X_train_target_encoded_random_oversampled.copy()\n",
    "X_test_target_encoded_random_oversampled_MinMax                   = X_test_target_encoded.copy()\n",
    "X_train_target_encoded_random_oversampled_MinMax[numeric_columns] = scaler_random_oversampled.fit_transform(X_train_target_encoded_random_oversampled[numeric_columns])\n",
    "X_test_target_encoded_random_oversampled_MinMax[numeric_columns]  = scaler_random_oversampled.transform(X_test_target_encoded[numeric_columns])\n",
    "\n",
    "X_train_loo_encoded_random_oversampled_MinMax                  = X_train_loo_encoded_random_oversampled.copy()\n",
    "X_test_loo_encoded_random_oversampled_MinMax                   = X_test_loo_encoded.copy()\n",
    "X_train_loo_encoded_random_oversampled_MinMax[numeric_columns] = scaler_random_oversampled.fit_transform(X_train_loo_encoded_random_oversampled[numeric_columns])\n",
    "X_test_loo_encoded_random_oversampled_MinMax[numeric_columns]  = scaler_random_oversampled.transform(X_test_loo_encoded[numeric_columns])\n",
    "\n",
    "X_train_ordinal_encoded_random_oversampled_MinMax                  = X_train_ordinal_encoded_random_oversampled.copy()\n",
    "X_test_ordinal_encoded_random_oversampled_MinMax                   = X_test_ordinal_encoded.copy()\n",
    "X_train_ordinal_encoded_random_oversampled_MinMax[numeric_columns] = scaler_random_oversampled.fit_transform(X_train_ordinal_encoded_random_oversampled[numeric_columns])\n",
    "X_test_ordinal_encoded_random_oversampled_MinMax[numeric_columns]  = scaler_random_oversampled.transform(X_test_ordinal_encoded[numeric_columns])\n",
    "\n",
    "X_train_mixed_encoded_random_oversampled_MinMax                  = X_train_mixed_encoded_random_oversampled.copy()\n",
    "X_test_mixed_encoded_random_oversampled_MinMax                   = X_test_mixed_encoded.copy()\n",
    "X_train_mixed_encoded_random_oversampled_MinMax[numeric_columns] = scaler_random_oversampled.fit_transform(X_train_mixed_encoded_random_oversampled[numeric_columns])\n",
    "X_test_mixed_encoded_random_oversampled_MinMax[numeric_columns]  = scaler_random_oversampled.transform(X_test_mixed_encoded[numeric_columns])\n",
    "\n",
    "# 3. SMOTE Oversampled\n",
    "scaler_smote_oversampled                                        = MinMaxScaler()\n",
    "X_train_label_encoded_smote_oversampled_MinMax                  = X_train_label_encoded_smote_oversampled.copy()\n",
    "X_test_label_encoded_smote_oversampled_MinMax                   = X_test_label_encoded.copy()\n",
    "X_train_label_encoded_smote_oversampled_MinMax[numeric_columns] = scaler_smote_oversampled.fit_transform(X_train_label_encoded_smote_oversampled[numeric_columns])\n",
    "X_test_label_encoded_smote_oversampled_MinMax[numeric_columns]  = scaler_smote_oversampled.transform(X_test_label_encoded[numeric_columns])\n",
    "\n",
    "X_train_one_hot_encoded_smote_oversampled_MinMax                  = X_train_one_hot_encoded_smote_oversampled.copy()\n",
    "X_test_one_hot_encoded_smote_oversampled_MinMax                   = X_test_one_hot_encoded.copy()\n",
    "X_train_one_hot_encoded_smote_oversampled_MinMax[numeric_columns] = scaler_smote_oversampled.fit_transform(X_train_one_hot_encoded_smote_oversampled[numeric_columns])\n",
    "X_test_one_hot_encoded_smote_oversampled_MinMax[numeric_columns]  = scaler_smote_oversampled.transform(X_test_one_hot_encoded[numeric_columns])\n",
    "\n",
    "X_train_target_encoded_smote_oversampled_MinMax                  = X_train_target_encoded_smote_oversampled.copy()\n",
    "X_test_target_encoded_smote_oversampled_MinMax                   = X_test_target_encoded.copy()\n",
    "X_train_target_encoded_smote_oversampled_MinMax[numeric_columns] = scaler_smote_oversampled.fit_transform(X_train_target_encoded_smote_oversampled[numeric_columns])\n",
    "X_test_target_encoded_smote_oversampled_MinMax[numeric_columns]  = scaler_smote_oversampled.transform(X_test_target_encoded[numeric_columns])\n",
    "\n",
    "X_train_loo_encoded_smote_oversampled_MinMax                  = X_train_loo_encoded_smote_oversampled.copy()\n",
    "X_test_loo_encoded_smote_oversampled_MinMax                   = X_test_loo_encoded.copy()\n",
    "X_train_loo_encoded_smote_oversampled_MinMax[numeric_columns] = scaler_smote_oversampled.fit_transform(X_train_loo_encoded_smote_oversampled[numeric_columns])\n",
    "X_test_loo_encoded_smote_oversampled_MinMax[numeric_columns]  = scaler_smote_oversampled.transform(X_test_loo_encoded[numeric_columns])\n",
    "\n",
    "X_train_ordinal_encoded_smote_oversampled_MinMax                  = X_train_ordinal_encoded_smote_oversampled.copy()\n",
    "X_test_ordinal_encoded_smote_oversampled_MinMax                   = X_test_ordinal_encoded.copy()\n",
    "X_train_ordinal_encoded_smote_oversampled_MinMax[numeric_columns] = scaler_smote_oversampled.fit_transform(X_train_ordinal_encoded_smote_oversampled[numeric_columns])\n",
    "X_test_ordinal_encoded_smote_oversampled_MinMax[numeric_columns]  = scaler_smote_oversampled.transform(X_test_ordinal_encoded[numeric_columns])\n",
    "\n",
    "X_train_mixed_encoded_smote_oversampled_MinMax                  = X_train_mixed_encoded_smote_oversampled.copy()\n",
    "X_test_mixed_encoded_smote_oversampled_MinMax                   = X_test_mixed_encoded.copy()\n",
    "X_train_mixed_encoded_smote_oversampled_MinMax[numeric_columns] = scaler_smote_oversampled.fit_transform(X_train_mixed_encoded_smote_oversampled[numeric_columns])\n",
    "X_test_mixed_encoded_smote_oversampled_MinMax[numeric_columns]  = scaler_smote_oversampled.transform(X_test_mixed_encoded[numeric_columns])\n",
    "\n",
    "# 4. Random Undersampled\n",
    "scaler_random_undersampled                                        = MinMaxScaler()\n",
    "X_train_label_encoded_random_undersampled_MinMax                  = X_train_label_encoded_random_undersampled.copy()\n",
    "X_test_label_encoded_random_undersampled_MinMax                   = X_test_label_encoded.copy()\n",
    "X_train_label_encoded_random_undersampled_MinMax[numeric_columns] = scaler_random_undersampled.fit_transform(X_train_label_encoded_random_undersampled[numeric_columns])\n",
    "X_test_label_encoded_random_undersampled_MinMax[numeric_columns]  = scaler_random_undersampled.transform(X_test_label_encoded[numeric_columns])\n",
    "\n",
    "X_train_one_hot_encoded_random_undersampled_MinMax                  = X_train_one_hot_encoded_random_undersampled.copy()\n",
    "X_test_one_hot_encoded_random_undersampled_MinMax                   = X_test_one_hot_encoded.copy()\n",
    "X_train_one_hot_encoded_random_undersampled_MinMax[numeric_columns] = scaler_random_undersampled.fit_transform(X_train_one_hot_encoded_random_undersampled[numeric_columns])\n",
    "X_test_one_hot_encoded_random_undersampled_MinMax[numeric_columns]  = scaler_random_undersampled.transform(X_test_one_hot_encoded[numeric_columns])\n",
    "\n",
    "X_train_target_encoded_random_undersampled_MinMax                  = X_train_target_encoded_random_undersampled.copy()\n",
    "X_test_target_encoded_random_undersampled_MinMax                   = X_test_target_encoded.copy()\n",
    "X_train_target_encoded_random_undersampled_MinMax[numeric_columns] = scaler_random_undersampled.fit_transform(X_train_target_encoded_random_undersampled[numeric_columns])\n",
    "X_test_target_encoded_random_undersampled_MinMax[numeric_columns]  = scaler_random_undersampled.transform(X_test_target_encoded[numeric_columns])\n",
    "\n",
    "X_train_loo_encoded_random_undersampled_MinMax                  = X_train_loo_encoded_random_undersampled.copy()\n",
    "X_test_loo_encoded_random_undersampled_MinMax                   = X_test_loo_encoded.copy()\n",
    "X_train_loo_encoded_random_undersampled_MinMax[numeric_columns] = scaler_random_undersampled.fit_transform(X_train_loo_encoded_random_undersampled[numeric_columns])\n",
    "X_test_loo_encoded_random_undersampled_MinMax[numeric_columns]  = scaler_random_undersampled.transform(X_test_loo_encoded[numeric_columns])\n",
    "\n",
    "X_train_ordinal_encoded_random_undersampled_MinMax                  = X_train_ordinal_encoded_random_undersampled.copy()\n",
    "X_test_ordinal_encoded_random_undersampled_MinMax                   = X_test_ordinal_encoded.copy()\n",
    "X_train_ordinal_encoded_random_undersampled_MinMax[numeric_columns] = scaler_random_undersampled.fit_transform(X_train_ordinal_encoded_random_undersampled[numeric_columns])\n",
    "X_test_ordinal_encoded_random_undersampled_MinMax[numeric_columns]  = scaler_random_undersampled.transform(X_test_ordinal_encoded[numeric_columns])\n",
    "\n",
    "X_train_mixed_encoded_random_undersampled_MinMax                  = X_train_mixed_encoded_random_undersampled.copy()\n",
    "X_test_mixed_encoded_random_undersampled_MinMax                   = X_test_mixed_encoded.copy()\n",
    "X_train_mixed_encoded_random_undersampled_MinMax[numeric_columns] = scaler_random_undersampled.fit_transform(X_train_mixed_encoded_random_undersampled[numeric_columns])\n",
    "X_test_mixed_encoded_random_undersampled_MinMax[numeric_columns]  = scaler_random_undersampled.transform(X_test_mixed_encoded[numeric_columns])\n",
    "\n",
    "# 5. TomekLinks Undersampled\n",
    "scaler_tomeklinks_undersampled                                        = MinMaxScaler()\n",
    "X_train_label_encoded_tomeklinks_undersampled_MinMax                  = X_train_label_encoded_tomeklinks_undersampled.copy()\n",
    "X_test_label_encoded_tomeklinks_undersampled_MinMax                   = X_test_label_encoded.copy()\n",
    "X_train_label_encoded_tomeklinks_undersampled_MinMax[numeric_columns] = scaler_tomeklinks_undersampled.fit_transform(X_train_label_encoded_tomeklinks_undersampled[numeric_columns])\n",
    "X_test_label_encoded_tomeklinks_undersampled_MinMax[numeric_columns]  = scaler_tomeklinks_undersampled.transform(X_test_label_encoded[numeric_columns])\n",
    "\n",
    "X_train_one_hot_encoded_tomeklinks_undersampled_MinMax                  = X_train_one_hot_encoded_tomeklinks_undersampled.copy()\n",
    "X_test_one_hot_encoded_tomeklinks_undersampled_MinMax                   = X_test_one_hot_encoded.copy()\n",
    "X_train_one_hot_encoded_tomeklinks_undersampled_MinMax[numeric_columns] = scaler_tomeklinks_undersampled.fit_transform(X_train_one_hot_encoded_tomeklinks_undersampled[numeric_columns])\n",
    "X_test_one_hot_encoded_tomeklinks_undersampled_MinMax[numeric_columns]  = scaler_tomeklinks_undersampled.transform(X_test_one_hot_encoded[numeric_columns])\n",
    "\n",
    "X_train_target_encoded_tomeklinks_undersampled_MinMax                  = X_train_target_encoded_tomeklinks_undersampled.copy()\n",
    "X_test_target_encoded_tomeklinks_undersampled_MinMax                   = X_test_target_encoded.copy()\n",
    "X_train_target_encoded_tomeklinks_undersampled_MinMax[numeric_columns] = scaler_tomeklinks_undersampled.fit_transform(X_train_target_encoded_tomeklinks_undersampled[numeric_columns])\n",
    "X_test_target_encoded_tomeklinks_undersampled_MinMax[numeric_columns]  = scaler_tomeklinks_undersampled.transform(X_test_target_encoded[numeric_columns])\n",
    "\n",
    "X_train_loo_encoded_tomeklinks_undersampled_MinMax                  = X_train_loo_encoded_tomeklinks_undersampled.copy()\n",
    "X_test_loo_encoded_tomeklinks_undersampled_MinMax                   = X_test_loo_encoded.copy()\n",
    "X_train_loo_encoded_tomeklinks_undersampled_MinMax[numeric_columns] = scaler_tomeklinks_undersampled.fit_transform(X_train_loo_encoded_tomeklinks_undersampled[numeric_columns])\n",
    "X_test_loo_encoded_tomeklinks_undersampled_MinMax[numeric_columns]  = scaler_tomeklinks_undersampled.transform(X_test_loo_encoded[numeric_columns])\n",
    "\n",
    "X_train_ordinal_encoded_tomeklinks_undersampled_MinMax                  = X_train_ordinal_encoded_tomeklinks_undersampled.copy()\n",
    "X_test_ordinal_encoded_tomeklinks_undersampled_MinMax                   = X_test_ordinal_encoded.copy()\n",
    "X_train_ordinal_encoded_tomeklinks_undersampled_MinMax[numeric_columns] = scaler_tomeklinks_undersampled.fit_transform(X_train_ordinal_encoded_tomeklinks_undersampled[numeric_columns])\n",
    "X_test_ordinal_encoded_tomeklinks_undersampled_MinMax[numeric_columns]  = scaler_tomeklinks_undersampled.transform(X_test_ordinal_encoded[numeric_columns])\n",
    "\n",
    "X_train_mixed_encoded_tomeklinks_undersampled_MinMax                  = X_train_mixed_encoded_tomeklinks_undersampled.copy()\n",
    "X_test_mixed_encoded_tomeklinks_undersampled_MinMax                   = X_test_mixed_encoded.copy()\n",
    "X_train_mixed_encoded_tomeklinks_undersampled_MinMax[numeric_columns] = scaler_tomeklinks_undersampled.fit_transform(X_train_mixed_encoded_tomeklinks_undersampled[numeric_columns])\n",
    "X_test_mixed_encoded_tomeklinks_undersampled_MinMax[numeric_columns]  = scaler_tomeklinks_undersampled.transform(X_test_mixed_encoded[numeric_columns])"
   ]
  },
  {
   "cell_type": "markdown",
   "id": "3ad5a3f1-9ad6-4e51-89e0-b743acce1ca8",
   "metadata": {},
   "source": [
    "- 3 - Standard Scaling"
   ]
  },
  {
   "cell_type": "code",
   "execution_count": null,
   "id": "f31db231-86c1-4d78-8ac7-a88dc2ba2cd4",
   "metadata": {
    "execution": {
     "iopub.execute_input": "2024-10-22T12:25:01.964271Z",
     "iopub.status.busy": "2024-10-22T12:25:01.964271Z",
     "iopub.status.idle": "2024-10-22T12:25:02.474581Z",
     "shell.execute_reply": "2024-10-22T12:25:02.474581Z",
     "shell.execute_reply.started": "2024-10-22T12:25:01.964271Z"
    }
   },
   "outputs": [],
   "source": [
    "from sklearn.preprocessing import StandardScaler\n",
    "\n",
    "# 1. Without Sampling\n",
    "scaler_without_sampling                         = StandardScaler()\n",
    "X_train_label_encoded_Standard                  = X_train_label_encoded_without_sampling.copy()\n",
    "X_test_label_encoded_Standard                   = X_test_label_encoded.copy()\n",
    "X_train_label_encoded_Standard[numeric_columns] = scaler_without_sampling.fit_transform(X_train_label_encoded_without_sampling[numeric_columns])\n",
    "X_test_label_encoded_Standard[numeric_columns]  = scaler_without_sampling.transform(X_test_label_encoded[numeric_columns])\n",
    "\n",
    "X_train_one_hot_encoded_Standard                  = X_train_one_hot_encoded_without_sampling.copy()\n",
    "X_test_one_hot_encoded_Standard                   = X_test_one_hot_encoded.copy()\n",
    "X_train_one_hot_encoded_Standard[numeric_columns] = scaler_without_sampling.fit_transform(X_train_one_hot_encoded_without_sampling[numeric_columns])\n",
    "X_test_one_hot_encoded_Standard[numeric_columns]  = scaler_without_sampling.transform(X_test_one_hot_encoded[numeric_columns])\n",
    "\n",
    "X_train_target_encoded_Standard                  = X_train_target_encoded_without_sampling.copy()\n",
    "X_test_target_encoded_Standard                   = X_test_target_encoded.copy()\n",
    "X_train_target_encoded_Standard[numeric_columns] = scaler_without_sampling.fit_transform(X_train_target_encoded_without_sampling[numeric_columns])\n",
    "X_test_target_encoded_Standard[numeric_columns]  = scaler_without_sampling.transform(X_test_target_encoded[numeric_columns])\n",
    "\n",
    "X_train_loo_encoded_Standard                  = X_train_loo_encoded_without_sampling.copy()\n",
    "X_test_loo_encoded_Standard                   = X_test_loo_encoded.copy()\n",
    "X_train_loo_encoded_Standard[numeric_columns] = scaler_without_sampling.fit_transform(X_train_loo_encoded_without_sampling[numeric_columns])\n",
    "X_test_loo_encoded_Standard[numeric_columns]  = scaler_without_sampling.transform(X_test_loo_encoded[numeric_columns])\n",
    "\n",
    "X_train_ordinal_encoded_Standard                  = X_train_ordinal_encoded_without_sampling.copy()\n",
    "X_test_ordinal_encoded_Standard                   = X_test_ordinal_encoded.copy()\n",
    "X_train_ordinal_encoded_Standard[numeric_columns] = scaler_without_sampling.fit_transform(X_train_ordinal_encoded_without_sampling[numeric_columns])\n",
    "X_test_ordinal_encoded_Standard[numeric_columns]  = scaler_without_sampling.transform(X_test_ordinal_encoded[numeric_columns])\n",
    "\n",
    "X_train_mixed_encoded_Standard                  = X_train_mixed_encoded_without_sampling.copy()\n",
    "X_test_mixed_encoded_Standard                   = X_test_mixed_encoded.copy()\n",
    "X_train_mixed_encoded_Standard[numeric_columns] = scaler_without_sampling.fit_transform(X_train_mixed_encoded_without_sampling[numeric_columns])\n",
    "X_test_mixed_encoded_Standard[numeric_columns]  = scaler_without_sampling.transform(X_test_mixed_encoded[numeric_columns])\n",
    "\n",
    "# 2. Random Oversampled\n",
    "scaler_random_oversampled                                          = StandardScaler()\n",
    "X_train_label_encoded_random_oversampled_Standard                  = X_train_label_encoded_random_oversampled.copy()\n",
    "X_test_label_encoded_random_oversampled_Standard                   = X_test_label_encoded.copy()\n",
    "X_train_label_encoded_random_oversampled_Standard[numeric_columns] = scaler_random_oversampled.fit_transform(X_train_label_encoded_random_oversampled[numeric_columns])\n",
    "X_test_label_encoded_random_oversampled_Standard[numeric_columns]  = scaler_random_oversampled.transform(X_test_label_encoded[numeric_columns])\n",
    "\n",
    "X_train_one_hot_encoded_random_oversampled_Standard                  = X_train_one_hot_encoded_random_oversampled.copy()\n",
    "X_test_one_hot_encoded_random_oversampled_Standard                   = X_test_one_hot_encoded.copy()\n",
    "X_train_one_hot_encoded_random_oversampled_Standard[numeric_columns] = scaler_random_oversampled.fit_transform(X_train_one_hot_encoded_random_oversampled[numeric_columns])\n",
    "X_test_one_hot_encoded_random_oversampled_Standard[numeric_columns]  = scaler_random_oversampled.transform(X_test_one_hot_encoded[numeric_columns])\n",
    "\n",
    "X_train_target_encoded_random_oversampled_Standard                  = X_train_target_encoded_random_oversampled.copy()\n",
    "X_test_target_encoded_random_oversampled_Standard                   = X_test_target_encoded.copy()\n",
    "X_train_target_encoded_random_oversampled_Standard[numeric_columns] = scaler_random_oversampled.fit_transform(X_train_target_encoded_random_oversampled[numeric_columns])\n",
    "X_test_target_encoded_random_oversampled_Standard[numeric_columns]  = scaler_random_oversampled.transform(X_test_target_encoded[numeric_columns])\n",
    "\n",
    "X_train_loo_encoded_random_oversampled_Standard                  = X_train_loo_encoded_random_oversampled.copy()\n",
    "X_test_loo_encoded_random_oversampled_Standard                   = X_test_loo_encoded.copy()\n",
    "X_train_loo_encoded_random_oversampled_Standard[numeric_columns] = scaler_random_oversampled.fit_transform(X_train_loo_encoded_random_oversampled[numeric_columns])\n",
    "X_test_loo_encoded_random_oversampled_Standard[numeric_columns]  = scaler_random_oversampled.transform(X_test_loo_encoded[numeric_columns])\n",
    "\n",
    "X_train_ordinal_encoded_random_oversampled_Standard                  = X_train_ordinal_encoded_random_oversampled.copy()\n",
    "X_test_ordinal_encoded_random_oversampled_Standard                   = X_test_ordinal_encoded.copy()\n",
    "X_train_ordinal_encoded_random_oversampled_Standard[numeric_columns] = scaler_random_oversampled.fit_transform(X_train_ordinal_encoded_random_oversampled[numeric_columns])\n",
    "X_test_ordinal_encoded_random_oversampled_Standard[numeric_columns]  = scaler_random_oversampled.transform(X_test_ordinal_encoded[numeric_columns])\n",
    "\n",
    "X_train_mixed_encoded_random_oversampled_Standard                  = X_train_mixed_encoded_random_oversampled.copy()\n",
    "X_test_mixed_encoded_random_oversampled_Standard                   = X_test_mixed_encoded.copy()\n",
    "X_train_mixed_encoded_random_oversampled_Standard[numeric_columns] = scaler_random_oversampled.fit_transform(X_train_mixed_encoded_random_oversampled[numeric_columns])\n",
    "X_test_mixed_encoded_random_oversampled_Standard[numeric_columns]  = scaler_random_oversampled.transform(X_test_mixed_encoded[numeric_columns])\n",
    "\n",
    "# 3. SMOTE Oversampled\n",
    "scaler_smote_oversampled                                          = StandardScaler()\n",
    "X_train_label_encoded_smote_oversampled_Standard                  = X_train_label_encoded_smote_oversampled.copy()\n",
    "X_test_label_encoded_smote_oversampled_Standard                   = X_test_label_encoded.copy()\n",
    "X_train_label_encoded_smote_oversampled_Standard[numeric_columns] = scaler_smote_oversampled.fit_transform(X_train_label_encoded_smote_oversampled[numeric_columns])\n",
    "X_test_label_encoded_smote_oversampled_Standard[numeric_columns]  = scaler_smote_oversampled.transform(X_test_label_encoded[numeric_columns])\n",
    "\n",
    "X_train_one_hot_encoded_smote_oversampled_Standard                  = X_train_one_hot_encoded_smote_oversampled.copy()\n",
    "X_test_one_hot_encoded_smote_oversampled_Standard                   = X_test_one_hot_encoded.copy()\n",
    "X_train_one_hot_encoded_smote_oversampled_Standard[numeric_columns] = scaler_smote_oversampled.fit_transform(X_train_one_hot_encoded_smote_oversampled[numeric_columns])\n",
    "X_test_one_hot_encoded_smote_oversampled_Standard[numeric_columns]  = scaler_smote_oversampled.transform(X_test_one_hot_encoded[numeric_columns])\n",
    "\n",
    "X_train_target_encoded_smote_oversampled_Standard                  = X_train_target_encoded_smote_oversampled.copy()\n",
    "X_test_target_encoded_smote_oversampled_Standard                   = X_test_target_encoded.copy()\n",
    "X_train_target_encoded_smote_oversampled_Standard[numeric_columns] = scaler_smote_oversampled.fit_transform(X_train_target_encoded_smote_oversampled[numeric_columns])\n",
    "X_test_target_encoded_smote_oversampled_Standard[numeric_columns]  = scaler_smote_oversampled.transform(X_test_target_encoded[numeric_columns])\n",
    "\n",
    "X_train_loo_encoded_smote_oversampled_Standard                  = X_train_loo_encoded_smote_oversampled.copy()\n",
    "X_test_loo_encoded_smote_oversampled_Standard                   = X_test_loo_encoded.copy()\n",
    "X_train_loo_encoded_smote_oversampled_Standard[numeric_columns] = scaler_smote_oversampled.fit_transform(X_train_loo_encoded_smote_oversampled[numeric_columns])\n",
    "X_test_loo_encoded_smote_oversampled_Standard[numeric_columns]  = scaler_smote_oversampled.transform(X_test_loo_encoded[numeric_columns])\n",
    "\n",
    "X_train_ordinal_encoded_smote_oversampled_Standard                  = X_train_ordinal_encoded_smote_oversampled.copy()\n",
    "X_test_ordinal_encoded_smote_oversampled_Standard                   = X_test_ordinal_encoded.copy()\n",
    "X_train_ordinal_encoded_smote_oversampled_Standard[numeric_columns] = scaler_smote_oversampled.fit_transform(X_train_ordinal_encoded_smote_oversampled[numeric_columns])\n",
    "X_test_ordinal_encoded_smote_oversampled_Standard[numeric_columns]  = scaler_smote_oversampled.transform(X_test_ordinal_encoded[numeric_columns])\n",
    "\n",
    "X_train_mixed_encoded_smote_oversampled_Standard                  = X_train_mixed_encoded_smote_oversampled.copy()\n",
    "X_test_mixed_encoded_smote_oversampled_Standard                   = X_test_mixed_encoded.copy()\n",
    "X_train_mixed_encoded_smote_oversampled_Standard[numeric_columns] = scaler_smote_oversampled.fit_transform(X_train_mixed_encoded_smote_oversampled[numeric_columns])\n",
    "X_test_mixed_encoded_smote_oversampled_Standard[numeric_columns]  = scaler_smote_oversampled.transform(X_test_mixed_encoded[numeric_columns])\n",
    "\n",
    "# 4. Random Undersampled\n",
    "scaler_random_undersampled                                          = StandardScaler()\n",
    "X_train_label_encoded_random_undersampled_Standard                  = X_train_label_encoded_random_undersampled.copy()\n",
    "X_test_label_encoded_random_undersampled_Standard                   = X_test_label_encoded.copy()\n",
    "X_train_label_encoded_random_undersampled_Standard[numeric_columns] = scaler_random_undersampled.fit_transform(X_train_label_encoded_random_undersampled[numeric_columns])\n",
    "X_test_label_encoded_random_undersampled_Standard[numeric_columns]  = scaler_random_undersampled.transform(X_test_label_encoded[numeric_columns])\n",
    "\n",
    "X_train_one_hot_encoded_random_undersampled_Standard                  = X_train_one_hot_encoded_random_undersampled.copy()\n",
    "X_test_one_hot_encoded_random_undersampled_Standard                   = X_test_one_hot_encoded.copy()\n",
    "X_train_one_hot_encoded_random_undersampled_Standard[numeric_columns] = scaler_random_undersampled.fit_transform(X_train_one_hot_encoded_random_undersampled[numeric_columns])\n",
    "X_test_one_hot_encoded_random_undersampled_Standard[numeric_columns]  = scaler_random_undersampled.transform(X_test_one_hot_encoded[numeric_columns])\n",
    "\n",
    "X_train_target_encoded_random_undersampled_Standard                  = X_train_target_encoded_random_undersampled.copy()\n",
    "X_test_target_encoded_random_undersampled_Standard                   = X_test_target_encoded.copy()\n",
    "X_train_target_encoded_random_undersampled_Standard[numeric_columns] = scaler_random_undersampled.fit_transform(X_train_target_encoded_random_undersampled[numeric_columns])\n",
    "X_test_target_encoded_random_undersampled_Standard[numeric_columns]  = scaler_random_undersampled.transform(X_test_target_encoded[numeric_columns])\n",
    "\n",
    "X_train_loo_encoded_random_undersampled_Standard                  = X_train_loo_encoded_random_undersampled.copy()\n",
    "X_test_loo_encoded_random_undersampled_Standard                   = X_test_loo_encoded.copy()\n",
    "X_train_loo_encoded_random_undersampled_Standard[numeric_columns] = scaler_random_undersampled.fit_transform(X_train_loo_encoded_random_undersampled[numeric_columns])\n",
    "X_test_loo_encoded_random_undersampled_Standard[numeric_columns]  = scaler_random_undersampled.transform(X_test_loo_encoded[numeric_columns])\n",
    "\n",
    "X_train_ordinal_encoded_random_undersampled_Standard                  = X_train_ordinal_encoded_random_undersampled.copy()\n",
    "X_test_ordinal_encoded_random_undersampled_Standard                   = X_test_ordinal_encoded.copy()\n",
    "X_train_ordinal_encoded_random_undersampled_Standard[numeric_columns] = scaler_random_undersampled.fit_transform(X_train_ordinal_encoded_random_undersampled[numeric_columns])\n",
    "X_test_ordinal_encoded_random_undersampled_Standard[numeric_columns]  = scaler_random_undersampled.transform(X_test_ordinal_encoded[numeric_columns])\n",
    "\n",
    "X_train_mixed_encoded_random_undersampled_Standard                  = X_train_mixed_encoded_random_undersampled.copy()\n",
    "X_test_mixed_encoded_random_undersampled_Standard                   = X_test_mixed_encoded.copy()\n",
    "X_train_mixed_encoded_random_undersampled_Standard[numeric_columns] = scaler_random_undersampled.fit_transform(X_train_mixed_encoded_random_undersampled[numeric_columns])\n",
    "X_test_mixed_encoded_random_undersampled_Standard[numeric_columns]  = scaler_random_undersampled.transform(X_test_mixed_encoded[numeric_columns])\n",
    "\n",
    "# 5. TomekLinks Undersampled\n",
    "scaler_tomeklinks_undersampled                                          = StandardScaler()\n",
    "X_train_label_encoded_tomeklinks_undersampled_Standard                  = X_train_label_encoded_tomeklinks_undersampled.copy()\n",
    "X_test_label_encoded_tomeklinks_undersampled_Standard                   = X_test_label_encoded.copy()\n",
    "X_train_label_encoded_tomeklinks_undersampled_Standard[numeric_columns] = scaler_tomeklinks_undersampled.fit_transform(X_train_label_encoded_tomeklinks_undersampled[numeric_columns])\n",
    "X_test_label_encoded_tomeklinks_undersampled_Standard[numeric_columns]  = scaler_tomeklinks_undersampled.transform(X_test_label_encoded[numeric_columns])\n",
    "\n",
    "X_train_one_hot_encoded_tomeklinks_undersampled_Standard                  = X_train_one_hot_encoded_tomeklinks_undersampled.copy()\n",
    "X_test_one_hot_encoded_tomeklinks_undersampled_Standard                   = X_test_one_hot_encoded.copy()\n",
    "X_train_one_hot_encoded_tomeklinks_undersampled_Standard[numeric_columns] = scaler_tomeklinks_undersampled.fit_transform(X_train_one_hot_encoded_tomeklinks_undersampled[numeric_columns])\n",
    "X_test_one_hot_encoded_tomeklinks_undersampled_Standard[numeric_columns]  = scaler_tomeklinks_undersampled.transform(X_test_one_hot_encoded[numeric_columns])\n",
    "\n",
    "X_train_target_encoded_tomeklinks_undersampled_Standard                  = X_train_target_encoded_tomeklinks_undersampled.copy()\n",
    "X_test_target_encoded_tomeklinks_undersampled_Standard                   = X_test_target_encoded.copy()\n",
    "X_train_target_encoded_tomeklinks_undersampled_Standard[numeric_columns] = scaler_tomeklinks_undersampled.fit_transform(X_train_target_encoded_tomeklinks_undersampled[numeric_columns])\n",
    "X_test_target_encoded_tomeklinks_undersampled_Standard[numeric_columns]  = scaler_tomeklinks_undersampled.transform(X_test_target_encoded[numeric_columns])\n",
    "\n",
    "X_train_loo_encoded_tomeklinks_undersampled_Standard                  = X_train_loo_encoded_tomeklinks_undersampled.copy()\n",
    "X_test_loo_encoded_tomeklinks_undersampled_Standard                   = X_test_loo_encoded.copy()\n",
    "X_train_loo_encoded_tomeklinks_undersampled_Standard[numeric_columns] = scaler_tomeklinks_undersampled.fit_transform(X_train_loo_encoded_tomeklinks_undersampled[numeric_columns])\n",
    "X_test_loo_encoded_tomeklinks_undersampled_Standard[numeric_columns]  = scaler_tomeklinks_undersampled.transform(X_test_loo_encoded[numeric_columns])\n",
    "\n",
    "X_train_ordinal_encoded_tomeklinks_undersampled_Standard                  = X_train_ordinal_encoded_tomeklinks_undersampled.copy()\n",
    "X_test_ordinal_encoded_tomeklinks_undersampled_Standard                   = X_test_ordinal_encoded.copy()\n",
    "X_train_ordinal_encoded_tomeklinks_undersampled_Standard[numeric_columns] = scaler_tomeklinks_undersampled.fit_transform(X_train_ordinal_encoded_tomeklinks_undersampled[numeric_columns])\n",
    "X_test_ordinal_encoded_tomeklinks_undersampled_Standard[numeric_columns]  = scaler_tomeklinks_undersampled.transform(X_test_ordinal_encoded[numeric_columns])\n",
    "\n",
    "X_train_mixed_encoded_tomeklinks_undersampled_Standard                  = X_train_mixed_encoded_tomeklinks_undersampled.copy()\n",
    "X_test_mixed_encoded_tomeklinks_undersampled_Standard                   = X_test_mixed_encoded.copy()\n",
    "X_train_mixed_encoded_tomeklinks_undersampled_Standard[numeric_columns] = scaler_tomeklinks_undersampled.fit_transform(X_train_mixed_encoded_tomeklinks_undersampled[numeric_columns])\n",
    "X_test_mixed_encoded_tomeklinks_undersampled_Standard[numeric_columns]  = scaler_tomeklinks_undersampled.transform(X_test_mixed_encoded[numeric_columns])"
   ]
  },
  {
   "cell_type": "markdown",
   "id": "61350dd1-4591-440a-9ce6-3d40d906dfc0",
   "metadata": {},
   "source": [
    "- 4 - Robust Scaling"
   ]
  },
  {
   "cell_type": "code",
   "execution_count": null,
   "id": "3ac73d2d-3aa7-409b-a545-abc8311ca187",
   "metadata": {
    "execution": {
     "iopub.execute_input": "2024-10-22T12:25:02.673041Z",
     "iopub.status.busy": "2024-10-22T12:25:02.673041Z",
     "iopub.status.idle": "2024-10-22T12:25:03.378086Z",
     "shell.execute_reply": "2024-10-22T12:25:03.377052Z",
     "shell.execute_reply.started": "2024-10-22T12:25:02.673041Z"
    }
   },
   "outputs": [],
   "source": [
    "from sklearn.preprocessing import RobustScaler\n",
    "\n",
    "# 1. Without Sampling\n",
    "scaler_without_sampling                         = RobustScaler()\n",
    "X_train_label_encoded_Robust                    = X_train_label_encoded_without_sampling.copy()\n",
    "X_test_label_encoded_Robust                     = X_test_label_encoded.copy()\n",
    "X_train_label_encoded_Robust[numeric_columns]   = scaler_without_sampling.fit_transform(X_train_label_encoded_without_sampling[numeric_columns])\n",
    "X_test_label_encoded_Robust[numeric_columns]    = scaler_without_sampling.transform(X_test_label_encoded[numeric_columns])\n",
    "\n",
    "X_train_one_hot_encoded_Robust                  = X_train_one_hot_encoded_without_sampling.copy()\n",
    "X_test_one_hot_encoded_Robust                   = X_test_one_hot_encoded.copy()\n",
    "X_train_one_hot_encoded_Robust[numeric_columns] = scaler_without_sampling.fit_transform(X_train_one_hot_encoded_without_sampling[numeric_columns])\n",
    "X_test_one_hot_encoded_Robust[numeric_columns]  = scaler_without_sampling.transform(X_test_one_hot_encoded[numeric_columns])\n",
    "\n",
    "X_train_target_encoded_Robust                   = X_train_target_encoded_without_sampling.copy()\n",
    "X_test_target_encoded_Robust                    = X_test_target_encoded.copy()\n",
    "X_train_target_encoded_Robust[numeric_columns]  = scaler_without_sampling.fit_transform(X_train_target_encoded_without_sampling[numeric_columns])\n",
    "X_test_target_encoded_Robust[numeric_columns]   = scaler_without_sampling.transform(X_test_target_encoded[numeric_columns])\n",
    "\n",
    "X_train_loo_encoded_Robust                      = X_train_loo_encoded_without_sampling.copy()\n",
    "X_test_loo_encoded_Robust                       = X_test_loo_encoded.copy()\n",
    "X_train_loo_encoded_Robust[numeric_columns]     = scaler_without_sampling.fit_transform(X_train_loo_encoded_without_sampling[numeric_columns])\n",
    "X_test_loo_encoded_Robust[numeric_columns]      = scaler_without_sampling.transform(X_test_loo_encoded[numeric_columns])\n",
    "\n",
    "X_train_ordinal_encoded_Robust                  = X_train_ordinal_encoded_without_sampling.copy()\n",
    "X_test_ordinal_encoded_Robust                   = X_test_ordinal_encoded.copy()\n",
    "X_train_ordinal_encoded_Robust[numeric_columns] = scaler_without_sampling.fit_transform(X_train_ordinal_encoded_without_sampling[numeric_columns])\n",
    "X_test_ordinal_encoded_Robust[numeric_columns]  = scaler_without_sampling.transform(X_test_ordinal_encoded[numeric_columns])\n",
    "\n",
    "X_train_mixed_encoded_Robust                    = X_train_mixed_encoded_without_sampling.copy()\n",
    "X_test_mixed_encoded_Robust                     = X_test_mixed_encoded.copy()\n",
    "X_train_mixed_encoded_Robust[numeric_columns]   = scaler_without_sampling.fit_transform(X_train_mixed_encoded_without_sampling[numeric_columns])\n",
    "X_test_mixed_encoded_Robust[numeric_columns]    = scaler_without_sampling.transform(X_test_mixed_encoded[numeric_columns])\n",
    "\n",
    "# 2. Random Oversampled\n",
    "scaler_random_oversampled                                          = RobustScaler()\n",
    "X_train_label_encoded_random_oversampled_Robust                    = X_train_label_encoded_random_oversampled.copy()\n",
    "X_test_label_encoded_random_oversampled_Robust                     = X_test_label_encoded.copy()\n",
    "X_train_label_encoded_random_oversampled_Robust[numeric_columns]   = scaler_random_oversampled.fit_transform(X_train_label_encoded_random_oversampled[numeric_columns])\n",
    "X_test_label_encoded_random_oversampled_Robust[numeric_columns]    = scaler_random_oversampled.transform(X_test_label_encoded[numeric_columns])\n",
    "\n",
    "X_train_one_hot_encoded_random_oversampled_Robust                  = X_train_one_hot_encoded_random_oversampled.copy()\n",
    "X_test_one_hot_encoded_random_oversampled_Robust                   = X_test_one_hot_encoded.copy()\n",
    "X_train_one_hot_encoded_random_oversampled_Robust[numeric_columns] = scaler_random_oversampled.fit_transform(X_train_one_hot_encoded_random_oversampled[numeric_columns])\n",
    "X_test_one_hot_encoded_random_oversampled_Robust[numeric_columns]  = scaler_random_oversampled.transform(X_test_one_hot_encoded[numeric_columns])\n",
    "\n",
    "X_train_target_encoded_random_oversampled_Robust                   = X_train_target_encoded_random_oversampled.copy()\n",
    "X_test_target_encoded_random_oversampled_Robust                    = X_test_target_encoded.copy()\n",
    "X_train_target_encoded_random_oversampled_Robust[numeric_columns]  = scaler_random_oversampled.fit_transform(X_train_target_encoded_random_oversampled[numeric_columns])\n",
    "X_test_target_encoded_random_oversampled_Robust[numeric_columns]   = scaler_random_oversampled.transform(X_test_target_encoded[numeric_columns])\n",
    "\n",
    "X_train_loo_encoded_random_oversampled_Robust                      = X_train_loo_encoded_random_oversampled.copy()\n",
    "X_test_loo_encoded_random_oversampled_Robust                       = X_test_loo_encoded.copy()\n",
    "X_train_loo_encoded_random_oversampled_Robust[numeric_columns]     = scaler_random_oversampled.fit_transform(X_train_loo_encoded_random_oversampled[numeric_columns])\n",
    "X_test_loo_encoded_random_oversampled_Robust[numeric_columns]      = scaler_random_oversampled.transform(X_test_loo_encoded[numeric_columns])\n",
    "\n",
    "X_train_ordinal_encoded_random_oversampled_Robust                  = X_train_ordinal_encoded_random_oversampled.copy()\n",
    "X_test_ordinal_encoded_random_oversampled_Robust                   = X_test_ordinal_encoded.copy()\n",
    "X_train_ordinal_encoded_random_oversampled_Robust[numeric_columns] = scaler_random_oversampled.fit_transform(X_train_ordinal_encoded_random_oversampled[numeric_columns])\n",
    "X_test_ordinal_encoded_random_oversampled_Robust[numeric_columns]  = scaler_random_oversampled.transform(X_test_ordinal_encoded[numeric_columns])\n",
    "\n",
    "X_train_mixed_encoded_random_oversampled_Robust                  = X_train_mixed_encoded_random_oversampled.copy()\n",
    "X_test_mixed_encoded_random_oversampled_Robust                   = X_test_mixed_encoded.copy()\n",
    "X_train_mixed_encoded_random_oversampled_Robust[numeric_columns] = scaler_random_oversampled.fit_transform(X_train_mixed_encoded_random_oversampled[numeric_columns])\n",
    "X_test_mixed_encoded_random_oversampled_Robust[numeric_columns]  = scaler_random_oversampled.transform(X_test_mixed_encoded[numeric_columns])\n",
    "\n",
    "# 3. SMOTE Oversampled\n",
    "scaler_smote_oversampled                                          = RobustScaler()\n",
    "X_train_label_encoded_smote_oversampled_Robust                    = X_train_label_encoded_smote_oversampled.copy()\n",
    "X_test_label_encoded_smote_oversampled_Robust                     = X_test_label_encoded.copy()\n",
    "X_train_label_encoded_smote_oversampled_Robust[numeric_columns]   = scaler_smote_oversampled.fit_transform(X_train_label_encoded_smote_oversampled[numeric_columns])\n",
    "X_test_label_encoded_smote_oversampled_Robust[numeric_columns]    = scaler_smote_oversampled.transform(X_test_label_encoded[numeric_columns])\n",
    "\n",
    "X_train_one_hot_encoded_smote_oversampled_Robust                  = X_train_one_hot_encoded_smote_oversampled.copy()\n",
    "X_test_one_hot_encoded_smote_oversampled_Robust                   = X_test_one_hot_encoded.copy()\n",
    "X_train_one_hot_encoded_smote_oversampled_Robust[numeric_columns] = scaler_smote_oversampled.fit_transform(X_train_one_hot_encoded_smote_oversampled[numeric_columns])\n",
    "X_test_one_hot_encoded_smote_oversampled_Robust[numeric_columns]  = scaler_smote_oversampled.transform(X_test_one_hot_encoded[numeric_columns])\n",
    "\n",
    "X_train_target_encoded_smote_oversampled_Robust                   = X_train_target_encoded_smote_oversampled.copy()\n",
    "X_test_target_encoded_smote_oversampled_Robust                    = X_test_target_encoded.copy()\n",
    "X_train_target_encoded_smote_oversampled_Robust[numeric_columns]  = scaler_smote_oversampled.fit_transform(X_train_target_encoded_smote_oversampled[numeric_columns])\n",
    "X_test_target_encoded_smote_oversampled_Robust[numeric_columns]   = scaler_smote_oversampled.transform(X_test_target_encoded[numeric_columns])\n",
    "\n",
    "X_train_loo_encoded_smote_oversampled_Robust                      = X_train_loo_encoded_smote_oversampled.copy()\n",
    "X_test_loo_encoded_smote_oversampled_Robust                       = X_test_loo_encoded.copy()\n",
    "X_train_loo_encoded_smote_oversampled_Robust[numeric_columns]     = scaler_smote_oversampled.fit_transform(X_train_loo_encoded_smote_oversampled[numeric_columns])\n",
    "X_test_loo_encoded_smote_oversampled_Robust[numeric_columns]      = scaler_smote_oversampled.transform(X_test_loo_encoded[numeric_columns])\n",
    "\n",
    "X_train_ordinal_encoded_smote_oversampled_Robust                  = X_train_ordinal_encoded_smote_oversampled.copy()\n",
    "X_test_ordinal_encoded_smote_oversampled_Robust                   = X_test_ordinal_encoded.copy()\n",
    "X_train_ordinal_encoded_smote_oversampled_Robust[numeric_columns] = scaler_smote_oversampled.fit_transform(X_train_ordinal_encoded_smote_oversampled[numeric_columns])\n",
    "X_test_ordinal_encoded_smote_oversampled_Robust[numeric_columns]  = scaler_smote_oversampled.transform(X_test_ordinal_encoded[numeric_columns])\n",
    "\n",
    "X_train_mixed_encoded_smote_oversampled_Robust                  = X_train_mixed_encoded_smote_oversampled.copy()\n",
    "X_test_mixed_encoded_smote_oversampled_Robust                   = X_test_mixed_encoded.copy()\n",
    "X_train_mixed_encoded_smote_oversampled_Robust[numeric_columns] = scaler_smote_oversampled.fit_transform(X_train_mixed_encoded_smote_oversampled[numeric_columns])\n",
    "X_test_mixed_encoded_smote_oversampled_Robust[numeric_columns]  = scaler_smote_oversampled.transform(X_test_mixed_encoded[numeric_columns])\n",
    "\n",
    "# 4. Random Undersampled\n",
    "scaler_random_undersampled                                          = RobustScaler()\n",
    "X_train_label_encoded_random_undersampled_Robust                    = X_train_label_encoded_random_undersampled.copy()\n",
    "X_test_label_encoded_random_undersampled_Robust                     = X_test_label_encoded.copy()\n",
    "X_train_label_encoded_random_undersampled_Robust[numeric_columns]   = scaler_random_undersampled.fit_transform(X_train_label_encoded_random_undersampled[numeric_columns])\n",
    "X_test_label_encoded_random_undersampled_Robust[numeric_columns]    = scaler_random_undersampled.transform(X_test_label_encoded[numeric_columns])\n",
    "\n",
    "X_train_one_hot_encoded_random_undersampled_Robust                  = X_train_one_hot_encoded_random_undersampled.copy()\n",
    "X_test_one_hot_encoded_random_undersampled_Robust                   = X_test_one_hot_encoded.copy()\n",
    "X_train_one_hot_encoded_random_undersampled_Robust[numeric_columns] = scaler_random_undersampled.fit_transform(X_train_one_hot_encoded_random_undersampled[numeric_columns])\n",
    "X_test_one_hot_encoded_random_undersampled_Robust[numeric_columns]  = scaler_random_undersampled.transform(X_test_one_hot_encoded[numeric_columns])\n",
    "\n",
    "X_train_target_encoded_random_undersampled_Robust                   = X_train_target_encoded_random_undersampled.copy()\n",
    "X_test_target_encoded_random_undersampled_Robust                    = X_test_target_encoded.copy()\n",
    "X_train_target_encoded_random_undersampled_Robust[numeric_columns]  = scaler_random_undersampled.fit_transform(X_train_target_encoded_random_undersampled[numeric_columns])\n",
    "X_test_target_encoded_random_undersampled_Robust[numeric_columns]   = scaler_random_undersampled.transform(X_test_target_encoded[numeric_columns])\n",
    "\n",
    "X_train_loo_encoded_random_undersampled_Robust                      = X_train_loo_encoded_random_undersampled.copy()\n",
    "X_test_loo_encoded_random_undersampled_Robust                       = X_test_loo_encoded.copy()\n",
    "X_train_loo_encoded_random_undersampled_Robust[numeric_columns]     = scaler_random_undersampled.fit_transform(X_train_loo_encoded_random_undersampled[numeric_columns])\n",
    "X_test_loo_encoded_random_undersampled_Robust[numeric_columns]      = scaler_random_undersampled.transform(X_test_loo_encoded[numeric_columns])\n",
    "\n",
    "X_train_ordinal_encoded_random_undersampled_Robust                  = X_train_ordinal_encoded_random_undersampled.copy()\n",
    "X_test_ordinal_encoded_random_undersampled_Robust                   = X_test_ordinal_encoded.copy()\n",
    "X_train_ordinal_encoded_random_undersampled_Robust[numeric_columns] = scaler_random_undersampled.fit_transform(X_train_ordinal_encoded_random_undersampled[numeric_columns])\n",
    "X_test_ordinal_encoded_random_undersampled_Robust[numeric_columns]  = scaler_random_undersampled.transform(X_test_ordinal_encoded[numeric_columns])\n",
    "\n",
    "X_train_mixed_encoded_random_undersampled_Robust                  = X_train_mixed_encoded_random_undersampled.copy()\n",
    "X_test_mixed_encoded_random_undersampled_Robust                   = X_test_mixed_encoded.copy()\n",
    "X_train_mixed_encoded_random_undersampled_Robust[numeric_columns] = scaler_random_undersampled.fit_transform(X_train_mixed_encoded_random_undersampled[numeric_columns])\n",
    "X_test_mixed_encoded_random_undersampled_Robust[numeric_columns]  = scaler_random_undersampled.transform(X_test_mixed_encoded[numeric_columns])\n",
    "\n",
    "# 5. TomekLinks Undersampled\n",
    "scaler_tomeklinks_undersampled                                          = RobustScaler()\n",
    "X_train_label_encoded_tomeklinks_undersampled_Robust                    = X_train_label_encoded_tomeklinks_undersampled.copy()\n",
    "X_test_label_encoded_tomeklinks_undersampled_Robust                     = X_test_label_encoded.copy()\n",
    "X_train_label_encoded_tomeklinks_undersampled_Robust[numeric_columns]   = scaler_tomeklinks_undersampled.fit_transform(X_train_label_encoded_tomeklinks_undersampled[numeric_columns])\n",
    "X_test_label_encoded_tomeklinks_undersampled_Robust[numeric_columns]    = scaler_tomeklinks_undersampled.transform(X_test_label_encoded[numeric_columns])\n",
    "\n",
    "X_train_one_hot_encoded_tomeklinks_undersampled_Robust                  = X_train_one_hot_encoded_tomeklinks_undersampled.copy()\n",
    "X_test_one_hot_encoded_tomeklinks_undersampled_Robust                   = X_test_one_hot_encoded.copy()\n",
    "X_train_one_hot_encoded_tomeklinks_undersampled_Robust[numeric_columns] = scaler_tomeklinks_undersampled.fit_transform(X_train_one_hot_encoded_tomeklinks_undersampled[numeric_columns])\n",
    "X_test_one_hot_encoded_tomeklinks_undersampled_Robust[numeric_columns]  = scaler_tomeklinks_undersampled.transform(X_test_one_hot_encoded[numeric_columns])\n",
    "\n",
    "X_train_target_encoded_tomeklinks_undersampled_Robust                   = X_train_target_encoded_tomeklinks_undersampled.copy()\n",
    "X_test_target_encoded_tomeklinks_undersampled_Robust                    = X_test_target_encoded.copy()\n",
    "X_train_target_encoded_tomeklinks_undersampled_Robust[numeric_columns]  = scaler_tomeklinks_undersampled.fit_transform(X_train_target_encoded_tomeklinks_undersampled[numeric_columns])\n",
    "X_test_target_encoded_tomeklinks_undersampled_Robust[numeric_columns]   = scaler_tomeklinks_undersampled.transform(X_test_target_encoded[numeric_columns])\n",
    "\n",
    "X_train_loo_encoded_tomeklinks_undersampled_Robust                      = X_train_loo_encoded_tomeklinks_undersampled.copy()\n",
    "X_test_loo_encoded_tomeklinks_undersampled_Robust                       = X_test_loo_encoded.copy()\n",
    "X_train_loo_encoded_tomeklinks_undersampled_Robust[numeric_columns]     = scaler_tomeklinks_undersampled.fit_transform(X_train_loo_encoded_tomeklinks_undersampled[numeric_columns])\n",
    "X_test_loo_encoded_tomeklinks_undersampled_Robust[numeric_columns]      = scaler_tomeklinks_undersampled.transform(X_test_loo_encoded[numeric_columns])\n",
    "\n",
    "X_train_ordinal_encoded_tomeklinks_undersampled_Robust                  = X_train_ordinal_encoded_tomeklinks_undersampled.copy()\n",
    "X_test_ordinal_encoded_tomeklinks_undersampled_Robust                   = X_test_ordinal_encoded.copy()\n",
    "X_train_ordinal_encoded_tomeklinks_undersampled_Robust[numeric_columns] = scaler_tomeklinks_undersampled.fit_transform(X_train_ordinal_encoded_tomeklinks_undersampled[numeric_columns])\n",
    "X_test_ordinal_encoded_tomeklinks_undersampled_Robust[numeric_columns]  = scaler_tomeklinks_undersampled.transform(X_test_ordinal_encoded[numeric_columns])\n",
    "\n",
    "X_train_mixed_encoded_tomeklinks_undersampled_Robust                  = X_train_mixed_encoded_tomeklinks_undersampled.copy()\n",
    "X_test_mixed_encoded_tomeklinks_undersampled_Robust                   = X_test_mixed_encoded.copy()\n",
    "X_train_mixed_encoded_tomeklinks_undersampled_Robust[numeric_columns] = scaler_tomeklinks_undersampled.fit_transform(X_train_mixed_encoded_tomeklinks_undersampled[numeric_columns])\n",
    "X_test_mixed_encoded_tomeklinks_undersampled_Robust[numeric_columns]  = scaler_tomeklinks_undersampled.transform(X_test_mixed_encoded[numeric_columns])"
   ]
  },
  {
   "cell_type": "markdown",
   "id": "2cd479e0-02ff-4d67-a058-96da7eb143ee",
   "metadata": {},
   "source": [
    "- 5 - MaxAbs Scaling"
   ]
  },
  {
   "cell_type": "code",
   "execution_count": null,
   "id": "84fa3712-bedd-4829-abae-6b1eb7d22148",
   "metadata": {
    "execution": {
     "iopub.execute_input": "2024-10-22T12:25:03.594078Z",
     "iopub.status.busy": "2024-10-22T12:25:03.594078Z",
     "iopub.status.idle": "2024-10-22T12:25:04.033089Z",
     "shell.execute_reply": "2024-10-22T12:25:04.031961Z",
     "shell.execute_reply.started": "2024-10-22T12:25:03.594078Z"
    }
   },
   "outputs": [],
   "source": [
    "from sklearn.preprocessing import MaxAbsScaler\n",
    "\n",
    "# 1. Without Sampling\n",
    "scaler_without_sampling                       = MaxAbsScaler()\n",
    "X_train_label_encoded_MaxAbs                  = X_train_label_encoded_without_sampling.copy()\n",
    "X_test_label_encoded_MaxAbs                   = X_test_label_encoded.copy()\n",
    "X_train_label_encoded_MaxAbs[numeric_columns] = scaler_without_sampling.fit_transform(X_train_label_encoded_without_sampling[numeric_columns])\n",
    "X_test_label_encoded_MaxAbs[numeric_columns]  = scaler_without_sampling.transform(X_test_label_encoded[numeric_columns])\n",
    "\n",
    "X_train_one_hot_encoded_MaxAbs                  = X_train_one_hot_encoded_without_sampling.copy()\n",
    "X_test_one_hot_encoded_MaxAbs                   = X_test_one_hot_encoded.copy()\n",
    "X_train_one_hot_encoded_MaxAbs[numeric_columns] = scaler_without_sampling.fit_transform(X_train_one_hot_encoded_without_sampling[numeric_columns])\n",
    "X_test_one_hot_encoded_MaxAbs[numeric_columns]  = scaler_without_sampling.transform(X_test_one_hot_encoded[numeric_columns])\n",
    "\n",
    "X_train_target_encoded_MaxAbs                  = X_train_target_encoded_without_sampling.copy()\n",
    "X_test_target_encoded_MaxAbs                   = X_test_target_encoded.copy()\n",
    "X_train_target_encoded_MaxAbs[numeric_columns] = scaler_without_sampling.fit_transform(X_train_target_encoded_without_sampling[numeric_columns])\n",
    "X_test_target_encoded_MaxAbs[numeric_columns]  = scaler_without_sampling.transform(X_test_target_encoded[numeric_columns])\n",
    "\n",
    "X_train_loo_encoded_MaxAbs                  = X_train_loo_encoded_without_sampling.copy()\n",
    "X_test_loo_encoded_MaxAbs                   = X_test_loo_encoded.copy()\n",
    "X_train_loo_encoded_MaxAbs[numeric_columns] = scaler_without_sampling.fit_transform(X_train_loo_encoded_without_sampling[numeric_columns])\n",
    "X_test_loo_encoded_MaxAbs[numeric_columns]  = scaler_without_sampling.transform(X_test_loo_encoded[numeric_columns])\n",
    "\n",
    "X_train_ordinal_encoded_MaxAbs                  = X_train_ordinal_encoded_without_sampling.copy()\n",
    "X_test_ordinal_encoded_MaxAbs                   = X_test_ordinal_encoded.copy()\n",
    "X_train_ordinal_encoded_MaxAbs[numeric_columns] = scaler_without_sampling.fit_transform(X_train_ordinal_encoded_without_sampling[numeric_columns])\n",
    "X_test_ordinal_encoded_MaxAbs[numeric_columns]  = scaler_without_sampling.transform(X_test_ordinal_encoded[numeric_columns])\n",
    "\n",
    "X_train_mixed_encoded_MaxAbs                  = X_train_mixed_encoded_without_sampling.copy()\n",
    "X_test_mixed_encoded_MaxAbs                   = X_test_mixed_encoded.copy()\n",
    "X_train_mixed_encoded_MaxAbs[numeric_columns] = scaler_without_sampling.fit_transform(X_train_mixed_encoded_without_sampling[numeric_columns])\n",
    "X_test_mixed_encoded_MaxAbs[numeric_columns]  = scaler_without_sampling.transform(X_test_mixed_encoded[numeric_columns])\n",
    "\n",
    "# 2. Random Oversampled\n",
    "scaler_random_oversampled                                          = MaxAbsScaler()\n",
    "X_train_label_encoded_random_oversampled_MaxAbs                    = X_train_label_encoded_random_oversampled.copy()\n",
    "X_test_label_encoded_random_oversampled_MaxAbs                     = X_test_label_encoded.copy()\n",
    "X_train_label_encoded_random_oversampled_MaxAbs[numeric_columns]   = scaler_random_oversampled.fit_transform(X_train_label_encoded_random_oversampled[numeric_columns])\n",
    "X_test_label_encoded_random_oversampled_MaxAbs[numeric_columns]    = scaler_random_oversampled.transform(X_test_label_encoded[numeric_columns])\n",
    "\n",
    "X_train_one_hot_encoded_random_oversampled_MaxAbs                  = X_train_one_hot_encoded_random_oversampled.copy()\n",
    "X_test_one_hot_encoded_random_oversampled_MaxAbs                   = X_test_one_hot_encoded.copy()\n",
    "X_train_one_hot_encoded_random_oversampled_MaxAbs[numeric_columns] = scaler_random_oversampled.fit_transform(X_train_one_hot_encoded_random_oversampled[numeric_columns])\n",
    "X_test_one_hot_encoded_random_oversampled_MaxAbs[numeric_columns]  = scaler_random_oversampled.transform(X_test_one_hot_encoded[numeric_columns])\n",
    "\n",
    "X_train_target_encoded_random_oversampled_MaxAbs                   = X_train_target_encoded_random_oversampled.copy()\n",
    "X_test_target_encoded_random_oversampled_MaxAbs                    = X_test_target_encoded.copy()\n",
    "X_train_target_encoded_random_oversampled_MaxAbs[numeric_columns]  = scaler_random_oversampled.fit_transform(X_train_target_encoded_random_oversampled[numeric_columns])\n",
    "X_test_target_encoded_random_oversampled_MaxAbs[numeric_columns]   = scaler_random_oversampled.transform(X_test_target_encoded[numeric_columns])\n",
    "\n",
    "X_train_loo_encoded_random_oversampled_MaxAbs                      = X_train_loo_encoded_random_oversampled.copy()\n",
    "X_test_loo_encoded_random_oversampled_MaxAbs                       = X_test_loo_encoded.copy()\n",
    "X_train_loo_encoded_random_oversampled_MaxAbs[numeric_columns]     = scaler_random_oversampled.fit_transform(X_train_loo_encoded_random_oversampled[numeric_columns])\n",
    "X_test_loo_encoded_random_oversampled_MaxAbs[numeric_columns]      = scaler_random_oversampled.transform(X_test_loo_encoded[numeric_columns])\n",
    "\n",
    "X_train_ordinal_encoded_random_oversampled_MaxAbs                  = X_train_ordinal_encoded_random_oversampled.copy()\n",
    "X_test_ordinal_encoded_random_oversampled_MaxAbs                   = X_test_ordinal_encoded.copy()\n",
    "X_train_ordinal_encoded_random_oversampled_MaxAbs[numeric_columns] = scaler_random_oversampled.fit_transform(X_train_ordinal_encoded_random_oversampled[numeric_columns])\n",
    "X_test_ordinal_encoded_random_oversampled_MaxAbs[numeric_columns]  = scaler_random_oversampled.transform(X_test_ordinal_encoded[numeric_columns])\n",
    "\n",
    "X_train_mixed_encoded_random_oversampled_MaxAbs                  = X_train_mixed_encoded_random_oversampled.copy()\n",
    "X_test_mixed_encoded_random_oversampled_MaxAbs                   = X_test_mixed_encoded.copy()\n",
    "X_train_mixed_encoded_random_oversampled_MaxAbs[numeric_columns] = scaler_random_oversampled.fit_transform(X_train_mixed_encoded_random_oversampled[numeric_columns])\n",
    "X_test_mixed_encoded_random_oversampled_MaxAbs[numeric_columns]  = scaler_random_oversampled.transform(X_test_mixed_encoded[numeric_columns])\n",
    "\n",
    "# 3. SMOTE Oversampled\n",
    "scaler_smote_oversampled                                          = MaxAbsScaler()\n",
    "X_train_label_encoded_smote_oversampled_MaxAbs                    = X_train_label_encoded_smote_oversampled.copy()\n",
    "X_test_label_encoded_smote_oversampled_MaxAbs                     = X_test_label_encoded.copy()\n",
    "X_train_label_encoded_smote_oversampled_MaxAbs[numeric_columns]   = scaler_smote_oversampled.fit_transform(X_train_label_encoded_smote_oversampled[numeric_columns])\n",
    "X_test_label_encoded_smote_oversampled_MaxAbs[numeric_columns]    = scaler_smote_oversampled.transform(X_test_label_encoded[numeric_columns])\n",
    "\n",
    "X_train_one_hot_encoded_smote_oversampled_MaxAbs                  = X_train_one_hot_encoded_smote_oversampled.copy()\n",
    "X_test_one_hot_encoded_smote_oversampled_MaxAbs                   = X_test_one_hot_encoded.copy()\n",
    "X_train_one_hot_encoded_smote_oversampled_MaxAbs[numeric_columns] = scaler_smote_oversampled.fit_transform(X_train_one_hot_encoded_smote_oversampled[numeric_columns])\n",
    "X_test_one_hot_encoded_smote_oversampled_MaxAbs[numeric_columns]  = scaler_smote_oversampled.transform(X_test_one_hot_encoded[numeric_columns])\n",
    "\n",
    "X_train_target_encoded_smote_oversampled_MaxAbs                   = X_train_target_encoded_smote_oversampled.copy()\n",
    "X_test_target_encoded_smote_oversampled_MaxAbs                    = X_test_target_encoded.copy()\n",
    "X_train_target_encoded_smote_oversampled_MaxAbs[numeric_columns]  = scaler_smote_oversampled.fit_transform(X_train_target_encoded_smote_oversampled[numeric_columns])\n",
    "X_test_target_encoded_smote_oversampled_MaxAbs[numeric_columns]   = scaler_smote_oversampled.transform(X_test_target_encoded[numeric_columns])\n",
    "\n",
    "X_train_loo_encoded_smote_oversampled_MaxAbs                      = X_train_loo_encoded_smote_oversampled.copy()\n",
    "X_test_loo_encoded_smote_oversampled_MaxAbs                       = X_test_loo_encoded.copy()\n",
    "X_train_loo_encoded_smote_oversampled_MaxAbs[numeric_columns]     = scaler_smote_oversampled.fit_transform(X_train_loo_encoded_smote_oversampled[numeric_columns])\n",
    "X_test_loo_encoded_smote_oversampled_MaxAbs[numeric_columns]      = scaler_smote_oversampled.transform(X_test_loo_encoded[numeric_columns])\n",
    "\n",
    "X_train_ordinal_encoded_smote_oversampled_MaxAbs                  = X_train_ordinal_encoded_smote_oversampled.copy()\n",
    "X_test_ordinal_encoded_smote_oversampled_MaxAbs                   = X_test_ordinal_encoded.copy()\n",
    "X_train_ordinal_encoded_smote_oversampled_MaxAbs[numeric_columns] = scaler_smote_oversampled.fit_transform(X_train_ordinal_encoded_smote_oversampled[numeric_columns])\n",
    "X_test_ordinal_encoded_smote_oversampled_MaxAbs[numeric_columns]  = scaler_smote_oversampled.transform(X_test_ordinal_encoded[numeric_columns])\n",
    "\n",
    "X_train_mixed_encoded_smote_oversampled_MaxAbs                  = X_train_mixed_encoded_smote_oversampled.copy()\n",
    "X_test_mixed_encoded_smote_oversampled_MaxAbs                   = X_test_mixed_encoded.copy()\n",
    "X_train_mixed_encoded_smote_oversampled_MaxAbs[numeric_columns] = scaler_smote_oversampled.fit_transform(X_train_mixed_encoded_smote_oversampled[numeric_columns])\n",
    "X_test_mixed_encoded_smote_oversampled_MaxAbs[numeric_columns]  = scaler_smote_oversampled.transform(X_test_mixed_encoded[numeric_columns])\n",
    "\n",
    "# 4. Random Undersampled\n",
    "scaler_random_undersampled                                          = MaxAbsScaler()\n",
    "X_train_label_encoded_random_undersampled_MaxAbs                    = X_train_label_encoded_random_undersampled.copy()\n",
    "X_test_label_encoded_random_undersampled_MaxAbs                     = X_test_label_encoded.copy()\n",
    "X_train_label_encoded_random_undersampled_MaxAbs[numeric_columns]   = scaler_random_undersampled.fit_transform(X_train_label_encoded_random_undersampled[numeric_columns])\n",
    "X_test_label_encoded_random_undersampled_MaxAbs[numeric_columns]    = scaler_random_undersampled.transform(X_test_label_encoded[numeric_columns])\n",
    "\n",
    "X_train_one_hot_encoded_random_undersampled_MaxAbs                  = X_train_one_hot_encoded_random_undersampled.copy()\n",
    "X_test_one_hot_encoded_random_undersampled_MaxAbs                   = X_test_one_hot_encoded.copy()\n",
    "X_train_one_hot_encoded_random_undersampled_MaxAbs[numeric_columns] = scaler_random_undersampled.fit_transform(X_train_one_hot_encoded_random_undersampled[numeric_columns])\n",
    "X_test_one_hot_encoded_random_undersampled_MaxAbs[numeric_columns]  = scaler_random_undersampled.transform(X_test_one_hot_encoded[numeric_columns])\n",
    "\n",
    "X_train_target_encoded_random_undersampled_MaxAbs                   = X_train_target_encoded_random_undersampled.copy()\n",
    "X_test_target_encoded_random_undersampled_MaxAbs                    = X_test_target_encoded.copy()\n",
    "X_train_target_encoded_random_undersampled_MaxAbs[numeric_columns]  = scaler_random_undersampled.fit_transform(X_train_target_encoded_random_undersampled[numeric_columns])\n",
    "X_test_target_encoded_random_undersampled_MaxAbs[numeric_columns]   = scaler_random_undersampled.transform(X_test_target_encoded[numeric_columns])\n",
    "\n",
    "X_train_loo_encoded_random_undersampled_MaxAbs                      = X_train_loo_encoded_random_undersampled.copy()\n",
    "X_test_loo_encoded_random_undersampled_MaxAbs                       = X_test_loo_encoded.copy()\n",
    "X_train_loo_encoded_random_undersampled_MaxAbs[numeric_columns]     = scaler_random_undersampled.fit_transform(X_train_loo_encoded_random_undersampled[numeric_columns])\n",
    "X_test_loo_encoded_random_undersampled_MaxAbs[numeric_columns]      = scaler_random_undersampled.transform(X_test_loo_encoded[numeric_columns])\n",
    "\n",
    "X_train_ordinal_encoded_random_undersampled_MaxAbs                  = X_train_ordinal_encoded_random_undersampled.copy()\n",
    "X_test_ordinal_encoded_random_undersampled_MaxAbs                   = X_test_ordinal_encoded.copy()\n",
    "X_train_ordinal_encoded_random_undersampled_MaxAbs[numeric_columns] = scaler_random_undersampled.fit_transform(X_train_ordinal_encoded_random_undersampled[numeric_columns])\n",
    "X_test_ordinal_encoded_random_undersampled_MaxAbs[numeric_columns]  = scaler_random_undersampled.transform(X_test_ordinal_encoded[numeric_columns])\n",
    "\n",
    "X_train_mixed_encoded_random_undersampled_MaxAbs                  = X_train_mixed_encoded_random_undersampled.copy()\n",
    "X_test_mixed_encoded_random_undersampled_MaxAbs                   = X_test_mixed_encoded.copy()\n",
    "X_train_mixed_encoded_random_undersampled_MaxAbs[numeric_columns] = scaler_random_undersampled.fit_transform(X_train_mixed_encoded_random_undersampled[numeric_columns])\n",
    "X_test_mixed_encoded_random_undersampled_MaxAbs[numeric_columns]  = scaler_random_undersampled.transform(X_test_mixed_encoded[numeric_columns])\n",
    "\n",
    "# 5. TomekLinks Undersampled\n",
    "scaler_tomeklinks_undersampled                                          = MaxAbsScaler()\n",
    "X_train_label_encoded_tomeklinks_undersampled_MaxAbs                    = X_train_label_encoded_tomeklinks_undersampled.copy()\n",
    "X_test_label_encoded_tomeklinks_undersampled_MaxAbs                     = X_test_label_encoded.copy()\n",
    "X_train_label_encoded_tomeklinks_undersampled_MaxAbs[numeric_columns]   = scaler_tomeklinks_undersampled.fit_transform(X_train_label_encoded_tomeklinks_undersampled[numeric_columns])\n",
    "X_test_label_encoded_tomeklinks_undersampled_MaxAbs[numeric_columns]    = scaler_tomeklinks_undersampled.transform(X_test_label_encoded[numeric_columns])\n",
    "\n",
    "X_train_one_hot_encoded_tomeklinks_undersampled_MaxAbs                  = X_train_one_hot_encoded_tomeklinks_undersampled.copy()\n",
    "X_test_one_hot_encoded_tomeklinks_undersampled_MaxAbs                   = X_test_one_hot_encoded.copy()\n",
    "X_train_one_hot_encoded_tomeklinks_undersampled_MaxAbs[numeric_columns] = scaler_tomeklinks_undersampled.fit_transform(X_train_one_hot_encoded_tomeklinks_undersampled[numeric_columns])\n",
    "X_test_one_hot_encoded_tomeklinks_undersampled_MaxAbs[numeric_columns]  = scaler_tomeklinks_undersampled.transform(X_test_one_hot_encoded[numeric_columns])\n",
    "\n",
    "X_train_target_encoded_tomeklinks_undersampled_MaxAbs                   = X_train_target_encoded_tomeklinks_undersampled.copy()\n",
    "X_test_target_encoded_tomeklinks_undersampled_MaxAbs                    = X_test_target_encoded.copy()\n",
    "X_train_target_encoded_tomeklinks_undersampled_MaxAbs[numeric_columns]  = scaler_tomeklinks_undersampled.fit_transform(X_train_target_encoded_tomeklinks_undersampled[numeric_columns])\n",
    "X_test_target_encoded_tomeklinks_undersampled_MaxAbs[numeric_columns]   = scaler_tomeklinks_undersampled.transform(X_test_target_encoded[numeric_columns])\n",
    "\n",
    "X_train_loo_encoded_tomeklinks_undersampled_MaxAbs                      = X_train_loo_encoded_tomeklinks_undersampled.copy()\n",
    "X_test_loo_encoded_tomeklinks_undersampled_MaxAbs                       = X_test_loo_encoded.copy()\n",
    "X_train_loo_encoded_tomeklinks_undersampled_MaxAbs[numeric_columns]     = scaler_tomeklinks_undersampled.fit_transform(X_train_loo_encoded_tomeklinks_undersampled[numeric_columns])\n",
    "X_test_loo_encoded_tomeklinks_undersampled_MaxAbs[numeric_columns]      = scaler_tomeklinks_undersampled.transform(X_test_loo_encoded[numeric_columns])\n",
    "\n",
    "X_train_ordinal_encoded_tomeklinks_undersampled_MaxAbs                  = X_train_ordinal_encoded_tomeklinks_undersampled.copy()\n",
    "X_test_ordinal_encoded_tomeklinks_undersampled_MaxAbs                   = X_test_ordinal_encoded.copy()\n",
    "X_train_ordinal_encoded_tomeklinks_undersampled_MaxAbs[numeric_columns] = scaler_tomeklinks_undersampled.fit_transform(X_train_ordinal_encoded_tomeklinks_undersampled[numeric_columns])\n",
    "X_test_ordinal_encoded_tomeklinks_undersampled_MaxAbs[numeric_columns]  = scaler_tomeklinks_undersampled.transform(X_test_ordinal_encoded[numeric_columns])\n",
    "\n",
    "X_train_mixed_encoded_tomeklinks_undersampled_MaxAbs                  = X_train_mixed_encoded_tomeklinks_undersampled.copy()\n",
    "X_test_mixed_encoded_tomeklinks_undersampled_MaxAbs                   = X_test_mixed_encoded.copy()\n",
    "X_train_mixed_encoded_tomeklinks_undersampled_MaxAbs[numeric_columns] = scaler_tomeklinks_undersampled.fit_transform(X_train_mixed_encoded_tomeklinks_undersampled[numeric_columns])\n",
    "X_test_mixed_encoded_tomeklinks_undersampled_MaxAbs[numeric_columns]  = scaler_tomeklinks_undersampled.transform(X_test_mixed_encoded[numeric_columns])"
   ]
  },
  {
   "cell_type": "markdown",
   "id": "fe755c5d-d47f-4e3e-bac5-69a884709b88",
   "metadata": {},
   "source": [
    "### `Section 8` - Selecting the Best Encoding, Sampling, and Scaling Combination"
   ]
  },
  {
   "cell_type": "markdown",
   "id": "d6cda072-2b25-4ae0-9ce8-793be62a8dc8",
   "metadata": {},
   "source": [
    "- 1"
   ]
  },
  {
   "cell_type": "code",
   "execution_count": null,
   "id": "047067be-d05a-4681-b911-356f3970472b",
   "metadata": {
    "execution": {
     "iopub.execute_input": "2024-10-22T12:25:04.656223Z",
     "iopub.status.busy": "2024-10-22T12:25:04.656223Z",
     "iopub.status.idle": "2024-10-22T12:25:04.692684Z",
     "shell.execute_reply": "2024-10-22T12:25:04.691685Z",
     "shell.execute_reply.started": "2024-10-22T12:25:04.656223Z"
    }
   },
   "outputs": [],
   "source": [
    "data_dict = {\n",
    "    # 1. Label Encoded - No Scaling\n",
    "    ('Label Encoded', 'No Sampling', 'No Scaling'): (X_train_label_encoded_no_Scaling, X_test_label_encoded_no_Scaling, y_train_label_encoded_without_sampling, y_test),\n",
    "    ('Label Encoded', 'Random Oversampled', 'No Scaling'): (X_train_label_encoded_random_oversampled_no_Scaling, X_test_label_encoded_random_oversampled_no_Scaling, y_train_label_encoded_random_oversampled, y_test),\n",
    "    ('Label Encoded', 'SMOTE Oversampled', 'No Scaling'): (X_train_label_encoded_smote_oversampled_no_Scaling, X_test_label_encoded_smote_oversampled_no_Scaling, y_train_label_encoded_smote_oversampled, y_test),\n",
    "    ('Label Encoded', 'Random Undersampled', 'No Scaling'): (X_train_label_encoded_random_undersampled_no_Scaling, X_test_label_encoded_random_undersampled_no_Scaling, y_train_label_encoded_random_undersampled, y_test),\n",
    "    ('Label Encoded', 'Tomek Links Undersampled', 'No Scaling'): (X_train_label_encoded_tomeklinks_undersampled_no_Scaling, X_test_label_encoded_tomeklinks_undersampled_no_Scaling, y_train_label_encoded_tomeklinks_undersampled, y_test),\n",
    "\n",
    "    # 2. Label Encoded - MinMax Scaling\n",
    "    ('Label Encoded', 'No Sampling', 'MinMax'): (X_train_label_encoded_MinMax, X_test_label_encoded_MinMax, y_train_label_encoded_without_sampling, y_test),\n",
    "    ('Label Encoded', 'Random Oversampled', 'MinMax'): (X_train_label_encoded_random_oversampled_MinMax, X_test_label_encoded_random_oversampled_MinMax, y_train_label_encoded_random_oversampled, y_test),\n",
    "    ('Label Encoded', 'SMOTE Oversampled', 'MinMax'): (X_train_label_encoded_smote_oversampled_MinMax, X_test_label_encoded_smote_oversampled_MinMax, y_train_label_encoded_smote_oversampled, y_test),\n",
    "    ('Label Encoded', 'Random Undersampled', 'MinMax'): (X_train_label_encoded_random_undersampled_MinMax, X_test_label_encoded_random_undersampled_MinMax, y_train_label_encoded_random_undersampled, y_test),\n",
    "    ('Label Encoded', 'Tomek Links Undersampled', 'MinMax'): (X_train_label_encoded_tomeklinks_undersampled_MinMax, X_test_label_encoded_tomeklinks_undersampled_MinMax, y_train_label_encoded_tomeklinks_undersampled, y_test),\n",
    "\n",
    "    # 3. Label Encoded - Standard Scaling\n",
    "    ('Label Encoded', 'No Sampling', 'Standard'): (X_train_label_encoded_Standard, X_test_label_encoded_Standard, y_train_label_encoded_without_sampling, y_test),\n",
    "    ('Label Encoded', 'Random Oversampled', 'Standard'): (X_train_label_encoded_random_oversampled_Standard, X_test_label_encoded_random_oversampled_Standard, y_train_label_encoded_random_oversampled, y_test),\n",
    "    ('Label Encoded', 'SMOTE Oversampled', 'Standard'): (X_train_label_encoded_smote_oversampled_Standard, X_test_label_encoded_smote_oversampled_Standard, y_train_label_encoded_smote_oversampled, y_test),\n",
    "    ('Label Encoded', 'Random Undersampled', 'Standard'): (X_train_label_encoded_random_undersampled_Standard, X_test_label_encoded_random_undersampled_Standard, y_train_label_encoded_random_undersampled, y_test),\n",
    "    ('Label Encoded', 'Tomek Links Undersampled', 'Standard'): (X_train_label_encoded_tomeklinks_undersampled_Standard, X_test_label_encoded_tomeklinks_undersampled_Standard, y_train_label_encoded_tomeklinks_undersampled, y_test),\n",
    "\n",
    "    # 4. Label Encoded - Robust Scaling\n",
    "    ('Label Encoded', 'No Sampling', 'Robust'): (X_train_label_encoded_Robust, X_test_label_encoded_Robust, y_train_label_encoded_without_sampling, y_test),\n",
    "    ('Label Encoded', 'Random Oversampled', 'Robust'): (X_train_label_encoded_random_oversampled_Robust, X_test_label_encoded_random_oversampled_Robust, y_train_label_encoded_random_oversampled, y_test),\n",
    "    ('Label Encoded', 'SMOTE Oversampled', 'Robust'): (X_train_label_encoded_smote_oversampled_Robust, X_test_label_encoded_smote_oversampled_Robust, y_train_label_encoded_smote_oversampled, y_test),\n",
    "    ('Label Encoded', 'Random Undersampled', 'Robust'): (X_train_label_encoded_random_undersampled_Robust, X_test_label_encoded_random_undersampled_Robust, y_train_label_encoded_random_undersampled, y_test),\n",
    "    ('Label Encoded', 'Tomek Links Undersampled', 'Robust'): (X_train_label_encoded_tomeklinks_undersampled_Robust, X_test_label_encoded_tomeklinks_undersampled_Robust, y_train_label_encoded_tomeklinks_undersampled, y_test),\n",
    "\n",
    "    # 5. Label Encoded - MaxAbs Scaling\n",
    "    ('Label Encoded', 'No Sampling', 'MaxAbs'): (X_train_label_encoded_MaxAbs, X_test_label_encoded_MaxAbs, y_train_label_encoded_without_sampling, y_test),\n",
    "    ('Label Encoded', 'Random Oversampled', 'MaxAbs'): (X_train_label_encoded_random_oversampled_MaxAbs, X_test_label_encoded_random_oversampled_MaxAbs, y_train_label_encoded_random_oversampled, y_test),\n",
    "    ('Label Encoded', 'SMOTE Oversampled', 'MaxAbs'): (X_train_label_encoded_smote_oversampled_MaxAbs, X_test_label_encoded_smote_oversampled_MaxAbs, y_train_label_encoded_smote_oversampled, y_test),\n",
    "    ('Label Encoded', 'Random Undersampled', 'MaxAbs'): (X_train_label_encoded_random_undersampled_MaxAbs, X_test_label_encoded_random_undersampled_MaxAbs, y_train_label_encoded_random_undersampled, y_test),\n",
    "    ('Label Encoded', 'Tomek Links Undersampled', 'MaxAbs'): (X_train_label_encoded_tomeklinks_undersampled_MaxAbs, X_test_label_encoded_tomeklinks_undersampled_MaxAbs, y_train_label_encoded_tomeklinks_undersampled, y_test),\n",
    "\n",
    "    # 6. One Hot Encoded - No Scaling\n",
    "    ('One Hot Encoded', 'No Sampling', 'No Scaling'): (X_train_one_hot_encoded_no_Scaling, X_test_one_hot_encoded_no_Scaling, y_train_one_hot_encoded_without_sampling, y_test),\n",
    "    ('One Hot Encoded', 'Random Oversampled', 'No Scaling'): (X_train_one_hot_encoded_random_oversampled_no_Scaling, X_test_one_hot_encoded_random_oversampled_no_Scaling, y_train_one_hot_encoded_random_oversampled, y_test),\n",
    "    ('One Hot Encoded', 'SMOTE Oversampled', 'No Scaling'): (X_train_one_hot_encoded_smote_oversampled_no_Scaling, X_test_one_hot_encoded_smote_oversampled_no_Scaling, y_train_one_hot_encoded_smote_oversampled, y_test),\n",
    "    ('One Hot Encoded', 'Random Undersampled', 'No Scaling'): (X_train_one_hot_encoded_random_undersampled_no_Scaling, X_test_one_hot_encoded_random_undersampled_no_Scaling, y_train_one_hot_encoded_random_undersampled, y_test),\n",
    "    ('One Hot Encoded', 'Tomek Links Undersampled', 'No Scaling'): (X_train_one_hot_encoded_tomeklinks_undersampled_no_Scaling, X_test_one_hot_encoded_tomeklinks_undersampled_no_Scaling, y_train_one_hot_encoded_tomeklinks_undersampled, y_test),\n",
    "\n",
    "    # 7. One Hot Encoded - MinMax Scaling\n",
    "    ('One Hot Encoded', 'No Sampling', 'MinMax'): (X_train_one_hot_encoded_MinMax, X_test_one_hot_encoded_MinMax, y_train_one_hot_encoded_without_sampling, y_test),\n",
    "    ('One Hot Encoded', 'Random Oversampled', 'MinMax'): (X_train_one_hot_encoded_random_oversampled_MinMax, X_test_one_hot_encoded_random_oversampled_MinMax, y_train_one_hot_encoded_random_oversampled, y_test),\n",
    "    ('One Hot Encoded', 'SMOTE Oversampled', 'MinMax'): (X_train_one_hot_encoded_smote_oversampled_MinMax, X_test_one_hot_encoded_smote_oversampled_MinMax, y_train_one_hot_encoded_smote_oversampled, y_test),\n",
    "    ('One Hot Encoded', 'Random Undersampled', 'MinMax'): (X_train_one_hot_encoded_random_undersampled_MinMax, X_test_one_hot_encoded_random_undersampled_MinMax, y_train_one_hot_encoded_random_undersampled, y_test),\n",
    "    ('One Hot Encoded', 'Tomek Links Undersampled', 'MinMax'): (X_train_one_hot_encoded_tomeklinks_undersampled_MinMax, X_test_one_hot_encoded_tomeklinks_undersampled_MinMax, y_train_one_hot_encoded_tomeklinks_undersampled, y_test),\n",
    "\n",
    "    # 8. One Hot Encoded - Standard Scaling\n",
    "    ('One Hot Encoded', 'No Sampling', 'Standard'): (X_train_one_hot_encoded_Standard, X_test_one_hot_encoded_Standard, y_train_one_hot_encoded_without_sampling, y_test),\n",
    "    ('One Hot Encoded', 'Random Oversampled', 'Standard'): (X_train_one_hot_encoded_random_oversampled_Standard, X_test_one_hot_encoded_random_oversampled_Standard, y_train_one_hot_encoded_random_oversampled, y_test),\n",
    "    ('One Hot Encoded', 'SMOTE Oversampled', 'Standard'): (X_train_one_hot_encoded_smote_oversampled_Standard, X_test_one_hot_encoded_smote_oversampled_Standard, y_train_one_hot_encoded_smote_oversampled, y_test),\n",
    "    ('One Hot Encoded', 'Random Undersampled', 'Standard'): (X_train_one_hot_encoded_random_undersampled_Standard, X_test_one_hot_encoded_random_undersampled_Standard, y_train_one_hot_encoded_random_undersampled, y_test),\n",
    "    ('One Hot Encoded', 'Tomek Links Undersampled', 'Standard'): (X_train_one_hot_encoded_tomeklinks_undersampled_Standard, X_test_one_hot_encoded_tomeklinks_undersampled_Standard, y_train_one_hot_encoded_tomeklinks_undersampled, y_test),\n",
    "\n",
    "    # 9. One Hot Encoded - Robust Scaling\n",
    "    ('One Hot Encoded', 'No Sampling', 'Robust'): (X_train_one_hot_encoded_Robust, X_test_one_hot_encoded_Robust, y_train_one_hot_encoded_without_sampling, y_test),\n",
    "    ('One Hot Encoded', 'Random Oversampled', 'Robust'): (X_train_one_hot_encoded_random_oversampled_Robust, X_test_one_hot_encoded_random_oversampled_Robust, y_train_one_hot_encoded_random_oversampled, y_test),\n",
    "    ('One Hot Encoded', 'SMOTE Oversampled', 'Robust'): (X_train_one_hot_encoded_smote_oversampled_Robust, X_test_one_hot_encoded_smote_oversampled_Robust, y_train_one_hot_encoded_smote_oversampled, y_test),\n",
    "    ('One Hot Encoded', 'Random Undersampled', 'Robust'): (X_train_one_hot_encoded_random_undersampled_Robust, X_test_one_hot_encoded_random_undersampled_Robust, y_train_one_hot_encoded_random_undersampled, y_test),\n",
    "    ('One Hot Encoded', 'Tomek Links Undersampled', 'Robust'): (X_train_one_hot_encoded_tomeklinks_undersampled_Robust, X_test_one_hot_encoded_tomeklinks_undersampled_Robust, y_train_one_hot_encoded_tomeklinks_undersampled, y_test),\n",
    "\n",
    "    # 10. One Hot Encoded - MaxAbs Scaling\n",
    "    ('One Hot Encoded', 'No Sampling', 'MaxAbs'): (X_train_one_hot_encoded_MaxAbs, X_test_one_hot_encoded_MaxAbs, y_train_one_hot_encoded_without_sampling, y_test),\n",
    "    ('One Hot Encoded', 'Random Oversampled', 'MaxAbs'): (X_train_one_hot_encoded_random_oversampled_MaxAbs, X_test_one_hot_encoded_random_oversampled_MaxAbs, y_train_one_hot_encoded_random_oversampled, y_test),\n",
    "    ('One Hot Encoded', 'SMOTE Oversampled', 'MaxAbs'): (X_train_one_hot_encoded_smote_oversampled_MaxAbs, X_test_one_hot_encoded_smote_oversampled_MaxAbs, y_train_one_hot_encoded_smote_oversampled, y_test),\n",
    "    ('One Hot Encoded', 'Random Undersampled', 'MaxAbs'): (X_train_one_hot_encoded_random_undersampled_MaxAbs, X_test_one_hot_encoded_random_undersampled_MaxAbs, y_train_one_hot_encoded_random_undersampled, y_test),\n",
    "    ('One Hot Encoded', 'Tomek Links Undersampled', 'MaxAbs'): (X_train_one_hot_encoded_tomeklinks_undersampled_MaxAbs, X_test_one_hot_encoded_tomeklinks_undersampled_MaxAbs, y_train_one_hot_encoded_tomeklinks_undersampled, y_test),\n",
    "\n",
    "    # 11. Target Encoded - No Scaling\n",
    "    ('Target Encoded', 'No Sampling', 'No Scaling'): (X_train_target_encoded_no_Scaling, X_test_target_encoded_no_Scaling, y_train_target_encoded_without_sampling, y_test),\n",
    "    ('Target Encoded', 'Random Oversampled', 'No Scaling'): (X_train_target_encoded_random_oversampled_no_Scaling, X_test_target_encoded_random_oversampled_no_Scaling, y_train_target_encoded_random_oversampled, y_test),\n",
    "    ('Target Encoded', 'SMOTE Oversampled', 'No Scaling'): (X_train_target_encoded_smote_oversampled_no_Scaling, X_test_target_encoded_smote_oversampled_no_Scaling, y_train_target_encoded_smote_oversampled, y_test),\n",
    "    ('Target Encoded', 'Random Undersampled', 'No Scaling'): (X_train_target_encoded_random_undersampled_no_Scaling, X_test_target_encoded_random_undersampled_no_Scaling, y_train_target_encoded_random_undersampled, y_test),\n",
    "    ('Target Encoded', 'Tomek Links Undersampled', 'No Scaling'): (X_train_target_encoded_tomeklinks_undersampled_no_Scaling, X_test_target_encoded_tomeklinks_undersampled_no_Scaling, y_train_target_encoded_tomeklinks_undersampled, y_test),\n",
    "\n",
    "    # 12. Target Encoded - MinMax Scaling\n",
    "    ('Target Encoded', 'No Sampling', 'MinMax'): (X_train_target_encoded_MinMax, X_test_target_encoded_MinMax, y_train_target_encoded_without_sampling, y_test),\n",
    "    ('Target Encoded', 'Random Oversampled', 'MinMax'): (X_train_target_encoded_random_oversampled_MinMax, X_test_target_encoded_random_oversampled_MinMax, y_train_target_encoded_random_oversampled, y_test),\n",
    "    ('Target Encoded', 'SMOTE Oversampled', 'MinMax'): (X_train_target_encoded_smote_oversampled_MinMax, X_test_target_encoded_smote_oversampled_MinMax, y_train_target_encoded_smote_oversampled, y_test),\n",
    "    ('Target Encoded', 'Random Undersampled', 'MinMax'): (X_train_target_encoded_random_undersampled_MinMax, X_test_target_encoded_random_undersampled_MinMax, y_train_target_encoded_random_undersampled, y_test),\n",
    "    ('Target Encoded', 'Tomek Links Undersampled', 'MinMax'): (X_train_target_encoded_tomeklinks_undersampled_MinMax, X_test_target_encoded_tomeklinks_undersampled_MinMax, y_train_target_encoded_tomeklinks_undersampled, y_test),\n",
    "\n",
    "    # 13. Target Encoded - Standard Scaling\n",
    "    ('Target Encoded', 'No Sampling', 'Standard'): (X_train_target_encoded_Standard, X_test_target_encoded_Standard, y_train_target_encoded_without_sampling, y_test),\n",
    "    ('Target Encoded', 'Random Oversampled', 'Standard'): (X_train_target_encoded_random_oversampled_Standard, X_test_target_encoded_random_oversampled_Standard, y_train_target_encoded_random_oversampled, y_test),\n",
    "    ('Target Encoded', 'SMOTE Oversampled', 'Standard'): (X_train_target_encoded_smote_oversampled_Standard, X_test_target_encoded_smote_oversampled_Standard, y_train_target_encoded_smote_oversampled, y_test),\n",
    "    ('Target Encoded', 'Random Undersampled', 'Standard'): (X_train_target_encoded_random_undersampled_Standard, X_test_target_encoded_random_undersampled_Standard, y_train_target_encoded_random_undersampled, y_test),\n",
    "    ('Target Encoded', 'Tomek Links Undersampled', 'Standard'): (X_train_target_encoded_tomeklinks_undersampled_Standard, X_test_target_encoded_tomeklinks_undersampled_Standard, y_train_target_encoded_tomeklinks_undersampled, y_test),\n",
    "\n",
    "    # 14. Target Encoded - Robust Scaling\n",
    "    ('Target Encoded', 'No Sampling', 'Robust'): (X_train_target_encoded_Robust, X_test_target_encoded_Robust, y_train_target_encoded_without_sampling, y_test),\n",
    "    ('Target Encoded', 'Random Oversampled', 'Robust'): (X_train_target_encoded_random_oversampled_Robust, X_test_target_encoded_random_oversampled_Robust, y_train_target_encoded_random_oversampled, y_test),\n",
    "    ('Target Encoded', 'SMOTE Oversampled', 'Robust'): (X_train_target_encoded_smote_oversampled_Robust, X_test_target_encoded_smote_oversampled_Robust, y_train_target_encoded_smote_oversampled, y_test),\n",
    "    ('Target Encoded', 'Random Undersampled', 'Robust'): (X_train_target_encoded_random_undersampled_Robust, X_test_target_encoded_random_undersampled_Robust, y_train_target_encoded_random_undersampled, y_test),\n",
    "    ('Target Encoded', 'Tomek Links Undersampled', 'Robust'): (X_train_target_encoded_tomeklinks_undersampled_Robust, X_test_target_encoded_tomeklinks_undersampled_Robust, y_train_target_encoded_tomeklinks_undersampled, y_test),\n",
    "\n",
    "    # 15. Target Encoded - MaxAbs Scaling\n",
    "    ('Target Encoded', 'No Sampling', 'MaxAbs'): (X_train_target_encoded_MaxAbs, X_test_target_encoded_MaxAbs, y_train_target_encoded_without_sampling, y_test),\n",
    "    ('Target Encoded', 'Random Oversampled', 'MaxAbs'): (X_train_target_encoded_random_oversampled_MaxAbs, X_test_target_encoded_random_oversampled_MaxAbs, y_train_target_encoded_random_oversampled, y_test),\n",
    "    ('Target Encoded', 'SMOTE Oversampled', 'MaxAbs'): (X_train_target_encoded_smote_oversampled_MaxAbs, X_test_target_encoded_smote_oversampled_MaxAbs, y_train_target_encoded_smote_oversampled, y_test),\n",
    "    ('Target Encoded', 'Random Undersampled', 'MaxAbs'): (X_train_target_encoded_random_undersampled_MaxAbs, X_test_target_encoded_random_undersampled_MaxAbs, y_train_target_encoded_random_undersampled, y_test),\n",
    "    ('Target Encoded', 'Tomek Links Undersampled', 'MaxAbs'): (X_train_target_encoded_tomeklinks_undersampled_MaxAbs, X_test_target_encoded_tomeklinks_undersampled_MaxAbs, y_train_target_encoded_tomeklinks_undersampled, y_test),\n",
    "\n",
    "    # 16. Leave One Out Encoded - No Scaling\n",
    "    ('Leave One Out Encoded', 'No Sampling', 'No Scaling'): (X_train_loo_encoded_no_Scaling, X_test_loo_encoded_no_Scaling, y_train_loo_encoded_without_sampling, y_test),\n",
    "    ('Leave One Out Encoded', 'Random Oversampled', 'No Scaling'): (X_train_loo_encoded_random_oversampled_no_Scaling, X_test_loo_encoded_random_oversampled_no_Scaling, y_train_loo_encoded_random_oversampled, y_test),\n",
    "    ('Leave One Out Encoded', 'SMOTE Oversampled', 'No Scaling'): (X_train_loo_encoded_smote_oversampled_no_Scaling, X_test_loo_encoded_smote_oversampled_no_Scaling, y_train_loo_encoded_smote_oversampled, y_test),\n",
    "    ('Leave One Out Encoded', 'Random Undersampled', 'No Scaling'): (X_train_loo_encoded_random_undersampled_no_Scaling, X_test_loo_encoded_random_undersampled_no_Scaling, y_train_loo_encoded_random_undersampled, y_test),\n",
    "    ('Leave One Out Encoded', 'Tomek Links Undersampled', 'No Scaling'): (X_train_loo_encoded_tomeklinks_undersampled_no_Scaling, X_test_loo_encoded_tomeklinks_undersampled_no_Scaling, y_train_loo_encoded_tomeklinks_undersampled, y_test),\n",
    "\n",
    "    # 17. Leave One Out Encoded - MinMax Scaling\n",
    "    ('Leave One Out Encoded', 'No Sampling', 'MinMax'): (X_train_loo_encoded_MinMax, X_test_loo_encoded_MinMax, y_train_loo_encoded_without_sampling, y_test),\n",
    "    ('Leave One Out Encoded', 'Random Oversampled', 'MinMax'): (X_train_loo_encoded_random_oversampled_MinMax, X_test_loo_encoded_random_oversampled_MinMax, y_train_loo_encoded_random_oversampled, y_test),\n",
    "    ('Leave One Out Encoded', 'SMOTE Oversampled', 'MinMax'): (X_train_loo_encoded_smote_oversampled_MinMax, X_test_loo_encoded_smote_oversampled_MinMax, y_train_loo_encoded_smote_oversampled, y_test),\n",
    "    ('Leave One Out Encoded', 'Random Undersampled', 'MinMax'): (X_train_loo_encoded_random_undersampled_MinMax, X_test_loo_encoded_random_undersampled_MinMax, y_train_loo_encoded_random_undersampled, y_test),\n",
    "    ('Leave One Out Encoded', 'Tomek Links Undersampled', 'MinMax'): (X_train_loo_encoded_tomeklinks_undersampled_MinMax, X_test_loo_encoded_tomeklinks_undersampled_MinMax, y_train_loo_encoded_tomeklinks_undersampled, y_test),\n",
    "\n",
    "    # 18. Leave One Out Encoded - Standard Scaling\n",
    "    ('Leave One Out Encoded', 'No Sampling', 'Standard'): (X_train_loo_encoded_Standard, X_test_loo_encoded_Standard, y_train_loo_encoded_without_sampling, y_test),\n",
    "    ('Leave One Out Encoded', 'Random Oversampled', 'Standard'): (X_train_loo_encoded_random_oversampled_Standard, X_test_loo_encoded_random_oversampled_Standard, y_train_loo_encoded_random_oversampled, y_test),\n",
    "    ('Leave One Out Encoded', 'SMOTE Oversampled', 'Standard'): (X_train_loo_encoded_smote_oversampled_Standard, X_test_loo_encoded_smote_oversampled_Standard, y_train_loo_encoded_smote_oversampled, y_test),\n",
    "    ('Leave One Out Encoded', 'Random Undersampled', 'Standard'): (X_train_loo_encoded_random_undersampled_Standard, X_test_loo_encoded_random_undersampled_Standard, y_train_loo_encoded_random_undersampled, y_test),\n",
    "    ('Leave One Out Encoded', 'Tomek Links Undersampled', 'Standard'): (X_train_loo_encoded_tomeklinks_undersampled_Standard, X_test_loo_encoded_tomeklinks_undersampled_Standard, y_train_loo_encoded_tomeklinks_undersampled, y_test),\n",
    "\n",
    "    # 19. Leave One Out Encoded - Robust Scaling\n",
    "    ('Leave One Out Encoded', 'No Sampling', 'Robust'): (X_train_loo_encoded_Robust, X_test_loo_encoded_Robust, y_train_loo_encoded_without_sampling, y_test),\n",
    "    ('Leave One Out Encoded', 'Random Oversampled', 'Robust'): (X_train_loo_encoded_random_oversampled_Robust, X_test_loo_encoded_random_oversampled_Robust, y_train_loo_encoded_random_oversampled, y_test),\n",
    "    ('Leave One Out Encoded', 'SMOTE Oversampled', 'Robust'): (X_train_loo_encoded_smote_oversampled_Robust, X_test_loo_encoded_smote_oversampled_Robust, y_train_loo_encoded_smote_oversampled, y_test),\n",
    "    ('Leave One Out Encoded', 'Random Undersampled', 'Robust'): (X_train_loo_encoded_random_undersampled_Robust, X_test_loo_encoded_random_undersampled_Robust, y_train_loo_encoded_random_undersampled, y_test),\n",
    "    ('Leave One Out Encoded', 'Tomek Links Undersampled', 'Robust'): (X_train_loo_encoded_tomeklinks_undersampled_Robust, X_test_loo_encoded_tomeklinks_undersampled_Robust, y_train_loo_encoded_tomeklinks_undersampled, y_test),\n",
    "\n",
    "    # 20. Leave One Out Encoded - MaxAbs Scaling\n",
    "    ('Leave One Out Encoded', 'No Sampling', 'MaxAbs'): (X_train_loo_encoded_MaxAbs, X_test_loo_encoded_MaxAbs, y_train_loo_encoded_without_sampling, y_test),\n",
    "    ('Leave One Out Encoded', 'Random Oversampled', 'MaxAbs'): (X_train_loo_encoded_random_oversampled_MaxAbs, X_test_loo_encoded_random_oversampled_MaxAbs, y_train_loo_encoded_random_oversampled, y_test),\n",
    "    ('Leave One Out Encoded', 'SMOTE Oversampled', 'MaxAbs'): (X_train_loo_encoded_smote_oversampled_MaxAbs, X_test_loo_encoded_smote_oversampled_MaxAbs, y_train_loo_encoded_smote_oversampled, y_test),\n",
    "    ('Leave One Out Encoded', 'Random Undersampled', 'MaxAbs'): (X_train_loo_encoded_random_undersampled_MaxAbs, X_test_loo_encoded_random_undersampled_MaxAbs, y_train_loo_encoded_random_undersampled, y_test),\n",
    "    ('Leave One Out Encoded', 'Tomek Links Undersampled', 'MaxAbs'): (X_train_loo_encoded_tomeklinks_undersampled_MaxAbs, X_test_loo_encoded_tomeklinks_undersampled_MaxAbs, y_train_loo_encoded_tomeklinks_undersampled, y_test),\n",
    "\n",
    "    # 21. Ordinal Encoded - No Scaling\n",
    "    ('Ordinal Encoded', 'No Sampling', 'No Scaling'): (X_train_ordinal_encoded_no_Scaling, X_test_ordinal_encoded_no_Scaling, y_train_ordinal_encoded_without_sampling, y_test),\n",
    "    ('Ordinal Encoded', 'Random Oversampled', 'No Scaling'): (X_train_ordinal_encoded_random_oversampled_no_Scaling, X_test_ordinal_encoded_random_oversampled_no_Scaling, y_train_ordinal_encoded_random_oversampled, y_test),\n",
    "    ('Ordinal Encoded', 'SMOTE Oversampled', 'No Scaling'): (X_train_ordinal_encoded_smote_oversampled_no_Scaling, X_test_ordinal_encoded_smote_oversampled_no_Scaling, y_train_ordinal_encoded_smote_oversampled, y_test),\n",
    "    ('Ordinal Encoded', 'Random Undersampled', 'No Scaling'): (X_train_ordinal_encoded_random_undersampled_no_Scaling, X_test_ordinal_encoded_random_undersampled_no_Scaling, y_train_ordinal_encoded_random_undersampled, y_test),\n",
    "    ('Ordinal Encoded', 'Tomek Links Undersampled', 'No Scaling'): (X_train_ordinal_encoded_tomeklinks_undersampled_no_Scaling, X_test_ordinal_encoded_tomeklinks_undersampled_no_Scaling, y_train_ordinal_encoded_tomeklinks_undersampled, y_test),\n",
    "\n",
    "    # 22. Ordinal Encoded - MinMax Scaling\n",
    "    ('Ordinal Encoded', 'No Sampling', 'MinMax'): (X_train_ordinal_encoded_MinMax, X_test_ordinal_encoded_MinMax, y_train_ordinal_encoded_without_sampling, y_test),\n",
    "    ('Ordinal Encoded', 'Random Oversampled', 'MinMax'): (X_train_ordinal_encoded_random_oversampled_MinMax, X_test_ordinal_encoded_random_oversampled_MinMax, y_train_ordinal_encoded_random_oversampled, y_test),\n",
    "    ('Ordinal Encoded', 'SMOTE Oversampled', 'MinMax'): (X_train_ordinal_encoded_smote_oversampled_MinMax, X_test_ordinal_encoded_smote_oversampled_MinMax, y_train_ordinal_encoded_smote_oversampled, y_test),\n",
    "    ('Ordinal Encoded', 'Random Undersampled', 'MinMax'): (X_train_ordinal_encoded_random_undersampled_MinMax, X_test_ordinal_encoded_random_undersampled_MinMax, y_train_ordinal_encoded_random_undersampled, y_test),\n",
    "    ('Ordinal Encoded', 'Tomek Links Undersampled', 'MinMax'): (X_train_ordinal_encoded_tomeklinks_undersampled_MinMax, X_test_ordinal_encoded_tomeklinks_undersampled_MinMax, y_train_ordinal_encoded_tomeklinks_undersampled, y_test),\n",
    "\n",
    "    # 23. Ordinal Encoded - Standard Scaling\n",
    "    ('Ordinal Encoded', 'No Sampling', 'Standard'): (X_train_ordinal_encoded_Standard, X_test_ordinal_encoded_Standard, y_train_ordinal_encoded_without_sampling, y_test),\n",
    "    ('Ordinal Encoded', 'Random Oversampled', 'Standard'): (X_train_ordinal_encoded_random_oversampled_Standard, X_test_ordinal_encoded_random_oversampled_Standard, y_train_ordinal_encoded_random_oversampled, y_test),\n",
    "    ('Ordinal Encoded', 'SMOTE Oversampled', 'Standard'): (X_train_ordinal_encoded_smote_oversampled_Standard, X_test_ordinal_encoded_smote_oversampled_Standard, y_train_ordinal_encoded_smote_oversampled, y_test),\n",
    "    ('Ordinal Encoded', 'Random Undersampled', 'Standard'): (X_train_ordinal_encoded_random_undersampled_Standard, X_test_ordinal_encoded_random_undersampled_Standard, y_train_ordinal_encoded_random_undersampled, y_test),\n",
    "    ('Ordinal Encoded', 'Tomek Links Undersampled', 'Standard'): (X_train_ordinal_encoded_tomeklinks_undersampled_Standard, X_test_ordinal_encoded_tomeklinks_undersampled_Standard, y_train_ordinal_encoded_tomeklinks_undersampled, y_test),\n",
    "\n",
    "    # 24. Ordinal Encoded - Robust Scaling\n",
    "    ('Ordinal Encoded', 'No Sampling', 'Robust'): (X_train_ordinal_encoded_Robust, X_test_ordinal_encoded_Robust, y_train_ordinal_encoded_without_sampling, y_test),\n",
    "    ('Ordinal Encoded', 'Random Oversampled', 'Robust'): (X_train_ordinal_encoded_random_oversampled_Robust, X_test_ordinal_encoded_random_oversampled_Robust, y_train_ordinal_encoded_random_oversampled, y_test),\n",
    "    ('Ordinal Encoded', 'SMOTE Oversampled', 'Robust'): (X_train_ordinal_encoded_smote_oversampled_Robust, X_test_ordinal_encoded_smote_oversampled_Robust, y_train_ordinal_encoded_smote_oversampled, y_test),\n",
    "    ('Ordinal Encoded', 'Random Undersampled', 'Robust'): (X_train_ordinal_encoded_random_undersampled_Robust, X_test_ordinal_encoded_random_undersampled_Robust, y_train_ordinal_encoded_random_undersampled, y_test),\n",
    "    ('Ordinal Encoded', 'Tomek Links Undersampled', 'Robust'): (X_train_ordinal_encoded_tomeklinks_undersampled_Robust, X_test_ordinal_encoded_tomeklinks_undersampled_Robust, y_train_ordinal_encoded_tomeklinks_undersampled, y_test),\n",
    "\n",
    "    # 25. Ordinal Encoded - MaxAbs Scaling\n",
    "    ('Ordinal Encoded', 'No Sampling', 'MaxAbs'): (X_train_ordinal_encoded_MaxAbs, X_test_ordinal_encoded_MaxAbs, y_train_ordinal_encoded_without_sampling, y_test),\n",
    "    ('Ordinal Encoded', 'Random Oversampled', 'MaxAbs'): (X_train_ordinal_encoded_random_oversampled_MaxAbs, X_test_ordinal_encoded_random_oversampled_MaxAbs, y_train_ordinal_encoded_random_oversampled, y_test),\n",
    "    ('Ordinal Encoded', 'SMOTE Oversampled', 'MaxAbs'): (X_train_ordinal_encoded_smote_oversampled_MaxAbs, X_test_ordinal_encoded_smote_oversampled_MaxAbs, y_train_ordinal_encoded_smote_oversampled, y_test),\n",
    "    ('Ordinal Encoded', 'Random Undersampled', 'MaxAbs'): (X_train_ordinal_encoded_random_undersampled_MaxAbs, X_test_ordinal_encoded_random_undersampled_MaxAbs, y_train_ordinal_encoded_random_undersampled, y_test),\n",
    "    ('Ordinal Encoded', 'Tomek Links Undersampled', 'MaxAbs'): (X_train_ordinal_encoded_tomeklinks_undersampled_MaxAbs, X_test_ordinal_encoded_tomeklinks_undersampled_MaxAbs, y_train_ordinal_encoded_tomeklinks_undersampled, y_test),\n",
    "\n",
    "    # 26. Mixed Encoded - No Scaling\n",
    "    ('Mixed Encoded', 'No Sampling', 'No Scaling'): (X_train_mixed_encoded_no_Scaling, X_test_mixed_encoded_no_Scaling, y_train_mixed_encoded_without_sampling, y_test),\n",
    "    ('Mixed Encoded', 'Random Oversampled', 'No Scaling'): (X_train_mixed_encoded_random_oversampled_no_Scaling, X_test_mixed_encoded_random_oversampled_no_Scaling, y_train_mixed_encoded_random_oversampled, y_test),\n",
    "    ('Mixed Encoded', 'SMOTE Oversampled', 'No Scaling'): (X_train_mixed_encoded_smote_oversampled_no_Scaling, X_test_mixed_encoded_smote_oversampled_no_Scaling, y_train_mixed_encoded_smote_oversampled, y_test),\n",
    "    ('Mixed Encoded', 'Random Undersampled', 'No Scaling'): (X_train_mixed_encoded_random_undersampled_no_Scaling, X_test_mixed_encoded_random_undersampled_no_Scaling, y_train_mixed_encoded_random_undersampled, y_test),\n",
    "    ('Mixed Encoded', 'Tomek Links Undersampled', 'No Scaling'): (X_train_mixed_encoded_tomeklinks_undersampled_no_Scaling, X_test_mixed_encoded_tomeklinks_undersampled_no_Scaling, y_train_mixed_encoded_tomeklinks_undersampled, y_test),\n",
    "\n",
    "    # 27. Mixed Encoded - MinMax Scaling\n",
    "    ('Mixed Encoded', 'No Sampling', 'MinMax'): (X_train_mixed_encoded_MinMax, X_test_mixed_encoded_MinMax, y_train_mixed_encoded_without_sampling, y_test),\n",
    "    ('Mixed Encoded', 'Random Oversampled', 'MinMax'): (X_train_mixed_encoded_random_oversampled_MinMax, X_test_mixed_encoded_random_oversampled_MinMax, y_train_mixed_encoded_random_oversampled, y_test),\n",
    "    ('Mixed Encoded', 'SMOTE Oversampled', 'MinMax'): (X_train_mixed_encoded_smote_oversampled_MinMax, X_test_mixed_encoded_smote_oversampled_MinMax, y_train_mixed_encoded_smote_oversampled, y_test),\n",
    "    ('Mixed Encoded', 'Random Undersampled', 'MinMax'): (X_train_mixed_encoded_random_undersampled_MinMax, X_test_mixed_encoded_random_undersampled_MinMax, y_train_mixed_encoded_random_undersampled, y_test),\n",
    "    ('Mixed Encoded', 'Tomek Links Undersampled', 'MinMax'): (X_train_mixed_encoded_tomeklinks_undersampled_MinMax, X_test_mixed_encoded_tomeklinks_undersampled_MinMax, y_train_mixed_encoded_tomeklinks_undersampled, y_test),\n",
    "\n",
    "    # 28. Mixed Encoded - Standard Scaling\n",
    "    ('Mixed Encoded', 'No Sampling', 'Standard'): (X_train_mixed_encoded_Standard, X_test_mixed_encoded_Standard, y_train_mixed_encoded_without_sampling, y_test),\n",
    "    ('Mixed Encoded', 'Random Oversampled', 'Standard'): (X_train_mixed_encoded_random_oversampled_Standard, X_test_mixed_encoded_random_oversampled_Standard, y_train_mixed_encoded_random_oversampled, y_test),\n",
    "    ('Mixed Encoded', 'SMOTE Oversampled', 'Standard'): (X_train_mixed_encoded_smote_oversampled_Standard, X_test_mixed_encoded_smote_oversampled_Standard, y_train_mixed_encoded_smote_oversampled, y_test),\n",
    "    ('Mixed Encoded', 'Random Undersampled', 'Standard'): (X_train_mixed_encoded_random_undersampled_Standard, X_test_mixed_encoded_random_undersampled_Standard, y_train_mixed_encoded_random_undersampled, y_test),\n",
    "    ('Mixed Encoded', 'Tomek Links Undersampled', 'Standard'): (X_train_mixed_encoded_tomeklinks_undersampled_Standard, X_test_mixed_encoded_tomeklinks_undersampled_Standard, y_train_mixed_encoded_tomeklinks_undersampled, y_test),\n",
    "\n",
    "    # 29. Mixed Encoded - Robust Scaling\n",
    "    ('Mixed Encoded', 'No Sampling', 'Robust'): (X_train_mixed_encoded_Robust, X_test_mixed_encoded_Robust, y_train_mixed_encoded_without_sampling, y_test),\n",
    "    ('Mixed Encoded', 'Random Oversampled', 'Robust'): (X_train_mixed_encoded_random_oversampled_Robust, X_test_mixed_encoded_random_oversampled_Robust, y_train_mixed_encoded_random_oversampled, y_test),\n",
    "    ('Mixed Encoded', 'SMOTE Oversampled', 'Robust'): (X_train_mixed_encoded_smote_oversampled_Robust, X_test_mixed_encoded_smote_oversampled_Robust, y_train_mixed_encoded_smote_oversampled, y_test),\n",
    "    ('Mixed Encoded', 'Random Undersampled', 'Robust'): (X_train_mixed_encoded_random_undersampled_Robust, X_test_mixed_encoded_random_undersampled_Robust, y_train_mixed_encoded_random_undersampled, y_test),\n",
    "    ('Mixed Encoded', 'Tomek Links Undersampled', 'Robust'): (X_train_mixed_encoded_tomeklinks_undersampled_Robust, X_test_mixed_encoded_tomeklinks_undersampled_Robust, y_train_mixed_encoded_tomeklinks_undersampled, y_test),\n",
    "\n",
    "    # 30. Mixed Encoded - MaxAbs Scaling\n",
    "    ('Mixed Encoded', 'No Sampling', 'MaxAbs'): (X_train_mixed_encoded_MaxAbs, X_test_mixed_encoded_MaxAbs, y_train_mixed_encoded_without_sampling, y_test),\n",
    "    ('Mixed Encoded', 'Random Oversampled', 'MaxAbs'): (X_train_mixed_encoded_random_oversampled_MaxAbs, X_test_mixed_encoded_random_oversampled_MaxAbs, y_train_mixed_encoded_random_oversampled, y_test),\n",
    "    ('Mixed Encoded', 'SMOTE Oversampled', 'MaxAbs'): (X_train_mixed_encoded_smote_oversampled_MaxAbs, X_test_mixed_encoded_smote_oversampled_MaxAbs, y_train_mixed_encoded_smote_oversampled, y_test),\n",
    "    ('Mixed Encoded', 'Random Undersampled', 'MaxAbs'): (X_train_mixed_encoded_random_undersampled_MaxAbs, X_test_mixed_encoded_random_undersampled_MaxAbs, y_train_mixed_encoded_random_undersampled, y_test),\n",
    "    ('Mixed Encoded', 'Tomek Links Undersampled', 'MaxAbs'): (X_train_mixed_encoded_tomeklinks_undersampled_MaxAbs, X_test_mixed_encoded_tomeklinks_undersampled_MaxAbs, y_train_mixed_encoded_tomeklinks_undersampled, y_test),\n",
    "    \n",
    "}"
   ]
  },
  {
   "cell_type": "markdown",
   "id": "bd97c464-e167-4d3b-a282-9170b0d6bafb",
   "metadata": {},
   "source": [
    "- 2"
   ]
  },
  {
   "cell_type": "code",
   "execution_count": null,
   "id": "402449ef-34e8-4451-b379-2c61ad02223d",
   "metadata": {
    "execution": {
     "iopub.execute_input": "2024-10-22T12:25:04.922929Z",
     "iopub.status.busy": "2024-10-22T12:25:04.922929Z",
     "iopub.status.idle": "2024-10-22T12:40:57.537850Z",
     "shell.execute_reply": "2024-10-22T12:40:57.536757Z",
     "shell.execute_reply.started": "2024-10-22T12:25:04.922929Z"
    },
    "scrolled": true
   },
   "outputs": [],
   "source": [
    "from sklearn.linear_model import LogisticRegression\n",
    "from sklearn.neighbors import KNeighborsClassifier\n",
    "from sklearn.ensemble import RandomForestClassifier\n",
    "from sklearn.metrics import accuracy_score\n",
    "import warnings\n",
    "from sklearn.exceptions import ConvergenceWarning\n",
    "warnings.filterwarnings(\"ignore\", category=ConvergenceWarning)\n",
    "\n",
    "encodings = ['Label Encoded', 'One Hot Encoded', 'Target Encoded', 'Leave One Out Encoded', 'Ordinal Encoded', 'Mixed Encoded']\n",
    "samplings = ['No Sampling', 'Random Oversampled', 'SMOTE Oversampled', 'Random Undersampled', 'Tomek Links Undersampled']\n",
    "scalings  = ['No Scaling', 'MinMax', 'Standard', 'Robust', 'MaxAbs']\n",
    "\n",
    "models = {\n",
    "    'Logistic Regression': LogisticRegression(max_iter=2_000),\n",
    "    'KNN'                : KNeighborsClassifier(),\n",
    "    'Random Forest'      : RandomForestClassifier(random_state=42)\n",
    "}\n",
    "\n",
    "results            = {}\n",
    "combination_number = 1\n",
    "\n",
    "for encoding in encodings:\n",
    "    for sampling in samplings:\n",
    "        for scaling in scalings:\n",
    "            combination_key                  = f'{combination_number}. {encoding} - {sampling} - {scaling}'\n",
    "            X_train, X_test, y_train, y_test = data_dict[(encoding, sampling, scaling)]\n",
    "\n",
    "            print(f\"Evaluating {combination_key}\")\n",
    "            results[combination_key] = {}\n",
    "\n",
    "            for model_name, model in models.items():\n",
    "                model.fit(X_train, y_train)\n",
    "                y_pred = model.predict(X_test)\n",
    "                accuracy = accuracy_score(y_test, y_pred)\n",
    "                results[combination_key][model_name] = accuracy\n",
    "                print(f\"\\t- {model_name:20}: Accuracy = {accuracy:.3f}\")\n",
    "\n",
    "            combination_number += 1\n",
    "            print(\"*\" * 50)"
   ]
  },
  {
   "cell_type": "markdown",
   "id": "fd2d9a9d-9b4d-4c33-a700-2ad6378efc37",
   "metadata": {},
   "source": [
    "- 3"
   ]
  },
  {
   "cell_type": "code",
   "execution_count": null,
   "id": "7c5bd50a-2987-4321-8b20-fa5925e40755",
   "metadata": {
    "execution": {
     "iopub.execute_input": "2024-10-22T12:40:57.763350Z",
     "iopub.status.busy": "2024-10-22T12:40:57.762350Z",
     "iopub.status.idle": "2024-10-22T12:40:57.775511Z",
     "shell.execute_reply": "2024-10-22T12:40:57.775187Z",
     "shell.execute_reply.started": "2024-10-22T12:40:57.763350Z"
    }
   },
   "outputs": [],
   "source": [
    "pd.DataFrame(results).T.round(3)"
   ]
  },
  {
   "cell_type": "markdown",
   "id": "9c294d93-da91-4023-a374-f7a9cd3eea3b",
   "metadata": {},
   "source": [
    "- 4"
   ]
  },
  {
   "cell_type": "code",
   "execution_count": null,
   "id": "806aa577-7181-44e8-877a-a1ffd942b6ea",
   "metadata": {
    "execution": {
     "iopub.execute_input": "2024-10-22T12:40:57.992726Z",
     "iopub.status.busy": "2024-10-22T12:40:57.992726Z",
     "iopub.status.idle": "2024-10-22T12:40:58.001436Z",
     "shell.execute_reply": "2024-10-22T12:40:58.001436Z",
     "shell.execute_reply.started": "2024-10-22T12:40:57.992726Z"
    }
   },
   "outputs": [],
   "source": [
    "results_df                     = pd.DataFrame.from_dict(results, orient='index')\n",
    "results_df['Average Accuracy'] = results_df.mean(axis=1)\n",
    "results_df_sorted              = results_df.sort_values(by='Average Accuracy', ascending=False)\n",
    "\n",
    "top_5_combinations = results_df_sorted.head(5)\n",
    "top_5_combinations"
   ]
  },
  {
   "cell_type": "markdown",
   "id": "1b0ed3ab-1c36-43b4-acd6-d603625c00f1",
   "metadata": {},
   "source": [
    "- 5"
   ]
  },
  {
   "cell_type": "code",
   "execution_count": null,
   "id": "cd514d5a-696d-4b25-ba65-255a86259424",
   "metadata": {
    "execution": {
     "iopub.execute_input": "2024-10-22T12:40:58.227699Z",
     "iopub.status.busy": "2024-10-22T12:40:58.227699Z",
     "iopub.status.idle": "2024-10-22T12:40:58.235213Z",
     "shell.execute_reply": "2024-10-22T12:40:58.235213Z",
     "shell.execute_reply.started": "2024-10-22T12:40:58.227699Z"
    }
   },
   "outputs": [],
   "source": [
    "worst_5_combinations = results_df_sorted.tail(5)\n",
    "worst_5_combinations"
   ]
  },
  {
   "cell_type": "markdown",
   "id": "aeb880a6-95ac-44fe-804d-c82bd581e4d9",
   "metadata": {},
   "source": [
    "### `Section 9` - Model Selection"
   ]
  },
  {
   "cell_type": "markdown",
   "id": "4969f524-206b-4602-8db5-5987fd2be387",
   "metadata": {},
   "source": [
    "- 1"
   ]
  },
  {
   "cell_type": "code",
   "execution_count": null,
   "id": "aac24a30-d423-4583-ac6c-59fd595e139a",
   "metadata": {
    "execution": {
     "iopub.execute_input": "2024-10-22T12:40:58.686776Z",
     "iopub.status.busy": "2024-10-22T12:40:58.685772Z",
     "iopub.status.idle": "2024-10-22T12:41:00.545539Z",
     "shell.execute_reply": "2024-10-22T12:41:00.545539Z",
     "shell.execute_reply.started": "2024-10-22T12:40:58.686776Z"
    }
   },
   "outputs": [],
   "source": [
    "from sklearn.linear_model import LogisticRegression\n",
    "from sklearn.neighbors import KNeighborsClassifier\n",
    "from sklearn.svm import SVC\n",
    "from sklearn.naive_bayes import GaussianNB\n",
    "from sklearn.tree import DecisionTreeClassifier\n",
    "from sklearn.ensemble import RandomForestClassifier, GradientBoostingClassifier, AdaBoostClassifier, ExtraTreesClassifier\n",
    "from sklearn.ensemble import BaggingClassifier, VotingClassifier\n",
    "from xgboost import XGBClassifier\n",
    "from catboost import CatBoostClassifier\n",
    "from lightgbm import LGBMClassifier\n",
    "\n",
    "models = {\n",
    "    '1. LogisticRegression'         : LogisticRegression(),\n",
    "    '2. KNeighborsClassifier'       : KNeighborsClassifier(),\n",
    "    '3. SVC'                        : SVC(),\n",
    "    '4. GaussianNB'                 : GaussianNB(),\n",
    "    '5. DecisionTreeClassifier'     : DecisionTreeClassifier(),\n",
    "    '6. RandomForestClassifier'     : RandomForestClassifier(),\n",
    "    '7. GradientBoostingClassifier' : GradientBoostingClassifier(),\n",
    "    '8. AdaBoostClassifier'         : AdaBoostClassifier(algorithm='SAMME'),\n",
    "    '9. XGBClassifier'              : XGBClassifier(),\n",
    "    '10. CatBoostClassifier'        : CatBoostClassifier(silent=True),\n",
    "    '11. LGBMClassifier'            : LGBMClassifier(verbose=-1),\n",
    "    '12. ExtraTreesClassifier'      : ExtraTreesClassifier(),\n",
    "    '13. BaggingClassifier'         : BaggingClassifier(),\n",
    "    '14. VotingClassifier'          : VotingClassifier(\n",
    "        estimators=[\n",
    "            ('logistic', LogisticRegression()),\n",
    "            ('random_forest', RandomForestClassifier()),\n",
    "            ('catboost', CatBoostClassifier(silent=True))\n",
    "        ],\n",
    "        voting='soft'  \n",
    "    ),\n",
    "}"
   ]
  },
  {
   "cell_type": "markdown",
   "id": "a86ad426-5511-4530-ae2e-d4b021406ac9",
   "metadata": {},
   "source": [
    "- 2"
   ]
  },
  {
   "cell_type": "code",
   "execution_count": null,
   "id": "60793ac3-84e3-4833-9de8-968e5d02d34d",
   "metadata": {
    "execution": {
     "iopub.execute_input": "2024-10-22T12:41:00.817995Z",
     "iopub.status.busy": "2024-10-22T12:41:00.817117Z",
     "iopub.status.idle": "2024-10-22T12:45:05.261751Z",
     "shell.execute_reply": "2024-10-22T12:45:05.260756Z",
     "shell.execute_reply.started": "2024-10-22T12:41:00.817995Z"
    }
   },
   "outputs": [],
   "source": [
    "from sklearn.model_selection import cross_val_score\n",
    "\n",
    "results = {}\n",
    "for model_name, model in models.items():\n",
    "    print(f\"Training {model_name}...\")\n",
    "    scores              = cross_val_score(model, X_train_mixed_encoded_Standard, y_train_mixed_encoded_without_sampling,\n",
    "                                          cv=5, scoring='accuracy')\n",
    "    results[model_name] = np.mean(scores)\n",
    "    \n",
    "    print(f\"\\tMean Accuracy: {np.mean(scores):.3f} (+/- {np.std(scores):.3f})\")\n",
    "    print(\"*\" * 50)"
   ]
  },
  {
   "cell_type": "markdown",
   "id": "0bebf1e4-4ff2-4f27-ab62-1ccf129669c0",
   "metadata": {},
   "source": [
    "- 3"
   ]
  },
  {
   "cell_type": "code",
   "execution_count": null,
   "id": "ed7d055a-7230-4ca9-85b8-76ffd961e86c",
   "metadata": {
    "execution": {
     "iopub.execute_input": "2024-10-22T12:45:05.577174Z",
     "iopub.status.busy": "2024-10-22T12:45:05.577174Z",
     "iopub.status.idle": "2024-10-22T12:45:05.587317Z",
     "shell.execute_reply": "2024-10-22T12:45:05.587317Z",
     "shell.execute_reply.started": "2024-10-22T12:45:05.577174Z"
    }
   },
   "outputs": [],
   "source": [
    "results_df = pd.DataFrame.from_dict(results, orient='index', columns=['Mean Accuracy'])\n",
    "results_df = results_df.sort_values(by='Mean Accuracy', ascending=False)\n",
    "\n",
    "results_df.round(3)"
   ]
  },
  {
   "cell_type": "markdown",
   "id": "0116644a-1fce-49a5-b880-a5e78c69287e",
   "metadata": {},
   "source": [
    "- 4"
   ]
  },
  {
   "cell_type": "code",
   "execution_count": null,
   "id": "94c5efd8-d244-47e2-a2dd-5e770c78db77",
   "metadata": {
    "execution": {
     "iopub.execute_input": "2024-10-22T12:45:05.833088Z",
     "iopub.status.busy": "2024-10-22T12:45:05.832087Z",
     "iopub.status.idle": "2024-10-22T12:45:05.836956Z",
     "shell.execute_reply": "2024-10-22T12:45:05.836956Z",
     "shell.execute_reply.started": "2024-10-22T12:45:05.833088Z"
    }
   },
   "outputs": [],
   "source": [
    "def annotate_bars_vertically(ax):\n",
    "    for p in ax.patches:\n",
    "        if p.get_height() > 0:\n",
    "            ax.annotate(f'{p.get_height(): .3f}',  \n",
    "                        (p.get_x() + p.get_width() / 2., p.get_height()),  \n",
    "                        ha='center', \n",
    "                        va='center',  \n",
    "                        fontsize=10,  \n",
    "                        color='black',  \n",
    "                        xytext=(0, 5),\n",
    "                        textcoords='offset points')"
   ]
  },
  {
   "cell_type": "code",
   "execution_count": null,
   "id": "f74e57e6-8655-4036-8b0a-925b332ea063",
   "metadata": {
    "execution": {
     "iopub.execute_input": "2024-10-22T12:45:05.838958Z",
     "iopub.status.busy": "2024-10-22T12:45:05.838958Z",
     "iopub.status.idle": "2024-10-22T12:45:06.185788Z",
     "shell.execute_reply": "2024-10-22T12:45:06.184821Z",
     "shell.execute_reply.started": "2024-10-22T12:45:05.838958Z"
    }
   },
   "outputs": [],
   "source": [
    "plt.figure(figsize=(15, 5))\n",
    "ax = sns.barplot(data=results_df.reset_index(), x='index', y='Mean Accuracy', hue='index', palette='coolwarm')\n",
    "annotate_bars_vertically(ax)\n",
    "\n",
    "plt.xticks(rotation=45)\n",
    "plt.title('Mean Accuracy for Different Models', fontsize=15)\n",
    "plt.xlabel('Model', fontsize=12)\n",
    "plt.ylabel('Mean Accuracy', fontsize=12)\n",
    "sns.despine();"
   ]
  },
  {
   "cell_type": "markdown",
   "id": "c92fb36d-29c6-4edb-b8de-93b9f33ac5ad",
   "metadata": {},
   "source": [
    "### `Section 10` - Hyperparameter Tuning"
   ]
  },
  {
   "cell_type": "markdown",
   "id": "a17579c5-5d82-48c3-a498-f60adec06e78",
   "metadata": {},
   "source": [
    "- 1"
   ]
  },
  {
   "cell_type": "code",
   "execution_count": null,
   "id": "4ca090eb-334d-48e2-8201-ce245bc20aa2",
   "metadata": {
    "execution": {
     "iopub.execute_input": "2024-10-22T12:45:06.652348Z",
     "iopub.status.busy": "2024-10-22T12:45:06.651346Z",
     "iopub.status.idle": "2024-10-22T12:56:30.717469Z",
     "shell.execute_reply": "2024-10-22T12:56:30.716468Z",
     "shell.execute_reply.started": "2024-10-22T12:45:06.652348Z"
    }
   },
   "outputs": [],
   "source": [
    "param_distributions_catboost = {\n",
    "    'iterations'      : [100, 200, 300],\n",
    "    'learning_rate'   : [0.01, 0.1, 0.2, 1],\n",
    "    'depth'           : [4, 6, 10, 12],\n",
    "    'l2_leaf_reg'     : [3, 5, 7, 9],\n",
    "    'border_count'    : [32, 50, 100],\n",
    "    'boosting_type'   : ['Ordered', 'Plain']\n",
    "}\n",
    "catboost_model = CatBoostClassifier(silent=True, random_state=42)\n",
    "\n",
    "from sklearn.model_selection import RandomizedSearchCV\n",
    "random_search_catboost = RandomizedSearchCV(\n",
    "    estimator=catboost_model, \n",
    "    param_distributions=param_distributions_catboost, \n",
    "    n_iter=20,  \n",
    "    scoring='accuracy',  \n",
    "    cv=5, \n",
    "    verbose=1,  \n",
    "    n_jobs=-1, \n",
    "    random_state=42\n",
    ")\n",
    "print(\"Training CatBoostClassifier with RandomizedSearchCV...\")\n",
    "random_search_catboost.fit(X_train_mixed_encoded_Standard, y_train_mixed_encoded_without_sampling)\n",
    "\n",
    "print(\"-\" * 50)\n",
    "print(f\"Best Parameters     for CatBoostClassifier: {random_search_catboost.best_params_}\")\n",
    "print(f\"Best Accuracy Score for CatBoostClassifier: {random_search_catboost.best_score_:.3f}\")"
   ]
  },
  {
   "cell_type": "markdown",
   "id": "8b40f8c7-b518-4a95-92e7-6498636e309f",
   "metadata": {},
   "source": [
    "- 2"
   ]
  },
  {
   "cell_type": "code",
   "execution_count": null,
   "id": "426a63ac-28e7-407e-b9c8-a2b391b739c6",
   "metadata": {
    "execution": {
     "iopub.execute_input": "2024-10-22T12:56:31.059853Z",
     "iopub.status.busy": "2024-10-22T12:56:31.058854Z",
     "iopub.status.idle": "2024-10-22T12:58:11.722523Z",
     "shell.execute_reply": "2024-10-22T12:58:11.721529Z",
     "shell.execute_reply.started": "2024-10-22T12:56:31.059853Z"
    }
   },
   "outputs": [],
   "source": [
    "param_distributions_lgbm = {\n",
    "    'n_estimators'     : [50, 100, 200, 300],\n",
    "    'learning_rate'    : [0.01, 0.1, 0.2, 0.3],\n",
    "    'num_leaves'       : [31, 40, 60, 100],\n",
    "    'max_depth'        : [-1, 5, 10, 15],\n",
    "    'min_child_samples': [20, 30, 50],\n",
    "    'subsample'        : [0.8, 0.9, 1.0],\n",
    "    'colsample_bytree' : [0.8, 0.9, 1.0],\n",
    "    'boosting_type'    : ['gbdt', 'dart'],\n",
    "    'reg_alpha'        : [0, 0.1, 0.5],\n",
    "    'reg_lambda'       : [0, 0.1, 0.5]\n",
    "}\n",
    "lgbm_model = LGBMClassifier(random_state=42, verbose=-1)\n",
    "\n",
    "random_search_lgbm = RandomizedSearchCV(\n",
    "    estimator=lgbm_model, \n",
    "    param_distributions=param_distributions_lgbm, \n",
    "    n_iter=20,  \n",
    "    scoring='accuracy',  \n",
    "    cv=5, \n",
    "    verbose=1,  \n",
    "    n_jobs=-1, \n",
    "    random_state=42\n",
    ")\n",
    "print(\"Training LGBMClassifier with RandomizedSearchCV...\")\n",
    "random_search_lgbm.fit(X_train_mixed_encoded_Standard, y_train_mixed_encoded_without_sampling)\n",
    "\n",
    "print(\"-\" * 50)\n",
    "print(f\"Best Parameters     for LGBMClassifier: {random_search_lgbm.best_params_}\")\n",
    "print(f\"Best Accuracy Score for LGBMClassifier: {random_search_lgbm.best_score_:.3f}\")"
   ]
  },
  {
   "cell_type": "markdown",
   "id": "2c51f36c-40b1-451a-810c-fa2e9f5c01d0",
   "metadata": {},
   "source": [
    "- 3"
   ]
  },
  {
   "cell_type": "code",
   "execution_count": null,
   "id": "0753e492-6ade-4e19-84f4-9eb711044bdd",
   "metadata": {
    "execution": {
     "iopub.execute_input": "2024-10-22T12:58:12.096434Z",
     "iopub.status.busy": "2024-10-22T12:58:12.096434Z",
     "iopub.status.idle": "2024-10-22T12:58:44.361781Z",
     "shell.execute_reply": "2024-10-22T12:58:44.361781Z",
     "shell.execute_reply.started": "2024-10-22T12:58:12.096434Z"
    }
   },
   "outputs": [],
   "source": [
    "param_distributions_xgb = {\n",
    "    'n_estimators'    : [25, 50, 100, 200, 300],\n",
    "    'learning_rate'   : [0.01, 0.1, 0.2, 0.3],\n",
    "    'max_depth'       : [3, 5, 7, 10],\n",
    "    'min_child_weight': [1, 3, 5],\n",
    "    'subsample'       : [0.8, 0.9, 1.0],\n",
    "    'colsample_bytree': [0.8, 0.9, 1.0],\n",
    "    'gamma'           : [0, 0.1, 0.2],\n",
    "    'reg_alpha'       : [0, 0.1, 0.5],\n",
    "    'reg_lambda'      : [0, 0.1, 0.5]\n",
    "}\n",
    "xgb_model = XGBClassifier(random_state=42)\n",
    "\n",
    "random_search_xgb = RandomizedSearchCV(\n",
    "    estimator=xgb_model,\n",
    "    param_distributions=param_distributions_xgb,\n",
    "    n_iter=40,\n",
    "    scoring='accuracy',\n",
    "    cv=5,\n",
    "    verbose=1,\n",
    "    n_jobs=-1,\n",
    "    random_state=42\n",
    ")\n",
    "print(\"Training XGBClassifier with RandomizedSearchCV...\")\n",
    "random_search_xgb.fit(X_train_mixed_encoded_Standard, y_train_mixed_encoded_without_sampling)\n",
    "\n",
    "print(\"-\" * 50)\n",
    "print(f\"Best Parameters     for XGBClassifier: {random_search_xgb.best_params_}\")\n",
    "print(f\"Best Accuracy Score for XGBClassifier: {random_search_xgb.best_score_:.3f}\")"
   ]
  },
  {
   "cell_type": "markdown",
   "id": "82849947-c5c2-4416-bff7-37e2578c39d6",
   "metadata": {},
   "source": [
    "- 4"
   ]
  },
  {
   "cell_type": "code",
   "execution_count": null,
   "id": "fd0f7ef5-8ed5-436d-9149-915aef3ff6b0",
   "metadata": {
    "execution": {
     "iopub.execute_input": "2024-10-22T12:58:44.720726Z",
     "iopub.status.busy": "2024-10-22T12:58:44.720726Z",
     "iopub.status.idle": "2024-10-22T13:03:01.601810Z",
     "shell.execute_reply": "2024-10-22T13:03:01.601810Z",
     "shell.execute_reply.started": "2024-10-22T12:58:44.720726Z"
    }
   },
   "outputs": [],
   "source": [
    "param_distributions_rf = {\n",
    "    'n_estimators'     : [10, 50, 100, 200, 300, 400],  \n",
    "    'max_depth'        : [None, 2, 5, 10, 15, 20],\n",
    "    'min_samples_split': [2, 5, 10],\n",
    "    'min_samples_leaf' : [1, 2, 4],\n",
    "    'max_features'     : ['sqrt', 'log2'],\n",
    "    'bootstrap'        : [True, False],\n",
    "    'criterion'        : ['gini', 'entropy']\n",
    "}\n",
    "rf_model = RandomForestClassifier(random_state=42)\n",
    "\n",
    "random_search_rf = RandomizedSearchCV(\n",
    "    estimator=rf_model,\n",
    "    param_distributions=param_distributions_rf,\n",
    "    n_iter=40,  \n",
    "    scoring='accuracy',  \n",
    "    cv=5,  \n",
    "    verbose=1,  \n",
    "    n_jobs=-1,  \n",
    "    random_state=42  \n",
    ")\n",
    "print(\"Training RandomForestClassifier with RandomizedSearchCV...\")\n",
    "random_search_rf.fit(X_train_mixed_encoded_Standard, y_train_mixed_encoded_without_sampling)\n",
    "\n",
    "print(\"-\" * 50)\n",
    "print(f\"Best Parameters     for RandomForestClassifier: {random_search_rf.best_params_}\")\n",
    "print(f\"Best Accuracy Score for RandomForestClassifier: {random_search_rf.best_score_:.3f}\")"
   ]
  },
  {
   "cell_type": "markdown",
   "id": "6204860d-9704-4439-a495-1882d240ba62",
   "metadata": {},
   "source": [
    "- 5"
   ]
  },
  {
   "cell_type": "code",
   "execution_count": null,
   "id": "90cb5a16-3d79-450a-b53b-3fca8a324dda",
   "metadata": {
    "execution": {
     "iopub.execute_input": "2024-10-22T13:03:01.862752Z",
     "iopub.status.busy": "2024-10-22T13:03:01.862752Z",
     "iopub.status.idle": "2024-10-22T13:13:28.981148Z",
     "shell.execute_reply": "2024-10-22T13:13:28.980150Z",
     "shell.execute_reply.started": "2024-10-22T13:03:01.862752Z"
    }
   },
   "outputs": [],
   "source": [
    "from sklearn.model_selection import GridSearchCV\n",
    "\n",
    "catboost_best = CatBoostClassifier(silent=True, random_state=42, \n",
    "                                   learning_rate=0.2, l2_leaf_reg=7, iterations=200, \n",
    "                                   depth=12, border_count=100, boosting_type='Ordered')\n",
    "\n",
    "lgbm_best = LGBMClassifier(random_state=42, verbose=-1, \n",
    "                           subsample=1.0, reg_lambda=0.1, reg_alpha=0, \n",
    "                           num_leaves=40, n_estimators=300, min_child_samples=20, \n",
    "                           max_depth=15, learning_rate=0.2, colsample_bytree=0.8, boosting_type='dart')\n",
    "\n",
    "xgb_best = XGBClassifier(random_state=42, \n",
    "                         subsample=0.9, reg_lambda=0, reg_alpha=0.5, \n",
    "                         n_estimators=100, min_child_weight=5, max_depth=7, \n",
    "                         learning_rate=0.1, gamma=0.1, colsample_bytree=0.9)\n",
    "\n",
    "rf_best = RandomForestClassifier(random_state=42, \n",
    "                                 n_estimators=400, min_samples_split=10, \n",
    "                                 min_samples_leaf=1, max_features='sqrt', \n",
    "                                 max_depth=None, criterion='entropy', bootstrap=False)\n",
    "\n",
    "voting_clf = VotingClassifier(estimators=[\n",
    "    ('catboost', catboost_best),\n",
    "    ('lgbm', lgbm_best),\n",
    "    ('xgb', xgb_best),\n",
    "    ('rf', rf_best)\n",
    "])\n",
    "param_grid_voting = {\n",
    "    'voting': ['soft', 'hard']\n",
    "}\n",
    "grid_search_voting = GridSearchCV(\n",
    "    estimator=voting_clf,\n",
    "    param_grid=param_grid_voting,\n",
    "    scoring='accuracy',\n",
    "    cv=5,\n",
    "    verbose=1,\n",
    "    n_jobs=-1\n",
    ")\n",
    "\n",
    "print(\"Training VotingClassifier with GridSearchCV...\")\n",
    "grid_search_voting.fit(X_train_mixed_encoded_Standard, y_train_mixed_encoded_without_sampling)\n",
    "\n",
    "print(\"-\" * 50)\n",
    "print(f\"Best Voting Method: {grid_search_voting.best_params_['voting']}\")\n",
    "print(f\"Best Accuracy Score for VotingClassifier: {grid_search_voting.best_score_:.3f}\")"
   ]
  },
  {
   "cell_type": "markdown",
   "id": "a4d60b9a-f99d-46c0-9c36-df2ae9bc7bb4",
   "metadata": {},
   "source": [
    "### `Section 11` - Model Evaluation"
   ]
  },
  {
   "cell_type": "markdown",
   "id": "0ba0b063-26ef-44cf-8d5c-ec8fccb5f7df",
   "metadata": {},
   "source": [
    "- 1"
   ]
  },
  {
   "cell_type": "code",
   "execution_count": null,
   "id": "5c30ce83-c626-4cd1-825b-048cf56b2fc2",
   "metadata": {
    "execution": {
     "iopub.execute_input": "2024-10-22T13:13:29.424271Z",
     "iopub.status.busy": "2024-10-22T13:13:29.423269Z",
     "iopub.status.idle": "2024-10-22T13:15:10.282605Z",
     "shell.execute_reply": "2024-10-22T13:15:10.281990Z",
     "shell.execute_reply.started": "2024-10-22T13:13:29.424271Z"
    }
   },
   "outputs": [],
   "source": [
    "X_train_mixed_encoded_Standard = pd.DataFrame(X_train_mixed_encoded_Standard, columns=X_train_mixed_encoded.columns)\n",
    "X_test_mixed_encoded_Standard  = pd.DataFrame(X_test_mixed_encoded_Standard,  columns=X_train_mixed_encoded.columns)\n",
    "\n",
    "voting_clf = VotingClassifier(estimators=[\n",
    "    ('catboost', catboost_best),\n",
    "    ('lgbm', lgbm_best),\n",
    "    ('xgb', xgb_best),\n",
    "    ('rf', rf_best)\n",
    "], voting='soft')\n",
    "\n",
    "voting_clf.fit(X_train_mixed_encoded_Standard, y_train_mixed_encoded_without_sampling)\n",
    "\n",
    "y_test_pred = voting_clf.predict(X_test_mixed_encoded_Standard)"
   ]
  },
  {
   "cell_type": "markdown",
   "id": "8ba7ff63-4f3f-4122-a8e8-104388419141",
   "metadata": {},
   "source": [
    "- 2"
   ]
  },
  {
   "cell_type": "code",
   "execution_count": null,
   "id": "eca6e080-d8d2-4492-8e45-c925e73274c8",
   "metadata": {
    "execution": {
     "iopub.execute_input": "2024-10-22T13:15:10.512027Z",
     "iopub.status.busy": "2024-10-22T13:15:10.512027Z",
     "iopub.status.idle": "2024-10-22T13:15:10.519554Z",
     "shell.execute_reply": "2024-10-22T13:15:10.519554Z",
     "shell.execute_reply.started": "2024-10-22T13:15:10.512027Z"
    }
   },
   "outputs": [],
   "source": [
    "compare_dataframe = pd.DataFrame({\n",
    "    \"Actual Values\"   : y_test,\n",
    "    \"Predicted Values\": y_test_pred\n",
    "})\n",
    "\n",
    "compare_dataframe"
   ]
  },
  {
   "cell_type": "markdown",
   "id": "34a79f32-2fdf-4335-8fa5-2a95611b6bc9",
   "metadata": {},
   "source": [
    "- 3"
   ]
  },
  {
   "cell_type": "code",
   "execution_count": null,
   "id": "479a9a56-eef4-43e1-b663-d409bdbbe030",
   "metadata": {
    "execution": {
     "iopub.execute_input": "2024-10-22T13:15:10.754478Z",
     "iopub.status.busy": "2024-10-22T13:15:10.754478Z",
     "iopub.status.idle": "2024-10-22T13:15:10.979689Z",
     "shell.execute_reply": "2024-10-22T13:15:10.979689Z",
     "shell.execute_reply.started": "2024-10-22T13:15:10.754478Z"
    }
   },
   "outputs": [],
   "source": [
    "sns.histplot(data=compare_dataframe, palette=['red', 'green'], multiple='dodge');"
   ]
  },
  {
   "cell_type": "markdown",
   "id": "b98d154a-3405-4dad-9a27-a14b8937eef5",
   "metadata": {},
   "source": [
    "- 4"
   ]
  },
  {
   "cell_type": "code",
   "execution_count": null,
   "id": "477007ef-e516-45e8-87eb-beec1f384f14",
   "metadata": {
    "execution": {
     "iopub.execute_input": "2024-10-22T13:15:11.235001Z",
     "iopub.status.busy": "2024-10-22T13:15:11.235001Z",
     "iopub.status.idle": "2024-10-22T13:15:11.247528Z",
     "shell.execute_reply": "2024-10-22T13:15:11.246529Z",
     "shell.execute_reply.started": "2024-10-22T13:15:11.235001Z"
    }
   },
   "outputs": [],
   "source": [
    "from sklearn.metrics import confusion_matrix, precision_score, recall_score, f1_score\n",
    "\n",
    "matrix_of_confusion = confusion_matrix(y_test, y_test_pred)\n",
    "print(matrix_of_confusion)"
   ]
  },
  {
   "cell_type": "markdown",
   "id": "2158e804-bac6-4627-ab67-0e9bf3978488",
   "metadata": {},
   "source": [
    "- 5"
   ]
  },
  {
   "cell_type": "code",
   "execution_count": null,
   "id": "43e403d3-bf3c-4b6c-8ea2-0b970c36be00",
   "metadata": {
    "execution": {
     "iopub.execute_input": "2024-10-22T13:15:11.491864Z",
     "iopub.status.busy": "2024-10-22T13:15:11.490865Z",
     "iopub.status.idle": "2024-10-22T13:15:11.615542Z",
     "shell.execute_reply": "2024-10-22T13:15:11.615542Z",
     "shell.execute_reply.started": "2024-10-22T13:15:11.491864Z"
    }
   },
   "outputs": [],
   "source": [
    "from sklearn.metrics import ConfusionMatrixDisplay\n",
    "\n",
    "drawing = ConfusionMatrixDisplay(confusion_matrix=matrix_of_confusion)\n",
    "drawing.plot();"
   ]
  },
  {
   "cell_type": "markdown",
   "id": "4a161d63-145c-43d7-9b05-b142ede3b0e4",
   "metadata": {},
   "source": [
    "- 6"
   ]
  },
  {
   "cell_type": "code",
   "execution_count": null,
   "id": "90585c6b-8050-4f9e-9939-b97b5707e4d1",
   "metadata": {
    "execution": {
     "iopub.execute_input": "2024-10-22T13:15:11.862032Z",
     "iopub.status.busy": "2024-10-22T13:15:11.861032Z",
     "iopub.status.idle": "2024-10-22T13:15:15.117210Z",
     "shell.execute_reply": "2024-10-22T13:15:15.116210Z",
     "shell.execute_reply.started": "2024-10-22T13:15:11.862032Z"
    }
   },
   "outputs": [],
   "source": [
    "from sklearn.metrics import precision_score, recall_score, f1_score, accuracy_score\n",
    "\n",
    "y_train_pred = voting_clf.predict(X_train_mixed_encoded_Standard)\n",
    "y_test_pred  = voting_clf.predict(X_test_mixed_encoded_Standard)\n",
    "\n",
    "accuracy_train  = accuracy_score(y_train_mixed_encoded_without_sampling, y_train_pred)\n",
    "precision_train = precision_score(y_train_mixed_encoded_without_sampling, y_train_pred)\n",
    "recall_train    = recall_score(y_train_mixed_encoded_without_sampling, y_train_pred)\n",
    "f1_train        = f1_score(y_train_mixed_encoded_without_sampling, y_train_pred)\n",
    "\n",
    "accuracy_test  = accuracy_score(y_test, y_test_pred)\n",
    "precision_test = precision_score(y_test, y_test_pred)\n",
    "recall_test    = recall_score(y_test, y_test_pred)\n",
    "f1_test        = f1_score(y_test, y_test_pred)\n",
    "\n",
    "pd.DataFrame({\n",
    "    'Metric': ['Accuracy', 'Precision', 'Recall', 'F1 Score'],\n",
    "    'Training Data': [accuracy_train, precision_train, recall_train, f1_train],\n",
    "    'Testing Data': [accuracy_test, precision_test, recall_test, f1_test]\n",
    "}).round(3)"
   ]
  },
  {
   "cell_type": "markdown",
   "id": "64a2eade-0c8c-44e8-a571-b20140a8431d",
   "metadata": {},
   "source": [
    "- 7"
   ]
  },
  {
   "cell_type": "code",
   "execution_count": null,
   "id": "5fd5ad33-2e41-4bb0-ac1f-d1ae86bba594",
   "metadata": {
    "execution": {
     "iopub.execute_input": "2024-10-22T13:15:15.340218Z",
     "iopub.status.busy": "2024-10-22T13:15:15.340218Z",
     "iopub.status.idle": "2024-10-22T13:15:15.362186Z",
     "shell.execute_reply": "2024-10-22T13:15:15.361186Z",
     "shell.execute_reply.started": "2024-10-22T13:15:15.340218Z"
    }
   },
   "outputs": [],
   "source": [
    "from sklearn.metrics import classification_report\n",
    "\n",
    "report = classification_report(y_test, y_test_pred)\n",
    "print(report)"
   ]
  },
  {
   "cell_type": "markdown",
   "id": "cae41808-1ec6-4129-b120-9fd0d74b3104",
   "metadata": {},
   "source": [
    "- 8"
   ]
  },
  {
   "cell_type": "code",
   "execution_count": null,
   "id": "0c217839-d884-46a4-b944-63acf5b708ab",
   "metadata": {
    "execution": {
     "iopub.execute_input": "2024-10-22T13:15:15.595577Z",
     "iopub.status.busy": "2024-10-22T13:15:15.594610Z",
     "iopub.status.idle": "2024-10-22T13:15:19.010276Z",
     "shell.execute_reply": "2024-10-22T13:15:19.009276Z",
     "shell.execute_reply.started": "2024-10-22T13:15:15.595577Z"
    }
   },
   "outputs": [],
   "source": [
    "from sklearn.metrics import roc_curve, auc, roc_auc_score\n",
    "\n",
    "y_train_prob = voting_clf.predict_proba(X_train_mixed_encoded_Standard)[:, 1]\n",
    "y_test_prob  = voting_clf.predict_proba(X_test_mixed_encoded_Standard)[:, 1]\n",
    "\n",
    "fpr_train, tpr_train, _ = roc_curve(y_train_mixed_encoded_without_sampling, y_train_prob)\n",
    "fpr_test, tpr_test, _   = roc_curve(y_test, y_test_prob)\n",
    "\n",
    "roc_auc_train = roc_auc_score(y_train_mixed_encoded_without_sampling, y_train_prob)\n",
    "roc_auc_test  = roc_auc_score(y_test, y_test_prob)\n",
    "\n",
    "plt.figure(figsize=(8, 6))\n",
    "plt.plot(fpr_train, tpr_train, label=f'Train ROC Curve (area = {roc_auc_train:.3f})')\n",
    "plt.plot(fpr_test, tpr_test, label=f'Test ROC Curve (area = {roc_auc_test:.3f})')\n",
    "plt.plot([0, 1], [0, 1], 'k--', label='Random Classifier')\n",
    "\n",
    "plt.xlabel('False Positive Rate')\n",
    "plt.ylabel('True Positive Rate')\n",
    "plt.title('ROC Curve')\n",
    "plt.legend(loc='lower right')\n",
    "plt.grid(True);"
   ]
  },
  {
   "cell_type": "markdown",
   "id": "1ed03e20-0ef2-4a51-bbbe-e80e50e343ef",
   "metadata": {},
   "source": [
    "- 9"
   ]
  },
  {
   "cell_type": "code",
   "execution_count": null,
   "id": "82493c2c-e948-4f40-bf3c-2c472cbe9af8",
   "metadata": {
    "execution": {
     "iopub.execute_input": "2024-10-22T13:15:19.235525Z",
     "iopub.status.busy": "2024-10-22T13:15:19.235525Z",
     "iopub.status.idle": "2024-10-22T13:15:40.931448Z",
     "shell.execute_reply": "2024-10-22T13:15:40.930418Z",
     "shell.execute_reply.started": "2024-10-22T13:15:19.235525Z"
    },
    "scrolled": true
   },
   "outputs": [],
   "source": [
    "rf_best.fit(X_train_mixed_encoded_Standard, y_train_mixed_encoded_without_sampling)\n",
    "\n",
    "importances           = rf_best.feature_importances_\n",
    "feature_importance_df = pd.DataFrame({\n",
    "    'Feature': X_train_mixed_encoded_Standard.columns,\n",
    "    'Importance': importances\n",
    "}).sort_values(by='Importance', ascending=False)\n",
    "\n",
    "feature_importance_df"
   ]
  },
  {
   "cell_type": "markdown",
   "id": "4d0ce3a0-69c0-43b9-aaf0-b5d286a384b2",
   "metadata": {},
   "source": [
    "### `Section 12` - PCA"
   ]
  },
  {
   "cell_type": "markdown",
   "id": "9e89c9f4-d185-4af4-be82-f38690f83f74",
   "metadata": {},
   "source": [
    "- 1"
   ]
  },
  {
   "cell_type": "code",
   "execution_count": null,
   "id": "d2ce0433-1be5-4459-8df3-66745c353800",
   "metadata": {
    "execution": {
     "iopub.execute_input": "2024-10-22T13:15:41.369007Z",
     "iopub.status.busy": "2024-10-22T13:15:41.369007Z",
     "iopub.status.idle": "2024-10-22T13:15:41.379433Z",
     "shell.execute_reply": "2024-10-22T13:15:41.378436Z",
     "shell.execute_reply.started": "2024-10-22T13:15:41.369007Z"
    }
   },
   "outputs": [],
   "source": [
    "pd.set_option('display.max_columns', None)\n",
    "\n",
    "X_train_mixed_encoded_Standard.head(3)"
   ]
  },
  {
   "cell_type": "markdown",
   "id": "dcc068e3-cf52-47b4-8905-36207a10079c",
   "metadata": {},
   "source": [
    "- 2"
   ]
  },
  {
   "cell_type": "code",
   "execution_count": null,
   "id": "ab366023-d77b-4fdf-bec1-e7310ae3b080",
   "metadata": {
    "execution": {
     "iopub.execute_input": "2024-10-22T13:15:41.614880Z",
     "iopub.status.busy": "2024-10-22T13:15:41.614880Z",
     "iopub.status.idle": "2024-10-22T13:15:41.630738Z",
     "shell.execute_reply": "2024-10-22T13:15:41.629738Z",
     "shell.execute_reply.started": "2024-10-22T13:15:41.614880Z"
    }
   },
   "outputs": [],
   "source": [
    "X_combined = pd.concat([X_train_mixed_encoded_Standard, X_test_mixed_encoded_Standard], axis=0)\n",
    "y_combined = pd.concat([y_train_mixed_encoded_without_sampling, y_test], axis=0)\n",
    "\n",
    "df_combined                = X_combined.copy()\n",
    "df_combined['loan_status'] = y_combined.values\n",
    "\n",
    "X_pca = df_combined.drop(columns=['loan_status'])"
   ]
  },
  {
   "cell_type": "markdown",
   "id": "884431e4-5b47-42ab-9c27-6e8931aa617c",
   "metadata": {},
   "source": [
    "- 3"
   ]
  },
  {
   "cell_type": "code",
   "execution_count": null,
   "id": "0f5474b3-b487-4522-9a50-ee206135367a",
   "metadata": {
    "execution": {
     "iopub.execute_input": "2024-10-22T13:15:41.978603Z",
     "iopub.status.busy": "2024-10-22T13:15:41.978603Z",
     "iopub.status.idle": "2024-10-22T13:15:44.680412Z",
     "shell.execute_reply": "2024-10-22T13:15:44.680412Z",
     "shell.execute_reply.started": "2024-10-22T13:15:41.978603Z"
    }
   },
   "outputs": [],
   "source": [
    "from sklearn.decomposition import PCA\n",
    "\n",
    "pca               = PCA(n_components=2)\n",
    "X_pca_transformed = pca.fit_transform(X_pca)\n",
    "\n",
    "df_pca                = pd.DataFrame(X_pca_transformed, columns=['PC1', 'PC2'])\n",
    "df_pca['loan_status'] = y_combined.values\n",
    "\n",
    "plt.figure(figsize=(10, 5.5))\n",
    "sns.scatterplot(data=df_pca, x='PC1', y='PC2', hue='loan_status', alpha=0.75)\n",
    "plt.title('PCA - 2 Components with Loan Status Hue')\n",
    "plt.xlabel('Principal Component 1')\n",
    "plt.ylabel('Principal Component 2');"
   ]
  },
  {
   "cell_type": "markdown",
   "id": "e47df9f2-fa37-4184-9c10-33f85176c1f1",
   "metadata": {},
   "source": [
    "- 4"
   ]
  },
  {
   "cell_type": "code",
   "execution_count": null,
   "id": "bd08a79e-e2a3-4b45-a393-afefc63feca0",
   "metadata": {
    "execution": {
     "iopub.execute_input": "2024-10-22T13:15:44.908773Z",
     "iopub.status.busy": "2024-10-22T13:15:44.908773Z",
     "iopub.status.idle": "2024-10-22T13:15:46.194868Z",
     "shell.execute_reply": "2024-10-22T13:15:46.193868Z",
     "shell.execute_reply.started": "2024-10-22T13:15:44.908773Z"
    }
   },
   "outputs": [],
   "source": [
    "import plotly.express as px\n",
    "\n",
    "df_pca['loan_status'] = df_pca['loan_status'].astype(str)\n",
    "fig = px.scatter(df_pca, \n",
    "                 x='PC1', \n",
    "                 y='PC2', \n",
    "                 color='loan_status', \n",
    "                 color_discrete_map={'0': 'teal', '1': 'tomato'},\n",
    "                 symbol='loan_status',\n",
    "                 symbol_map={'0': 'circle', '1': 'cross'},\n",
    "                 title='PCA - 2 Components with Loan Status Hue',\n",
    "                 opacity=0.75)\n",
    "\n",
    "fig.update_layout(\n",
    "    width=1000,\n",
    "    height=550,\n",
    "    xaxis_title='Principal Component 1',\n",
    "    yaxis_title='Principal Component 2',\n",
    ")\n",
    "fig.show()"
   ]
  },
  {
   "cell_type": "markdown",
   "id": "ee84fb02-d1b8-407a-831c-f18e0d7d1f89",
   "metadata": {},
   "source": [
    "- 5"
   ]
  },
  {
   "cell_type": "code",
   "execution_count": null,
   "id": "fccbc7f4-0390-43ae-a287-fb24725626cc",
   "metadata": {
    "execution": {
     "iopub.execute_input": "2024-10-22T13:15:46.646058Z",
     "iopub.status.busy": "2024-10-22T13:15:46.646058Z",
     "iopub.status.idle": "2024-10-22T13:15:47.542424Z",
     "shell.execute_reply": "2024-10-22T13:15:47.539427Z",
     "shell.execute_reply.started": "2024-10-22T13:15:46.646058Z"
    }
   },
   "outputs": [],
   "source": [
    "pca               = PCA(n_components=3)\n",
    "X_pca_transformed = pca.fit_transform(X_pca)\n",
    "\n",
    "df_pca                = pd.DataFrame(X_pca_transformed, columns=['PC1', 'PC2', 'PC3'])\n",
    "df_pca['loan_status'] = y_combined.values\n",
    "\n",
    "df_pca['loan_status'] = df_pca['loan_status'].astype(str)\n",
    "fig = px.scatter_3d(df_pca, \n",
    "                    x='PC1',\n",
    "                    y='PC2',\n",
    "                    z='PC3',\n",
    "                    color='loan_status',\n",
    "                    color_discrete_map={'0': 'teal', '1': 'tomato'},\n",
    "                    symbol='loan_status',\n",
    "                    symbol_map={'0': 'circle', '1': 'cross'},\n",
    "                    title='PCA - 3 Components with Loan Status Hue',\n",
    "                    opacity=0.75)\n",
    "\n",
    "fig.update_layout(scene=dict(\n",
    "    xaxis_title='Principal Component 1',\n",
    "    yaxis_title='Principal Component 2',\n",
    "    zaxis_title='Principal Component 3',\n",
    "    ),\n",
    "    width=1000,\n",
    "    height=700,\n",
    ")\n",
    "fig.show()"
   ]
  },
  {
   "cell_type": "markdown",
   "id": "b840f233-3474-44f4-9a5f-2c26f59e91c4",
   "metadata": {},
   "source": [
    "- 6"
   ]
  },
  {
   "cell_type": "code",
   "execution_count": null,
   "id": "aeadb824-81a4-4026-8080-a2ca96e0975c",
   "metadata": {
    "execution": {
     "iopub.execute_input": "2024-10-22T13:15:48.066789Z",
     "iopub.status.busy": "2024-10-22T13:15:48.066789Z",
     "iopub.status.idle": "2024-10-22T13:20:11.172102Z",
     "shell.execute_reply": "2024-10-22T13:20:11.171567Z",
     "shell.execute_reply.started": "2024-10-22T13:15:48.066789Z"
    }
   },
   "outputs": [],
   "source": [
    "def pca_rf_function(n_pca):\n",
    "\n",
    "    pca                = PCA(n_components=n_pca)\n",
    "    X_train_pca        = pca.fit_transform(X_train_mixed_encoded_Standard)\n",
    "    X_test_pca         = pca.transform(X_test_mixed_encoded_Standard)\n",
    "    explained_variance = pca.explained_variance_ratio_.sum()\n",
    "    \n",
    "    rf_model = RandomForestClassifier(\n",
    "        n_estimators=200,\n",
    "        min_samples_split=5,\n",
    "        min_samples_leaf=1,\n",
    "        max_features='sqrt',\n",
    "        max_depth=20,\n",
    "        criterion='gini',\n",
    "        bootstrap=True,\n",
    "        random_state=42\n",
    "    )\n",
    "    \n",
    "    rf_model.fit(X_train_pca, y_train_mixed_encoded_without_sampling)\n",
    "    \n",
    "    y_train_pred = rf_model.predict(X_train_pca)\n",
    "    y_test_pred  = rf_model.predict(X_test_pca)\n",
    "    \n",
    "    return accuracy_score(y_train_mixed_encoded_without_sampling, y_train_pred), accuracy_score(y_test, y_test_pred), explained_variance\n",
    "\n",
    "train_score             = []\n",
    "test_score              = []\n",
    "explained_variance_list = []\n",
    "\n",
    "k = [i for i in range(1, X_train_mixed_encoded_Standard.shape[1] + 1)]\n",
    "for i in k:\n",
    "    train_acc, test_acc, explained_variance = pca_rf_function(i)\n",
    "    train_score.append(train_acc)\n",
    "    test_score.append(test_acc)\n",
    "    explained_variance_list.append(explained_variance)\n",
    "\n",
    "plt.plot(k, train_score, label='Train Accuracy')\n",
    "plt.plot(k, test_score, label='Test Accuracy')\n",
    "plt.xlabel('Number of PCA Components')\n",
    "plt.ylabel('Accuracy')\n",
    "plt.legend()\n",
    "plt.title('Train and Test Accuracy vs. Number of PCA Components');"
   ]
  },
  {
   "cell_type": "markdown",
   "id": "c458297e-5a88-4f91-af05-f439483087b7",
   "metadata": {},
   "source": [
    "- 7"
   ]
  },
  {
   "cell_type": "code",
   "execution_count": null,
   "id": "e8a69769-25aa-4df2-b6f4-96ed05e8df3c",
   "metadata": {
    "execution": {
     "iopub.execute_input": "2024-10-22T13:20:11.408838Z",
     "iopub.status.busy": "2024-10-22T13:20:11.407835Z",
     "iopub.status.idle": "2024-10-22T13:20:11.416954Z",
     "shell.execute_reply": "2024-10-22T13:20:11.416954Z",
     "shell.execute_reply.started": "2024-10-22T13:20:11.408838Z"
    }
   },
   "outputs": [],
   "source": [
    "df_results = pd.DataFrame({\n",
    "    'n_components'            : k,\n",
    "    'explained_variance_ratio': explained_variance_list,\n",
    "    'train_score'             : train_score,\n",
    "    'test_score'              : test_score,\n",
    "})\n",
    "\n",
    "df_results"
   ]
  },
  {
   "cell_type": "markdown",
   "id": "bb3185c5-8f1f-4022-a5c9-c8791e241031",
   "metadata": {},
   "source": [
    "- 8"
   ]
  },
  {
   "cell_type": "code",
   "execution_count": null,
   "id": "1f12e40a-8f8f-4e2e-bfae-b07a1e5f1ac5",
   "metadata": {
    "execution": {
     "iopub.execute_input": "2024-10-22T13:20:11.641212Z",
     "iopub.status.busy": "2024-10-22T13:20:11.641212Z",
     "iopub.status.idle": "2024-10-22T13:20:11.830313Z",
     "shell.execute_reply": "2024-10-22T13:20:11.829316Z",
     "shell.execute_reply.started": "2024-10-22T13:20:11.641212Z"
    }
   },
   "outputs": [],
   "source": [
    "sns.set_style('ticks')\n",
    "fig, ax1 = plt.subplots(figsize=(8.5, 6))\n",
    "\n",
    "line1, = ax1.plot(k, train_score, label='Train Accuracy')\n",
    "line2, = ax1.plot(k, test_score, label='Test Accuracy')\n",
    "ax1.set_xlabel('Number of PCA Components', fontsize=13, color='navy')\n",
    "ax1.set_ylabel('Accuracy', fontsize=13, color='navy')\n",
    "ax1.set_title('Train and Test Accuracy vs. Number of PCA Components', fontsize=15, color='navy', backgroundcolor='lightcyan', y=1.02)\n",
    "\n",
    "ax2 = ax1.twinx()\n",
    "line3, = ax2.plot(k, explained_variance_list, label='Explained Variance Ratio', color='g', linestyle='--')\n",
    "ax2.set_ylabel('Explained Variance Ratio', fontsize=13, color='navy')\n",
    "\n",
    "lines  = [line1, line2, line3]\n",
    "labels = [line.get_label() for line in lines]\n",
    "ax1.legend(lines, labels, loc=(1.1, 0.5))\n",
    "plt.grid(True, which='both', color='lightgray', linestyle='--', linewidth=1, alpha=1);"
   ]
  },
  {
   "cell_type": "markdown",
   "id": "f1677b1e-cb80-4658-b408-719bd25fc352",
   "metadata": {},
   "source": [
    "### `Section 13` - Dendogram and Agglomerative Clustering"
   ]
  },
  {
   "cell_type": "markdown",
   "id": "8ecb42b5-be39-4ecf-b2b1-cf8ea5ae4012",
   "metadata": {},
   "source": [
    "- 1"
   ]
  },
  {
   "cell_type": "code",
   "execution_count": null,
   "id": "71aea840-30b6-4174-b83c-54a4a504cab4",
   "metadata": {
    "execution": {
     "iopub.execute_input": "2024-10-22T13:20:12.275877Z",
     "iopub.status.busy": "2024-10-22T13:20:12.275877Z",
     "iopub.status.idle": "2024-10-22T13:21:04.377288Z",
     "shell.execute_reply": "2024-10-22T13:21:04.376288Z",
     "shell.execute_reply.started": "2024-10-22T13:20:12.275877Z"
    }
   },
   "outputs": [],
   "source": [
    "X_combined = pd.concat([X_train_mixed_encoded_Standard, X_test_mixed_encoded_Standard], axis=0)\n",
    "y_combined = pd.concat([y_train_mixed_encoded_without_sampling, y_test], axis=0)\n",
    "\n",
    "df_combined                = X_combined.copy()\n",
    "df_combined['loan_status'] = y_combined.values\n",
    "\n",
    "df_sampled          = df_combined.sample(n=30_000, random_state=42)\n",
    "X_sampled_numerical = df_sampled.drop(columns=['loan_status'])\n",
    "\n",
    "from scipy.cluster.hierarchy import dendrogram, linkage\n",
    "lk = linkage(X_sampled_numerical, method='ward')\n",
    "plt.figure(figsize=(9.5, 6.5))\n",
    "dendrogram(Z=lk, orientation='top', show_leaf_counts=True, no_labels=True)\n",
    "plt.title('Dendrogram')\n",
    "plt.xlabel('Index')\n",
    "plt.ylabel('Distance')\n",
    "plt.axhline(y=220,color='r',linestyle='--');"
   ]
  },
  {
   "cell_type": "markdown",
   "id": "e8e65362-f369-4cea-bade-407c7f0a1a89",
   "metadata": {},
   "source": [
    "- 2"
   ]
  },
  {
   "cell_type": "code",
   "execution_count": null,
   "id": "f7451f9d-83fb-444b-9b87-c9443360bff2",
   "metadata": {
    "execution": {
     "iopub.execute_input": "2024-10-22T13:21:04.671473Z",
     "iopub.status.busy": "2024-10-22T13:21:04.671473Z",
     "iopub.status.idle": "2024-10-22T13:21:41.179269Z",
     "shell.execute_reply": "2024-10-22T13:21:41.178271Z",
     "shell.execute_reply.started": "2024-10-22T13:21:04.671473Z"
    }
   },
   "outputs": [],
   "source": [
    "from sklearn.cluster import AgglomerativeClustering\n",
    "\n",
    "cluster                       = AgglomerativeClustering(n_clusters=2, metric='euclidean', linkage='ward')\n",
    "cluster_labels                = cluster.fit_predict(X_sampled_numerical)\n",
    "df_sampled['cluster_labels']  = cluster_labels\n",
    "\n",
    "pca               = PCA(n_components=2)\n",
    "X_pca_transformed = pca.fit_transform(X_sampled_numerical)\n",
    "\n",
    "df_pca                   = pd.DataFrame(X_pca_transformed, columns=['PC1', 'PC2'])\n",
    "df_pca['loan_status']    = df_sampled['loan_status'].values\n",
    "df_pca['cluster_labels'] = df_sampled['cluster_labels'].values\n",
    "\n",
    "fig, (ax1, ax2) = plt.subplots(1, 2, figsize=(14, 6))\n",
    "\n",
    "sns.scatterplot(data=df_pca, x='PC1', y='PC2', hue='loan_status', alpha=0.75, ax=ax1)\n",
    "ax1.set_title('Loan Status Hue')\n",
    "ax1.set_xlabel('Principal Component 1')\n",
    "ax1.set_ylabel('Principal Component 2')\n",
    "\n",
    "sns.scatterplot(data=df_pca, x='PC1', y='PC2', hue='cluster_labels', palette=['#FDE725', 'teal'], alpha=0.75, ax=ax2)\n",
    "ax2.set_title('Agglomerative Clustering Hue')\n",
    "ax2.set_xlabel('Principal Component 1')\n",
    "ax2.set_ylabel('')\n",
    "ax2.set_yticklabels([])\n",
    "\n",
    "plt.suptitle('Agglomerative Clustering with - 2 Clusters', fontsize=15, color='navy', backgroundcolor='lightcyan')\n",
    "plt.tight_layout();"
   ]
  },
  {
   "cell_type": "markdown",
   "id": "09be0708-259c-4e2a-920c-b1678320acce",
   "metadata": {},
   "source": [
    "- 3"
   ]
  },
  {
   "cell_type": "code",
   "execution_count": null,
   "id": "33164675-47b3-4fb9-8824-3fd2fd64e075",
   "metadata": {
    "execution": {
     "iopub.execute_input": "2024-10-22T13:21:41.464179Z",
     "iopub.status.busy": "2024-10-22T13:21:41.464179Z",
     "iopub.status.idle": "2024-10-22T13:22:17.072333Z",
     "shell.execute_reply": "2024-10-22T13:22:17.071790Z",
     "shell.execute_reply.started": "2024-10-22T13:21:41.464179Z"
    }
   },
   "outputs": [],
   "source": [
    "from sklearn.cluster import AgglomerativeClustering\n",
    "\n",
    "cluster                       = AgglomerativeClustering(n_clusters=3, metric='euclidean', linkage='ward')\n",
    "cluster_labels                = cluster.fit_predict(X_sampled_numerical)\n",
    "df_sampled['cluster_labels']  = cluster_labels\n",
    "\n",
    "pca               = PCA(n_components=2)\n",
    "X_pca_transformed = pca.fit_transform(X_sampled_numerical)\n",
    "\n",
    "df_pca                   = pd.DataFrame(X_pca_transformed, columns=['PC1', 'PC2'])\n",
    "df_pca['loan_status']    = df_sampled['loan_status'].values\n",
    "df_pca['cluster_labels'] = df_sampled['cluster_labels'].values\n",
    "\n",
    "fig, (ax1, ax2) = plt.subplots(1, 2, figsize=(14, 6))\n",
    "\n",
    "sns.scatterplot(data=df_pca, x='PC1', y='PC2', hue='loan_status', alpha=0.75, ax=ax1)\n",
    "ax1.set_title('Loan Status Hue')\n",
    "ax1.set_xlabel('Principal Component 1')\n",
    "ax1.set_ylabel('Principal Component 2')\n",
    "\n",
    "sns.scatterplot(data=df_pca, x='PC1', y='PC2', hue='cluster_labels', palette='viridis', alpha=0.75, ax=ax2)\n",
    "ax2.set_title('Agglomerative Clustering Hue')\n",
    "ax2.set_xlabel('Principal Component 1')\n",
    "ax2.set_ylabel('')\n",
    "ax2.set_yticklabels([])\n",
    "\n",
    "plt.suptitle('Agglomerative Clustering with - 3 Clusters', fontsize=15, color='navy', backgroundcolor='lightcyan')\n",
    "plt.tight_layout();"
   ]
  },
  {
   "cell_type": "markdown",
   "id": "b53b3f88-01f8-45be-99c5-1dfca9a33555",
   "metadata": {},
   "source": [
    "- 4"
   ]
  },
  {
   "cell_type": "code",
   "execution_count": null,
   "id": "8bda5be4-1ff0-45d6-bfa2-4c30f1463cac",
   "metadata": {
    "execution": {
     "iopub.execute_input": "2024-10-22T13:22:17.391053Z",
     "iopub.status.busy": "2024-10-22T13:22:17.391053Z",
     "iopub.status.idle": "2024-10-22T13:22:51.323647Z",
     "shell.execute_reply": "2024-10-22T13:22:51.322648Z",
     "shell.execute_reply.started": "2024-10-22T13:22:17.391053Z"
    }
   },
   "outputs": [],
   "source": [
    "from sklearn.cluster import AgglomerativeClustering\n",
    "\n",
    "cluster                       = AgglomerativeClustering(n_clusters=4, metric='euclidean', linkage='ward')\n",
    "cluster_labels                = cluster.fit_predict(X_sampled_numerical)\n",
    "df_sampled['cluster_labels']  = cluster_labels\n",
    "\n",
    "pca               = PCA(n_components=2)\n",
    "X_pca_transformed = pca.fit_transform(X_sampled_numerical)\n",
    "\n",
    "df_pca                   = pd.DataFrame(X_pca_transformed, columns=['PC1', 'PC2'])\n",
    "df_pca['loan_status']    = df_sampled['loan_status'].values\n",
    "df_pca['cluster_labels'] = df_sampled['cluster_labels'].values\n",
    "\n",
    "fig, (ax1, ax2) = plt.subplots(1, 2, figsize=(14, 6))\n",
    "\n",
    "sns.scatterplot(data=df_pca, x='PC1', y='PC2', hue='loan_status', alpha=0.75, ax=ax1)\n",
    "ax1.set_title('Loan Status Hue')\n",
    "ax1.set_xlabel('Principal Component 1')\n",
    "ax1.set_ylabel('Principal Component 2')\n",
    "\n",
    "sns.scatterplot(data=df_pca, x='PC1', y='PC2', hue='cluster_labels', palette='viridis', alpha=0.75, ax=ax2)\n",
    "ax2.set_title('Agglomerative Clustering Hue')\n",
    "ax2.set_xlabel('Principal Component 1')\n",
    "ax2.set_ylabel('')\n",
    "ax2.set_yticklabels([])\n",
    "\n",
    "plt.suptitle('Agglomerative Clustering with - 4 Clusters', fontsize=15, color='navy', backgroundcolor='lightcyan')\n",
    "plt.tight_layout();"
   ]
  },
  {
   "cell_type": "markdown",
   "id": "c57446ff-5697-463a-9165-e0ff227a218a",
   "metadata": {},
   "source": [
    "- 5"
   ]
  },
  {
   "cell_type": "code",
   "execution_count": null,
   "id": "084553b6-ede7-4a7b-b5a6-935fb02c25fb",
   "metadata": {
    "execution": {
     "iopub.execute_input": "2024-10-22T13:22:51.548223Z",
     "iopub.status.busy": "2024-10-22T13:22:51.548223Z",
     "iopub.status.idle": "2024-10-22T13:29:34.837551Z",
     "shell.execute_reply": "2024-10-22T13:29:34.832079Z",
     "shell.execute_reply.started": "2024-10-22T13:22:51.548223Z"
    }
   },
   "outputs": [],
   "source": [
    "from sklearn.metrics import silhouette_score\n",
    "n_clusters_range  = range(2, 12)\n",
    "silhouette_scores = []\n",
    "\n",
    "for n_clusters in n_clusters_range:\n",
    "    cluster        = AgglomerativeClustering(n_clusters=n_clusters, metric='euclidean', linkage='ward')\n",
    "    cluster_labels = cluster.fit_predict(X_sampled_numerical)\n",
    "    \n",
    "    silhouette_avg = silhouette_score(X_sampled_numerical, cluster_labels)\n",
    "    silhouette_scores.append(silhouette_avg)"
   ]
  },
  {
   "cell_type": "code",
   "execution_count": null,
   "id": "8558f79e-3f09-4651-8b10-5c250c3bead4",
   "metadata": {
    "execution": {
     "iopub.execute_input": "2024-10-22T13:29:34.844558Z",
     "iopub.status.busy": "2024-10-22T13:29:34.843558Z",
     "iopub.status.idle": "2024-10-22T13:29:35.075516Z",
     "shell.execute_reply": "2024-10-22T13:29:35.074441Z",
     "shell.execute_reply.started": "2024-10-22T13:29:34.844558Z"
    }
   },
   "outputs": [],
   "source": [
    "sns.set_style('ticks')\n",
    "plt.figure(figsize=(9.5, 6))\n",
    "plt.plot(n_clusters_range, silhouette_scores, marker='o', linestyle='-', color='b', label='Silhouette Score')\n",
    "\n",
    "for i, score in enumerate(silhouette_scores):\n",
    "    plt.text(n_clusters_range[i], silhouette_scores[i] + .002, f'{score:.2f}', fontsize=10, ha='center', va='bottom')\n",
    "plt.xlabel('Number of Clusters')\n",
    "plt.ylabel('Silhouette Score')\n",
    "plt.title('Silhouette Score vs. Number of Clusters in Agglomerative Clustering')\n",
    "\n",
    "plt.xticks(n_clusters_range)\n",
    "plt.grid(True, color='lightgray', linestyle='--', linewidth=.5, alpha=1)\n",
    "sns.despine();"
   ]
  },
  {
   "cell_type": "markdown",
   "id": "4689155d-51a1-492e-9a93-79a7506ede5c",
   "metadata": {
    "execution": {
     "iopub.execute_input": "2024-10-18T11:47:44.937246Z",
     "iopub.status.busy": "2024-10-18T11:47:44.937246Z",
     "iopub.status.idle": "2024-10-18T11:47:44.941464Z",
     "shell.execute_reply": "2024-10-18T11:47:44.940458Z",
     "shell.execute_reply.started": "2024-10-18T11:47:44.937246Z"
    }
   },
   "source": [
    "### `Section 14` - KMeans Clustering"
   ]
  },
  {
   "cell_type": "markdown",
   "id": "8d8eb1b7-e9d0-4702-a295-5fbfb2518295",
   "metadata": {},
   "source": [
    "- 1"
   ]
  },
  {
   "cell_type": "code",
   "execution_count": null,
   "id": "f0bf0000-6cf7-4c7a-88cc-0c68c0ba6951",
   "metadata": {
    "execution": {
     "iopub.execute_input": "2024-10-22T13:29:35.676847Z",
     "iopub.status.busy": "2024-10-22T13:29:35.676847Z",
     "iopub.status.idle": "2024-10-22T13:30:12.821731Z",
     "shell.execute_reply": "2024-10-22T13:30:12.820979Z",
     "shell.execute_reply.started": "2024-10-22T13:29:35.676847Z"
    }
   },
   "outputs": [],
   "source": [
    "from sklearn.cluster import KMeans\n",
    "warnings.filterwarnings(action='ignore', category=UserWarning, module='sklearn')\n",
    "\n",
    "kmeans              = KMeans(n_clusters=2, random_state=42)\n",
    "kmeans_labels       = kmeans.fit_predict(X_sampled_numerical)\n",
    "cluster_centers_pca = pca.transform(kmeans.cluster_centers_)\n",
    "\n",
    "agglo        = AgglomerativeClustering(n_clusters=2, linkage='ward')\n",
    "agglo_labels = agglo.fit_predict(X_sampled_numerical)\n",
    "\n",
    "pca               = PCA(n_components=2)\n",
    "X_pca_transformed = pca.fit_transform(X_sampled_numerical)\n",
    "\n",
    "df_pca                  = pd.DataFrame(X_pca_transformed, columns=['PC1', 'PC2'])\n",
    "df_pca['loan_status']   = df_sampled['loan_status'].values\n",
    "df_pca['kmeans_labels'] = kmeans_labels\n",
    "df_pca['agglo_labels']  = agglo_labels\n",
    "\n",
    "fig, (ax1, ax2, ax3) = plt.subplots(1, 3, figsize=(18, 6))\n",
    "\n",
    "sns.scatterplot(data=df_pca, x='PC1', y='PC2', hue='loan_status', alpha=0.75, ax=ax1)\n",
    "ax1.set_title('Loan Status Hue')\n",
    "ax1.set_xlabel('Principal Component 1')\n",
    "ax1.set_ylabel('Principal Component 2')\n",
    "\n",
    "sns.scatterplot(data=df_pca, x='PC1', y='PC2', hue='agglo_labels', palette=['#FDE725', 'teal'], alpha=0.75, ax=ax2)\n",
    "ax2.set_title('Agglomerative Clustering Hue')\n",
    "ax2.set_xlabel('Principal Component 1')\n",
    "ax2.set_ylabel('')\n",
    "ax2.set_yticklabels([])\n",
    "\n",
    "sns.scatterplot(data=df_pca, x='PC1', y='PC2', hue='kmeans_labels', palette=['#FDE725', 'teal'], alpha=0.75, ax=ax3)\n",
    "ax3.scatter(cluster_centers_pca[:, 0], cluster_centers_pca[:, 1], c='red', s=100, marker='X', label='Cluster Centers')\n",
    "ax3.set_title('KMeans Clustering Hue')\n",
    "ax3.set_xlabel('Principal Component 1')\n",
    "ax3.set_ylabel('')\n",
    "ax3.set_yticklabels([])\n",
    "\n",
    "plt.suptitle('KMeans Clustering with - 2 Clusters', fontsize=15, color='navy', backgroundcolor='lightcyan')\n",
    "plt.tight_layout();"
   ]
  },
  {
   "cell_type": "markdown",
   "id": "832af8e1-9932-4f35-99ca-7f4c049142dd",
   "metadata": {},
   "source": [
    "- 2"
   ]
  },
  {
   "cell_type": "code",
   "execution_count": null,
   "id": "48999bde-5834-4ebe-ac35-2bc58b876763",
   "metadata": {
    "execution": {
     "iopub.execute_input": "2024-10-22T13:30:13.184132Z",
     "iopub.status.busy": "2024-10-22T13:30:13.184132Z",
     "iopub.status.idle": "2024-10-22T13:30:51.026627Z",
     "shell.execute_reply": "2024-10-22T13:30:51.026287Z",
     "shell.execute_reply.started": "2024-10-22T13:30:13.184132Z"
    }
   },
   "outputs": [],
   "source": [
    "from sklearn.cluster import KMeans\n",
    "warnings.filterwarnings(action='ignore', category=UserWarning, module='sklearn')\n",
    "\n",
    "kmeans              = KMeans(n_clusters=3, random_state=42)\n",
    "kmeans_labels       = kmeans.fit_predict(X_sampled_numerical)\n",
    "cluster_centers_pca = pca.transform(kmeans.cluster_centers_)\n",
    "\n",
    "agglo        = AgglomerativeClustering(n_clusters=3, linkage='ward')\n",
    "agglo_labels = agglo.fit_predict(X_sampled_numerical)\n",
    "\n",
    "pca               = PCA(n_components=2)\n",
    "X_pca_transformed = pca.fit_transform(X_sampled_numerical)\n",
    "\n",
    "df_pca                  = pd.DataFrame(X_pca_transformed, columns=['PC1', 'PC2'])\n",
    "df_pca['loan_status']   = df_sampled['loan_status'].values\n",
    "df_pca['kmeans_labels'] = kmeans_labels\n",
    "df_pca['agglo_labels']  = agglo_labels\n",
    "\n",
    "fig, (ax1, ax2, ax3) = plt.subplots(1, 3, figsize=(18, 6))\n",
    "\n",
    "sns.scatterplot(data=df_pca, x='PC1', y='PC2', hue='loan_status', alpha=0.75, ax=ax1)\n",
    "ax1.set_title('Loan Status Hue')\n",
    "ax1.set_xlabel('Principal Component 1')\n",
    "ax1.set_ylabel('Principal Component 2')\n",
    "\n",
    "sns.scatterplot(data=df_pca, x='PC1', y='PC2', hue='agglo_labels', palette='viridis', alpha=0.75, ax=ax2)\n",
    "ax2.set_title('Agglomerative Clustering Hue')\n",
    "ax2.set_xlabel('Principal Component 1')\n",
    "ax2.set_ylabel('')\n",
    "ax2.set_yticklabels([])\n",
    "\n",
    "sns.scatterplot(data=df_pca, x='PC1', y='PC2', hue='kmeans_labels', palette='viridis', alpha=0.75, ax=ax3)\n",
    "ax3.scatter(cluster_centers_pca[:, 0], cluster_centers_pca[:, 1], c='red', s=100, marker='X', label='Cluster Centers')\n",
    "ax3.set_title('KMeans Clustering Hue')\n",
    "ax3.set_xlabel('Principal Component 1')\n",
    "ax3.set_ylabel('')\n",
    "ax3.set_yticklabels([])\n",
    "\n",
    "plt.suptitle('KMeans Clustering with - 3 Clusters', fontsize=15, color='navy', backgroundcolor='lightcyan')\n",
    "plt.tight_layout();"
   ]
  },
  {
   "cell_type": "markdown",
   "id": "0e8a9713-0f72-45d0-b7be-b993c9289df5",
   "metadata": {},
   "source": [
    "- 3"
   ]
  },
  {
   "cell_type": "code",
   "execution_count": null,
   "id": "8b500e72-7f32-48f4-b562-7fae39a035b4",
   "metadata": {
    "execution": {
     "iopub.execute_input": "2024-10-22T13:30:51.281569Z",
     "iopub.status.busy": "2024-10-22T13:30:51.280573Z",
     "iopub.status.idle": "2024-10-22T13:31:27.409413Z",
     "shell.execute_reply": "2024-10-22T13:31:27.408414Z",
     "shell.execute_reply.started": "2024-10-22T13:30:51.281569Z"
    }
   },
   "outputs": [],
   "source": [
    "from sklearn.cluster import KMeans\n",
    "warnings.filterwarnings(action='ignore', category=UserWarning, module='sklearn')\n",
    "\n",
    "kmeans              = KMeans(n_clusters=4, random_state=42)\n",
    "kmeans_labels       = kmeans.fit_predict(X_sampled_numerical)\n",
    "cluster_centers_pca = pca.transform(kmeans.cluster_centers_)\n",
    "\n",
    "agglo        = AgglomerativeClustering(n_clusters=4, linkage='ward')\n",
    "agglo_labels = agglo.fit_predict(X_sampled_numerical)\n",
    "\n",
    "pca               = PCA(n_components=2)\n",
    "X_pca_transformed = pca.fit_transform(X_sampled_numerical)\n",
    "\n",
    "df_pca                  = pd.DataFrame(X_pca_transformed, columns=['PC1', 'PC2'])\n",
    "df_pca['loan_status']   = df_sampled['loan_status'].values\n",
    "df_pca['kmeans_labels'] = kmeans_labels\n",
    "df_pca['agglo_labels']  = agglo_labels\n",
    "\n",
    "fig, (ax1, ax2, ax3) = plt.subplots(1, 3, figsize=(18, 6))\n",
    "\n",
    "sns.scatterplot(data=df_pca, x='PC1', y='PC2', hue='loan_status', alpha=0.75, ax=ax1)\n",
    "ax1.set_title('Loan Status Hue')\n",
    "ax1.set_xlabel('Principal Component 1')\n",
    "ax1.set_ylabel('Principal Component 2')\n",
    "\n",
    "sns.scatterplot(data=df_pca, x='PC1', y='PC2', hue='agglo_labels', palette='viridis', alpha=0.75, ax=ax2)\n",
    "ax2.set_title('Agglomerative Clustering Hue')\n",
    "ax2.set_xlabel('Principal Component 1')\n",
    "ax2.set_ylabel('')\n",
    "ax2.set_yticklabels([])\n",
    "\n",
    "sns.scatterplot(data=df_pca, x='PC1', y='PC2', hue='kmeans_labels', palette='viridis', alpha=0.75, ax=ax3)\n",
    "ax3.scatter(cluster_centers_pca[:, 0], cluster_centers_pca[:, 1], c='red', s=100, marker='X', label='Cluster Centers')\n",
    "ax3.set_title('KMeans Clustering Hue')\n",
    "ax3.set_xlabel('Principal Component 1')\n",
    "ax3.set_ylabel('')\n",
    "ax3.set_yticklabels([])\n",
    "\n",
    "plt.suptitle('KMeans Clustering with - 4 Clusters', fontsize=15, color='navy', backgroundcolor='lightcyan')\n",
    "plt.tight_layout();"
   ]
  },
  {
   "cell_type": "markdown",
   "id": "2d1ee1c0-1604-4b0d-a6b2-d61863eb8d8b",
   "metadata": {},
   "source": [
    "- 4"
   ]
  },
  {
   "cell_type": "code",
   "execution_count": null,
   "id": "62265756-c91e-41a3-90de-1469f59a4df1",
   "metadata": {
    "execution": {
     "iopub.execute_input": "2024-10-22T13:31:27.647002Z",
     "iopub.status.busy": "2024-10-22T13:31:27.646000Z",
     "iopub.status.idle": "2024-10-22T13:38:23.834022Z",
     "shell.execute_reply": "2024-10-22T13:38:23.825773Z",
     "shell.execute_reply.started": "2024-10-22T13:31:27.647002Z"
    }
   },
   "outputs": [],
   "source": [
    "n_clusters_range         = range(2, 12)\n",
    "silhouette_scores_agglo  = []\n",
    "\n",
    "for n_clusters in n_clusters_range:\n",
    "    cluster_agglo        = AgglomerativeClustering(n_clusters=n_clusters, metric='euclidean', linkage='ward')\n",
    "    cluster_labels_agglo = cluster_agglo.fit_predict(X_sampled_numerical)\n",
    "    \n",
    "    silhouette_avg_agglo = silhouette_score(X_sampled_numerical, cluster_labels_agglo)\n",
    "    silhouette_scores_agglo.append(silhouette_avg_agglo)"
   ]
  },
  {
   "cell_type": "code",
   "execution_count": null,
   "id": "6827cc77-68cd-4e23-aafd-603a75f1f482",
   "metadata": {
    "execution": {
     "iopub.execute_input": "2024-10-22T13:38:23.864540Z",
     "iopub.status.busy": "2024-10-22T13:38:23.863539Z",
     "iopub.status.idle": "2024-10-22T13:39:50.424862Z",
     "shell.execute_reply": "2024-10-22T13:39:50.423655Z",
     "shell.execute_reply.started": "2024-10-22T13:38:23.864540Z"
    }
   },
   "outputs": [],
   "source": [
    "silhouette_scores_kmeans = []\n",
    "wcss_kmeans              = []\n",
    "\n",
    "for n_clusters in n_clusters_range:\n",
    "    cluster_kmeans        = KMeans(n_clusters=n_clusters, random_state=42)\n",
    "    cluster_labels_kmeans = cluster_kmeans.fit_predict(X_sampled_numerical)\n",
    "    \n",
    "    silhouette_avg_kmeans = silhouette_score(X_sampled_numerical, cluster_labels_kmeans)\n",
    "    silhouette_scores_kmeans.append(silhouette_avg_kmeans)\n",
    "\n",
    "    wcss_kmeans.append(cluster_kmeans.inertia_)"
   ]
  },
  {
   "cell_type": "code",
   "execution_count": null,
   "id": "9f3fa23b-f381-42f4-8abd-f742bb2c7563",
   "metadata": {
    "execution": {
     "iopub.execute_input": "2024-10-22T13:39:50.426864Z",
     "iopub.status.busy": "2024-10-22T13:39:50.425863Z",
     "iopub.status.idle": "2024-10-22T13:39:50.863611Z",
     "shell.execute_reply": "2024-10-22T13:39:50.862650Z",
     "shell.execute_reply.started": "2024-10-22T13:39:50.426864Z"
    }
   },
   "outputs": [],
   "source": [
    "sns.set_style('ticks')\n",
    "plt.figure(figsize=(10, 6))\n",
    "\n",
    "plt.plot(n_clusters_range, silhouette_scores_agglo, marker='o', linestyle='-', color='b', label='Agglomerative Clustering')\n",
    "plt.plot(n_clusters_range, silhouette_scores_kmeans, marker='o', linestyle='--', color='g', label='KMeans Clustering')\n",
    "\n",
    "plt.xlabel('Number of Clusters')\n",
    "plt.ylabel('Silhouette Score')\n",
    "plt.title('Agglomerative Clustering vs. KMeans')\n",
    "\n",
    "plt.xticks(n_clusters_range)\n",
    "plt.legend(loc='best')\n",
    "plt.grid(True, color='lightgray', linestyle='--', linewidth=.5, alpha=1)\n",
    "sns.despine();"
   ]
  },
  {
   "cell_type": "markdown",
   "id": "f310308d-477e-4404-bb3d-060c71a41d1d",
   "metadata": {},
   "source": [
    "- 5"
   ]
  },
  {
   "cell_type": "code",
   "execution_count": null,
   "id": "3ff82d24-4b39-430e-bf5d-dfddc30d27c3",
   "metadata": {
    "execution": {
     "iopub.execute_input": "2024-10-22T13:39:51.295069Z",
     "iopub.status.busy": "2024-10-22T13:39:51.294069Z",
     "iopub.status.idle": "2024-10-22T13:39:51.771487Z",
     "shell.execute_reply": "2024-10-22T13:39:51.769447Z",
     "shell.execute_reply.started": "2024-10-22T13:39:51.295069Z"
    }
   },
   "outputs": [],
   "source": [
    "sns.set_style('ticks')\n",
    "fig, ax1 = plt.subplots(figsize=(10, 6))\n",
    "\n",
    "line1, = ax1.plot(n_clusters_range, silhouette_scores_kmeans, marker='o', linestyle='--', label='Silhouette Score')\n",
    "\n",
    "ax1.set_xlabel('Number of Clusters', fontsize=13, color='navy')\n",
    "ax1.set_ylabel('Silhouette Score', fontsize=13, color='navy')\n",
    "ax1.set_title('KMeans Clustering - Silhouette Score and WCSS', fontsize=15, color='navy', backgroundcolor='lightcyan', y=1.02)\n",
    "ax1.grid(True, color='lightgray', linestyle='--', linewidth=.5, alpha=1)\n",
    "\n",
    "ax2    = ax1.twinx()\n",
    "line2, = ax2.plot(n_clusters_range, wcss_kmeans, marker='x', linestyle='-', color='orange', label='WCSS')\n",
    "ax2.set_ylabel('WCSS', fontsize=13, color='navy')\n",
    "\n",
    "lines  = [line1, line2]\n",
    "labels = [line.get_label() for line in lines]\n",
    "ax1.legend(lines, labels)\n",
    "\n",
    "plt.xticks(n_clusters_range);"
   ]
  },
  {
   "cell_type": "markdown",
   "id": "5937fd29-3c82-47bf-b7cb-8bd3c514a40c",
   "metadata": {},
   "source": [
    "### `Section 15` - DBSCAN Clustering"
   ]
  },
  {
   "cell_type": "markdown",
   "id": "644c535f-3192-45cb-bccc-03208c1c4264",
   "metadata": {},
   "source": [
    "- 1"
   ]
  },
  {
   "cell_type": "code",
   "execution_count": null,
   "id": "15c6a6f6-dcc4-4f8e-89e0-f8c72eabd7e0",
   "metadata": {
    "execution": {
     "iopub.execute_input": "2024-10-22T13:39:52.255000Z",
     "iopub.status.busy": "2024-10-22T13:39:52.254001Z",
     "iopub.status.idle": "2024-10-22T13:39:54.174636Z",
     "shell.execute_reply": "2024-10-22T13:39:54.173639Z",
     "shell.execute_reply.started": "2024-10-22T13:39:52.254001Z"
    }
   },
   "outputs": [],
   "source": [
    "# minpoints = 2D\n",
    "# k         = minpoints - 1\n",
    "from sklearn.neighbors import NearestNeighbors\n",
    "minpoints = 2 * 11\n",
    "k         = minpoints - 1\n",
    "\n",
    "neigh = NearestNeighbors(n_neighbors=k)\n",
    "nbrs  = neigh.fit(X_sampled_numerical)\n",
    "\n",
    "distances, indices = nbrs.kneighbors(X_sampled_numerical)\n",
    "distances          = np.sort(distances, axis=0)\n",
    "distances_k        = distances[:, k-1]\n",
    "\n",
    "plt.figure(figsize=(8, 6))\n",
    "plt.plot(distances_k, color='b')\n",
    "plt.title('K-distance Graph for DBSCAN', fontsize=20)\n",
    "plt.xlabel('Data Points', fontsize=14)\n",
    "plt.ylabel('Epsilon (Distance to Nearest Neighbor)', fontsize=14)\n",
    "plt.grid(True, color='lightgray', linestyle='--', linewidth=.5, alpha=.7)\n",
    "\n",
    "y_value_at_30k = distances_k[30_000 - 150]\n",
    "plt.axhline(y=y_value_at_30k, color='r', linestyle='--')\n",
    "sns.despine();"
   ]
  },
  {
   "cell_type": "markdown",
   "id": "61b5631a-5fe8-4a62-9a8c-15ebb1b4f98e",
   "metadata": {},
   "source": [
    "- 2"
   ]
  },
  {
   "cell_type": "code",
   "execution_count": null,
   "id": "31fc8432-1d5d-48cc-acab-63508d5d2dad",
   "metadata": {
    "execution": {
     "iopub.execute_input": "2024-10-22T13:39:54.417857Z",
     "iopub.status.busy": "2024-10-22T13:39:54.417857Z",
     "iopub.status.idle": "2024-10-22T13:46:45.314687Z",
     "shell.execute_reply": "2024-10-22T13:46:45.203866Z",
     "shell.execute_reply.started": "2024-10-22T13:39:54.417857Z"
    },
    "scrolled": true
   },
   "outputs": [],
   "source": [
    "from sklearn.cluster import DBSCAN\n",
    "eps        = [0.1, 0.5, 1, 2.5, 5]\n",
    "minsamples = [4, 10, 22, 30]\n",
    "\n",
    "scores           = []\n",
    "eps_list         = []\n",
    "min_samples_list = []\n",
    "no_clusters      = []\n",
    "\n",
    "counter = 1\n",
    "for i in eps:\n",
    "    for j in minsamples:\n",
    "        db = DBSCAN(eps=i, min_samples=j)\n",
    "        clustering_labels = db.fit_predict(X_sampled_numerical)\n",
    "        \n",
    "        if len(set(clustering_labels)) > 1:\n",
    "            score = silhouette_score(X_sampled_numerical, clustering_labels)\n",
    "        else:\n",
    "            score = -1  \n",
    "\n",
    "        scores.append(score)\n",
    "        eps_list.append(i)\n",
    "        min_samples_list.append(j)\n",
    "        no_clusters.append(len(set(clustering_labels)))\n",
    "\n",
    "        print(f\"{counter}. eps: {i}, min_samples: {j}\")\n",
    "        print(f\"\\tNumber of clusters (including noise): {len(set(clustering_labels))}\")\n",
    "        print(f\"\\tSilhouette Score                    : {score}\")\n",
    "        print(\"*\" * 50)\n",
    "        counter += 1"
   ]
  },
  {
   "cell_type": "code",
   "execution_count": null,
   "id": "163881dd-53c2-4d51-86f3-8f8ba0ae75ab",
   "metadata": {
    "execution": {
     "iopub.execute_input": "2024-10-22T13:46:45.508510Z",
     "iopub.status.busy": "2024-10-22T13:46:45.507527Z",
     "iopub.status.idle": "2024-10-22T13:46:47.110198Z",
     "shell.execute_reply": "2024-10-22T13:46:47.108670Z",
     "shell.execute_reply.started": "2024-10-22T13:46:45.508510Z"
    }
   },
   "outputs": [],
   "source": [
    "result_df = pd.DataFrame({\n",
    "    'eps'             : eps_list,\n",
    "    'min_samples'     : min_samples_list,\n",
    "    'silhouette_score': scores,\n",
    "    'no_clusters'     : no_clusters\n",
    "})\n",
    "result_df.sort_values(by='silhouette_score', ascending=False).head(10)"
   ]
  },
  {
   "cell_type": "markdown",
   "id": "cce47f99-66e6-4268-b93b-31b6b18312c6",
   "metadata": {},
   "source": [
    "- 3"
   ]
  },
  {
   "cell_type": "code",
   "execution_count": null,
   "id": "9f65c95a-f4ff-42c5-a8af-135e23045556",
   "metadata": {
    "execution": {
     "iopub.execute_input": "2024-10-22T13:46:49.176419Z",
     "iopub.status.busy": "2024-10-22T13:46:49.175378Z",
     "iopub.status.idle": "2024-10-22T13:47:44.209001Z",
     "shell.execute_reply": "2024-10-22T13:47:44.108509Z",
     "shell.execute_reply.started": "2024-10-22T13:46:49.176419Z"
    }
   },
   "outputs": [],
   "source": [
    "dbscan_1 = DBSCAN(eps=5, min_samples=4)\n",
    "dbscan_2 = DBSCAN(eps=2.5, min_samples=22)\n",
    "dbscan_3 = DBSCAN(eps=0.1, min_samples=10)\n",
    "\n",
    "dbscan_labels_1 = dbscan_1.fit_predict(X_sampled_numerical)\n",
    "dbscan_labels_2 = dbscan_2.fit_predict(X_sampled_numerical)\n",
    "dbscan_labels_3 = dbscan_3.fit_predict(X_sampled_numerical)\n",
    "\n",
    "pca               = PCA(n_components=2)\n",
    "X_pca_transformed = pca.fit_transform(X_sampled_numerical)\n",
    "\n",
    "df_pca                    = pd.DataFrame(X_pca_transformed, columns=['PC1', 'PC2'])\n",
    "df_pca['loan_status']     = df_sampled['loan_status'].values\n",
    "df_pca['dbscan_1_labels'] = dbscan_labels_1\n",
    "df_pca['dbscan_2_labels'] = dbscan_labels_2\n",
    "df_pca['dbscan_3_labels'] = dbscan_labels_3\n",
    "\n",
    "fig, ((ax1, ax2), (ax3, ax4)) = plt.subplots(2, 2, figsize=(18, 12))\n",
    "\n",
    "sns.scatterplot(data=df_pca, x='PC1', y='PC2', hue='loan_status', alpha=0.75, ax=ax1)\n",
    "ax1.set_title('Loan Status Hue')\n",
    "ax1.set_xlabel('Principal Component 1')\n",
    "ax1.set_ylabel('Principal Component 2')\n",
    "\n",
    "sns.scatterplot(data=df_pca, x='PC1', y='PC2', hue='dbscan_1_labels', palette='viridis', alpha=0.75, ax=ax2)\n",
    "ax2.set_title('DBSCAN - eps=5, min_samples=4')\n",
    "ax2.set_xlabel('Principal Component 1')\n",
    "ax2.set_ylabel('')\n",
    "ax2.set_yticklabels([])\n",
    "\n",
    "sns.scatterplot(data=df_pca, x='PC1', y='PC2', hue='dbscan_2_labels', palette='viridis', alpha=0.75, ax=ax3)\n",
    "ax3.set_title('DBSCAN - eps=2.5, min_samples=22')\n",
    "ax3.set_xlabel('Principal Component 1')\n",
    "ax3.set_ylabel('Principal Component 2')\n",
    "\n",
    "sns.scatterplot(data=df_pca, x='PC1', y='PC2', hue='dbscan_3_labels', palette='viridis', alpha=0.75, ax=ax4)\n",
    "ax4.set_title('DBSCAN - eps=0.1, min_samples=10')\n",
    "ax4.set_xlabel('Principal Component 1')\n",
    "ax4.set_ylabel('')\n",
    "ax4.set_yticklabels([])\n",
    "\n",
    "plt.suptitle('DBSCAN Clustering', fontsize=15, color='navy', backgroundcolor='lightcyan')\n",
    "plt.tight_layout();"
   ]
  },
  {
   "cell_type": "markdown",
   "id": "cd8c80fc-ea86-486e-b0dd-f1bb23bac6ab",
   "metadata": {},
   "source": [
    "### `Section 16` - Feature Engineering and EDA"
   ]
  },
  {
   "cell_type": "markdown",
   "id": "44a0abf2-76e9-432b-b4df-b717dfbf1cc6",
   "metadata": {},
   "source": [
    "- 1"
   ]
  },
  {
   "cell_type": "code",
   "execution_count": null,
   "id": "73019118-e1c1-4124-99e2-f751827e55ed",
   "metadata": {
    "execution": {
     "iopub.execute_input": "2024-10-22T15:21:40.562214Z",
     "iopub.status.busy": "2024-10-22T15:21:40.562214Z",
     "iopub.status.idle": "2024-10-22T15:21:40.965235Z",
     "shell.execute_reply": "2024-10-22T15:21:40.964233Z",
     "shell.execute_reply.started": "2024-10-22T15:21:40.562214Z"
    }
   },
   "outputs": [],
   "source": [
    "sns.set_style('ticks')\n",
    "plt.figure(figsize=(10, 1.5))\n",
    "plt.scatter(train['person_age'], [0] * len(train['person_age']), alpha=0.7, color='teal')\n",
    "\n",
    "plt.title('1-D Scatter Plot of Person Age', fontsize=15, color='navy', backgroundcolor='lightcyan')\n",
    "plt.yticks([])\n",
    "sns.despine();"
   ]
  },
  {
   "cell_type": "code",
   "execution_count": null,
   "id": "a65b59ac-9379-4d36-a41f-06b3bc16f2f4",
   "metadata": {
    "execution": {
     "iopub.execute_input": "2024-10-22T15:21:43.680664Z",
     "iopub.status.busy": "2024-10-22T15:21:43.680664Z",
     "iopub.status.idle": "2024-10-22T15:21:44.056446Z",
     "shell.execute_reply": "2024-10-22T15:21:44.056446Z",
     "shell.execute_reply.started": "2024-10-22T15:21:43.680664Z"
    }
   },
   "outputs": [],
   "source": [
    "age_data = train['person_age'].values.reshape(-1, 1)\n",
    "\n",
    "wcss     = []\n",
    "k_values = range(1, 11)\n",
    "\n",
    "for k in k_values:\n",
    "    kmeans = KMeans(n_clusters=k, random_state=42)\n",
    "    kmeans.fit(age_data)\n",
    "    wcss.append(kmeans.inertia_) \n",
    "\n",
    "sns.set_style('ticks')\n",
    "plt.figure(figsize=(8, 5.5))\n",
    "plt.plot(k_values, wcss, marker='o', linestyle='-', color='teal')\n",
    "plt.xlabel('Number of Clusters')\n",
    "plt.ylabel('WCSS')\n",
    "plt.title('Elbow Method for Optimal Number of Clusters (Person Age)')\n",
    "plt.grid(True, color='lightgray', linestyle='--', linewidth=.5, alpha=1)\n",
    "plt.ticklabel_format(style='plain', axis='y')\n",
    "sns.despine();"
   ]
  },
  {
   "cell_type": "code",
   "execution_count": null,
   "id": "aefe636a-14a8-448c-8e05-b267118f9798",
   "metadata": {
    "execution": {
     "iopub.execute_input": "2024-10-22T15:21:49.458518Z",
     "iopub.status.busy": "2024-10-22T15:21:49.458518Z",
     "iopub.status.idle": "2024-10-22T15:21:50.976742Z",
     "shell.execute_reply": "2024-10-22T15:21:50.976742Z",
     "shell.execute_reply.started": "2024-10-22T15:21:49.458518Z"
    }
   },
   "outputs": [],
   "source": [
    "age_data           = train['person_age'].values.reshape(-1, 1)\n",
    "kmeans             = KMeans(n_clusters=2, random_state=42)\n",
    "train['age_group'] = kmeans.fit_predict(age_data)\n",
    "cluster_centers    = kmeans.cluster_centers_\n",
    "\n",
    "sns.set_style('ticks')\n",
    "plt.figure(figsize=(10, 1.5))\n",
    "\n",
    "age_threshold = np.mean(cluster_centers)\n",
    "plt.axvline(x=age_threshold, color='green', linestyle='--', linewidth=2, label=f'Age Threshold: {age_threshold:.2f}')\n",
    "\n",
    "plt.scatter(train['person_age'], [0] * len(train['person_age']), \n",
    "            c=train['age_group'], cmap='coolwarm', alpha=0.7)\n",
    "plt.scatter(cluster_centers, [0] * len(cluster_centers), \n",
    "            c='yellow', s=350, marker='X', edgecolors='red', linewidths=2)\n",
    "plt.title('1-D Scatter Plot of Person Age (Clustered)', fontsize=15, color='navy', backgroundcolor='lightcyan')\n",
    "plt.yticks([])\n",
    "plt.grid(True, color='lightgray', linestyle='--', linewidth=.5, alpha=1)\n",
    "plt.legend(loc=(1.01, 0.5))\n",
    "sns.despine();"
   ]
  },
  {
   "cell_type": "code",
   "execution_count": null,
   "id": "fa8169c8-7b72-4c53-9841-7b61d20eb74e",
   "metadata": {
    "execution": {
     "iopub.execute_input": "2024-10-22T15:21:54.990781Z",
     "iopub.status.busy": "2024-10-22T15:21:54.989757Z",
     "iopub.status.idle": "2024-10-22T15:21:54.994754Z",
     "shell.execute_reply": "2024-10-22T15:21:54.994754Z",
     "shell.execute_reply.started": "2024-10-22T15:21:54.990781Z"
    }
   },
   "outputs": [],
   "source": [
    "def annotate_bars_vertically(ax):\n",
    "    for p in ax.patches:\n",
    "        if p.get_height() > 0:\n",
    "            ax.annotate(f'{int(p.get_height())}',  \n",
    "                        (p.get_x() + p.get_width() / 2., p.get_height()),  \n",
    "                        ha='center', \n",
    "                        va='center',  \n",
    "                        fontsize=10,  \n",
    "                        color='black',  \n",
    "                        xytext=(0, 5),\n",
    "                        textcoords='offset points')"
   ]
  },
  {
   "cell_type": "code",
   "execution_count": null,
   "id": "c42bd8ce-8445-496e-8ef0-e35113d4d95f",
   "metadata": {
    "execution": {
     "iopub.execute_input": "2024-10-22T15:21:55.965330Z",
     "iopub.status.busy": "2024-10-22T15:21:55.965330Z",
     "iopub.status.idle": "2024-10-22T15:21:56.158656Z",
     "shell.execute_reply": "2024-10-22T15:21:56.158656Z",
     "shell.execute_reply.started": "2024-10-22T15:21:55.965330Z"
    }
   },
   "outputs": [],
   "source": [
    "train['age_group'] = ['young' if age < age_threshold else 'old' for age in train['person_age']]\n",
    "\n",
    "sns.set_style('ticks')\n",
    "plt.figure(figsize=(5, 4))\n",
    "loan_intent_order = train['age_group'].value_counts().index\n",
    "ax = sns.countplot(x='age_group', data=train, hue='age_group', order=loan_intent_order)\n",
    "annotate_bars_vertically(ax)\n",
    "sns.despine();"
   ]
  },
  {
   "cell_type": "code",
   "execution_count": null,
   "id": "aade4406-d7d2-4f72-9225-8a54664bc9cb",
   "metadata": {
    "execution": {
     "iopub.execute_input": "2024-10-22T15:21:59.172183Z",
     "iopub.status.busy": "2024-10-22T15:21:59.171090Z",
     "iopub.status.idle": "2024-10-22T15:21:59.921347Z",
     "shell.execute_reply": "2024-10-22T15:21:59.920340Z",
     "shell.execute_reply.started": "2024-10-22T15:21:59.172183Z"
    }
   },
   "outputs": [],
   "source": [
    "sns.set_style('darkgrid')\n",
    "plt.figure(figsize=(11, 6))\n",
    "\n",
    "sns.kdeplot(data=train, x='person_age', hue='age_group', fill=True,\n",
    "            edgecolor='black', linewidth=1.5, alpha=0.8)\n",
    "plt.title('Person Age Distribution by Age Group', fontsize=14, color='navy')\n",
    "plt.xlabel('Person Age', fontsize=14, color='navy')\n",
    "plt.ylabel('Density', fontsize=14, color='navy');"
   ]
  },
  {
   "cell_type": "markdown",
   "id": "6df00dde-47b7-4a67-93c8-5f7738aba344",
   "metadata": {},
   "source": [
    "- 2"
   ]
  },
  {
   "cell_type": "code",
   "execution_count": null,
   "id": "796777c3-dc69-4a75-ac0b-df5cd483f0a4",
   "metadata": {
    "execution": {
     "iopub.execute_input": "2024-10-22T15:22:02.868455Z",
     "iopub.status.busy": "2024-10-22T15:22:02.867456Z",
     "iopub.status.idle": "2024-10-22T15:22:03.316186Z",
     "shell.execute_reply": "2024-10-22T15:22:03.315175Z",
     "shell.execute_reply.started": "2024-10-22T15:22:02.867456Z"
    }
   },
   "outputs": [],
   "source": [
    "sns.set_style('ticks')\n",
    "plt.figure(figsize=(10, 1.5))\n",
    "plt.scatter(train['person_income'], [0] * len(train['person_income']), alpha=0.7, color='coral')\n",
    "\n",
    "plt.title('1-D Scatter Plot of Person Income', fontsize=15, color='navy', backgroundcolor='lightcyan')\n",
    "plt.yticks([])\n",
    "plt.ticklabel_format(style='plain', axis='x')\n",
    "sns.despine();"
   ]
  },
  {
   "cell_type": "code",
   "execution_count": null,
   "id": "2c6d5613-913f-4c05-b070-6d1fb10b4b9c",
   "metadata": {
    "execution": {
     "iopub.execute_input": "2024-10-22T15:22:06.226082Z",
     "iopub.status.busy": "2024-10-22T15:22:06.225903Z",
     "iopub.status.idle": "2024-10-22T15:22:06.640706Z",
     "shell.execute_reply": "2024-10-22T15:22:06.640706Z",
     "shell.execute_reply.started": "2024-10-22T15:22:06.226082Z"
    }
   },
   "outputs": [],
   "source": [
    "income_data = train['person_income'].values.reshape(-1, 1)\n",
    "\n",
    "wcss     = []\n",
    "k_values = range(1, 11)\n",
    "\n",
    "for k in k_values:\n",
    "    kmeans = KMeans(n_clusters=k, random_state=42)\n",
    "    kmeans.fit(income_data)\n",
    "    wcss.append(kmeans.inertia_) \n",
    "\n",
    "sns.set_style('ticks')\n",
    "plt.figure(figsize=(8, 5.5))\n",
    "plt.plot(k_values, wcss, marker='o', linestyle='-', color='coral')\n",
    "plt.xlabel('Number of Clusters')\n",
    "plt.ylabel('WCSS')\n",
    "plt.title('Elbow Method for Optimal Number of Clusters (Person Income)')\n",
    "plt.grid(True, color='lightgray', linestyle='--', linewidth=.5, alpha=1)\n",
    "sns.despine();"
   ]
  },
  {
   "cell_type": "code",
   "execution_count": null,
   "id": "92d624df-74d2-4a61-b99a-739ac0298e2d",
   "metadata": {
    "execution": {
     "iopub.execute_input": "2024-10-22T15:22:09.456037Z",
     "iopub.status.busy": "2024-10-22T15:22:09.456037Z",
     "iopub.status.idle": "2024-10-22T15:22:11.048778Z",
     "shell.execute_reply": "2024-10-22T15:22:11.048442Z",
     "shell.execute_reply.started": "2024-10-22T15:22:09.456037Z"
    }
   },
   "outputs": [],
   "source": [
    "income_data            = train['person_income'].values.reshape(-1, 1)\n",
    "kmeans_income          = KMeans(n_clusters=3, random_state=42)\n",
    "train['income_group']  = kmeans_income.fit_predict(income_data)\n",
    "income_cluster_centers = kmeans_income.cluster_centers_\n",
    "\n",
    "sns.set_style('ticks')\n",
    "plt.figure(figsize=(10, 1.5))\n",
    "\n",
    "plt.scatter(train['person_income'], [0] * len(train['person_income']), \n",
    "            c=train['income_group'], cmap='coolwarm', alpha=0.7)\n",
    "plt.scatter(income_cluster_centers, [0] * len(income_cluster_centers), \n",
    "            c='yellow', s=100, marker='X', edgecolors='red', linewidths=1)\n",
    "\n",
    "plt.title('1-D Scatter Plot of Person Income (Clustered)', fontsize=15, color='navy', backgroundcolor='lightcyan')\n",
    "plt.yticks([])\n",
    "plt.grid(True, color='lightgray', linestyle='--', linewidth=.5, alpha=1)\n",
    "plt.ticklabel_format(style='plain', axis='x')\n",
    "sns.despine();\n",
    "\n",
    "thresholds            = sorted(income_cluster_centers.flatten())\n",
    "print(\"Income Thresholds:\")\n",
    "for i, threshold in enumerate(thresholds, 1):\n",
    "    print(f\"\\tThreshold {i}: {threshold:.0f}\")\n",
    "    \n",
    "income_labels         = ['Low Income', 'Middle Income', 'High Income']\n",
    "train['income_group'] = [income_labels[group] for group in train['income_group']]"
   ]
  },
  {
   "cell_type": "code",
   "execution_count": null,
   "id": "125fc521-e459-45c3-aeda-295658c09798",
   "metadata": {
    "execution": {
     "iopub.execute_input": "2024-10-22T15:22:13.521188Z",
     "iopub.status.busy": "2024-10-22T15:22:13.521188Z",
     "iopub.status.idle": "2024-10-22T15:22:13.745375Z",
     "shell.execute_reply": "2024-10-22T15:22:13.745375Z",
     "shell.execute_reply.started": "2024-10-22T15:22:13.521188Z"
    }
   },
   "outputs": [],
   "source": [
    "sns.set_style('ticks')\n",
    "plt.figure(figsize=(6, 4.5))\n",
    "\n",
    "income_group_order = ['Low Income', 'Middle Income', 'High Income']\n",
    "ax                 = sns.countplot(x='income_group', data=train, hue='income_group', order=income_group_order)\n",
    "annotate_bars_vertically(ax)\n",
    "sns.despine();"
   ]
  },
  {
   "cell_type": "markdown",
   "id": "6348f863-8981-4a2e-8215-c30923f7edf5",
   "metadata": {},
   "source": [
    "- 3"
   ]
  },
  {
   "cell_type": "code",
   "execution_count": null,
   "id": "065836a3-9079-40cd-a37e-7560d3cb1b2a",
   "metadata": {
    "execution": {
     "iopub.execute_input": "2024-10-22T15:22:17.589605Z",
     "iopub.status.busy": "2024-10-22T15:22:17.588504Z",
     "iopub.status.idle": "2024-10-22T15:22:17.987850Z",
     "shell.execute_reply": "2024-10-22T15:22:17.987850Z",
     "shell.execute_reply.started": "2024-10-22T15:22:17.589605Z"
    }
   },
   "outputs": [],
   "source": [
    "sns.set_style('ticks')\n",
    "plt.figure(figsize=(10, 1.5))\n",
    "plt.scatter(train['person_emp_length'], [0] * len(train['person_emp_length']), alpha=0.7, color='olive')\n",
    "\n",
    "plt.title('1-D Scatter Plot of Person Employee Length', fontsize=15, color='navy', backgroundcolor='lightcyan')\n",
    "plt.yticks([])\n",
    "plt.ticklabel_format(style='plain', axis='x')\n",
    "sns.despine();"
   ]
  },
  {
   "cell_type": "code",
   "execution_count": null,
   "id": "7810eb79-7f2e-4ea3-bc0d-aace24935f4e",
   "metadata": {
    "execution": {
     "iopub.execute_input": "2024-10-22T15:22:20.160449Z",
     "iopub.status.busy": "2024-10-22T15:22:20.160449Z",
     "iopub.status.idle": "2024-10-22T15:22:20.553076Z",
     "shell.execute_reply": "2024-10-22T15:22:20.553076Z",
     "shell.execute_reply.started": "2024-10-22T15:22:20.160449Z"
    }
   },
   "outputs": [],
   "source": [
    "emp_length_data = train['person_emp_length'].values.reshape(-1, 1)\n",
    "\n",
    "wcss     = []\n",
    "k_values = range(1, 11)\n",
    "\n",
    "for k in k_values:\n",
    "    kmeans = KMeans(n_clusters=k, random_state=42)\n",
    "    kmeans.fit(emp_length_data)\n",
    "    wcss.append(kmeans.inertia_) \n",
    "\n",
    "sns.set_style('ticks')\n",
    "plt.figure(figsize=(8, 5.5))\n",
    "plt.plot(k_values, wcss, marker='o', linestyle='-', color='olive')\n",
    "plt.xlabel('Number of Clusters')\n",
    "plt.ylabel('WCSS')\n",
    "plt.title('Elbow Method for Optimal Number of Clusters (Employee Length)')\n",
    "plt.grid(True, color='lightgray', linestyle='--', linewidth=.5, alpha=1)\n",
    "sns.despine();"
   ]
  },
  {
   "cell_type": "code",
   "execution_count": null,
   "id": "c74ff624-ade5-4345-b4e2-70ec03bfbaf5",
   "metadata": {
    "execution": {
     "iopub.execute_input": "2024-10-22T15:22:23.145520Z",
     "iopub.status.busy": "2024-10-22T15:22:23.144523Z",
     "iopub.status.idle": "2024-10-22T15:22:24.734285Z",
     "shell.execute_reply": "2024-10-22T15:22:24.733288Z",
     "shell.execute_reply.started": "2024-10-22T15:22:23.145520Z"
    }
   },
   "outputs": [],
   "source": [
    "emp_length_data            = train['person_emp_length'].values.reshape(-1, 1)\n",
    "kmeans_emp_length          = KMeans(n_clusters=2, random_state=42)\n",
    "train['emp_length_group']  = kmeans_emp_length.fit_predict(emp_length_data)\n",
    "emp_length_cluster_centers = kmeans_emp_length.cluster_centers_\n",
    "\n",
    "sns.set_style('ticks')\n",
    "plt.figure(figsize=(10, 1.5))\n",
    "\n",
    "plt.scatter(train['person_emp_length'], [0] * len(train['person_emp_length']), \n",
    "            c=train['emp_length_group'], cmap='coolwarm', alpha=0.7)\n",
    "plt.scatter(emp_length_cluster_centers, [0] * len(emp_length_cluster_centers), \n",
    "            c='yellow', s=100, marker='X', edgecolors='red', linewidths=1)\n",
    "\n",
    "plt.title('1-D Scatter Plot of Employee Length (Clustered)', fontsize=15, color='navy', backgroundcolor='lightcyan')\n",
    "plt.yticks([])\n",
    "plt.grid(True, color='lightgray', linestyle='--', linewidth=.5, alpha=1)\n",
    "plt.ticklabel_format(style='plain', axis='x')\n",
    "sns.despine();\n",
    "\n",
    "thresholds              = sorted(emp_length_cluster_centers.flatten())\n",
    "print(\"Employee Length Thresholds:\")\n",
    "for i, threshold in enumerate(thresholds, 1):\n",
    "    print(f\"\\tThreshold {i}: {threshold:.0f}\")\n",
    "    \n",
    "emp_length_labels         = ['Short Tenure' if group == 0 else 'Long Tenure' for group in train['emp_length_group']]\n",
    "train['emp_length_group'] = emp_length_labels"
   ]
  },
  {
   "cell_type": "code",
   "execution_count": null,
   "id": "d0528a2e-ed0a-4489-b6a7-2a47907de171",
   "metadata": {
    "execution": {
     "iopub.execute_input": "2024-10-22T15:22:27.018554Z",
     "iopub.status.busy": "2024-10-22T15:22:27.018554Z",
     "iopub.status.idle": "2024-10-22T15:22:27.208500Z",
     "shell.execute_reply": "2024-10-22T15:22:27.207490Z",
     "shell.execute_reply.started": "2024-10-22T15:22:27.018554Z"
    }
   },
   "outputs": [],
   "source": [
    "sns.set_style('ticks')\n",
    "plt.figure(figsize=(6, 4.5))\n",
    "\n",
    "emp_length_group_order = ['Short Tenure', 'Long Tenure']\n",
    "ax                     = sns.countplot(x='emp_length_group', data=train, hue='emp_length_group', order=emp_length_group_order)\n",
    "annotate_bars_vertically(ax)\n",
    "sns.despine();"
   ]
  },
  {
   "cell_type": "markdown",
   "id": "58467257-8453-499e-bb46-02db0e46f8eb",
   "metadata": {},
   "source": [
    "- 4"
   ]
  },
  {
   "cell_type": "code",
   "execution_count": null,
   "id": "37d33fe0-4c77-453d-8792-16fd1793af29",
   "metadata": {
    "execution": {
     "iopub.execute_input": "2024-10-22T15:22:29.555816Z",
     "iopub.status.busy": "2024-10-22T15:22:29.555816Z",
     "iopub.status.idle": "2024-10-22T15:22:29.931125Z",
     "shell.execute_reply": "2024-10-22T15:22:29.930125Z",
     "shell.execute_reply.started": "2024-10-22T15:22:29.555816Z"
    }
   },
   "outputs": [],
   "source": [
    "sns.set_style('ticks')\n",
    "plt.figure(figsize=(10, 5))\n",
    "plt.scatter(train['person_age'], train['person_income'], alpha=0.7, color='sienna')\n",
    "\n",
    "plt.title('2-D Scatter Plot of Person Age vs. Person Income', fontsize=15, color='navy', backgroundcolor='lightcyan')\n",
    "plt.xlabel('Person Age', fontsize=13, color='navy')\n",
    "plt.ylabel('Person Income', fontsize=13, color='navy')\n",
    "plt.grid(True, color='lightgray', linestyle='--', linewidth=0.5, alpha=0.7)\n",
    "sns.despine();"
   ]
  },
  {
   "cell_type": "code",
   "execution_count": null,
   "id": "38b89691-ca7c-4df5-b14e-c24e2035d102",
   "metadata": {
    "execution": {
     "iopub.execute_input": "2024-10-22T15:22:33.083986Z",
     "iopub.status.busy": "2024-10-22T15:22:33.083986Z",
     "iopub.status.idle": "2024-10-22T15:22:33.701981Z",
     "shell.execute_reply": "2024-10-22T15:22:33.701981Z",
     "shell.execute_reply.started": "2024-10-22T15:22:33.083986Z"
    }
   },
   "outputs": [],
   "source": [
    "age_income_data = train[['person_age', 'person_income']].values\n",
    "\n",
    "wcss     = []\n",
    "k_values = range(1, 11)\n",
    "\n",
    "for k in k_values:\n",
    "    kmeans = KMeans(n_clusters=k, random_state=42)\n",
    "    kmeans.fit(age_income_data)\n",
    "    wcss.append(kmeans.inertia_) \n",
    "\n",
    "sns.set_style('ticks')\n",
    "plt.figure(figsize=(8, 5.5))\n",
    "plt.plot(k_values, wcss, marker='o', linestyle='-', color='sienna')\n",
    "plt.xlabel('Number of Clusters')\n",
    "plt.ylabel('WCSS')\n",
    "plt.title('Elbow Method for Optimal Number of Clusters (Person Age vs Income)')\n",
    "plt.grid(True, color='lightgray', linestyle='--', linewidth=.5, alpha=1)\n",
    "sns.despine()"
   ]
  },
  {
   "cell_type": "code",
   "execution_count": null,
   "id": "98aa52b0-a19e-4409-a19c-7faf9ddb1983",
   "metadata": {
    "execution": {
     "iopub.execute_input": "2024-10-22T15:22:36.563316Z",
     "iopub.status.busy": "2024-10-22T15:22:36.562303Z",
     "iopub.status.idle": "2024-10-22T15:22:38.659140Z",
     "shell.execute_reply": "2024-10-22T15:22:38.659140Z",
     "shell.execute_reply.started": "2024-10-22T15:22:36.563316Z"
    }
   },
   "outputs": [],
   "source": [
    "age_income_data           = train[['person_age', 'person_income']].values\n",
    "kmeans                    = KMeans(n_clusters=4, random_state=42)\n",
    "train['age_income_group'] = kmeans.fit_predict(age_income_data)\n",
    "cluster_centers           = kmeans.cluster_centers_\n",
    "\n",
    "group_mapping             = {3: 'VIP', 2: 'Group 1', 0: 'Group 2', 1: 'Group 3'}\n",
    "train['age_income_group'] = train['age_income_group'].map(group_mapping)\n",
    "\n",
    "sns.set_style('ticks')\n",
    "plt.figure(figsize=(10, 6))\n",
    "\n",
    "ax = sns.scatterplot(data=train, x='person_age', y='person_income', hue='age_income_group', \n",
    "                     alpha=0.7, s=50)\n",
    "plt.scatter(cluster_centers[:, 0], cluster_centers[:, 1], \n",
    "            c='yellow', s=200, marker='X', edgecolors='red', linewidths=1.5)\n",
    "\n",
    "plt.title('2-D Scatter Plot of Person Age vs. Person Income (Clustered)', fontsize=15, color='navy', backgroundcolor='lightcyan')\n",
    "plt.xlabel('Person Age', fontsize=13, color='navy')\n",
    "plt.ylabel('Person Income', fontsize=13, color='navy')\n",
    "\n",
    "plt.grid(True, color='lightgray', linestyle='--', linewidth=.5, alpha=1)\n",
    "handles, labels = ax.get_legend_handles_labels()\n",
    "plt.legend(handles[::-1], labels[::-1], title='Groups', loc='best')\n",
    "sns.despine();\n",
    "\n",
    "train = train.drop(columns=['age_income_group'])"
   ]
  },
  {
   "cell_type": "markdown",
   "id": "40118764-3650-49d2-8a24-196b8e391c50",
   "metadata": {},
   "source": [
    "- 5"
   ]
  },
  {
   "cell_type": "code",
   "execution_count": null,
   "id": "150578d9-7769-49b7-b4a3-fa2310a3b6e7",
   "metadata": {
    "execution": {
     "iopub.execute_input": "2024-10-22T15:22:41.591864Z",
     "iopub.status.busy": "2024-10-22T15:22:41.591864Z",
     "iopub.status.idle": "2024-10-22T15:22:41.774336Z",
     "shell.execute_reply": "2024-10-22T15:22:41.773337Z",
     "shell.execute_reply.started": "2024-10-22T15:22:41.591864Z"
    }
   },
   "outputs": [],
   "source": [
    "train['loan_interest_amount'] = train['loan_int_rate'] * train['loan_amnt']\n",
    "\n",
    "correlation = train.corr(numeric_only=True)['loan_status'].sort_values(ascending=False)\n",
    "plt.figure(figsize=(10.5, 4.8))\n",
    "colors = ['red' if idx == 'loan_interest_amount' else 'teal' for idx in correlation.index]\n",
    "sns.barplot(x=correlation.values, y=correlation.index, hue=correlation.index, palette=colors)\n",
    "\n",
    "for index, value in enumerate(correlation.values):\n",
    "    if np.isfinite(value):\n",
    "        plt.text(value, index, f'{value: .2f}', va='center')\n",
    "plt.ylabel('');"
   ]
  },
  {
   "cell_type": "markdown",
   "id": "5ee8cba7-69b0-44b0-bcdb-1061b729a463",
   "metadata": {},
   "source": [
    "### `Section 17` - Rebuilding the Model After Feature Engineering"
   ]
  },
  {
   "cell_type": "markdown",
   "id": "e78158b0-21cc-4077-98f2-2bff413d387b",
   "metadata": {},
   "source": [
    "- 1"
   ]
  },
  {
   "cell_type": "code",
   "execution_count": null,
   "id": "418e834e-eb8b-4207-8407-61973be143ff",
   "metadata": {
    "execution": {
     "iopub.execute_input": "2024-10-22T15:46:37.848564Z",
     "iopub.status.busy": "2024-10-22T15:46:37.848564Z",
     "iopub.status.idle": "2024-10-22T15:46:37.937932Z",
     "shell.execute_reply": "2024-10-22T15:46:37.936926Z",
     "shell.execute_reply.started": "2024-10-22T15:46:37.848564Z"
    }
   },
   "outputs": [],
   "source": [
    "X = train.drop('loan_status', axis=1)\n",
    "y = train['loan_status']\n",
    "\n",
    "X_train, X_test, y_train, y_test = train_test_split(X, y, test_size=0.25, random_state=42)\n",
    "\n",
    "X_train_mixed_encoded = X_train.copy()\n",
    "X_test_mixed_encoded  = X_test.copy()\n",
    "\n",
    "X_train_mixed_encoded['cb_person_default_on_file'] = X_train_mixed_encoded['cb_person_default_on_file'].map({'N': 0, 'Y': 1})\n",
    "X_test_mixed_encoded['cb_person_default_on_file']  = X_test_mixed_encoded['cb_person_default_on_file'].map({'N': 0, 'Y': 1})\n",
    "\n",
    "X_train_mixed_encoded['loan_grade'] = X_train_mixed_encoded['loan_grade'].map({'A': 0, 'B': 1, 'C': 2, 'D': 3, 'E': 4, 'F': 5, 'G': 6})\n",
    "X_test_mixed_encoded['loan_grade']  = X_test_mixed_encoded['loan_grade'].map({'A': 0, 'B': 1, 'C': 2, 'D': 3, 'E': 4, 'F': 5, 'G': 6})\n",
    "\n",
    "remaining_categorical_cols = X_train.select_dtypes(include='object').columns\n",
    "remaining_categorical_cols = remaining_categorical_cols.difference(['cb_person_default_on_file', \n",
    "                                                                    'loan_grade', \n",
    "                                                                    'age_group', \n",
    "                                                                    'income_group', \n",
    "                                                                    'emp_length_group'])\n",
    "\n",
    "for col in remaining_categorical_cols:\n",
    "    means                      = train_data_with_target.groupby(col)['loan_status'].mean()\n",
    "    X_train_mixed_encoded[col] = X_train_mixed_encoded[col].map(means)\n",
    "    X_test_mixed_encoded[col]  = X_test_mixed_encoded[col].map(means)\n",
    "\n",
    "categorical_cols      = X_train_mixed_encoded.select_dtypes(include='object').columns\n",
    "X_train_mixed_encoded = pd.get_dummies(X_train_mixed_encoded, columns=categorical_cols, drop_first=True)\n",
    "X_test_mixed_encoded  = pd.get_dummies(X_test_mixed_encoded,  columns=categorical_cols, drop_first=True)\n",
    "X_test_mixed_encoded  = X_test_mixed_encoded.reindex(columns=X_test_mixed_encoded.columns, fill_value=0)\n",
    "\n",
    "numeric_columns = [\n",
    "    'person_age',\n",
    "    'person_income',\n",
    "    'person_emp_length',\n",
    "    'loan_amnt',\n",
    "    'loan_int_rate',\n",
    "    'loan_percent_income',\n",
    "    'cb_person_cred_hist_length',\n",
    "    'loan_interest_amount'\n",
    "]\n",
    "scaler_without_sampling                         = StandardScaler()\n",
    "X_train_mixed_encoded_Standard                  = X_train_mixed_encoded.copy()\n",
    "X_test_mixed_encoded_Standard                   = X_test_mixed_encoded.copy()\n",
    "X_train_mixed_encoded_Standard[numeric_columns] = scaler_without_sampling.fit_transform(X_train_mixed_encoded[numeric_columns])\n",
    "X_test_mixed_encoded_Standard[numeric_columns]  = scaler_without_sampling.transform(X_test_mixed_encoded[numeric_columns])"
   ]
  },
  {
   "cell_type": "markdown",
   "id": "925f9c9a-65b4-4011-b52e-c3bf0edd2f5e",
   "metadata": {},
   "source": [
    "- 2"
   ]
  },
  {
   "cell_type": "code",
   "execution_count": null,
   "id": "f1f7e8df-ff09-410f-a546-6dca35854970",
   "metadata": {
    "execution": {
     "iopub.execute_input": "2024-10-22T15:46:40.206085Z",
     "iopub.status.busy": "2024-10-22T15:46:40.205085Z",
     "iopub.status.idle": "2024-10-22T15:49:02.007811Z",
     "shell.execute_reply": "2024-10-22T15:49:02.006730Z",
     "shell.execute_reply.started": "2024-10-22T15:46:40.206085Z"
    }
   },
   "outputs": [],
   "source": [
    "X_train_mixed_encoded_Standard = pd.DataFrame(X_train_mixed_encoded_Standard, columns=X_train_mixed_encoded.columns)\n",
    "X_test_mixed_encoded_Standard  = pd.DataFrame(X_test_mixed_encoded_Standard,  columns=X_train_mixed_encoded.columns)\n",
    "\n",
    "voting_clf = VotingClassifier(estimators=[\n",
    "    ('catboost', catboost_best),\n",
    "    ('lgbm', lgbm_best),\n",
    "    ('xgb', xgb_best),\n",
    "    ('rf', rf_best)\n",
    "], voting='soft')\n",
    "\n",
    "voting_clf.fit(X_train_mixed_encoded_Standard, y_train_mixed_encoded_without_sampling)\n",
    "\n",
    "y_test_pred = voting_clf.predict(X_test_mixed_encoded_Standard)"
   ]
  },
  {
   "cell_type": "code",
   "execution_count": null,
   "id": "e15878bc-1d10-44af-9c11-40e9e22abcc2",
   "metadata": {
    "execution": {
     "iopub.execute_input": "2024-10-22T15:49:25.534652Z",
     "iopub.status.busy": "2024-10-22T15:49:25.534652Z",
     "iopub.status.idle": "2024-10-22T15:49:28.870788Z",
     "shell.execute_reply": "2024-10-22T15:49:28.869779Z",
     "shell.execute_reply.started": "2024-10-22T15:49:25.534652Z"
    }
   },
   "outputs": [],
   "source": [
    "from sklearn.metrics import precision_score, recall_score, f1_score, accuracy_score\n",
    "\n",
    "y_train_pred = voting_clf.predict(X_train_mixed_encoded_Standard)\n",
    "y_test_pred  = voting_clf.predict(X_test_mixed_encoded_Standard)\n",
    "\n",
    "accuracy_train  = accuracy_score(y_train_mixed_encoded_without_sampling, y_train_pred)\n",
    "precision_train = precision_score(y_train_mixed_encoded_without_sampling, y_train_pred)\n",
    "recall_train    = recall_score(y_train_mixed_encoded_without_sampling, y_train_pred)\n",
    "f1_train        = f1_score(y_train_mixed_encoded_without_sampling, y_train_pred)\n",
    "\n",
    "accuracy_test  = accuracy_score(y_test, y_test_pred)\n",
    "precision_test = precision_score(y_test, y_test_pred)\n",
    "recall_test    = recall_score(y_test, y_test_pred)\n",
    "f1_test        = f1_score(y_test, y_test_pred)\n",
    "\n",
    "pd.DataFrame({\n",
    "    'Metric': ['Accuracy', 'Precision', 'Recall', 'F1 Score'],\n",
    "    'Training Data': [accuracy_train, precision_train, recall_train, f1_train],\n",
    "    'Testing Data': [accuracy_test, precision_test, recall_test, f1_test]\n",
    "}).round(3)"
   ]
  },
  {
   "cell_type": "markdown",
   "id": "fcab2e8d-b3af-498c-94bc-a2e1ac30b653",
   "metadata": {},
   "source": [
    "### `Section 18` - Deep Learning"
   ]
  },
  {
   "cell_type": "markdown",
   "id": "7f14c77b-6c8d-43c6-8b72-f2a3a2d7e5f1",
   "metadata": {},
   "source": [
    "- 1"
   ]
  },
  {
   "cell_type": "code",
   "execution_count": null,
   "id": "2249e310-4c73-4554-9bc5-e1ab2108d0e8",
   "metadata": {
    "execution": {
     "iopub.execute_input": "2024-10-22T16:13:33.282985Z",
     "iopub.status.busy": "2024-10-22T16:13:33.282985Z",
     "iopub.status.idle": "2024-10-22T16:15:52.460917Z",
     "shell.execute_reply": "2024-10-22T16:15:52.460917Z",
     "shell.execute_reply.started": "2024-10-22T16:13:33.282985Z"
    },
    "scrolled": true
   },
   "outputs": [],
   "source": [
    "import tensorflow as tf\n",
    "from tensorflow import keras\n",
    "from tensorflow.keras import layers\n",
    "\n",
    "model = keras.Sequential([\n",
    "    layers.Input(shape=(X_train_mixed_encoded_Standard.shape[1],)),\n",
    "    layers.Dense(8, activation='relu'),\n",
    "    layers.Dense(4, activation='relu'),\n",
    "    layers.Dense(2, activation='relu'),\n",
    "    layers.Dense(1, activation='sigmoid') \n",
    "])\n",
    "\n",
    "model.compile(optimizer='adam', loss='binary_crossentropy', metrics=['accuracy'])\n",
    "\n",
    "result = model.fit(X_train_mixed_encoded_Standard, y_train_mixed_encoded_without_sampling, \n",
    "                   epochs=100, validation_split=0.2)"
   ]
  },
  {
   "cell_type": "markdown",
   "id": "eb2b2ecf-b478-498d-911a-304735a24b5b",
   "metadata": {},
   "source": [
    "- 2"
   ]
  },
  {
   "cell_type": "code",
   "execution_count": null,
   "id": "a78ea423-598a-49f5-b484-bd54791cfbb5",
   "metadata": {
    "execution": {
     "iopub.execute_input": "2024-10-22T16:15:57.480646Z",
     "iopub.status.busy": "2024-10-22T16:15:57.479650Z",
     "iopub.status.idle": "2024-10-22T16:15:57.492965Z",
     "shell.execute_reply": "2024-10-22T16:15:57.492965Z",
     "shell.execute_reply.started": "2024-10-22T16:15:57.479650Z"
    }
   },
   "outputs": [],
   "source": [
    "model.summary()"
   ]
  },
  {
   "cell_type": "markdown",
   "id": "be6f1283-ccd3-4513-be6f-aff78c0fccc5",
   "metadata": {},
   "source": [
    "- 3"
   ]
  },
  {
   "cell_type": "code",
   "execution_count": null,
   "id": "e36afdfd-6f16-4b2b-8bb3-622483f7a786",
   "metadata": {
    "execution": {
     "iopub.execute_input": "2024-10-22T16:18:36.908138Z",
     "iopub.status.busy": "2024-10-22T16:18:36.908138Z",
     "iopub.status.idle": "2024-10-22T16:18:37.254516Z",
     "shell.execute_reply": "2024-10-22T16:18:37.254516Z",
     "shell.execute_reply.started": "2024-10-22T16:18:36.908138Z"
    }
   },
   "outputs": [],
   "source": [
    "test_loss, test_acc = model.evaluate(X_test_mixed_encoded_Standard, y_test)\n",
    "print(f\"Test Accuracy: {test_acc:.4f}\")"
   ]
  },
  {
   "cell_type": "markdown",
   "id": "1c870c57-4a48-4741-8e92-057d713270d5",
   "metadata": {},
   "source": [
    "- 4"
   ]
  },
  {
   "cell_type": "code",
   "execution_count": null,
   "id": "851f9e03-a2df-466e-aaf4-a5d6dcc7d3bc",
   "metadata": {
    "execution": {
     "iopub.execute_input": "2024-10-22T16:24:41.032870Z",
     "iopub.status.busy": "2024-10-22T16:24:41.032788Z",
     "iopub.status.idle": "2024-10-22T16:26:22.225987Z",
     "shell.execute_reply": "2024-10-22T16:26:22.225018Z",
     "shell.execute_reply.started": "2024-10-22T16:24:41.032870Z"
    },
    "scrolled": true
   },
   "outputs": [],
   "source": [
    "early_stopping = tf.keras.callbacks.EarlyStopping(\n",
    "    monitor='val_loss',  \n",
    "    patience=10,         \n",
    "    min_delta=0.0001,  \n",
    "    verbose=1            \n",
    ")\n",
    "\n",
    "model = keras.Sequential([\n",
    "    layers.Input(shape=(X_train_mixed_encoded_Standard.shape[1],)),\n",
    "    layers.Dense(8, activation='relu'),\n",
    "    layers.Dense(4, activation='relu'),\n",
    "    layers.Dense(2, activation='relu'),\n",
    "    layers.Dense(1, activation='sigmoid') \n",
    "])\n",
    "\n",
    "model.compile(optimizer='adam', loss='binary_crossentropy', metrics=['accuracy'])\n",
    "\n",
    "result = model.fit(X_train_mixed_encoded_Standard, y_train_mixed_encoded_without_sampling, \n",
    "                   epochs=100, validation_split=0.2, callbacks=early_stopping)"
   ]
  },
  {
   "cell_type": "code",
   "execution_count": null,
   "id": "28c71fc3-b7ed-4026-a6b1-40bb0b8a2662",
   "metadata": {
    "execution": {
     "iopub.execute_input": "2024-10-22T16:27:17.536525Z",
     "iopub.status.busy": "2024-10-22T16:27:17.535503Z",
     "iopub.status.idle": "2024-10-22T16:27:17.890005Z",
     "shell.execute_reply": "2024-10-22T16:27:17.890005Z",
     "shell.execute_reply.started": "2024-10-22T16:27:17.536525Z"
    }
   },
   "outputs": [],
   "source": [
    "test_loss, test_acc = model.evaluate(X_test_mixed_encoded_Standard, y_test)\n",
    "print(f\"Test Accuracy: {test_acc:.4f}\")"
   ]
  },
  {
   "cell_type": "markdown",
   "id": "cd92afc5-350e-47bb-80cc-a54df2190847",
   "metadata": {},
   "source": [
    "- 5"
   ]
  },
  {
   "cell_type": "code",
   "execution_count": null,
   "id": "341f7e10-13d6-4c36-98f5-c5a0ff62dc24",
   "metadata": {
    "execution": {
     "iopub.execute_input": "2024-10-22T16:29:22.137585Z",
     "iopub.status.busy": "2024-10-22T16:29:22.137585Z",
     "iopub.status.idle": "2024-10-22T16:29:22.307813Z",
     "shell.execute_reply": "2024-10-22T16:29:22.307813Z",
     "shell.execute_reply.started": "2024-10-22T16:29:22.137585Z"
    }
   },
   "outputs": [],
   "source": [
    "plt.plot(result.history['accuracy'])\n",
    "plt.plot(result.history['val_accuracy'])\n",
    "plt.title('Model Accuracy Over Epochs')\n",
    "plt.ylabel('Accuracy')\n",
    "plt.xlabel('Epoch')\n",
    "plt.legend(['Train', 'Validation'])\n",
    "plt.grid(True, color='lightgray', linestyle='--', linewidth=0.5, alpha=0.7)\n",
    "sns.despine();\n",
    "plt.tight_layout();"
   ]
  },
  {
   "cell_type": "markdown",
   "id": "c09672ac-e079-4da5-883e-33ee40ae569c",
   "metadata": {},
   "source": [
    "- 6"
   ]
  },
  {
   "cell_type": "code",
   "execution_count": null,
   "id": "80e82a36-c97c-4267-a4c9-cf113f8607ec",
   "metadata": {
    "execution": {
     "iopub.execute_input": "2024-10-22T16:32:02.004942Z",
     "iopub.status.busy": "2024-10-22T16:32:02.004942Z",
     "iopub.status.idle": "2024-10-22T16:32:02.330883Z",
     "shell.execute_reply": "2024-10-22T16:32:02.330883Z",
     "shell.execute_reply.started": "2024-10-22T16:32:02.004942Z"
    }
   },
   "outputs": [],
   "source": [
    "fig, (ax1, ax2) = plt.subplots(1, 2, figsize=(11.5, 5.5))\n",
    "\n",
    "ax1.plot(result.history['accuracy'], label='Train Accuracy')\n",
    "ax1.plot(result.history['val_accuracy'], label='Validation Accuracy')\n",
    "ax1.set_title('Model Accuracy Over Epochs', fontsize=14)\n",
    "ax1.set_ylabel('Accuracy', fontsize=12)\n",
    "ax1.set_xlabel('Epoch', fontsize=12)\n",
    "ax1.legend()\n",
    "ax1.grid(True, color='lightgray', linestyle='--', linewidth=0.5, alpha=0.7)\n",
    "sns.despine()\n",
    "\n",
    "ax2.plot(result.history['loss'], label='Train Loss')\n",
    "ax2.plot(result.history['val_loss'], label='Validation Loss')\n",
    "ax2.set_title('Model Loss Over Epochs', fontsize=14)\n",
    "ax2.set_ylabel('Loss', fontsize=12)\n",
    "ax2.set_xlabel('Epoch', fontsize=12)\n",
    "ax2.legend()\n",
    "ax2.grid(True, color='lightgray', linestyle='--', linewidth=0.5, alpha=0.7)\n",
    "sns.despine()\n",
    "plt.tight_layout();"
   ]
  },
  {
   "cell_type": "markdown",
   "id": "66fb84d2-354d-45a5-849d-726c05565827",
   "metadata": {},
   "source": [
    "- 7"
   ]
  },
  {
   "cell_type": "code",
   "execution_count": null,
   "id": "58be7420-f437-417b-b8ce-7a35408f12eb",
   "metadata": {
    "execution": {
     "iopub.execute_input": "2024-10-22T16:37:59.666689Z",
     "iopub.status.busy": "2024-10-22T16:37:59.665676Z",
     "iopub.status.idle": "2024-10-22T16:38:01.802914Z",
     "shell.execute_reply": "2024-10-22T16:38:01.802914Z",
     "shell.execute_reply.started": "2024-10-22T16:37:59.666689Z"
    }
   },
   "outputs": [],
   "source": [
    "y_train_preds = (model.predict(X_train_mixed_encoded_Standard) > 0.5).astype(\"int32\")\n",
    "y_test_preds = (model.predict(X_test_mixed_encoded_Standard) > 0.5).astype(\"int32\")\n",
    "\n",
    "cm_train = confusion_matrix(y_train_mixed_encoded_without_sampling, y_train_preds)\n",
    "cm_test  = confusion_matrix(y_test, y_test_preds)\n",
    "\n",
    "fig, (ax1, ax2) = plt.subplots(1, 2, figsize=(11.5, 4.5))\n",
    "ConfusionMatrixDisplay(confusion_matrix=cm_train).plot(ax=ax1)\n",
    "ax1.set_title('Confusion Matrix - Training Data')\n",
    "\n",
    "ConfusionMatrixDisplay(confusion_matrix=cm_test).plot(ax=ax2)\n",
    "ax2.set_title('Confusion Matrix - Testing Data')\n",
    "plt.tight_layout();"
   ]
  },
  {
   "cell_type": "markdown",
   "id": "3f7f3844-32b0-46dd-9f64-971147e91068",
   "metadata": {},
   "source": [
    "### `Section 19` - Deep Learning - Hyperparameter Tuning"
   ]
  },
  {
   "cell_type": "markdown",
   "id": "72c3625d-129d-499a-bd02-f502dce44e3a",
   "metadata": {},
   "source": [
    "- 1"
   ]
  },
  {
   "cell_type": "code",
   "execution_count": null,
   "id": "1b62d23b-6f7e-4de7-b7cb-7459ebf738db",
   "metadata": {
    "execution": {
     "iopub.execute_input": "2024-10-22T18:11:00.342885Z",
     "iopub.status.busy": "2024-10-22T18:11:00.342885Z",
     "iopub.status.idle": "2024-10-22T18:11:00.348125Z",
     "shell.execute_reply": "2024-10-22T18:11:00.348125Z",
     "shell.execute_reply.started": "2024-10-22T18:11:00.342885Z"
    }
   },
   "outputs": [],
   "source": [
    "import keras_tuner as kt\n",
    "\n",
    "def build_model(hp):\n",
    "    num_of_hidden_layers = hp.Int('num_of_hidden_layers', 2, 8)\n",
    "    optimizers           = hp.Choice('optimizers', values=['adam', 'adam', 'adam', 'adam', 'rmsprop', 'sgd'])\n",
    "\n",
    "    model = keras.Sequential()\n",
    "    model.add(layers.Input(shape=(X_train_mixed_encoded_Standard.shape[1],)))\n",
    "\n",
    "    for i in range(num_of_hidden_layers):\n",
    "        num_of_neurons = hp.Int(f'layer_{i}_neurons', 2, 16, step=2)\n",
    "        dropout_rate   = hp.Choice(f'dropout_{i}', values=[0.0, 0.0, 0.0, 0.0, 0.1])\n",
    "        model.add(layers.Dense(num_of_neurons, activation='relu'))\n",
    "        model.add(layers.Dropout(dropout_rate))\n",
    "\n",
    "    model.add(layers.Dense(1, activation='sigmoid'))\n",
    "\n",
    "    model.compile(optimizer=optimizers, loss='binary_crossentropy', metrics=['accuracy'])\n",
    "    return model"
   ]
  },
  {
   "cell_type": "code",
   "execution_count": null,
   "id": "4e8e8343-d931-43f3-9e97-f73390766fd6",
   "metadata": {
    "execution": {
     "iopub.execute_input": "2024-10-22T18:11:07.315063Z",
     "iopub.status.busy": "2024-10-22T18:11:07.315063Z",
     "iopub.status.idle": "2024-10-22T18:25:16.901457Z",
     "shell.execute_reply": "2024-10-22T18:25:16.900461Z",
     "shell.execute_reply.started": "2024-10-22T18:11:07.315063Z"
    }
   },
   "outputs": [],
   "source": [
    "tuner = kt.RandomSearch(\n",
    "    build_model,\n",
    "    objective='val_accuracy',    \n",
    "    max_trials=25,             \n",
    "    directory='project-1',        \n",
    "    project_name='ModelSearch'   \n",
    ")\n",
    "tuner.search(X_train_mixed_encoded_Standard, y_train_mixed_encoded_without_sampling, epochs=20, validation_split=0.2)"
   ]
  },
  {
   "cell_type": "markdown",
   "id": "046ca879-63b6-48b4-9697-d7f0f4bb0dd7",
   "metadata": {},
   "source": [
    "- 2"
   ]
  },
  {
   "cell_type": "code",
   "execution_count": null,
   "id": "e2298d9e-0d99-4147-9e6a-165a4520b770",
   "metadata": {
    "execution": {
     "iopub.execute_input": "2024-10-22T18:25:23.702477Z",
     "iopub.status.busy": "2024-10-22T18:25:23.702477Z",
     "iopub.status.idle": "2024-10-22T18:25:26.356818Z",
     "shell.execute_reply": "2024-10-22T18:25:26.356818Z",
     "shell.execute_reply.started": "2024-10-22T18:25:23.702477Z"
    }
   },
   "outputs": [],
   "source": [
    "warnings.filterwarnings(\"ignore\", category=UserWarning, module='keras')\n",
    "\n",
    "best_model = tuner.get_best_models(num_models=1)[0]\n",
    "best_model.summary()"
   ]
  },
  {
   "cell_type": "code",
   "execution_count": null,
   "id": "d498e73d-deb6-4d74-85ee-4a102a9c78a2",
   "metadata": {
    "execution": {
     "iopub.execute_input": "2024-10-22T18:25:31.021529Z",
     "iopub.status.busy": "2024-10-22T18:25:31.021529Z",
     "iopub.status.idle": "2024-10-22T18:25:31.027691Z",
     "shell.execute_reply": "2024-10-22T18:25:31.027089Z",
     "shell.execute_reply.started": "2024-10-22T18:25:31.021529Z"
    }
   },
   "outputs": [],
   "source": [
    "best_params = tuner.get_best_hyperparameters()[0].values\n",
    "print(\"Best Hyperparameters:\", best_params)"
   ]
  },
  {
   "cell_type": "code",
   "execution_count": null,
   "id": "8d8fd682-5993-4746-a492-da404189b0b4",
   "metadata": {
    "execution": {
     "iopub.execute_input": "2024-10-22T18:25:40.516237Z",
     "iopub.status.busy": "2024-10-22T18:25:40.516237Z",
     "iopub.status.idle": "2024-10-22T18:25:52.385866Z",
     "shell.execute_reply": "2024-10-22T18:25:52.385734Z",
     "shell.execute_reply.started": "2024-10-22T18:25:40.516237Z"
    }
   },
   "outputs": [],
   "source": [
    "new_results = best_model.fit(X_train_mixed_encoded_Standard, y_train_mixed_encoded_without_sampling,\n",
    "                             epochs=100, validation_split=0.2, callbacks=early_stopping)"
   ]
  },
  {
   "cell_type": "code",
   "execution_count": null,
   "id": "60664a2e-2f2a-4628-a6a8-e343b7b946eb",
   "metadata": {
    "execution": {
     "iopub.execute_input": "2024-10-22T18:26:02.967822Z",
     "iopub.status.busy": "2024-10-22T18:26:02.966822Z",
     "iopub.status.idle": "2024-10-22T18:26:03.376954Z",
     "shell.execute_reply": "2024-10-22T18:26:03.376954Z",
     "shell.execute_reply.started": "2024-10-22T18:26:02.967822Z"
    }
   },
   "outputs": [],
   "source": [
    "test_loss, test_acc = best_model.evaluate(X_test_mixed_encoded_Standard, y_test)\n",
    "print(f\"Test Accuracy: {test_acc:.4f}\")"
   ]
  },
  {
   "cell_type": "markdown",
   "id": "7bb01752-40b6-4a90-af68-322d08ae2343",
   "metadata": {},
   "source": [
    "### `Section 20` - Submitting Results to Kaggle Competition"
   ]
  },
  {
   "cell_type": "markdown",
   "id": "e9636985-3454-4956-b069-af1ecf65d83e",
   "metadata": {},
   "source": [
    "- 1"
   ]
  },
  {
   "cell_type": "code",
   "execution_count": null,
   "id": "054cd4d8-4920-4e76-ae4a-5272402b6dad",
   "metadata": {
    "execution": {
     "iopub.execute_input": "2024-10-22T18:45:16.658455Z",
     "iopub.status.busy": "2024-10-22T18:45:16.658455Z",
     "iopub.status.idle": "2024-10-22T18:45:16.758273Z",
     "shell.execute_reply": "2024-10-22T18:45:16.757371Z",
     "shell.execute_reply.started": "2024-10-22T18:45:16.658455Z"
    }
   },
   "outputs": [],
   "source": [
    "train             = pd.read_csv('train.csv')\n",
    "test              = pd.read_csv('test.csv')\n",
    "sample_submission = pd.read_csv('sample_submission.csv')"
   ]
  },
  {
   "cell_type": "code",
   "execution_count": null,
   "id": "8bf244b2-3917-4292-a0bb-a460edbaaf07",
   "metadata": {
    "execution": {
     "iopub.execute_input": "2024-10-22T18:45:17.813784Z",
     "iopub.status.busy": "2024-10-22T18:45:17.813784Z",
     "iopub.status.idle": "2024-10-22T18:45:17.830098Z",
     "shell.execute_reply": "2024-10-22T18:45:17.830098Z",
     "shell.execute_reply.started": "2024-10-22T18:45:17.813784Z"
    }
   },
   "outputs": [],
   "source": [
    "train        = train.drop(columns=['id'])\n",
    "invalid_rows = train[train['person_emp_length'] > train['person_age']]\n",
    "train        = train.drop(invalid_rows.index)"
   ]
  },
  {
   "cell_type": "code",
   "execution_count": null,
   "id": "d08973d0-a0c3-48be-8671-9d46f81f3962",
   "metadata": {
    "execution": {
     "iopub.execute_input": "2024-10-22T18:45:24.539091Z",
     "iopub.status.busy": "2024-10-22T18:45:24.538095Z",
     "iopub.status.idle": "2024-10-22T18:45:24.545000Z",
     "shell.execute_reply": "2024-10-22T18:45:24.545000Z",
     "shell.execute_reply.started": "2024-10-22T18:45:24.539091Z"
    }
   },
   "outputs": [],
   "source": [
    "X = train.drop('loan_status', axis=1)\n",
    "y = train['loan_status']"
   ]
  },
  {
   "cell_type": "code",
   "execution_count": null,
   "id": "0dff9079-709c-400f-82f9-a738f7387b9b",
   "metadata": {
    "execution": {
     "iopub.execute_input": "2024-10-22T18:46:00.468798Z",
     "iopub.status.busy": "2024-10-22T18:46:00.468798Z",
     "iopub.status.idle": "2024-10-22T18:46:00.503158Z",
     "shell.execute_reply": "2024-10-22T18:46:00.502151Z",
     "shell.execute_reply.started": "2024-10-22T18:46:00.468798Z"
    }
   },
   "outputs": [],
   "source": [
    "X_mixed_encoded                              = X.copy()\n",
    "X_mixed_encoded['cb_person_default_on_file'] = X_mixed_encoded['cb_person_default_on_file'].map({'N': 0, 'Y': 1})\n",
    "X_mixed_encoded['loan_grade']                = X_mixed_encoded['loan_grade'].map({'A': 0, 'B': 1, 'C': 2, 'D': 3, 'E': 4, 'F': 5, 'G': 6})\n",
    "\n",
    "train_data_with_target                = X.copy()\n",
    "train_data_with_target['loan_status'] = y\n",
    "\n",
    "remaining_categorical_cols = X.select_dtypes(include='object').columns\n",
    "remaining_categorical_cols = remaining_categorical_cols.difference(['cb_person_default_on_file', 'loan_grade'])\n",
    "\n",
    "for col in remaining_categorical_cols:\n",
    "    means                = train_data_with_target.groupby(col)['loan_status'].mean()\n",
    "    X_mixed_encoded[col] = X_mixed_encoded[col].map(means)\n",
    "\n",
    "X_mixed_encoded.head(3)"
   ]
  },
  {
   "cell_type": "code",
   "execution_count": null,
   "id": "a7eae0e2-15f4-410f-a39b-81a7868b6c6c",
   "metadata": {
    "execution": {
     "iopub.execute_input": "2024-10-22T18:48:39.524901Z",
     "iopub.status.busy": "2024-10-22T18:48:39.524901Z",
     "iopub.status.idle": "2024-10-22T18:48:39.548180Z",
     "shell.execute_reply": "2024-10-22T18:48:39.547173Z",
     "shell.execute_reply.started": "2024-10-22T18:48:39.524901Z"
    }
   },
   "outputs": [],
   "source": [
    "numeric_columns = [\n",
    "    'person_age',\n",
    "    'person_income',\n",
    "    'person_emp_length',\n",
    "    'loan_amnt',\n",
    "    'loan_int_rate',\n",
    "    'loan_percent_income',\n",
    "    'cb_person_cred_hist_length'\n",
    "]\n",
    "\n",
    "scaler                                    = StandardScaler()\n",
    "X_mixed_encoded_Standard                  = X_mixed_encoded.copy()\n",
    "X_mixed_encoded_Standard[numeric_columns] = scaler.fit_transform(X_mixed_encoded[numeric_columns])"
   ]
  },
  {
   "cell_type": "markdown",
   "id": "88d12102-d43d-4ab8-8703-de8c490d7ad4",
   "metadata": {},
   "source": [
    "- 2"
   ]
  },
  {
   "cell_type": "code",
   "execution_count": null,
   "id": "3bbab82d-60eb-41d6-9c0f-ee75b814659b",
   "metadata": {
    "execution": {
     "iopub.execute_input": "2024-10-22T18:52:27.625630Z",
     "iopub.status.busy": "2024-10-22T18:52:27.625573Z",
     "iopub.status.idle": "2024-10-22T18:52:27.647951Z",
     "shell.execute_reply": "2024-10-22T18:52:27.646897Z",
     "shell.execute_reply.started": "2024-10-22T18:52:27.625630Z"
    }
   },
   "outputs": [],
   "source": [
    "test = test.drop(columns=['id'])\n",
    "\n",
    "test['cb_person_default_on_file'] = test['cb_person_default_on_file'].map({'N': 0, 'Y': 1})\n",
    "test['loan_grade']                = test['loan_grade'].map({'A': 0, 'B': 1, 'C': 2, 'D': 3, 'E': 4, 'F': 5, 'G': 6})\n",
    "\n",
    "for col in remaining_categorical_cols:\n",
    "    test[col] = test[col].map(means)\n",
    "\n",
    "test_mixed_encoded_Standard                  = test.copy()  \n",
    "test_mixed_encoded_Standard[numeric_columns] = scaler.transform(test[numeric_columns])"
   ]
  },
  {
   "cell_type": "markdown",
   "id": "4fb3f310-6e97-4a1f-b430-9c172fc369c3",
   "metadata": {},
   "source": [
    "- 3"
   ]
  },
  {
   "cell_type": "code",
   "execution_count": null,
   "id": "cf872d6d-ab35-4e08-84fa-588758b207e4",
   "metadata": {
    "execution": {
     "iopub.execute_input": "2024-10-22T18:55:40.219684Z",
     "iopub.status.busy": "2024-10-22T18:55:40.219684Z",
     "iopub.status.idle": "2024-10-22T18:57:38.934970Z",
     "shell.execute_reply": "2024-10-22T18:57:38.934970Z",
     "shell.execute_reply.started": "2024-10-22T18:55:40.219684Z"
    }
   },
   "outputs": [],
   "source": [
    "voting_clf = VotingClassifier(estimators=[\n",
    "    ('catboost', catboost_best),\n",
    "    ('lgbm', lgbm_best),\n",
    "    ('xgb', xgb_best),\n",
    "    ('rf', rf_best)\n",
    "], voting='soft')\n",
    "\n",
    "voting_clf.fit(X_mixed_encoded_Standard, y)"
   ]
  },
  {
   "cell_type": "code",
   "execution_count": null,
   "id": "aa399e06-1ea2-41a1-92b2-5aee11d81ecb",
   "metadata": {
    "execution": {
     "iopub.execute_input": "2024-10-22T18:58:14.555269Z",
     "iopub.status.busy": "2024-10-22T18:58:14.554514Z",
     "iopub.status.idle": "2024-10-22T18:58:17.627986Z",
     "shell.execute_reply": "2024-10-22T18:58:17.627986Z",
     "shell.execute_reply.started": "2024-10-22T18:58:14.554514Z"
    }
   },
   "outputs": [],
   "source": [
    "y_train_pred        = voting_clf.predict(X_mixed_encoded_Standard)\n",
    "matrix_of_confusion = confusion_matrix(y, y_train_pred)\n",
    "print(matrix_of_confusion)"
   ]
  },
  {
   "cell_type": "code",
   "execution_count": null,
   "id": "3986fd81-8e89-4be8-8b07-6b5bf2c54bc3",
   "metadata": {
    "execution": {
     "iopub.execute_input": "2024-10-22T19:00:57.911753Z",
     "iopub.status.busy": "2024-10-22T19:00:57.911753Z",
     "iopub.status.idle": "2024-10-22T19:00:57.971889Z",
     "shell.execute_reply": "2024-10-22T19:00:57.970946Z",
     "shell.execute_reply.started": "2024-10-22T19:00:57.911753Z"
    }
   },
   "outputs": [],
   "source": [
    "report = classification_report(y, y_train_pred)\n",
    "print(report)"
   ]
  },
  {
   "cell_type": "code",
   "execution_count": null,
   "id": "509abe60-b957-4817-9cde-20de747e7612",
   "metadata": {
    "execution": {
     "iopub.execute_input": "2024-10-22T19:05:36.758739Z",
     "iopub.status.busy": "2024-10-22T19:05:36.758739Z",
     "iopub.status.idle": "2024-10-22T19:05:39.782121Z",
     "shell.execute_reply": "2024-10-22T19:05:39.782121Z",
     "shell.execute_reply.started": "2024-10-22T19:05:36.758739Z"
    }
   },
   "outputs": [],
   "source": [
    "y_train_prob  = voting_clf.predict_proba(X_mixed_encoded_Standard)[:, 1]\n",
    "roc_auc_train = roc_auc_score(y, y_train_prob)\n",
    "roc_auc_train"
   ]
  },
  {
   "cell_type": "markdown",
   "id": "92fbd18c-814a-4ecc-90a0-179fe1f27dc6",
   "metadata": {},
   "source": [
    "- 4"
   ]
  },
  {
   "cell_type": "code",
   "execution_count": null,
   "id": "e2500faa-971b-40e2-8d57-70bbbdb7683b",
   "metadata": {
    "execution": {
     "iopub.execute_input": "2024-10-22T19:06:11.747268Z",
     "iopub.status.busy": "2024-10-22T19:06:11.747268Z",
     "iopub.status.idle": "2024-10-22T19:06:13.530555Z",
     "shell.execute_reply": "2024-10-22T19:06:13.529549Z",
     "shell.execute_reply.started": "2024-10-22T19:06:11.747268Z"
    }
   },
   "outputs": [],
   "source": [
    "y_test_prob = voting_clf.predict_proba(test_mixed_encoded_Standard)[:, 1]\n",
    "y_test_prob"
   ]
  },
  {
   "cell_type": "code",
   "execution_count": null,
   "id": "d3866f08-a690-4925-8c10-7ad13cab3ad3",
   "metadata": {
    "execution": {
     "iopub.execute_input": "2024-10-22T19:07:16.963159Z",
     "iopub.status.busy": "2024-10-22T19:07:16.963159Z",
     "iopub.status.idle": "2024-10-22T19:07:16.972195Z",
     "shell.execute_reply": "2024-10-22T19:07:16.971196Z",
     "shell.execute_reply.started": "2024-10-22T19:07:16.963159Z"
    }
   },
   "outputs": [],
   "source": [
    "sample_submission.head()"
   ]
  },
  {
   "cell_type": "code",
   "execution_count": null,
   "id": "3fa9391f-b5a7-4c50-9eff-cf25f88e0222",
   "metadata": {
    "execution": {
     "iopub.execute_input": "2024-10-22T19:09:07.772681Z",
     "iopub.status.busy": "2024-10-22T19:09:07.771684Z",
     "iopub.status.idle": "2024-10-22T19:09:07.779872Z",
     "shell.execute_reply": "2024-10-22T19:09:07.779872Z",
     "shell.execute_reply.started": "2024-10-22T19:09:07.772681Z"
    }
   },
   "outputs": [],
   "source": [
    "my_submission                = sample_submission.copy()\n",
    "my_submission['loan_status'] = y_test_prob\n",
    "\n",
    "my_submission.head()"
   ]
  },
  {
   "cell_type": "code",
   "execution_count": null,
   "id": "ca466014-edf8-4ae0-a706-cfff170dc4e4",
   "metadata": {
    "execution": {
     "iopub.execute_input": "2024-10-22T19:09:31.508219Z",
     "iopub.status.busy": "2024-10-22T19:09:31.507215Z",
     "iopub.status.idle": "2024-10-22T19:09:31.935525Z",
     "shell.execute_reply": "2024-10-22T19:09:31.934534Z",
     "shell.execute_reply.started": "2024-10-22T19:09:31.508219Z"
    }
   },
   "outputs": [],
   "source": [
    "my_submission.to_csv('my_submission.csv', index=False)"
   ]
  },
  {
   "cell_type": "markdown",
   "id": "feee23fd-5eeb-4447-907f-5840263de7c1",
   "metadata": {},
   "source": [
    "![My Image](Leaderboard.PNG)"
   ]
  },
  {
   "cell_type": "markdown",
   "id": "8fa31523-8c10-4a42-ba74-bf3672c37c3b",
   "metadata": {},
   "source": [
    "### `Section 21` - Saving Our Model"
   ]
  },
  {
   "cell_type": "markdown",
   "id": "6cfaf8c9-a059-40c1-b2e1-27766b60e1de",
   "metadata": {},
   "source": [
    "- 1"
   ]
  },
  {
   "cell_type": "code",
   "execution_count": null,
   "id": "827cee7f-99e5-4230-908d-10fa628ff739",
   "metadata": {
    "execution": {
     "iopub.execute_input": "2024-10-22T19:30:36.243214Z",
     "iopub.status.busy": "2024-10-22T19:30:36.242214Z",
     "iopub.status.idle": "2024-10-22T19:30:36.950728Z",
     "shell.execute_reply": "2024-10-22T19:30:36.950728Z",
     "shell.execute_reply.started": "2024-10-22T19:30:36.243214Z"
    }
   },
   "outputs": [],
   "source": [
    "import joblib\n",
    "\n",
    "joblib.dump(voting_clf, 'our_model.pkl')"
   ]
  },
  {
   "cell_type": "code",
   "execution_count": null,
   "id": "e1eaa43d-2caf-4cf2-b893-7afa5cd2946e",
   "metadata": {},
   "outputs": [],
   "source": []
  },
  {
   "cell_type": "code",
   "execution_count": null,
   "id": "0b86ed62-49f1-4839-83d6-669b0e940305",
   "metadata": {},
   "outputs": [],
   "source": []
  },
  {
   "cell_type": "code",
   "execution_count": null,
   "id": "123d5e1b-38d5-4b4b-8586-fa29f747b470",
   "metadata": {},
   "outputs": [],
   "source": []
  },
  {
   "cell_type": "markdown",
   "id": "1033c210-cf9c-4007-9fe6-025948f95278",
   "metadata": {},
   "source": [
    "# *End of the Code :)*\n",
    "---\n"
   ]
  },
  {
   "cell_type": "code",
   "execution_count": null,
   "id": "106e0ec7-d3e3-4a28-b202-e0963648701e",
   "metadata": {},
   "outputs": [],
   "source": []
  },
  {
   "cell_type": "code",
   "execution_count": null,
   "id": "ad6aab2d-edfa-47e1-abda-7eb2ce68c8dd",
   "metadata": {},
   "outputs": [],
   "source": []
  }
 ],
 "metadata": {
  "kernelspec": {
   "display_name": "Python 3",
   "language": "python",
   "name": "python3"
  },
  "language_info": {
   "codemirror_mode": {
    "name": "ipython",
    "version": 3
   },
   "file_extension": ".py",
   "mimetype": "text/x-python",
   "name": "python",
   "nbconvert_exporter": "python",
   "pygments_lexer": "ipython3",
   "version": "3.13.2"
  }
 },
 "nbformat": 4,
 "nbformat_minor": 5
}
